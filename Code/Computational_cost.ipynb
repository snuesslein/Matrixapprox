{
 "cells": [
  {
   "cell_type": "code",
   "execution_count": null,
   "metadata": {},
   "outputs": [],
   "source": [
    "import sympy as sp\n",
    "sp.init_printing()\n",
    "import numpy as np\n",
    "import matplotlib.pyplot as plt"
   ]
  },
  {
   "cell_type": "markdown",
   "metadata": {},
   "source": [
    "To make the forumlas more compact we intoduce the following shorthand\n",
    "\n",
    "$m$: Input dim \n",
    "\n",
    "$p$: Output dim\n",
    "\n",
    "$d$: State dim\n",
    "\n",
    "Without additions this gives the cost for one stage\n",
    "$$ C_k = d_{k+1}d_k + d_{k+1}m_k+p_kd_k+p_km_k $$\n",
    "\n",
    "Including additions we get the costfor one stage\n",
    "\n",
    "$$ C_k' = d_{k+1}(2d_k-1) + d_{k+1}(2m_k-1)+p_k(2d_k-1)+p_k(2m_k-1) $$\n",
    "\n",
    "The overall cost of the system is the sum of the individual costs"
   ]
  },
  {
   "cell_type": "code",
   "execution_count": null,
   "metadata": {},
   "outputs": [],
   "source": [
    "dk, dk1, dk2, mk, mk1, pk, pk1 =sp.symbols('d_k d_{k+1} d_{k+2} m_k m_{k+1} p_k p_{k+1}')"
   ]
  },
  {
   "cell_type": "code",
   "execution_count": null,
   "metadata": {},
   "outputs": [],
   "source": [
    "cost_stage = dk1*dk +dk1*mk +pk*dk +pk*mk\n",
    "cost_stage"
   ]
  },
  {
   "cell_type": "code",
   "execution_count": null,
   "metadata": {},
   "outputs": [],
   "source": [
    "cost_stage1 = dk2*dk1 + dk2*mk1 +pk1*dk1 +pk1*mk1\n",
    "\n",
    "cost_both = cost_stage+cost_stage1\n",
    "cost_both"
   ]
  },
  {
   "cell_type": "markdown",
   "metadata": {},
   "source": [
    "# Change the bounds\n",
    "\n",
    "move the input by $\\Delta_m$, the output by $\\Delta_p$ and the state by $\\Delta_n$"
   ]
  },
  {
   "cell_type": "code",
   "execution_count": null,
   "metadata": {},
   "outputs": [],
   "source": [
    "Delta_m,Delta_p,Delta_d =sp.symbols('Delta_m Delta_p Delta_n')"
   ]
  },
  {
   "cell_type": "code",
   "execution_count": null,
   "metadata": {},
   "outputs": [],
   "source": [
    "(cost_both-cost_both.subs({dk1:dk1+Delta_d,mk:mk+Delta_m,mk1:mk1-Delta_m,pk:pk+Delta_p,pk1:pk1-Delta_p})).simplify()"
   ]
  },
  {
   "cell_type": "markdown",
   "metadata": {},
   "source": [
    "Lets try to get some insights:\n",
    "\n",
    "We star with:\n",
    "\n",
    "$$ \\displaystyle - \\Delta_{m} \\Delta_{n} - 2 \\Delta_{m} \\Delta_{p} - \\Delta_{m} n_{k+1} + \\Delta_{m} n_{k+2} - \\Delta_{m} p_{k} + \\Delta_{m} p_{k+1} + \\Delta_{n} \\Delta_{p} - \\Delta_{n} m_{k} - \\Delta_{n} n_{k} - \\Delta_{n} n_{k+2} - \\Delta_{n} p_{k+1} - \\Delta_{p} m_{k} + \\Delta_{p} m_{k+1} - \\Delta_{p} n_{k} + \\Delta_{p} n_{k+1} $$\n",
    "\n",
    "\n",
    "First we suppose that all products of $\\Delta$s are close to 0 and can be ignored\n",
    "\n",
    "\n",
    "$$ \\displaystyle  - \\Delta_{m} n_{k+1} + \\Delta_{m} n_{k+2} - \\Delta_{m} p_{k} + \\Delta_{m} p_{k+1}  - \\Delta_{n} m_{k} - \\Delta_{n} n_{k} - \\Delta_{n} n_{k+2} - \\Delta_{n} p_{k+1} - \\Delta_{p} m_{k} + \\Delta_{p} m_{k+1} - \\Delta_{p} n_{k} + \\Delta_{p} n_{k+1} $$\n",
    "\n",
    "we can reproup the terms to:\n",
    "$$\n",
    "\\Delta_{m} (-n_{k+1} +  n_{k+2} - p_{k} + p_{k+1})\n",
    "+  \n",
    "\\Delta_{p}( -m_{k} + m_{k+1} - n_{k} + n_{k+1})\n",
    "+ \\Delta_{n} (-m_{k} -n_{k} -n_{k+2}) \n",
    "$$\n",
    "\n",
    "If we suppose that the two conseqcutive states are similar in the input and output dims as well as the state dims we have $m_{k} - m_{k+1} \\approx 0$,$p_{k} - p_{k+1} \\approx 0$ and $-n_{k+1} +  n_{k+2} \\approx 0$\n",
    "\n",
    "This leves us with the expression\n",
    "$$\\Delta_{n} (-m_{k} -n_{k} -n_{k+2}) $$\n",
    "This motivates why an reduction of the state dimention also reduces the cost."
   ]
  },
  {
   "cell_type": "markdown",
   "metadata": {},
   "source": [
    "# Move left\n",
    "\n",
    "Change input\n",
    "\n",
    "$$\\tilde{p}_k =p_k+1 $$\n",
    "$$\\tilde{p}_{k+1}= p_{k+1} -1$$"
   ]
  },
  {
   "cell_type": "code",
   "execution_count": null,
   "metadata": {},
   "outputs": [],
   "source": [
    "sp.simplify(cost_both.subs({pk:pk+1,pk1:pk1-1})-cost_both)\n"
   ]
  },
  {
   "cell_type": "markdown",
   "metadata": {},
   "source": [
    "Cost if $n_{k+1}$ gets samller\n",
    "$$\\tilde{n}_{k+1} = _{k+1}-1$$"
   ]
  },
  {
   "cell_type": "code",
   "execution_count": null,
   "metadata": {},
   "outputs": [],
   "source": [
    "sp.simplify(cost_both.subs({pk:pk+1,pk1:pk1-1,dk1:dk1-1})-cost_both)\n"
   ]
  },
  {
   "cell_type": "markdown",
   "metadata": {},
   "source": []
  },
  {
   "cell_type": "markdown",
   "metadata": {},
   "source": [
    "# Move rigth\n",
    "\n",
    "Change input\n",
    "\n",
    "$$\\tilde{p}_k =p_k-1 $$\n",
    "$$\\tilde{p}_{k+1}= p_{k+1} +1$$"
   ]
  },
  {
   "cell_type": "code",
   "execution_count": null,
   "metadata": {},
   "outputs": [],
   "source": [
    "sp.simplify(cost_both.subs({pk:pk-1,pk1:pk1+1})-cost_both)\n"
   ]
  },
  {
   "cell_type": "markdown",
   "metadata": {},
   "source": [
    "Cost if $n_{k+1}$ gets bigger\n",
    "$$\\tilde{n}_{k+1} = _{k+1}+1$$"
   ]
  },
  {
   "cell_type": "code",
   "execution_count": null,
   "metadata": {},
   "outputs": [],
   "source": [
    "sp.simplify(cost_both.subs({pk:pk+1,pk1:pk1-1,dk1:dk1+1})-cost_both)\n"
   ]
  },
  {
   "cell_type": "code",
   "execution_count": null,
   "metadata": {},
   "outputs": [],
   "source": []
  },
  {
   "cell_type": "markdown",
   "metadata": {},
   "source": [
    "# Move down\n",
    "\n",
    "Change output\n",
    "\n",
    "$$\\tilde{m}_k =m_k+1 $$\n",
    "$$\\tilde{m}_{k+1}= m_{k+1} -1$$"
   ]
  },
  {
   "cell_type": "code",
   "execution_count": null,
   "metadata": {},
   "outputs": [],
   "source": [
    "sp.simplify(cost_both.subs({mk:mk+1,mk1:mk1-1})-cost_both)\n"
   ]
  },
  {
   "cell_type": "markdown",
   "metadata": {},
   "source": [
    "Cost if $n_{k+1}$ gets smaller\n",
    "$$\\tilde{n}_{k+1} = _{k+1}-1$$"
   ]
  },
  {
   "cell_type": "code",
   "execution_count": null,
   "metadata": {},
   "outputs": [],
   "source": [
    "sp.simplify(cost_both.subs({mk:mk+1,mk1:mk1-1,dk1:dk1-1})-cost_both)\n"
   ]
  },
  {
   "cell_type": "code",
   "execution_count": null,
   "metadata": {},
   "outputs": [],
   "source": []
  },
  {
   "cell_type": "markdown",
   "metadata": {},
   "source": [
    "# Move up\n",
    "\n",
    "Change output\n",
    "\n",
    "$$\\tilde{m}_k =m_k-1 $$\n",
    "$$\\tilde{m}_{k+1}= m_{k+1} +1$$"
   ]
  },
  {
   "cell_type": "code",
   "execution_count": null,
   "metadata": {},
   "outputs": [],
   "source": [
    "sp.simplify(cost_both.subs({mk:mk-1,mk1:mk1+1})-cost_both)\n"
   ]
  },
  {
   "cell_type": "markdown",
   "metadata": {},
   "source": [
    "Cost if $n_{k+1}$ gets bigger\n",
    "$$\\tilde{n}_{k+1} = _{k+1}+1$$"
   ]
  },
  {
   "cell_type": "code",
   "execution_count": null,
   "metadata": {},
   "outputs": [],
   "source": [
    "sp.simplify(cost_both.subs({mk:mk-1,mk1:mk1+1,dk1:dk1+1})-cost_both)\n"
   ]
  },
  {
   "cell_type": "markdown",
   "metadata": {},
   "source": [
    "# Some helping function\n",
    "\n",
    "Transform the sum into a polynomial\n",
    "\n",
    "calcaultes $$\\sum^N_{n=1} exp(n) $$  for $$exp = \\sum_{p=0}^5 a_p n^p$$"
   ]
  },
  {
   "cell_type": "code",
   "execution_count": null,
   "metadata": {},
   "outputs": [],
   "source": [
    "def transfrom_sum(arg,n,N,n_start=None):\n",
    "    #Take a sum consisting of polynomilas in n and calcualtes the overall polynomial using the Faulhabersche_Formel\n",
    "    #Knuth https://arxiv.org/abs/math/9207222\n",
    "    #calcaultes $$\\sum^N_{n=1} exp$$  for $$exp = \\sum_{p=0}^5 a_p n^p$$\n",
    "    #Parameters:\n",
    "    #    arg:   expression in the sum\n",
    "    #    n:     running variable\n",
    "    #    N:     upper end of sum\n",
    "    #returns:\n",
    "    # expression \n",
    "    arg = arg.expand().collect(n)\n",
    "    expression = 0\n",
    "    for i in range(6):\n",
    "        #faulhaber coeffs form: https://de.wikipedia.org/wiki/Faulhabersche_Formel \n",
    "        #look below for more details\n",
    "        coeffs = {0:N,\n",
    "              1:1/sp.S(2)*N**2+1/sp.S(2)*N,\n",
    "              2:1/sp.S(3)*N**3+1/sp.S(2)*N**2+1/sp.S(6)*N,\n",
    "              3:1/sp.S(4)*N**4+1/sp.S(2)*N**3+1/sp.S(4)*N**2,\n",
    "              4:1/sp.S(5)*N**5+1/sp.S(2)*N**4+1/sp.S(3)*N**3-1/sp.S(30)*N,\n",
    "              5:1/sp.S(6)*N**6+1/sp.S(2)*N**5+5/sp.S(12)*N**4-1/sp.S(12)*N**2}\n",
    "\n",
    "\n",
    "        expression = expression + (arg.coeff(n,i))*coeffs[i] \n",
    "        if n_start:\n",
    "            expression = expression - (arg.coeff(n,i))*coeffs[i].subs({N:n_start-1})\n",
    "            #display((arg.coeff(n,i))*coeffs[i].subs({N:n_start-1}))\n",
    "    #test for higher orders\n",
    "    for i in range(6,100):\n",
    "        if arg.coeff(n,i) !=0:\n",
    "            raise NotImplementedError(\"n^\"+str(i)+\" is not implemented\")\n",
    "    return expression"
   ]
  },
  {
   "cell_type": "markdown",
   "metadata": {},
   "source": [
    "# Approximations of Bounds\n",
    "\n",
    "$$ m = M/K $$\n",
    "$$ m = M/K $$\n",
    "\n",
    "To approxiamte the rank we use an approxiamtion based on the shape of the Hankel matrices.\n",
    "\n",
    "\n",
    "## Shapes of the Hankel matrix\n",
    "\n",
    "The height of $H_k$ can be computed accoring to \n",
    "$$ \\Lambda_k = P -\\sum_{i=1}^{k-1} p_{i}= P - (k-1)p = (K-k+1)p$$\n",
    "The width of $H_k$ is given by\n",
    "$$ \\Upsilon_k = \\sum_{i=1}^{i-1} m_{i} = (k-1)m$$\n",
    "\n",
    "## Approximate rank\n",
    "\n",
    "At this stage it is not clear how to approximate the number of stages, as this dpends on the distribution of the singular values as well as the required precission.\n",
    "Therfore I decide to use approxiamtions that can be motivated using properties of the Hankel matrices, but are still easy enough to make it possible to give closed form approxiamtions.\n",
    "This also means that these approxiamtiosn have hyperparameters that have to be adjusted.\n",
    "\n",
    "### Minimum of height and width (here $p=m$)\n",
    "The first approximation is based on the biggest possible Rank of the $H_k$ this the minimum of the width and height.\n",
    "For an quadratic natrix we get\n",
    "$$ \\min((K-k+1)p,(k-1)m) = \\min\\big((v-k+1),(k-1)\\big)m = \\min\\big(v+1-k,k-1\\big)m$$\n",
    "\n",
    "change this \n",
    "$K+1-k>k-1 \\Leftrightarrow K+1>2k-1 \\Leftrightarrow K+2>2k \\Leftrightarrow K/2+1>k$\n",
    "\n",
    "$$d_k = \\gamma \\min((K-k+1)m,(k-1)m) = \\begin{cases}\n",
    "    \\gamma (k-1)m &\\text{if } k\\leq K/2+1 \\\\\n",
    "    \\gamma (K+1-k)m &\\text{if } k > K/2+1 \\\\\n",
    "\\end{cases}$$\n"
   ]
  },
  {
   "cell_type": "markdown",
   "metadata": {},
   "source": [
    "For an nonsquare matrix we get \n",
    "$$\\min((K-k+1)p,(k-1)m)$$\n",
    "\n",
    "$$\n",
    "(K-k+1)p<(k-1)m \\Leftrightarrow\n",
    "-kp+(K+1)p<km-m \\Leftrightarrow\n",
    "m+(K+1)p<km+kp \\Leftrightarrow\n",
    "m+(K+1)p<(m+p)k \\Leftrightarrow\n",
    "\\frac{m+(K+1)p}{(m+p)} < k\n",
    "$$\n",
    "\n",
    "\n",
    "$$\n",
    "d_k = \\gamma \\min((K-k+1)\\frac{P}{K},(k-1)\\frac{M}{K}) = \\begin{cases}\n",
    "    \\gamma (k-1)\\frac{M}{K} &\\text{if } k\\leq \\frac{M+(K+1)P}{(M+P)} \\\\\n",
    "    \\gamma (K+1-k)\\frac{P}{K} &\\text{if } k > \\frac{M+(K+1)P}{(M+P)} \\\\\n",
    "\\end{cases}\n",
    "$$\n",
    "\n"
   ]
  },
  {
   "cell_type": "markdown",
   "metadata": {},
   "source": [
    "$$rank(H) \\propto \\gamma \\cdot \\text{height} \\cdot \\text{width}$$\n",
    "\n",
    "### Product of height and width:\n",
    "The second approxiamtion is based on the idea that the singular vlaues increase are related to the Frobenius norm by $\\|H\\|_F = \\sqrt{\\sum \\sigma_i^2}$.\n",
    "As the Frobenius norm increases, this should also result in increasing singular values.\n",
    "If we consider the elements of $H$ as cosntant, then $\\|H\\|_F \\propto \\text{size(H)}$\n",
    "\n",
    "$$(K-k+1)(k-1) \\frac{PM}{K^2\\min(P,M)}$$\n"
   ]
  },
  {
   "cell_type": "code",
   "execution_count": null,
   "metadata": {},
   "outputs": [],
   "source": [
    "# numerical test for \n",
    "\n",
    "def plot_approx(K = 100,M = 500,P = 500):\n",
    "    ks = np.arange(1,K+1)\n",
    "    d_prod = (K-ks+1)*(ks-1)*P*M/K**2/max(M,P) #*max(M,P) #The M is for normalization\n",
    "    d_min = np.min(np.vstack(((K-ks+1)*P/K,(ks-1)*M/K)),axis=0)\n",
    "\n",
    "\n",
    "    plt.plot(ks,d_prod,label=\"prod\")\n",
    "    plt.plot(ks,d_min ,label=\"min\")\n",
    "    \n",
    "plt.figure(figsize=[7,3])\n",
    "plt.subplot(1,3,1)\n",
    "plot_approx()\n",
    "plt.legend()\n",
    "\n",
    "plt.subplot(1,3,2)\n",
    "plot_approx(M=250,P=500)\n",
    "\n",
    "plt.subplot(1,3,3)\n",
    "plot_approx(M=500,P=250)"
   ]
  },
  {
   "cell_type": "code",
   "execution_count": null,
   "metadata": {},
   "outputs": [],
   "source": [
    "K,m,p,M,P = sp.symbols('K m p M P',positive=True)\n",
    "N = sp.symbols('N',positive=True) #for square matrix\n",
    "dk,dk1 = sp.symbols('d_k d_{k+1}',positive=True)\n",
    "gamma = sp.symbols('gamma',positive=True)"
   ]
  },
  {
   "cell_type": "markdown",
   "metadata": {},
   "source": [
    "If one supposes that the state dims for the casual and anticasual system are equivalent, then only the  caclulateion for the casual system is nedded.\n",
    "All term except the term for the $D$-matrix are doubled.\n",
    "This resualts in the cost"
   ]
  },
  {
   "cell_type": "code",
   "execution_count": null,
   "metadata": {},
   "outputs": [],
   "source": [
    "k = sp.symbols('k')\n",
    "#include D for anticausal part\n",
    "#cost =nk1*nk+nk1*m+p*nk+p*m\n",
    "# only include D once -> divide it by 2\n",
    "cost =2*dk1*dk+2*dk1*M/K+2*P/K*dk+P*M/K**2\n",
    "cost_sum = sp.Sum(cost,(k,1,K))\n",
    "cost_sum"
   ]
  },
  {
   "cell_type": "markdown",
   "metadata": {},
   "source": [
    "# Product"
   ]
  },
  {
   "cell_type": "code",
   "execution_count": null,
   "metadata": {},
   "outputs": [],
   "source": [
    "d_prod = gamma*(K-k+1)*(k-1)*P*M/(K**2*N).subs(N,M) #here N is min(M,P)\n",
    "d_prod_k = d_prod\n",
    "d_prod_k1 = d_prod.subs(k,k+1)\n",
    "\n",
    "cost_prod=cost_sum.subs({dk:d_prod_k,dk1:d_prod_k1})\n",
    "sp.simplify(cost_prod)"
   ]
  },
  {
   "cell_type": "code",
   "execution_count": null,
   "metadata": {},
   "outputs": [],
   "source": [
    "arg_prod = cost.subs({dk:d_prod_k,dk1:d_prod_k1})\n",
    "arg_prod"
   ]
  },
  {
   "cell_type": "code",
   "execution_count": null,
   "metadata": {},
   "outputs": [],
   "source": [
    "cost_total_prod = transfrom_sum(arg_prod,k,K)"
   ]
  },
  {
   "cell_type": "code",
   "execution_count": null,
   "metadata": {},
   "outputs": [],
   "source": [
    "cost_total_prod.expand().collect(K)"
   ]
  },
  {
   "cell_type": "markdown",
   "metadata": {},
   "source": [
    "relation between $m$ and $p$ and $K$\n",
    "\n",
    "Here a quadratic matrix:\n",
    "$$p = N/K$$\n",
    "$$m = N/K$$"
   ]
  },
  {
   "cell_type": "code",
   "execution_count": null,
   "metadata": {},
   "outputs": [],
   "source": [
    "cost_total_prod=cost_total_prod.subs({M:N,P:N}).expand().collect(K)\n",
    "cost_total_prod"
   ]
  },
  {
   "cell_type": "raw",
   "metadata": {},
   "source": [
    "deriv = sp.diff(cost_total_prod,K)\n",
    "sp.solve(deriv,K)"
   ]
  },
  {
   "cell_type": "code",
   "execution_count": null,
   "metadata": {},
   "outputs": [],
   "source": [
    "#critical_points=sp.solve((deriv*v**4).subs({Nu:100}).expand().collect(K),K)"
   ]
  },
  {
   "cell_type": "code",
   "execution_count": null,
   "metadata": {},
   "outputs": [],
   "source": [
    "f = sp.lambdify([K,(N,gamma)],cost_total_prod)\n",
    "Ks = 2**np.arange(11)\n",
    "Nn = Ks[-1]\n",
    "for gamma_tilde in np.logspace(-2,0,6):\n",
    "    costs= f(Ks,(1024,gamma_tilde))\n",
    "    plt.semilogy(np.arange(11),costs,label=\"g=\"+str(gamma_tilde))\n",
    "    i = np.argmin(costs)\n",
    "    plt.scatter(i,costs[i])\n",
    "    \n",
    "plt.legend()\n",
    "plt.grid()\n",
    "plt.hlines(Nn**2,0,10)\n",
    "locs, labels = plt.xticks()\n",
    "plt.xticks(locs,[\"$2^{\"+str(int(loc))+\"}$\" for loc in locs])\n",
    "plt.xlim([0,10])"
   ]
  },
  {
   "cell_type": "code",
   "execution_count": null,
   "metadata": {},
   "outputs": [],
   "source": [
    "cost_total_prod.subs(K,2)"
   ]
  },
  {
   "cell_type": "markdown",
   "metadata": {},
   "source": [
    "## Now minimum\n",
    "\n",
    "Here I consider only square systems. A similar derivation is also possible for nonsquare martrices but result in a slightly more difficult cost\n",
    "$$d_k = \\gamma \\min((K-k+1)p,(k-1)m) = \\begin{cases}\n",
    "    \\gamma (k-1)\\frac{M}{K} &\\text{if } k\\leq K/2+1 \\\\\n",
    "    \\gamma (K+1-k)\\frac{P}{K} &\\text{if } k > K/2+1 \\\\\n",
    "\\end{cases}$$\n",
    "\n",
    "$$\n",
    "d_k = \\gamma \\min((K-k+1)\\frac{P}{K},(k-1)\\frac{M}{K}) = \\begin{cases}\n",
    "    \\gamma (k-1)\\frac{M}{K} &\\text{if } k\\leq \\frac{M+(K+1)P}{(M+P)} \\\\\n",
    "    \\gamma (K+1-k)\\frac{P}{K} &\\text{if } k > \\frac{M+(K+1)P}{(M+P)} \\\\\n",
    "\\end{cases}\n",
    "$$\n",
    "\n",
    "For an even number of stages the total cost can be split up in two sums.\n",
    "The first sum uses the first case and the second sum uses the second case.\n",
    "$$\\text{Total Cost} = \\sum_{k=1}^{K/2}\\text{cost}_{k} + \\sum_{k=K/2+1}^{K}\\text{cost}_{k}$$\n",
    "\n",
    "For an odd number one has to introduce a middle sum."
   ]
  },
  {
   "cell_type": "code",
   "execution_count": null,
   "metadata": {},
   "outputs": [],
   "source": [
    "display(cost)\n",
    "arg_min1 = cost.subs({dk:gamma*(k-1)*N/K,dk1:gamma*(k)*N/K})\n",
    "arg_min2 = cost.subs({dk:gamma*(K+1-k)*M/K,dk1:gamma*(K-k)*M/K})\n",
    "\n",
    "display(arg_min1)\n",
    "\n",
    "cost_total_min = transfrom_sum(arg_min1,k,K/2)+transfrom_sum(arg_min2,k,K,n_start=K/2+1)\n",
    "cost_total_min"
   ]
  },
  {
   "cell_type": "code",
   "execution_count": null,
   "metadata": {},
   "outputs": [],
   "source": [
    "cost_total_min=cost_total_min.subs({P:N,M:N}).expand().collect(K)\n",
    "cost_total_min"
   ]
  },
  {
   "cell_type": "code",
   "execution_count": null,
   "metadata": {},
   "outputs": [],
   "source": [
    "f = sp.lambdify([K,(N,gamma)],cost_total_min)\n",
    "Ks = 2**np.arange(11)\n",
    "Nn = Ks[-1]\n",
    "for gamma_tilde in np.logspace(-2,0,6):\n",
    "    costs= f(Ks,(1024,gamma_tilde))\n",
    "    costs[0] = Nn**2\n",
    "    plt.semilogy(np.arange(11),costs,label=\"g=\"+str(gamma_tilde))\n",
    "    \n",
    "plt.legend()\n",
    "plt.grid()\n",
    "plt.hlines(Nn**2,0,10)"
   ]
  },
  {
   "cell_type": "code",
   "execution_count": null,
   "metadata": {},
   "outputs": [],
   "source": [
    "f(np.array([2,5,10,25,50]),(100,1))*2 #*2 for anticuasal part"
   ]
  },
  {
   "cell_type": "code",
   "execution_count": null,
   "metadata": {},
   "outputs": [],
   "source": [
    "cost_total_min.subs(K,2)#.subs(gamma,0.39)"
   ]
  },
  {
   "cell_type": "markdown",
   "metadata": {},
   "source": [
    "### Small test of the coeffs:\n",
    "\n",
    "Faulhaber coeffs form: https://de.wikipedia.org/wiki/Faulhabersche_Formel \n",
    "$$\\sum^v_{k=1}k^p$$"
   ]
  },
  {
   "cell_type": "raw",
   "metadata": {},
   "source": [
    "#faulhaber coeffs form: https://de.wikipedia.org/wiki/Faulhabersche_Formel \n",
    "#small test of the coeffs:\n",
    "\n",
    "coeffs = {0:v,\n",
    "          1:1/sp.S(2)*v**2+1/sp.S(2)*v,\n",
    "          2:1/sp.S(3)*v**3+1/sp.S(2)*v**2+1/sp.S(6)*v,\n",
    "          3:1/sp.S(4)*v**4+1/sp.S(2)*v**3+1/sp.S(4)*v**2,\n",
    "          4:1/sp.S(5)*v**5+1/sp.S(2)*v**4+1/sp.S(3)*v**3-1/sp.S(30)*v,\n",
    "          5:1/sp.S(6)*v**6+1/sp.S(2)*v**5+5/sp.S(12)*v**4-1/sp.S(12)*v**2}\n",
    "\n",
    "\n",
    "l = 5\n",
    "for p in coeffs:\n",
    "    print(\"p=\",p)\n",
    "    s=0\n",
    "    for k in range(1,l+1):\n",
    "        s += k**p\n",
    "    display(s ==(coeffs[p]).subs({v:l}).simplify())"
   ]
  },
  {
   "cell_type": "code",
   "execution_count": null,
   "metadata": {},
   "outputs": [],
   "source": [
    "n,N,m=sp.symbols('n N m',postive = True)\n",
    "transfrom_sum(n**3,n,N,N-1).expand()"
   ]
  },
  {
   "cell_type": "code",
   "execution_count": null,
   "metadata": {},
   "outputs": [],
   "source": [
    "((N-1)**3+N**2).expand()"
   ]
  },
  {
   "cell_type": "code",
   "execution_count": null,
   "metadata": {},
   "outputs": [],
   "source": [
    "n,N,m=sp.symbols('n N m',postive = True)\n",
    "l = 3\n",
    "u = 10\n",
    "for p in range(5):\n",
    "    print(\"p=\",p)\n",
    "    s=0\n",
    "    for k_ in range(l,u+1):\n",
    "        s += k_**p\n",
    "    display(s==transfrom_sum(n**p,n,N,n_start=m).subs({N:u,m:l}).simplify())\n",
    "    #display(transfrom_sum(n**p,n,N,n_start=m).subs({N:u,m:l}).simplify())"
   ]
  },
  {
   "cell_type": "code",
   "execution_count": null,
   "metadata": {},
   "outputs": [],
   "source": []
  },
  {
   "cell_type": "code",
   "execution_count": null,
   "metadata": {},
   "outputs": [],
   "source": []
  }
 ],
 "metadata": {
  "kernelspec": {
   "display_name": "Python 3",
   "language": "python",
   "name": "python3"
  },
  "language_info": {
   "codemirror_mode": {
    "name": "ipython",
    "version": 3
   },
   "file_extension": ".py",
   "mimetype": "text/x-python",
   "name": "python",
   "nbconvert_exporter": "python",
   "pygments_lexer": "ipython3",
   "version": "3.7.12"
  }
 },
 "nbformat": 4,
 "nbformat_minor": 4
}
