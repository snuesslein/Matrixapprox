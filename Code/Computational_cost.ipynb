{
 "cells": [
  {
   "cell_type": "code",
   "execution_count": null,
   "metadata": {},
   "outputs": [],
   "source": [
    "import sympy as sp\n",
    "sp.init_printing()\n",
    "import numpy as np\n",
    "import matplotlib.pyplot as plt"
   ]
  },
  {
   "cell_type": "code",
   "execution_count": null,
   "metadata": {},
   "outputs": [],
   "source": [
    "nk, nk1, nk2, mk, mk1, pk, pk1 =sp.symbols('n_k n_{k+1} n_{k+2} m_k m_{k+1} p_k p_{k+1}')"
   ]
  },
  {
   "cell_type": "code",
   "execution_count": null,
   "metadata": {},
   "outputs": [],
   "source": [
    "cost_stage = nk1*nk + nk1*mk+pk*nk+pk*mk\n",
    "cost_stage1 = nk2*nk1 + nk2*mk1+pk1*nk1+pk1*mk1\n",
    "\n",
    "cost_both = cost_stage+cost_stage1\n",
    "cost_both"
   ]
  },
  {
   "cell_type": "markdown",
   "metadata": {},
   "source": [
    "# Move left\n",
    "\n",
    "Change input\n",
    "\n",
    "$$\\tilde{p}_k =p_k+1 $$\n",
    "$$\\tilde{p}_{k+1}= p_{k+1} -1$$"
   ]
  },
  {
   "cell_type": "code",
   "execution_count": null,
   "metadata": {},
   "outputs": [],
   "source": [
    "sp.simplify(cost_both.subs({pk:pk+1,pk1:pk1-1})-cost_both)\n"
   ]
  },
  {
   "cell_type": "markdown",
   "metadata": {},
   "source": [
    "Cost if $n_{k+1}$ gets samller\n",
    "$$\\tilde{n}_{k+1} = _{k+1}-1$$"
   ]
  },
  {
   "cell_type": "code",
   "execution_count": null,
   "metadata": {},
   "outputs": [],
   "source": [
    "sp.simplify(cost_both.subs({pk:pk+1,pk1:pk1-1,nk1:nk1-1})-cost_both)\n"
   ]
  },
  {
   "cell_type": "markdown",
   "metadata": {},
   "source": []
  },
  {
   "cell_type": "markdown",
   "metadata": {},
   "source": [
    "# Move rigth\n",
    "\n",
    "Change input\n",
    "\n",
    "$$\\tilde{p}_k =p_k-1 $$\n",
    "$$\\tilde{p}_{k+1}= p_{k+1} +1$$"
   ]
  },
  {
   "cell_type": "code",
   "execution_count": null,
   "metadata": {},
   "outputs": [],
   "source": [
    "sp.simplify(cost_both.subs({pk:pk-1,pk1:pk1+1})-cost_both)\n"
   ]
  },
  {
   "cell_type": "markdown",
   "metadata": {},
   "source": [
    "Cost if $n_{k+1}$ gets bigger\n",
    "$$\\tilde{n}_{k+1} = _{k+1}+1$$"
   ]
  },
  {
   "cell_type": "code",
   "execution_count": null,
   "metadata": {},
   "outputs": [],
   "source": [
    "sp.simplify(cost_both.subs({pk:pk+1,pk1:pk1-1,nk1:nk1+1})-cost_both)\n"
   ]
  },
  {
   "cell_type": "code",
   "execution_count": null,
   "metadata": {},
   "outputs": [],
   "source": []
  },
  {
   "cell_type": "markdown",
   "metadata": {},
   "source": [
    "# Move down\n",
    "\n",
    "Change output\n",
    "\n",
    "$$\\tilde{m}_k =m_k+1 $$\n",
    "$$\\tilde{m}_{k+1}= m_{k+1} -1$$"
   ]
  },
  {
   "cell_type": "code",
   "execution_count": null,
   "metadata": {},
   "outputs": [],
   "source": [
    "sp.simplify(cost_both.subs({mk:mk+1,mk1:mk1-1})-cost_both)\n"
   ]
  },
  {
   "cell_type": "markdown",
   "metadata": {},
   "source": [
    "Cost if $n_{k+1}$ gets smaller\n",
    "$$\\tilde{n}_{k+1} = _{k+1}-1$$"
   ]
  },
  {
   "cell_type": "code",
   "execution_count": null,
   "metadata": {},
   "outputs": [],
   "source": [
    "sp.simplify(cost_both.subs({mk:mk+1,mk1:mk1-1,nk1:nk1-1})-cost_both)\n"
   ]
  },
  {
   "cell_type": "code",
   "execution_count": null,
   "metadata": {},
   "outputs": [],
   "source": []
  },
  {
   "cell_type": "markdown",
   "metadata": {},
   "source": [
    "# Move up\n",
    "\n",
    "Change output\n",
    "\n",
    "$$\\tilde{m}_k =m_k-1 $$\n",
    "$$\\tilde{m}_{k+1}= m_{k+1} +1$$"
   ]
  },
  {
   "cell_type": "code",
   "execution_count": null,
   "metadata": {},
   "outputs": [],
   "source": [
    "sp.simplify(cost_both.subs({mk:mk-1,mk1:mk1+1})-cost_both)\n"
   ]
  },
  {
   "cell_type": "markdown",
   "metadata": {},
   "source": [
    "Cost if $n_{k+1}$ gets bigger\n",
    "$$\\tilde{n}_{k+1} = _{k+1}+1$$"
   ]
  },
  {
   "cell_type": "code",
   "execution_count": null,
   "metadata": {},
   "outputs": [],
   "source": [
    "sp.simplify(cost_both.subs({mk:mk-1,mk1:mk1+1,nk1:nk1+1})-cost_both)\n"
   ]
  },
  {
   "cell_type": "markdown",
   "metadata": {},
   "source": [
    "# Some helping function\n",
    "\n",
    "Transform the sum into a polynomial\n",
    "\n",
    "calcaultes $$\\sum^N_{n=1} exp(n) $$  for $$exp = \\sum_{p=0}^5 a_p n^p$$"
   ]
  },
  {
   "cell_type": "code",
   "execution_count": null,
   "metadata": {},
   "outputs": [],
   "source": [
    "def transfrom_sum(arg,n,N,n_start=None):\n",
    "    #Take a sum consisting of polynomilas in n and calcualtes the overall polynomial using the Faulhabersche_Formel\n",
    "    #calcaultes $$\\sum^N_{n=1} exp$$  for $$exp = \\sum_{p=0}^5 a_p n^p$$\n",
    "    #Parameters:\n",
    "    #    arg:   expression in the sum\n",
    "    #    n:     running variable\n",
    "    #    N:     upper end of sum\n",
    "    #returns:\n",
    "    # expression \n",
    "    arg = arg.expand().collect(n)\n",
    "    expression = 0\n",
    "    for i in range(6):\n",
    "        #faulhaber coeffs form: https://de.wikipedia.org/wiki/Faulhabersche_Formel \n",
    "        #look below for more details\n",
    "        coeffs = {0:N,\n",
    "              1:1/sp.S(2)*N**2+1/sp.S(2)*N,\n",
    "              2:1/sp.S(3)*N**3+1/sp.S(2)*N**2+1/sp.S(6)*N,\n",
    "              3:1/sp.S(4)*N**4+1/sp.S(2)*N**3+1/sp.S(4)*N**2,\n",
    "              4:1/sp.S(5)*N**5+1/sp.S(2)*N**4+1/sp.S(3)*N**3-1/sp.S(30)*N,\n",
    "              5:1/sp.S(6)*N**6+1/sp.S(2)*N**5+5/sp.S(12)*N**4-1/sp.S(12)*N**2}\n",
    "\n",
    "\n",
    "        expression = expression + (arg.coeff(n,i))*coeffs[i] \n",
    "        if n_start:\n",
    "            expression = expression - (arg.coeff(n,i))*coeffs[i].subs({N:n_start-1})\n",
    "            #display((arg.coeff(n,i))*coeffs[i].subs({N:n_start-1}))\n",
    "    #test for higher orders\n",
    "    for i in range(6,100):\n",
    "        if arg.coeff(n,i) !=0:\n",
    "            raise NotImplementedError(\"n^\"+str(i)+\" is not implemented\")\n",
    "    return expression"
   ]
  },
  {
   "cell_type": "markdown",
   "metadata": {},
   "source": [
    "# Approximations of Bounds\n",
    "\n",
    "$$ m = N/v $$\n",
    "$$ m = N/v $$\n",
    "\n",
    "## Shapes of the Hankel matrix\n",
    "\n",
    "height:\n",
    "$$ \\nu -\\sum_{k`=1}^{k-1} p_{k`}= N - (k-1)p = (v-k+1)p$$\n",
    "$$ \\sum_{k`=1}^{k-1} m_{k`} = (k-1)m$$\n",
    "\n",
    "## Approximate rank\n",
    "\n",
    "$$rank(H) \\approx \\gamma \\cdot \\text{height} \\cdot \\text{width}$$\n",
    "\n",
    "### Product of height and width:\n",
    "$$(v-k+1)p(k-1)m$$\n",
    "\n",
    "### Minimum of height and width (here $p=m$)\n",
    "$$ \\min((v-k+1)p,(k-1)m) = \\min\\big((v-k+1),(k-1)\\big)m = \\min\\big(v+1-k,k-1\\big)m$$\n",
    "\n",
    "change this \n",
    "$v+1-k>k-1 \\Leftrightarrow v+1>2k-1 \\Leftrightarrow v+2>2k \\Leftrightarrow v/2+1>k$\n",
    "\n",
    "$$n_k = \\gamma \\min((v-k+1)p,(k-1)m) = \\begin{cases}\n",
    "    \\gamma (k-1)m &\\text{if } k\\leq v/2+1 \\\\\n",
    "    \\gamma (v+1-k)m &\\text{if } k > v/2+1 \\\\\n",
    "\\end{cases}$$\n",
    "\n",
    "\n"
   ]
  },
  {
   "cell_type": "code",
   "execution_count": null,
   "metadata": {},
   "outputs": [],
   "source": [
    "# numerical test for N=100\n",
    "ks = np.arange(1,100+1)\n",
    "n_prod = (100-ks+1)*(ks-1)/100 #m=1 and p=1 as 100/100\n",
    "n_min = np.min(np.vstack((100-ks+1,ks-1)),axis=0)\n",
    "plt.plot(ks,n_prod,label=\"prod\")\n",
    "plt.plot(ks,n_min ,label=\"min\")"
   ]
  },
  {
   "cell_type": "code",
   "execution_count": null,
   "metadata": {},
   "outputs": [],
   "source": [
    "v,m,p,Nu = sp.symbols('v m p Nu',positive=True)\n",
    "nk,nk1 = sp.symbols('n_k n_{k+1}',positive=True)\n",
    "gamma = sp.symbols('gamma',positive=True)"
   ]
  },
  {
   "cell_type": "code",
   "execution_count": null,
   "metadata": {},
   "outputs": [],
   "source": [
    "k = sp.symbols('k')\n",
    "#include D for anticausal part\n",
    "#cost =nk1*nk+nk1*m+p*nk+p*m\n",
    "# only include D once -> divide it by 2\n",
    "cost =nk1*nk+nk1*m+p*nk+0.5*p*m\n",
    "cost_sum = sp.Sum(cost,(k,1,v))\n",
    "cost_sum"
   ]
  },
  {
   "cell_type": "markdown",
   "metadata": {},
   "source": [
    "# Product"
   ]
  },
  {
   "cell_type": "code",
   "execution_count": null,
   "metadata": {},
   "outputs": [],
   "source": [
    "cost_prod=cost_sum.subs({nk:gamma*(v-k+1)*(k-1)*p*m,nk1:gamma*(v-k+2)*(k)*p*m})\n",
    "sp.simplify(cost_prod)"
   ]
  },
  {
   "cell_type": "code",
   "execution_count": null,
   "metadata": {},
   "outputs": [],
   "source": [
    "arg_prod = cost.subs({nk:gamma*(v-k+1)*(k-1)*p*m,nk1:gamma*(v-k+2)*(k)*p*m})\n",
    "arg_prod"
   ]
  },
  {
   "cell_type": "code",
   "execution_count": null,
   "metadata": {},
   "outputs": [],
   "source": [
    "cost_total_prod = transfrom_sum(arg_prod,k,v)\n",
    "cost_total_prod"
   ]
  },
  {
   "cell_type": "markdown",
   "metadata": {},
   "source": [
    "relation between $m$ and $p$ and $v$\n",
    "\n",
    "Here a quadratic matrix:\n",
    "$$p = N/v$$\n",
    "$$m = N/v$$"
   ]
  },
  {
   "cell_type": "code",
   "execution_count": null,
   "metadata": {},
   "outputs": [],
   "source": [
    "cost_total_prod=cost_total_prod.subs({p:Nu/v,m:Nu/v}).expand().collect(v)\n",
    "cost_total_prod"
   ]
  },
  {
   "cell_type": "code",
   "execution_count": null,
   "metadata": {},
   "outputs": [],
   "source": [
    "deriv = sp.diff(cost_total_prod,v)\n",
    "deriv"
   ]
  },
  {
   "cell_type": "code",
   "execution_count": null,
   "metadata": {},
   "outputs": [],
   "source": [
    "#critical_points=sp.solve((deriv*v**4).subs({Nu:100}).expand().collect(v),v)"
   ]
  },
  {
   "cell_type": "code",
   "execution_count": null,
   "metadata": {},
   "outputs": [],
   "source": [
    "f = sp.lambdify([v,(Nu,gamma)],cost_total_prod)\n",
    "vs = np.linspace(1,1000,500)\n",
    "for gamma_tilde in np.logspace(-6,-0.5,10):\n",
    "    costs= f(vs,(500,gamma_tilde*1./100))\n",
    "    plt.plot(vs,costs,label=\"g=\"+str(gamma_tilde))\n",
    "    \n",
    "plt.legend()"
   ]
  },
  {
   "cell_type": "markdown",
   "metadata": {},
   "source": [
    "## Now minimum\n",
    "\n",
    "$$n_k = \\gamma \\min((v-k+1)p,(k-1)m) = \\begin{cases}\n",
    "    \\gamma (k-1)m &\\text{if } k\\leq v/2+1 \\\\\n",
    "    \\gamma (v+1-k)m &\\text{if } k > v/2+1 \\\\\n",
    "\\end{cases}$$\n",
    "\n",
    "This gives \n",
    "\n",
    "$$\\text{Total Cost} = \\sum_{k=1}^{v/2}\\text{cost}_{k} + \\sum_{k=v/2+1}^{v}\\text{cost}_{k}$$\n",
    "\n",
    "For $v/2+1$ we can use either one so we can include $v/2$ in the first sum, at leasst for even $v$"
   ]
  },
  {
   "cell_type": "code",
   "execution_count": null,
   "metadata": {},
   "outputs": [],
   "source": [
    "display(cost)\n",
    "arg_min1 = cost.subs({nk:gamma*(k-1)*m,nk1:gamma*(k)*m})\n",
    "arg_min2 = cost.subs({nk:gamma*(v+1-k)*m,nk1:gamma*(v-k)*m})\n",
    "\n",
    "display(arg_min1)\n",
    "\n",
    "cost_total_min = transfrom_sum(arg_min1,k,v/2)+transfrom_sum(arg_min2,k,v,n_start=v/2+1)\n",
    "cost_total_min"
   ]
  },
  {
   "cell_type": "code",
   "execution_count": null,
   "metadata": {},
   "outputs": [],
   "source": [
    "cost_total_min=cost_total_min.subs({p:Nu/v,m:Nu/v}).expand().collect(v)\n",
    "cost_total_min"
   ]
  },
  {
   "cell_type": "code",
   "execution_count": null,
   "metadata": {},
   "outputs": [],
   "source": [
    "N = 100\n",
    "f = sp.lambdify([v,(Nu,gamma)],cost_total_min)\n",
    "vs = np.arange(1,N+1)\n",
    "for gamma_tilde in np.logspace(-2,0,10):\n",
    "    costs= f(vs,(100,gamma_tilde))\n",
    "    plt.plot(vs,costs,label=\"g=\"+str(gamma_tilde))\n",
    "    \n",
    "plt.legend()"
   ]
  },
  {
   "cell_type": "code",
   "execution_count": null,
   "metadata": {},
   "outputs": [],
   "source": [
    "f(np.array([2,5,10,25,50]),(100,1))*2 #*2 for anticuasal part"
   ]
  },
  {
   "cell_type": "markdown",
   "metadata": {},
   "source": [
    "### Small test of the coeffs:\n",
    "\n",
    "Faulhaber coeffs form: https://de.wikipedia.org/wiki/Faulhabersche_Formel \n",
    "$$\\sum^v_{k=1}k^p$$"
   ]
  },
  {
   "cell_type": "raw",
   "metadata": {},
   "source": [
    "#faulhaber coeffs form: https://de.wikipedia.org/wiki/Faulhabersche_Formel \n",
    "#small test of the coeffs:\n",
    "\n",
    "coeffs = {0:v,\n",
    "          1:1/sp.S(2)*v**2+1/sp.S(2)*v,\n",
    "          2:1/sp.S(3)*v**3+1/sp.S(2)*v**2+1/sp.S(6)*v,\n",
    "          3:1/sp.S(4)*v**4+1/sp.S(2)*v**3+1/sp.S(4)*v**2,\n",
    "          4:1/sp.S(5)*v**5+1/sp.S(2)*v**4+1/sp.S(3)*v**3-1/sp.S(30)*v,\n",
    "          5:1/sp.S(6)*v**6+1/sp.S(2)*v**5+5/sp.S(12)*v**4-1/sp.S(12)*v**2}\n",
    "\n",
    "\n",
    "l = 5\n",
    "for p in coeffs:\n",
    "    print(\"p=\",p)\n",
    "    s=0\n",
    "    for k in range(1,l+1):\n",
    "        s += k**p\n",
    "    display(s ==(coeffs[p]).subs({v:l}).simplify())"
   ]
  },
  {
   "cell_type": "code",
   "execution_count": null,
   "metadata": {},
   "outputs": [],
   "source": [
    "n,N,m=sp.symbols('n N m',postive = True)\n",
    "transfrom_sum(n**3,n,N,N-1).expand()"
   ]
  },
  {
   "cell_type": "code",
   "execution_count": null,
   "metadata": {},
   "outputs": [],
   "source": [
    "((N-1)**3+N**2).expand()"
   ]
  },
  {
   "cell_type": "code",
   "execution_count": null,
   "metadata": {},
   "outputs": [],
   "source": [
    "n,N,m=sp.symbols('n N m',postive = True)\n",
    "l = 3\n",
    "u = 10\n",
    "for p in range(5):\n",
    "    print(\"p=\",p)\n",
    "    s=0\n",
    "    for k_ in range(l,u+1):\n",
    "        s += k_**p\n",
    "    display(s==transfrom_sum(n**p,n,N,n_start=m).subs({N:u,m:l}).simplify())\n",
    "    #display(transfrom_sum(n**p,n,N,n_start=m).subs({N:u,m:l}).simplify())"
   ]
  },
  {
   "cell_type": "code",
   "execution_count": null,
   "metadata": {},
   "outputs": [],
   "source": []
  }
 ],
 "metadata": {
  "kernelspec": {
   "display_name": "Python 3",
   "language": "python",
   "name": "python3"
  },
  "language_info": {
   "codemirror_mode": {
    "name": "ipython",
    "version": 3
   },
   "file_extension": ".py",
   "mimetype": "text/x-python",
   "name": "python",
   "nbconvert_exporter": "python",
   "pygments_lexer": "ipython3",
   "version": "3.7.7"
  }
 },
 "nbformat": 4,
 "nbformat_minor": 4
}
