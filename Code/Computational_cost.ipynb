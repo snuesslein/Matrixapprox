{
 "cells": [
  {
   "cell_type": "code",
   "execution_count": 1,
   "metadata": {},
   "outputs": [],
   "source": [
    "import sympy as sp\n",
    "sp.init_printing()"
   ]
  },
  {
   "cell_type": "code",
   "execution_count": 2,
   "metadata": {},
   "outputs": [],
   "source": [
    "nk, nk1, nk2, mk, mk1, pk, pk1 =sp.symbols('n_k n_{k+1} n_{k+2} m_k m_{k+1} p_k p_{k+1}')"
   ]
  },
  {
   "cell_type": "code",
   "execution_count": 3,
   "metadata": {},
   "outputs": [
    {
     "data": {
      "image/png": "[encoded data removed]",
      "text/latex": [
       "$\\displaystyle m_{k} n_{k+1} + m_{k} p_{k} + n_{k} n_{k+1} + n_{k} p_{k}$"
      ],
      "text/plain": [
       "mₖ⋅n_{k+1} + mₖ⋅pₖ + nₖ⋅n_{k+1} + nₖ⋅pₖ"
      ]
     },
     "execution_count": 3,
     "metadata": {},
     "output_type": "execute_result"
    }
   ],
   "source": [
    "cost_stage = nk1*nk + nk1*mk+pk*nk+pk*mk\n",
    "cost_stage1 = nk2*nk1 + nk2*mk1+pk1*nk1+pk1*mk1\n",
    "\n",
    "cost_both = cost_stage+cost_stage1\n",
    "cost_both"
   ]
  },
  {
   "cell_type": "markdown",
   "metadata": {},
   "source": [
    "# Move left\n",
    "\n",
    "Change input\n",
    "\n",
    "$$\\tilde{p}_k =p_k+1 $$\n",
    "$$\\tilde{p}_{k+1}= p_{k+1} -1$$"
   ]
  },
  {
   "cell_type": "code",
   "execution_count": 15,
   "metadata": {},
   "outputs": [
    {
     "data": {
      "image/png": "[encoded data removed]",
      "text/latex": [
       "$\\displaystyle m_{k} - m_{k+1} + n_{k} - n_{k+1}$"
      ],
      "text/plain": [
       "mₖ - m_{k+1} + nₖ - n_{k+1}"
      ]
     },
     "execution_count": 15,
     "metadata": {},
     "output_type": "execute_result"
    }
   ],
   "source": [
    "sp.simplify(cost_both.subs({pk:pk+1,pk1:pk1-1})-cost_both)\n"
   ]
  },
  {
   "cell_type": "markdown",
   "metadata": {},
   "source": [
    "Cost if $n_{k+1}$ gets samller\n",
    "$$\\tilde{n}_{k+1} = _{k+1}-1$$"
   ]
  },
  {
   "cell_type": "code",
   "execution_count": 18,
   "metadata": {},
   "outputs": [
    {
     "data": {
      "image/png": "[encoded data removed]",
      "text/latex": [
       "$\\displaystyle - m_{k+1} - n_{k+1} - n_{k+2} - p_{k+1} + 1$"
      ],
      "text/plain": [
       "-m_{k+1} - n_{k+1} - n_{k+2} - p_{k+1} + 1"
      ]
     },
     "execution_count": 18,
     "metadata": {},
     "output_type": "execute_result"
    }
   ],
   "source": [
    "sp.simplify(cost_both.subs({pk:pk+1,pk1:pk1-1,nk1:nk1-1})-cost_both)\n"
   ]
  },
  {
   "cell_type": "markdown",
   "metadata": {},
   "source": []
  },
  {
   "cell_type": "markdown",
   "metadata": {},
   "source": [
    "# Move rigth\n",
    "\n",
    "Change input\n",
    "\n",
    "$$\\tilde{p}_k =p_k-1 $$\n",
    "$$\\tilde{p}_{k+1}= p_{k+1} +1$$"
   ]
  },
  {
   "cell_type": "code",
   "execution_count": 17,
   "metadata": {},
   "outputs": [
    {
     "data": {
      "image/png": "[encoded data removed]",
      "text/latex": [
       "$\\displaystyle - m_{k} + m_{k+1} - n_{k} + n_{k+1}$"
      ],
      "text/plain": [
       "-mₖ + m_{k+1} - nₖ + n_{k+1}"
      ]
     },
     "execution_count": 17,
     "metadata": {},
     "output_type": "execute_result"
    }
   ],
   "source": [
    "sp.simplify(cost_both.subs({pk:pk-1,pk1:pk1+1})-cost_both)\n"
   ]
  },
  {
   "cell_type": "markdown",
   "metadata": {},
   "source": [
    "Cost if $n_{k+1}$ gets bigger\n",
    "$$\\tilde{n}_{k+1} = _{k+1}+1$$"
   ]
  },
  {
   "cell_type": "code",
   "execution_count": 19,
   "metadata": {},
   "outputs": [
    {
     "data": {
      "image/png": "[encoded data removed]",
      "text/latex": [
       "$\\displaystyle 2 m_{k} - m_{k+1} + 2 n_{k} - n_{k+1} + n_{k+2} + p_{k+1} - 1$"
      ],
      "text/plain": [
       "2⋅mₖ - m_{k+1} + 2⋅nₖ - n_{k+1} + n_{k+2} + p_{k+1} - 1"
      ]
     },
     "execution_count": 19,
     "metadata": {},
     "output_type": "execute_result"
    }
   ],
   "source": [
    "sp.simplify(cost_both.subs({pk:pk+1,pk1:pk1-1,nk1:nk1+1})-cost_both)\n"
   ]
  },
  {
   "cell_type": "code",
   "execution_count": null,
   "metadata": {},
   "outputs": [],
   "source": []
  },
  {
   "cell_type": "markdown",
   "metadata": {},
   "source": [
    "# Move down\n",
    "\n",
    "Change output\n",
    "\n",
    "$$\\tilde{m}_k =m_k+1 $$\n",
    "$$\\tilde{m}_{k+1}= m_{k+1} -1$$"
   ]
  },
  {
   "cell_type": "code",
   "execution_count": 20,
   "metadata": {},
   "outputs": [
    {
     "data": {
      "image/png": "[encoded data removed]",
      "text/latex": [
       "$\\displaystyle n_{k+1} - n_{k+2} + p_{k} - p_{k+1}$"
      ],
      "text/plain": [
       "n_{k+1} - n_{k+2} + pₖ - p_{k+1}"
      ]
     },
     "execution_count": 20,
     "metadata": {},
     "output_type": "execute_result"
    }
   ],
   "source": [
    "sp.simplify(cost_both.subs({mk:mk+1,mk1:mk1-1})-cost_both)\n"
   ]
  },
  {
   "cell_type": "markdown",
   "metadata": {},
   "source": [
    "Cost if $n_{k+1}$ gets smaller\n",
    "$$\\tilde{n}_{k+1} = _{k+1}-1$$"
   ]
  },
  {
   "cell_type": "code",
   "execution_count": 23,
   "metadata": {},
   "outputs": [
    {
     "data": {
      "image/png": "[encoded data removed]",
      "text/latex": [
       "$\\displaystyle - m_{k} - n_{k} + n_{k+1} - 2 n_{k+2} + p_{k} - 2 p_{k+1} - 1$"
      ],
      "text/plain": [
       "-mₖ - nₖ + n_{k+1} - 2⋅n_{k+2} + pₖ - 2⋅p_{k+1} - 1"
      ]
     },
     "execution_count": 23,
     "metadata": {},
     "output_type": "execute_result"
    }
   ],
   "source": [
    "sp.simplify(cost_both.subs({mk:mk+1,mk1:mk1-1,nk1:nk1-1})-cost_both)\n"
   ]
  },
  {
   "cell_type": "code",
   "execution_count": null,
   "metadata": {},
   "outputs": [],
   "source": []
  },
  {
   "cell_type": "markdown",
   "metadata": {},
   "source": [
    "# Move up\n",
    "\n",
    "Change output\n",
    "\n",
    "$$\\tilde{m}_k =m_k-1 $$\n",
    "$$\\tilde{m}_{k+1}= m_{k+1} +1$$"
   ]
  },
  {
   "cell_type": "code",
   "execution_count": 24,
   "metadata": {},
   "outputs": [
    {
     "data": {
      "image/png": "[encoded data removed]",
      "text/latex": [
       "$\\displaystyle - n_{k+1} + n_{k+2} - p_{k} + p_{k+1}$"
      ],
      "text/plain": [
       "-n_{k+1} + n_{k+2} - pₖ + p_{k+1}"
      ]
     },
     "execution_count": 24,
     "metadata": {},
     "output_type": "execute_result"
    }
   ],
   "source": [
    "sp.simplify(cost_both.subs({mk:mk-1,mk1:mk1+1})-cost_both)\n"
   ]
  },
  {
   "cell_type": "markdown",
   "metadata": {},
   "source": [
    "Cost if $n_{k+1}$ gets bigger\n",
    "$$\\tilde{n}_{k+1} = _{k+1}+1$$"
   ]
  },
  {
   "cell_type": "code",
   "execution_count": 22,
   "metadata": {},
   "outputs": [
    {
     "data": {
      "image/png": "[encoded data removed]",
      "text/latex": [
       "$\\displaystyle m_{k} + n_{k} - n_{k+1} + 2 n_{k+2} - p_{k} + 2 p_{k+1} - 1$"
      ],
      "text/plain": [
       "mₖ + nₖ - n_{k+1} + 2⋅n_{k+2} - pₖ + 2⋅p_{k+1} - 1"
      ]
     },
     "execution_count": 22,
     "metadata": {},
     "output_type": "execute_result"
    }
   ],
   "source": [
    "sp.simplify(cost_both.subs({mk:mk-1,mk1:mk1+1,nk1:nk1+1})-cost_both)\n"
   ]
  },
  {
   "cell_type": "code",
   "execution_count": null,
   "metadata": {},
   "outputs": [],
   "source": []
  }
 ],
 "metadata": {
  "kernelspec": {
   "display_name": "Python 3",
   "language": "python",
   "name": "python3"
  },
  "language_info": {
   "codemirror_mode": {
    "name": "ipython",
    "version": 3
   },
   "file_extension": ".py",
   "mimetype": "text/x-python",
   "name": "python",
   "nbconvert_exporter": "python",
   "pygments_lexer": "ipython3",
   "version": "3.7.7"
  }
 },
 "nbformat": 4,
 "nbformat_minor": 4
}
