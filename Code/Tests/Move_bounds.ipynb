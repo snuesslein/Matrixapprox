{
 "cells": [
  {
   "cell_type": "markdown",
   "metadata": {},
   "source": [
    "# Move Bounds\n",
    "\n",
    "Notebook on moving bounds for systems, while also calculating the the $\\sigma$s"
   ]
  },
  {
   "cell_type": "code",
   "execution_count": null,
   "metadata": {},
   "outputs": [],
   "source": [
    "from tvsclib.strict_system import StrictSystem\n",
    "from tvsclib.stage import Stage\n",
    "from tvsclib.system_identification_svd import SystemIdentificationSVD\n",
    "from tvsclib.toeplitz_operator import ToeplitzOperator\n",
    "from tvsclib.mixed_system import MixedSystem\n",
    "import numpy as np\n",
    "import scipy.linalg as linalg\n",
    "import matplotlib.pyplot as plt\n",
    "import scipy.linalg \n",
    "import scipy.stats \n",
    "import tvsclib.utils as utils\n",
    "import tvsclib.math as math\n",
    "\n",
    "from tvsclib.transformations.output_normal import OutputNormal\n",
    "from tvsclib.transformations.input_normal import InputNormal\n",
    "from tvsclib.transformations.reduction import Reduction\n",
    "from tvsclib.approximation import Approximation\n",
    "\n",
    "\n",
    "from structurednets.asset_helpers import get_animal_classes_filepath\n",
    "from structurednets.extract_features import get_required_indices\n",
    "from structurednets.models.visionmodel import VisionModel\n",
    "from structurednets.models.alexnet import AlexNet\n",
    "from structurednets.models.googlenet import GoogleNet\n",
    "from structurednets.models.inceptionv3 import InceptionV3\n",
    "from structurednets.models.mobilenetv2 import MobilenetV2\n",
    "from structurednets.models.resnet18 import Resnet18\n",
    "from structurednets.models.vgg16 import VGG16\n",
    "\n",
    "import torchvision.models as models\n",
    "import torch"
   ]
  },
  {
   "cell_type": "code",
   "execution_count": null,
   "metadata": {},
   "outputs": [],
   "source": [
    "import move"
   ]
  },
  {
   "cell_type": "code",
   "execution_count": null,
   "metadata": {},
   "outputs": [],
   "source": [
    "def plot_sigmas(sigmas_causal,sigmas_anticausal,axes=None):\n",
    "    if axes is None:\n",
    "        fig, axes = plt.subplots(2,len(sigmas_causal))\n",
    "    for i in range(len(sigmas_causal)):\n",
    "        axes[0,i].plot(sigmas_causal[i],np.arange(len(sigmas_causal[i])),'x')\n",
    "        axes[1,i].plot(sigmas_anticausal[i],np.arange(len(sigmas_anticausal[i])),'x')\n",
    "    return axes"
   ]
  },
  {
   "cell_type": "markdown",
   "metadata": {},
   "source": [
    "## Create a tialor made matrix\n",
    "\n",
    "Create mateices with combinations of orthogonal vectors such that we can create rank1 block matrices and combine these.\n",
    "\n",
    "As we have a rank1 matrix, all singular values except the largest are irrelevent. Therefore we have a cost function that penalizes all singlaur values that are smaller than a fraction of the largrest singular value"
   ]
  },
  {
   "cell_type": "code",
   "execution_count": null,
   "metadata": {},
   "outputs": [],
   "source": [
    "dims_in =  np.array([6, 3, 5, 2])*3\n",
    "dims_out = np.array([2, 5, 3, 6])*3\n",
    "\n",
    "#create orthogonal vectors and normalize them to the size of the matix (i.e. norm(block)/size(block) = const\n",
    "#Us =np.vstack([np.linalg.svd(np.random.rand(dims_out[i],dims_in[i]))[0][:,1:4]*dims_out[i] for i in range(len(dims_in))])\n",
    "#Vts=np.hstack([np.linalg.svd(np.random.rand(dims_out[i],dims_in[i]))[2][1:4,:]*dims_in[i] for i in range(len(dims_in))])\n",
    "\n",
    "#create orthogonal vectors and normalize them to the size of the matix (i.e. norm(block)/size(block) = const\n",
    "Us =np.vstack([scipy.stats.ortho_group.rvs(dims_out[i])[:,:3]*dims_out[i] for i in range(len(dims_in))])\n",
    "Vts=np.hstack([scipy.stats.ortho_group.rvs(dims_in[i])[:3,:]*dims_in[i] for i in range(len(dims_in))])\n",
    "\n",
    "\n",
    "\n",
    "lower = Us[:,:1]@Vts[:1,:]\n",
    "diag = Us[:,1:2]@Vts[1:2,:]\n",
    "upper = Us[:,2:3]@Vts[2:3,:]\n",
    "matrix = np.zeros_like(diag)\n",
    "a=0;b=0\n",
    "for i in range(len(dims_in)):\n",
    "    matrix[a:a+dims_out[i],:b]            =lower[a:a+dims_out[i],:b]\n",
    "    matrix[a:a+dims_out[i],b:b+dims_in[i]]=diag[a:a+dims_out[i],b:b+dims_in[i]]\n",
    "    matrix[a:a+dims_out[i],b+dims_in[i]:] =upper[a:a+dims_out[i],b+dims_in[i]:]\n",
    "    a+=dims_out[i];b+=dims_in[i]\n",
    "plt.figure()\n",
    "plt.matshow(matrix)"
   ]
  },
  {
   "cell_type": "markdown",
   "metadata": {},
   "source": [
    "Create a system agnostic of the state boundareis but with the correct number of states"
   ]
  },
  {
   "cell_type": "code",
   "execution_count": null,
   "metadata": {},
   "outputs": [],
   "source": [
    "dims_in_start = [sum(dims_in)//4]*4\n",
    "dims_out_start = [sum(dims_out)//4]*4\n",
    "T = ToeplitzOperator(matrix, dims_in_start, dims_out_start)\n",
    "S = SystemIdentificationSVD(T,epsilon=1e-12)\n",
    "system = MixedSystem(S)\n",
    "utils.show_system(system)"
   ]
  },
  {
   "cell_type": "code",
   "execution_count": null,
   "metadata": {},
   "outputs": [],
   "source": [
    "def cost_error_cut_rel(s,shape,s_a,shape_a):\n",
    "    tau = 0.9\n",
    "    c = np.sum(s[s<tau*np.max(s)]**2)/(shape[0]*shape[1])+\\\n",
    "        np.sum(s_a[s_a<tau*np.max(s_a)]**2)/(shape_a[0]*shape_a[1])\n",
    "    #print(\"s:\",s[s<tau*np.max(s)],\" s_a:\",s_a[s_a<tau*np.max(s_a)])\n",
    "    return c\n",
    "\n",
    "\n",
    "sys_move,input_dims,output_dims = move.move(system,3,cost_error_cut_rel,m_in=[4,2,1],m_out=[4,2,1])\n",
    "\n",
    "\n",
    "\n",
    "utils.show_system(sys_move)\n",
    "\n",
    "print(dims_in)\n",
    "print(np.array(sys_move.dims_in))\n",
    "print(dims_out)\n",
    "print(np.array(sys_move.dims_out))\n"
   ]
  },
  {
   "cell_type": "code",
   "execution_count": null,
   "metadata": {},
   "outputs": [],
   "source": [
    "sigmas_causal,sigmas_anticausal = math.extract_sigmas(matrix, dims_in,dims_out)\n",
    "ax = plot_sigmas(sigmas_causal,sigmas_anticausal)"
   ]
  },
  {
   "cell_type": "markdown",
   "metadata": {},
   "source": [
    "# System from random matrix\n",
    "\n",
    "Here we will enforce a fixed number of states. When recovering the segementation we will have an cost function that refelcts this knowlege."
   ]
  },
  {
   "cell_type": "code",
   "execution_count": null,
   "metadata": {},
   "outputs": [],
   "source": [
    "dims_in =  np.array([6, 3, 5, 2])*3\n",
    "dims_out = np.array([2, 5, 3, 6])*3\n",
    "eps_ident = 0.6\n",
    "matrix = np.random.rand(np.sum(dims_out),np.sum(dims_in))\n",
    "\n",
    "T = ToeplitzOperator(matrix, dims_in, dims_out)\n",
    "#S = SystemIdentificationSVD(T,epsilon=eps_ident)max_states_local\n",
    "S = SystemIdentificationSVD(T,max_states_local=3)\n",
    "system = MixedSystem(S)\n",
    "print(system)\n",
    "matrix = system.to_matrix()\n",
    "plt.matshow(matrix)"
   ]
  },
  {
   "cell_type": "code",
   "execution_count": null,
   "metadata": {},
   "outputs": [],
   "source": [
    "dims_in_start = [sum(dims_in)//4]*4\n",
    "dims_out_start = [sum(dims_out)//4]*4\n",
    "T = ToeplitzOperator(matrix, dims_in_start, dims_out_start)\n",
    "S = SystemIdentificationSVD(T,epsilon=1e-12)\n",
    "system = MixedSystem(S)\n",
    "utils.show_system(system)\n",
    "\n",
    "eps = 0.9*eps_ident\n",
    "\n",
    "def cost_error_cut_abs(s,shape,s_a,shape_a):\n",
    "    c = np.sum(s[s<eps]**2)/(shape[0]*shape[1])\\\n",
    "    +np.sum(s_a[s_a<eps]**2)/(shape_a[0]*shape_a[1])\n",
    "    return c\n",
    "\n",
    "def cost_error_cut_number(s,shape,s_a,shape_a):\n",
    "    v = 3\n",
    "    c = np.sum(s[v:]**2)/(shape[0]*shape[1])\\\n",
    "    +np.sum(s_a[v:]**2)/(shape_a[0]*shape_a[1])\n",
    "    return c\n",
    "\n",
    "sys_move,input_dims,output_dims = move.move(system,3,cost_error_cut_number,m_in=[4,2,1],m_out=[4,2,1])\n",
    "\n",
    "utils.show_system(sys_move)\n",
    "\n",
    "print(dims_in)\n",
    "print(np.array(sys_move.dims_in))\n",
    "print(dims_out)\n",
    "print(np.array(sys_move.dims_out))"
   ]
  },
  {
   "cell_type": "code",
   "execution_count": null,
   "metadata": {},
   "outputs": [],
   "source": [
    "sigmas_causal,sigmas_anticausal = math.extract_sigmas(matrix, dims_in,dims_out)\n",
    "ax = plot_sigmas(sigmas_causal,sigmas_anticausal)\n",
    "\n",
    "sigmas_causal,sigmas_anticausal = math.extract_sigmas(matrix, dims_in_start,dims_out_start)\n",
    "ax = plot_sigmas(sigmas_causal,sigmas_anticausal,axes=ax)\n",
    "\n",
    "sigmas_causal,sigmas_anticausal = math.extract_sigmas(matrix, sys_move.dims_in,sys_move.dims_out)\n",
    "ax = plot_sigmas(sigmas_causal,sigmas_anticausal,axes=ax)"
   ]
  },
  {
   "cell_type": "markdown",
   "metadata": {},
   "source": [
    "## Test Weight matrix\n",
    "\n",
    "For this we introduce new cost functions:"
   ]
  },
  {
   "cell_type": "code",
   "execution_count": null,
   "metadata": {},
   "outputs": [],
   "source": [
    "def cost_sum(s,shape,s_a,shape_a):\n",
    "    c =np.sum(s)+np.sum(s_a)\n",
    "    return c\n",
    "\n",
    "#cost relative to size\n",
    "def cost_rel(s,shape,s_a,shape_a):\n",
    "    c =np.sum(s**2)/(shape[0]*shape[1])+np.sum(s_a**2)/(shape_a[0]*shape_a[1])\n",
    "    return c\n",
    "\n",
    "#scale the singlaur values to the biggest singuar values\n",
    "def cost_scaled(s,shape,s_a,shape_a):\n",
    "    c =np.sum(s/np.max(s))+np.sum(s_a/np.max(s_a))\n",
    "    return c\n",
    "\n",
    "#cut relative to the biggest singular value and rescale to size\n",
    "def cost_error_cut_rel(s,shape,s_a,shape_a):\n",
    "    tau = 0.5\n",
    "    c = np.sum(s[s<tau*np.max(s)]**2)/(shape[0]*shape[1])+\\\n",
    "        np.sum(s_a[s_a<tau*np.max(s_a)]**2)/(shape_a[0]*shape_a[1])\n",
    "    return c\n",
    "\n",
    "#def cost_error_cut_abs(s,shape,s_a,shape_a):\n",
    "#    c = np.sum(s[s<eps]**2)+np.sum(s_a[s_a<eps]**2)\n",
    "#    return c\n",
    "\n",
    "#cut at fixed epsilons and rescale to size\n",
    "def cost_error_cut_abs(s,shape,s_a,shape_a):\n",
    "    c = np.sum(s[s<eps]**2)/(shape[0]*shape[1])\\\n",
    "    +np.sum(s_a[s_a<eps]**2)/(shape_a[0]*shape_a[1])\n",
    "    return c"
   ]
  },
  {
   "cell_type": "markdown",
   "metadata": {},
   "source": [
    "We change the structure of the objective: Instead of minimizing the approximation error without considering the cost we now use a differnt strategy.\n",
    "We now fix the $\\epsilon$ and minimize the cost and do not consider the approxiamtion error.\n",
    "\n",
    "For this we use a global cost function."
   ]
  },
  {
   "cell_type": "code",
   "execution_count": null,
   "metadata": {},
   "outputs": [],
   "source": [
    "def cost_computation(sigmas_causal,sigmas_anticausal,dims_in,dims_out):\n",
    "    k = len(dims_in)\n",
    "    dims_state_causal = np.zeros(k+1)\n",
    "    dims_state_anticausal = np.zeros(k+1)\n",
    "    #get the number of stages for each step\n",
    "    for i in range(k-1):\n",
    "        dims_state_causal[i+1] = np.count_nonzero(sigmas_causal[i]>eps)\n",
    "        dims_state_anticausal[i+1] = np.count_nonzero(sigmas_anticausal[i]>eps)\n",
    "    \n",
    "    return math.cost(dims_in,dims_out,dims_state_causal,causal=True)\\\n",
    "            +math.cost(dims_in,dims_out,dims_state_anticausal,causal=False,include_D=False)\n",
    "        \n",
    "    \n",
    "def cost_computation_soft(sigmas_causal,sigmas_anticausal,dims_in,dims_out):\n",
    "    #a distorted version of the cost: do not have a hard threshold but consider smaller values\n",
    "    k = len(dims_in)\n",
    "    dims_state_causal = np.zeros(k+1)\n",
    "    dims_state_anticausal = np.zeros(k+1)\n",
    "    #get the number of stages for each step\n",
    "    for i in range(k-1):\n",
    "        dims_state_causal[i+1] = np.sum(np.minimum(sigmas_causal[i]/eps,1))\n",
    "        dims_state_anticausal[i+1] = np.sum(np.minimum(sigmas_anticausal[i]/eps,1))\n",
    "    \n",
    "    return math.cost(dims_in,dims_out,dims_state_causal,causal=True)\\\n",
    "            +math.cost(dims_in,dims_out,dims_state_anticausal,causal=False,include_D=False)          "
   ]
  },
  {
   "cell_type": "markdown",
   "metadata": {},
   "source": [
    "### AlexNet"
   ]
  },
  {
   "cell_type": "code",
   "execution_count": null,
   "metadata": {},
   "outputs": [],
   "source": [
    "#get matrix\n",
    "\n",
    "model_class = AlexNet\n",
    "label_filepath = get_animal_classes_filepath()\n",
    "required_indices = get_required_indices(label_filepath)\n",
    "model = model_class(required_indices)\n",
    "output_mat = model.get_optimization_matrix().detach().numpy()"
   ]
  },
  {
   "cell_type": "code",
   "execution_count": null,
   "metadata": {},
   "outputs": [],
   "source": [
    "stages = 10\n",
    "\n",
    "#set the dims\n",
    "d_in = output_mat.shape[1]\n",
    "boundaries = d_in/stages*np.arange(stages+1)\n",
    "boundaries = np.round(boundaries).astype(int)\n",
    "dims_in = boundaries[1:]-boundaries[:-1]\n",
    "\n",
    "d_out = output_mat.shape[0]\n",
    "boundaries = d_out/stages*np.arange(stages+1)\n",
    "boundaries = np.round(boundaries).astype(int)\n",
    "dims_out = boundaries[1:]-boundaries[:-1]\n",
    "\n",
    "assert sum(dims_in)==d_in and sum(dims_out)==d_out\n",
    "\n",
    "T = ToeplitzOperator(output_mat, dims_in,dims_out)\n",
    "S = SystemIdentificationSVD(T,epsilon=1e-16)\n",
    "\n",
    "system = MixedSystem(S)\n",
    "#approx =Approximation(system)\n",
    "print(system)"
   ]
  },
  {
   "cell_type": "code",
   "execution_count": null,
   "metadata": {},
   "outputs": [],
   "source": [
    "eps_max = np.linalg.svd(output_mat[int(np.floor(output_mat.shape[0]/2)):,:int(np.floor(output_mat.shape[1]/2))],compute_uv=False)[0]\n",
    "eps = eps_max*0.5\n",
    "print(\"eps:\",eps)\n",
    "\n",
    "sys_move,input_dims,output_dims = move.move(system,2,cost_computation,m_in=[2,1],m_out=[50,25],cost_global=True)\n",
    "\n",
    "\n",
    "#sys_move,input_dims,output_dims = move.move(system,1,cost_error_cut_abs,m_in=1,m_out=15)\n",
    "#utils.show_system(sys_move)\n"
   ]
  },
  {
   "cell_type": "code",
   "execution_count": null,
   "metadata": {
    "scrolled": true
   },
   "outputs": [],
   "source": [
    "plt.hlines([np.sum(input_dims[:,0]),0],0,input_dims.shape[1]-1)\n",
    "for i in range(input_dims.shape[0]-1):\n",
    "    plt.hlines(np.sum(input_dims[:i+1,0]),0,input_dims.shape[1]-1)\n",
    "    plt.plot(np.sum(input_dims[:i+1,:],axis=0),\"+-\")\n",
    "    "
   ]
  },
  {
   "cell_type": "code",
   "execution_count": null,
   "metadata": {},
   "outputs": [],
   "source": [
    "plt.hlines([np.sum(output_dims[:,0]),0],0,output_dims.shape[1]-1)\n",
    "for i in range(output_dims.shape[0]-1):\n",
    "    plt.hlines(np.sum(output_dims[:i+1,0]),0,input_dims.shape[1]-1)\n",
    "    plt.plot(np.sum(output_dims[:i+1,:],axis=0),\"+-\")"
   ]
  },
  {
   "cell_type": "code",
   "execution_count": null,
   "metadata": {},
   "outputs": [],
   "source": [
    "#utils.show_system(sys_move)\n",
    "print(sys_move)"
   ]
  },
  {
   "cell_type": "code",
   "execution_count": null,
   "metadata": {},
   "outputs": [],
   "source": [
    "fig, ax = plt.subplots(2, len(dims_in)-1, figsize=(20,5))\n",
    "\n",
    "sigmas_causal,sigmas_anticausal = math.extract_sigmas(output_mat, dims_in,dims_out)\n",
    "ax = plot_sigmas(sigmas_causal,sigmas_anticausal,axes=ax)\n",
    "\n",
    "stages_start = sum([np.count_nonzero(sig>eps) for sig in sigmas_causal])\\\n",
    "                +sum([np.count_nonzero(sig>eps) for sig in sigmas_anticausal])\n",
    "\n",
    "sigmas_causal,sigmas_anticausal = math.extract_sigmas(sys_move.to_matrix(), sys_move.dims_in,sys_move.dims_out)\n",
    "ax = plot_sigmas(sigmas_causal,sigmas_anticausal,axes=ax)\n",
    "\n",
    "stages_moved = sum([np.count_nonzero(sig>eps) for sig in sigmas_causal])\\\n",
    "                +sum([np.count_nonzero(sig>eps) for sig in sigmas_anticausal])\n",
    "\n",
    "\n",
    "for i in range(len(dims_in)-1):\n",
    "    ax[0,i].vlines(eps,0,100)\n",
    "    ax[1,i].vlines(eps,0,100)\n",
    "    \n",
    "print(\"stages start: \",stages_start)\n",
    "print(\"stages moved: \",stages_moved)"
   ]
  },
  {
   "cell_type": "code",
   "execution_count": null,
   "metadata": {},
   "outputs": [],
   "source": [
    "utils.check_dims(sys_move)"
   ]
  },
  {
   "cell_type": "code",
   "execution_count": null,
   "metadata": {},
   "outputs": [],
   "source": [
    "approx_orig =Approximation(system)\n",
    "approx_sys_orig=approx_orig.get_approxiamtion(eps)\n",
    "\n",
    "approx_move =Approximation(sys_move)\n",
    "approx_sys_move=approx_move.get_approxiamtion(eps)\n",
    "\n",
    "print(\"Error regular:\",np.linalg.norm(output_mat-approx_sys_orig.to_matrix()))\n",
    "print(\"Error moved:\",np.linalg.norm(output_mat-approx_sys_move.to_matrix()))"
   ]
  },
  {
   "cell_type": "code",
   "execution_count": null,
   "metadata": {},
   "outputs": [],
   "source": [
    "print(\"Cost matrix:\",output_mat.size)\n",
    "print(\"Cost regular:\",approx_sys_orig.cost())\n",
    "print(\"Cost moved:\",approx_sys_move.cost())"
   ]
  },
  {
   "cell_type": "markdown",
   "metadata": {},
   "source": [
    "### Mobilenet\n",
    "\n",
    "\n",
    "Here we also try how the system behaves if one cuts the singular values bevore moving the bounds"
   ]
  },
  {
   "cell_type": "code",
   "execution_count": null,
   "metadata": {},
   "outputs": [],
   "source": [
    "def get_mobilenet_target_mats():\n",
    "    target_mats = []\n",
    "    # Load the model\n",
    "    model = models.mobilenet_v2(pretrained=True)\n",
    "    # Put moel into eval mode\n",
    "    model.eval()\n",
    "    for layer in model.classifier:\n",
    "        if isinstance(layer, torch.nn.Linear):\n",
    "            # Obtain the weights of this layer\n",
    "            weights = layer.weight.detach().numpy()\n",
    "            target_mats.append(weights)\n",
    "    return target_mats\n"
   ]
  },
  {
   "cell_type": "code",
   "execution_count": null,
   "metadata": {},
   "outputs": [],
   "source": [
    "mat_mobilenet = get_mobilenet_target_mats()[0]"
   ]
  },
  {
   "cell_type": "code",
   "execution_count": null,
   "metadata": {},
   "outputs": [],
   "source": [
    "stages = 15\n",
    "\n",
    "#set the dims\n",
    "d_in = mat_mobilenet.shape[1]\n",
    "boundaries = d_in/stages*np.arange(stages+1)\n",
    "boundaries = np.round(boundaries).astype(int)\n",
    "dims_in = boundaries[1:]-boundaries[:-1]\n",
    "\n",
    "d_out = mat_mobilenet.shape[0]\n",
    "boundaries = d_out/stages*np.arange(stages+1)\n",
    "boundaries = np.round(boundaries).astype(int)\n",
    "dims_out = boundaries[1:]-boundaries[:-1]\n",
    "\n",
    "assert sum(dims_in)==d_in and sum(dims_out)==d_out\n",
    "\n",
    "T = ToeplitzOperator(mat_mobilenet, dims_in,dims_out)\n",
    "S = SystemIdentificationSVD(T,epsilon=2e-1)\n",
    "system = MixedSystem(S)\n",
    "#approx =Approximation(system)\n",
    "print(system)"
   ]
  },
  {
   "cell_type": "markdown",
   "metadata": {},
   "source": [
    "Here we have cut the singular values. We can also see that this only leaves relativeley few state dims.\n"
   ]
  },
  {
   "cell_type": "code",
   "execution_count": null,
   "metadata": {},
   "outputs": [],
   "source": [
    "\n",
    "eps_max = np.linalg.svd(mat_mobilenet[int(np.floor(mat_mobilenet.shape[0]/2)):,:int(np.floor(mat_mobilenet.shape[1]/2))],compute_uv=False)[0]\n",
    "eps = eps_max*0.35\n",
    "print(\"eps:\",eps)\n",
    "\n",
    "sys_move,input_dims,output_dims = move.move(system,3,cost_computation,m_in=[24,12,6],m_out=[24,12,6],cost_global=True)\n",
    "\n",
    "\n",
    "#sys_move,input_dims,output_dims = move.move(system,1,cost_error_cut_abs,m_in=1,m_out=15)\n",
    "#utils.show_system(sys_move)\n"
   ]
  },
  {
   "cell_type": "code",
   "execution_count": null,
   "metadata": {
    "scrolled": true
   },
   "outputs": [],
   "source": [
    "plt.hlines([np.sum(input_dims[:,0]),0],0,input_dims.shape[1]-1)\n",
    "for i in range(input_dims.shape[0]-1):\n",
    "    plt.hlines(np.sum(input_dims[:i+1,0]),0,input_dims.shape[1]-1)\n",
    "    plt.plot(np.sum(input_dims[:i+1,:],axis=0),\"+-\")\n",
    "    "
   ]
  },
  {
   "cell_type": "code",
   "execution_count": null,
   "metadata": {},
   "outputs": [],
   "source": [
    "plt.hlines([np.sum(output_dims[:,0]),0],0,output_dims.shape[1]-1)\n",
    "for i in range(output_dims.shape[0]-1):\n",
    "    plt.hlines(np.sum(output_dims[:i+1,0]),0,input_dims.shape[1]-1)\n",
    "    plt.plot(np.sum(output_dims[:i+1,:],axis=0),\"+-\")"
   ]
  },
  {
   "cell_type": "code",
   "execution_count": null,
   "metadata": {},
   "outputs": [],
   "source": [
    "print(sys_move)"
   ]
  },
  {
   "cell_type": "code",
   "execution_count": null,
   "metadata": {},
   "outputs": [],
   "source": [
    "fig, ax = plt.subplots(2, len(dims_in)-1, figsize=(20,5))\n",
    "\n",
    "sigmas_causal,sigmas_anticausal = math.extract_sigmas(mat_mobilenet, dims_in,dims_out)\n",
    "ax = plot_sigmas(sigmas_causal,sigmas_anticausal,axes=ax)\n",
    "\n",
    "stages_start = sum([np.count_nonzero(sig>eps) for sig in sigmas_causal])\\\n",
    "                +sum([np.count_nonzero(sig>eps) for sig in sigmas_anticausal])\n",
    "\n",
    "sigmas_causal,sigmas_anticausal = math.extract_sigmas(mat_mobilenet, sys_move.dims_in,sys_move.dims_out)\n",
    "ax = plot_sigmas(sigmas_causal,sigmas_anticausal,axes=ax)\n",
    "\n",
    "stages_moved = sum([np.count_nonzero(sig>eps) for sig in sigmas_causal])\\\n",
    "                +sum([np.count_nonzero(sig>eps) for sig in sigmas_anticausal])\n",
    "\n",
    "for i in range(len(dims_in)-1):\n",
    "    ax[0,i].vlines(eps,0,600)\n",
    "    ax[1,i].vlines(eps,0,600)\n",
    "    \n",
    "print(\"stages start: \",stages_start)\n",
    "print(\"stages moved: \",stages_moved)"
   ]
  },
  {
   "cell_type": "code",
   "execution_count": null,
   "metadata": {},
   "outputs": [],
   "source": [
    "fig, ax = plt.subplots(2, len(dims_in)-1, figsize=(20,5))\n",
    "ax = plot_sigmas(sigmas_causal,sigmas_anticausal,axes=ax)\n",
    "\n",
    "sigmas_causal,sigmas_anticausal = math.extract_sigmas(sys_move.to_matrix(), sys_move.dims_in,sys_move.dims_out)\n",
    "ax = plot_sigmas(sigmas_causal,sigmas_anticausal,axes=ax)\n",
    "\n",
    "for i in range(len(dims_in)-1):\n",
    "    ax[0,i].vlines(eps,0,600)\n",
    "    ax[1,i].vlines(eps,0,600)"
   ]
  },
  {
   "cell_type": "code",
   "execution_count": null,
   "metadata": {},
   "outputs": [],
   "source": [
    "approx_orig =Approximation(system)\n",
    "approx_sys_orig=approx_orig.get_approxiamtion(eps)\n",
    "\n",
    "approx_move =Approximation(sys_move)\n",
    "approx_sys_move=approx_move.get_approxiamtion(eps)\n",
    "\n",
    "print(\"Error regular:\",np.linalg.norm(mat_mobilenet-approx_sys_orig.to_matrix()))\n",
    "print(\"Error moved:\",np.linalg.norm(mat_mobilenet-approx_sys_move.to_matrix()))"
   ]
  },
  {
   "cell_type": "code",
   "execution_count": null,
   "metadata": {},
   "outputs": [],
   "source": [
    "print(\"Cost matrix:\",mat_mobilenet.size)\n",
    "print(\"Cost regular:\",approx_sys_orig.cost())\n",
    "print(\"Cost moved:\",approx_sys_move.cost())"
   ]
  },
  {
   "cell_type": "code",
   "execution_count": null,
   "metadata": {},
   "outputs": [],
   "source": [
    "utils.show_system(sys_move)"
   ]
  },
  {
   "cell_type": "code",
   "execution_count": null,
   "metadata": {},
   "outputs": [],
   "source": []
  }
 ],
 "metadata": {
  "kernelspec": {
   "display_name": "Python 3",
   "language": "python",
   "name": "python3"
  },
  "language_info": {
   "codemirror_mode": {
    "name": "ipython",
    "version": 3
   },
   "file_extension": ".py",
   "mimetype": "text/x-python",
   "name": "python",
   "nbconvert_exporter": "python",
   "pygments_lexer": "ipython3",
   "version": "3.7.12"
  }
 },
 "nbformat": 4,
 "nbformat_minor": 4
}
