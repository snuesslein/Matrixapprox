{
 "cells": [
  {
   "cell_type": "markdown",
   "metadata": {},
   "source": [
    "# Move Bounds\n",
    "\n",
    "Notebook on moving bounds for systems, while also calculating the the $\\sigma$s"
   ]
  },
  {
   "cell_type": "code",
   "execution_count": null,
   "metadata": {},
   "outputs": [],
   "source": [
    "from tvsclib.strict_system import StrictSystem\n",
    "from tvsclib.stage import Stage\n",
    "from tvsclib.system_identification_svd import SystemIdentificationSVD\n",
    "from tvsclib.toeplitz_operator import ToeplitzOperator\n",
    "from tvsclib.mixed_system import MixedSystem\n",
    "import numpy as np\n",
    "import scipy.linalg as linalg\n",
    "import matplotlib.pyplot as plt\n",
    "import scipy.linalg \n",
    "import scipy.stats \n",
    "import tvsclib.utils as utils\n",
    "\n",
    "from tvsclib.transformations.output_normal import OutputNormal\n",
    "from tvsclib.transformations.input_normal import InputNormal\n",
    "from tvsclib.transformations.reduction import Reduction\n",
    "\n",
    "from structurednets.asset_helpers import get_animal_classes_filepath\n",
    "from structurednets.extract_features import get_required_indices\n",
    "from structurednets.models.visionmodel import VisionModel\n",
    "from structurednets.models.alexnet import AlexNet\n",
    "from structurednets.models.googlenet import GoogleNet\n",
    "from structurednets.models.inceptionv3 import InceptionV3\n",
    "from structurednets.models.mobilenetv2 import MobilenetV2\n",
    "from structurednets.models.resnet18 import Resnet18\n",
    "from structurednets.models.vgg16 import VGG16"
   ]
  },
  {
   "cell_type": "code",
   "execution_count": null,
   "metadata": {},
   "outputs": [],
   "source": [
    "import move"
   ]
  },
  {
   "cell_type": "markdown",
   "metadata": {},
   "source": [
    "## Create a tialor made matrix\n",
    "\n",
    "Create mateices with combinations of orthogonal vectors such that we can create rank1 block matrices and combine these."
   ]
  },
  {
   "cell_type": "code",
   "execution_count": null,
   "metadata": {},
   "outputs": [],
   "source": [
    "dims_in =  np.array([6, 3, 5, 2])*3\n",
    "dims_out = np.array([2, 5, 3, 6])*3\n",
    "\n",
    "#create orthogonal vectors and normalize them to the size of the matix (i.e. norm(block)/size(block) = const\n",
    "#Us =np.vstack([np.linalg.svd(np.random.rand(dims_out[i],dims_in[i]))[0][:,1:4]*dims_out[i] for i in range(len(dims_in))])\n",
    "#Vts=np.hstack([np.linalg.svd(np.random.rand(dims_out[i],dims_in[i]))[2][1:4,:]*dims_in[i] for i in range(len(dims_in))])\n",
    "\n",
    "#create orthogonal vectors and normalize them to the size of the matix (i.e. norm(block)/size(block) = const\n",
    "Us =np.vstack([scipy.stats.ortho_group.rvs(dims_out[i])[:,:3]*dims_out[i] for i in range(len(dims_in))])\n",
    "Vts=np.hstack([scipy.stats.ortho_group.rvs(dims_in[i])[:3,:]*dims_in[i] for i in range(len(dims_in))])\n",
    "\n",
    "\n",
    "\n",
    "lower = Us[:,:1]@Vts[:1,:]\n",
    "diag = Us[:,1:2]@Vts[1:2,:]\n",
    "upper = Us[:,2:3]@Vts[2:3,:]\n",
    "matrix = np.zeros_like(diag)\n",
    "a=0;b=0\n",
    "for i in range(len(dims_in)):\n",
    "    matrix[a:a+dims_out[i],:b]            =lower[a:a+dims_out[i],:b]\n",
    "    matrix[a:a+dims_out[i],b:b+dims_in[i]]=diag[a:a+dims_out[i],b:b+dims_in[i]]\n",
    "    matrix[a:a+dims_out[i],b+dims_in[i]:] =upper[a:a+dims_out[i],b+dims_in[i]:]\n",
    "    a+=dims_out[i];b+=dims_in[i]\n",
    "plt.figure()\n",
    "plt.matshow(matrix)"
   ]
  },
  {
   "cell_type": "code",
   "execution_count": null,
   "metadata": {},
   "outputs": [],
   "source": [
    "\n",
    "a=0;b=0\n",
    "for i in range(len(dims_in)):\n",
    "    print(np.linalg.norm(diag[a:a+dims_out[i],b:b+dims_in[i]])/(dims_in[i]*dims_out[i]))\n",
    "    a+=dims_out[i];b+=dims_in[i]"
   ]
  },
  {
   "cell_type": "markdown",
   "metadata": {},
   "source": [
    "Create a system agnostic of the state boundareis but with the correct number of states"
   ]
  },
  {
   "cell_type": "code",
   "execution_count": null,
   "metadata": {},
   "outputs": [],
   "source": [
    "dims_in_start = [sum(dims_in)//4]*4\n",
    "dims_out_start = [sum(dims_out)//4]*4\n",
    "T = ToeplitzOperator(matrix, dims_in_start, dims_out_start)\n",
    "S = SystemIdentificationSVD(T,epsilon=1e-12)\n",
    "system = MixedSystem(S)\n",
    "utils.show_system(system)"
   ]
  },
  {
   "cell_type": "code",
   "execution_count": null,
   "metadata": {},
   "outputs": [],
   "source": [
    "def cost_error_cut_rel(s,shape,s_a,shape_a):\n",
    "    tau = 0.9\n",
    "    c = np.sum(s[s<tau*np.max(s)]**2)/(shape[0]*shape[1])+\\\n",
    "        np.sum(s_a[s_a<tau*np.max(s_a)]**2)/(shape_a[0]*shape_a[1])\n",
    "    #print(\"s:\",s[s<tau*np.max(s)],\" s_a:\",s_a[s_a<tau*np.max(s_a)])\n",
    "    return c\n",
    "\n",
    "\n",
    "sys_move,input_dims,output_dims = move.move(system,1,cost_error_cut_rel,n_in=4,n_out=4)\n",
    "sys_move,input_dims,output_dims = move.move(sys_move,1,cost_error_cut_rel,n_in=2,n_out=2)\n",
    "sys_move,input_dims,output_dims = move.move(sys_move,1,cost_error_cut_rel,n_in=1,n_out=1)\n",
    "#sys_move,input_dims,output_dims = move.move(sys_move,4,cost_error_cut_abs,n_in=1,n_out=1)\n",
    "\n",
    "\n",
    "utils.show_system(sys_move)\n",
    "\n",
    "print(dims_in)\n",
    "print(np.array(sys_move.dims_in))\n",
    "print(dims_out)\n",
    "print(np.array(sys_move.dims_out))\n"
   ]
  },
  {
   "cell_type": "markdown",
   "metadata": {},
   "source": [
    "## Test Weight matrix"
   ]
  },
  {
   "cell_type": "code",
   "execution_count": null,
   "metadata": {},
   "outputs": [],
   "source": [
    "#get matrix\n",
    "\n",
    "model_class = AlexNet\n",
    "label_filepath = get_animal_classes_filepath()\n",
    "required_indices = get_required_indices(label_filepath)\n",
    "model = model_class(required_indices)\n",
    "output_mat = model.get_optimization_matrix().detach().numpy()\n",
    "\n"
   ]
  },
  {
   "cell_type": "code",
   "execution_count": null,
   "metadata": {},
   "outputs": [],
   "source": [
    "stages = 20\n",
    "\n",
    "#set the dims\n",
    "d_in = output_mat.shape[1]\n",
    "boundaries = d_in/stages*np.arange(stages+1)\n",
    "boundaries = np.round(boundaries).astype(int)\n",
    "dims_in = boundaries[1:]-boundaries[:-1]\n",
    "\n",
    "d_out = output_mat.shape[0]\n",
    "boundaries = d_out/stages*np.arange(stages+1)\n",
    "boundaries = np.round(boundaries).astype(int)\n",
    "dims_out = boundaries[1:]-boundaries[:-1]\n",
    "\n",
    "assert sum(dims_in)==d_in and sum(dims_out)==d_out\n",
    "\n",
    "T = ToeplitzOperator(output_mat, dims_in,dims_out)\n",
    "S = SystemIdentificationSVD(T,epsilon=1e-16)\n",
    "\n",
    "system = MixedSystem(S)\n",
    "#approx =Approximation(system)\n",
    "print(system)"
   ]
  },
  {
   "cell_type": "code",
   "execution_count": null,
   "metadata": {},
   "outputs": [],
   "source": [
    "\n",
    "\n",
    "def cost(s,shape,s_a,shape_a):\n",
    "    c =np.sum(s)+np.sum(s_a)\n",
    "    return c\n",
    "\n",
    "#cost relative to size\n",
    "def cost_rel(s,shape,s_a,shape_a):\n",
    "    print(\"shape:\",shape)\n",
    "    print(\"shape_a:\",shape_a)\n",
    "    c =np.sum(s**2)/(shape[0]*shape[1])+np.sum(s_a**2)/(shape_a[0]*shape_a[1])\n",
    "    return c\n",
    "  \n",
    "def cost_check(s,shape,s_a,shape_a):\n",
    "    print(shape[0]+shape_a[0])\n",
    "    print(shape[1]+shape_a[1])\n",
    "    return 0\n",
    "    \n",
    "\n",
    "def cost_scaled(s,shape,s_a,shape_a):\n",
    "    c =np.sum(s/np.max(s))+np.sum(s_a/np.max(s_a))\n",
    "    return c\n",
    "\n",
    "def cost_error_cut_rel(s,shape,s_a,shape_a):\n",
    "    tau = 0.5\n",
    "    c = np.sum(s[s<tau*np.max(s)]**2)/(shape[0]*shape[1])+\\\n",
    "        np.sum(s_a[s_a<tau*np.max(s_a)]**2)/(shape_a[0]*shape_a[1])\n",
    "    return c\n",
    "\n",
    "def cost_error_cut_abs(s,shape,s_a,shape_a):\n",
    "    c = np.sum(s[s<eps]**2)+np.sum(s_a[s_a<eps]**2)\n",
    "    return c\n",
    "\n",
    "eps_max = np.linalg.svd(output_mat[int(np.floor(output_mat.shape[0]/2)):,:int(np.floor(output_mat.shape[1]/2))],compute_uv=False)[0]\n",
    "print(eps_max)\n",
    "eps = eps_max*0.5\n",
    "\n",
    "sys_move,input_dims,output_dims = move.move(system,3,cost_error_cut_rel,n_in=1,n_out=15)\n",
    "#utils.show_system(sys_move)\n",
    "\n",
    "print(input_dims)\n",
    "print(output_dims)"
   ]
  },
  {
   "cell_type": "code",
   "execution_count": null,
   "metadata": {},
   "outputs": [],
   "source": [
    "utils.check_dims(sys_move)"
   ]
  },
  {
   "cell_type": "code",
   "execution_count": null,
   "metadata": {},
   "outputs": [],
   "source": [
    "for i in range(input_dims.shape[0]):\n",
    "    plt.plot(np.sum(input_dims[:i+1,:],axis=0),\"+-\")"
   ]
  },
  {
   "cell_type": "code",
   "execution_count": null,
   "metadata": {},
   "outputs": [],
   "source": [
    "for i in range(output_dims.shape[0]):\n",
    "    plt.plot(np.sum(output_dims[:i+1,:],axis=0),\"+-\")"
   ]
  },
  {
   "cell_type": "code",
   "execution_count": null,
   "metadata": {},
   "outputs": [],
   "source": [
    "print(sys_move)"
   ]
  },
  {
   "cell_type": "code",
   "execution_count": null,
   "metadata": {},
   "outputs": [],
   "source": []
  }
 ],
 "metadata": {
  "kernelspec": {
   "display_name": "Python 3",
   "language": "python",
   "name": "python3"
  },
  "language_info": {
   "codemirror_mode": {
    "name": "ipython",
    "version": 3
   },
   "file_extension": ".py",
   "mimetype": "text/x-python",
   "name": "python",
   "nbconvert_exporter": "python",
   "pygments_lexer": "ipython3",
   "version": "3.7.12"
  }
 },
 "nbformat": 4,
 "nbformat_minor": 4
}
