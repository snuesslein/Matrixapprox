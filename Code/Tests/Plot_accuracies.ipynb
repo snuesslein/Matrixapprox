{
 "cells": [
  {
   "cell_type": "code",
   "execution_count": null,
   "metadata": {},
   "outputs": [],
   "source": [
    "import numpy as np\n",
    "import matplotlib.pyplot as plt"
   ]
  },
  {
   "cell_type": "markdown",
   "metadata": {},
   "source": [
    "## Simple approxiamtion\n",
    "\n",
    "Here we approximate the matrices with different sigmas anf plot the difference $\\|M-\\tilde{M}\\|$ against the cost"
   ]
  },
  {
   "cell_type": "code",
   "execution_count": null,
   "metadata": {},
   "outputs": [],
   "source": [
    "plt.figure()\n",
    "\n",
    "data = np.load(\"Test_Approxiamtions_AlexNet_0961347.npz\")\n",
    "plt.scatter(data['costs'][0],data['norms_f'][0],marker='x',label=\"Reference\")\n",
    "\n",
    "stages=len(data['dims_in'])\n",
    "plt.scatter(data['costs'][1:],data['norms_f'][1:],marker='+',label=str(stages)+\" Stages\")\n",
    "\n",
    "data = np.load(\"Test_Approxiamtions_AlexNet_0962137.npz\")\n",
    "stages=len(data['dims_in'])\n",
    "plt.scatter(data['costs'][1:],data['norms_f'][1:],marker='+',label=str(stages)+\" Stages\")\n",
    "\n",
    "data = np.load(\"Test_Approxiamtions_AlexNet_0962139.npz\")\n",
    "stages=len(data['dims_in'])\n",
    "plt.scatter(data['costs'][1:],data['norms_f'][1:],marker='+',label=str(stages)+\" Stages\")\n",
    "\n",
    "plt.ylabel(r\"$\\|M-\\tilde{M} \\|_F$\")\n",
    "plt.xlabel(\"cost\")\n",
    "plt.title(data['info'])\n",
    "plt.legend()"
   ]
  },
  {
   "cell_type": "code",
   "execution_count": null,
   "metadata": {},
   "outputs": [],
   "source": [
    "plt.figure()\n",
    "\n",
    "data = np.load(\"Test_Approxiamtions_AlexNet_0961347.npz\")\n",
    "plt.scatter(data['costs'][0],data['norms_h'][0],marker='x',label=\"Reference\")\n",
    "\n",
    "stages=len(data['dims_in'])\n",
    "plt.scatter(data['costs'][1:],data['norms_h'][1:],marker='+',label=str(stages)+\" Stages\")\n",
    "\n",
    "data = np.load(\"Test_Approxiamtions_AlexNet_0962137.npz\")\n",
    "stages=len(data['dims_in'])\n",
    "plt.scatter(data['costs'][1:],data['norms_h'][1:],marker='+',label=str(stages)+\" Stages\")\n",
    "\n",
    "data = np.load(\"Test_Approxiamtions_AlexNet_0962139.npz\")\n",
    "stages=len(data['dims_in'])\n",
    "plt.scatter(data['costs'][1:],data['norms_h'][1:],marker='+',label=str(stages)+\" Stages\")\n",
    "\n",
    "plt.ylabel(r\"$\\|M-\\tilde{M} \\|_H$\")\n",
    "plt.xlabel(\"cost\")\n",
    "plt.title(data['info'])\n",
    "plt.legend()"
   ]
  },
  {
   "cell_type": "markdown",
   "metadata": {},
   "source": [
    "## Now also include the accuracies"
   ]
  },
  {
   "cell_type": "code",
   "execution_count": null,
   "metadata": {},
   "outputs": [],
   "source": [
    "plt.figure()\n",
    "\n",
    "data = np.load(\"Test_Accuracies_approxiamtion_AlexNet_0962126.npz\")\n",
    "plt.scatter(data['costs'][0],data['accuracies'][0],marker='x',label=\"Reference\")\n",
    "\n",
    "stages=len(data['dims_in'])\n",
    "plt.scatter(data['costs'][1:],data['accuracies'][1:],marker='+',label=str(stages)+\" Stages\")\n",
    "\n",
    "data = np.load(\"Test_Accuracies_approxiamtion_AlexNet_0962145.npz\")\n",
    "stages=len(data['dims_in'])\n",
    "plt.scatter(data['costs'][1:],data['accuracies'][1:],marker='+',label=str(stages)+\" Stages\")\n",
    "\n",
    "data = np.load(\"Test_Accuracies_approxiamtion_AlexNet_0962148.npz\")\n",
    "stages=len(data['dims_in'])\n",
    "plt.scatter(data['costs'][1:],data['accuracies'][1:],marker='+',label=str(stages)+\" Stages\")\n",
    "\n",
    "plt.ylabel(r\"$Accuracy$\")\n",
    "plt.xlabel(\"cost\")\n",
    "plt.title(data['info'])\n",
    "plt.legend()"
   ]
  },
  {
   "cell_type": "code",
   "execution_count": null,
   "metadata": {},
   "outputs": [],
   "source": []
  }
 ],
 "metadata": {
  "kernelspec": {
   "display_name": "Python 3",
   "language": "python",
   "name": "python3"
  },
  "language_info": {
   "codemirror_mode": {
    "name": "ipython",
    "version": 3
   },
   "file_extension": ".py",
   "mimetype": "text/x-python",
   "name": "python",
   "nbconvert_exporter": "python",
   "pygments_lexer": "ipython3",
   "version": "3.7.12"
  }
 },
 "nbformat": 4,
 "nbformat_minor": 4
}
