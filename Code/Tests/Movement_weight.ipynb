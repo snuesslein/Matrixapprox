{
 "cells": [
  {
   "cell_type": "code",
   "execution_count": null,
   "metadata": {},
   "outputs": [],
   "source": [
    "from tvsclib.strict_system import StrictSystem\n",
    "from tvsclib.stage import Stage\n",
    "\n",
    "from tvsclib.mixed_system import MixedSystem\n",
    "import numpy as np\n",
    "import scipy.linalg as linalg\n",
    "import matplotlib.pyplot as plt\n",
    "import scipy.linalg \n",
    "import scipy.stats \n",
    "import tvsclib.utils as utils\n",
    "import tvsclib.math as math\n",
    "from tvsclib.approximation import Approximation\n",
    "from tvsclib.identification import identify\n",
    "\n",
    "\n",
    "import setup_plots\n",
    "import move\n",
    "\n",
    "import torchvision.models as models\n",
    "import torch\n",
    "\n",
    "\n",
    "from tvsclib.system_identification_svd import SystemIdentificationSVD\n",
    "from tvsclib.toeplitz_operator import ToeplitzOperator\n",
    "import time"
   ]
  },
  {
   "cell_type": "code",
   "execution_count": null,
   "metadata": {},
   "outputs": [],
   "source": [
    "setup_plots.setup()\n",
    "plt.rcParams['figure.dpi'] = 150"
   ]
  },
  {
   "cell_type": "code",
   "execution_count": null,
   "metadata": {},
   "outputs": [],
   "source": [
    "from mpl_toolkits.axes_grid1 import make_axes_locatable\n",
    "\n",
    "def plot_moves(sys_move,input_dims,output_dims,fs,text_ylabel=\" \"):\n",
    "    w = setup_plots.textwidth\n",
    "    #fig, ax = plt.subplots(1,1,figsize=(1*w, .5*w))\n",
    "    #fig, (ax,axf) = plt.subplots(1,2,figsize=(1*w, .5*w),gridspec_kw={'width_ratios':[2,1]})\n",
    "    fig = plt.figure(figsize=(1*w, .5*w)) \n",
    "    ax = fig.add_axes([0.1,0.2,0.65,0.9]) #[left, bottom, width, height]\n",
    "    axf = fig.add_axes([0.85,0.35,0.3,0.45]) #[left, bottom, width, height]\n",
    "\n",
    "    utils.show_system(sys_move,ax=ax)\n",
    "    y_lim = ax.get_ylim()\n",
    "    x_lim = ax.get_xlim()\n",
    "    ax.xaxis.set_ticks_position('top')\n",
    "\n",
    "    divider = make_axes_locatable(ax)\n",
    "    ax_dimsin = divider.append_axes(\"top\", 0.68, pad=0.1, sharex=ax)\n",
    "    ax_dimsout = divider.append_axes(\"left\", 0.68, pad=0.1, sharey=ax)\n",
    "\n",
    "    # make some labels invisible\n",
    "    ax_dimsin.xaxis.set_tick_params(labelbottom=False)\n",
    "    ax_dimsout.yaxis.set_tick_params(labelright=False)\n",
    "\n",
    "    N = input_dims.shape[1]\n",
    "\n",
    "    ax_dimsin.invert_yaxis()\n",
    "\n",
    "    angl = np.array([0.1,-0.1]*N)#add vector to make the lines slightly angled\n",
    "\n",
    "    din_cum=np.cumsum(input_dims,axis=0)\n",
    "    dout_cum=np.cumsum(output_dims,axis=0)\n",
    "    for i in range(dout_cum.shape[0]-1):\n",
    "        ax_dimsout.plot(np.repeat(np.arange(dout_cum.shape[1]+1),2)[1:-1]+angl,\n",
    "                        np.repeat(dout_cum[i,:],2)-0.5,\\\n",
    "                       linestyle='solid',color='C0')\n",
    "\n",
    "    din_cum=np.cumsum(input_dims,axis=0)\n",
    "    for i in range(din_cum.shape[0]-1):\n",
    "        ax_dimsin.plot(np.repeat(din_cum[i,:],2)-0.5,\n",
    "                       np.repeat(np.arange(din_cum.shape[1]+1),2)[1:-1]+angl,\\\n",
    "                      linestyle='solid',color='C0')\n",
    "\n",
    "\n",
    "    ax_dimsout.xaxis.set_ticks_position('top')\n",
    "    ax_dimsout.yaxis.set_ticks_position('right')\n",
    "    ax_dimsout.yaxis.set_tick_params(labelright=False)\n",
    "\n",
    "    spacing =2#how manx iteration maRKERS\n",
    "    ax_dimsin.set_yticks(np.arange(1,N,spacing))\n",
    "    ax_dimsout.set_xticks(np.arange(1,N,spacing))\n",
    "\n",
    "    #ax_dimsin.set_xticks(np.arange(3,48,3)-0.5)\n",
    "    #ax_dimsout.set_yticks(np.arange(3,48,3)-0.5)\n",
    "\n",
    "    ax_dimsin.grid()\n",
    "    ax_dimsout.grid()\n",
    "    ax_dimsout.set_xlim((0,N))\n",
    "    ax_dimsin.set_ylim((N,0))   \n",
    "    ax.set_ylim(y_lim)\n",
    "    ax.set_xlim(x_lim)\n",
    "\n",
    "    offset = 0.1\n",
    "    pos_x = ax_dimsout.get_position().xmin+0.075+offset/fig.get_figwidth()\n",
    "    pos_y = ax_dimsin.get_position().ymax-offset/fig.get_figheight()\n",
    "    plt.figtext(pos_x,pos_y,'Iteration',rotation=-45,\\\n",
    "                             horizontalalignment='left', verticalalignment='center',rotation_mode='anchor')\n",
    "    \n",
    "    axf.plot(fs)\n",
    "    axf.grid()\n",
    "    axf.set_xlabel('Iteration')\n",
    "    axf.set_ylabel(text_ylabel)\n",
    "    axf.ticklabel_format(axis='y',scilimits=(0,0))\n",
    "    axf.set_xticks(np.arange(1,N,spacing))\n",
    "    axf.set_xlim((0,N-1))\n",
    "    "
   ]
  },
  {
   "cell_type": "code",
   "execution_count": null,
   "metadata": {},
   "outputs": [],
   "source": [
    "def get_mobilenet_target_mats():\n",
    "    target_mats = []\n",
    "    # Load the model\n",
    "    model = models.mobilenet_v2(pretrained=True)\n",
    "    # Put moel into eval mode\n",
    "    model.eval()\n",
    "    for layer in model.classifier:\n",
    "        if isinstance(layer, torch.nn.Linear):\n",
    "            # Obtain the weights of this layer\n",
    "            weights = layer.weight.detach().numpy()\n",
    "            target_mats.append(weights)\n",
    "    return target_mats\n",
    "mat_mobilenet = get_mobilenet_target_mats()[0]"
   ]
  },
  {
   "cell_type": "code",
   "execution_count": null,
   "metadata": {},
   "outputs": [],
   "source": [
    "mat_mobilenet.shape"
   ]
  },
  {
   "cell_type": "code",
   "execution_count": null,
   "metadata": {},
   "outputs": [],
   "source": [
    "stages = 10\n",
    "\n",
    "#set the dims\n",
    "d_in = mat_mobilenet.shape[1]\n",
    "boundaries = d_in/stages*np.arange(stages+1)\n",
    "boundaries = np.round(boundaries).astype(int)\n",
    "dims_in = boundaries[1:]-boundaries[:-1]\n",
    "\n",
    "d_out = mat_mobilenet.shape[0]\n",
    "boundaries = d_out/stages*np.arange(stages+1)\n",
    "boundaries = np.round(boundaries).astype(int)\n",
    "dims_out = boundaries[1:]-boundaries[:-1]\n",
    "\n",
    "assert sum(dims_in)==d_in and sum(dims_out)==d_out\n",
    "\n",
    "system = identify(mat_mobilenet, dims_in,dims_out,epsilon=2e-8)\n",
    "\n",
    "#approx =Approximation(system)\n",
    "print(system)"
   ]
  },
  {
   "cell_type": "code",
   "execution_count": null,
   "metadata": {},
   "outputs": [],
   "source": [
    "def cost_computation(sigmas_causal,sigmas_anticausal,dims_in,dims_out):\n",
    "    k = len(dims_in)\n",
    "    dims_state_causal = np.zeros(k+1)\n",
    "    dims_state_anticausal = np.zeros(k+1)\n",
    "    #get the number of stages for each step\n",
    "    for i in range(k-1):\n",
    "        dims_state_causal[i+1] = np.count_nonzero(sigmas_causal[i]>eps)\n",
    "        dims_state_anticausal[i+1] = np.count_nonzero(sigmas_anticausal[i]>eps)\n",
    "    \n",
    "    return math.cost(dims_in,dims_out,dims_state_causal,causal=True)\\\n",
    "            +math.cost(dims_in,dims_out,dims_state_anticausal,causal=False,include_D=False)"
   ]
  },
  {
   "cell_type": "code",
   "execution_count": null,
   "metadata": {},
   "outputs": [],
   "source": [
    "#eps_max = np.linalg.svd(mat_mobilenet[int(np.floor(mat_mobilenet.shape[0]/2)):,:int(np.floor(mat_mobilenet.shape[1]/2))],compute_uv=False)[0]\n",
    "eps_max = math.hankelnorm(mat_mobilenet,system.dims_in,system.dims_out)\n",
    "eps = eps_max*0.25\n",
    "print(\"eps:\",eps)\n",
    "\n",
    "m_in=np.ceil(30/1.5**np.arange(10)).astype(int)\n",
    "m_out=m_in\n",
    "sys_move,input_dims,output_dims,fs,sigmas = move.move(system,None,cost_computation,m_in=m_in,m_out=m_out,cost_global=True,\n",
    "                                               return_sigmas=True,print_progress=True)\n",
    "print(\"l=\")\n",
    "display(m_out)"
   ]
  },
  {
   "cell_type": "code",
   "execution_count": null,
   "metadata": {},
   "outputs": [],
   "source": [
    "plot_moves(sys_move,input_dims,output_dims,fs,text_ylabel=r'$\\text{f}_{\\text{FLOP}}(\\Sigma)$')\n",
    "\n",
    "plt.savefig(\"move_example_mobilenet_comp.pdf\",bbox=\"tight\",bbox_inches = 'tight')\n",
    "bbox = plt.gcf().get_tightbbox( plt.gcf().canvas.get_renderer()) \n",
    "print(bbox.width/setup_plots.textwidth)"
   ]
  },
  {
   "cell_type": "markdown",
   "metadata": {},
   "source": [
    "# Compute the cost vs error"
   ]
  },
  {
   "cell_type": "code",
   "execution_count": null,
   "metadata": {},
   "outputs": [],
   "source": [
    "approx =Approximation(system)\n",
    "approx_move =Approximation(sys_move)\n",
    "\n",
    "N = 9 #number of points\n",
    "alpha = np.linspace(0,1,N)\n",
    "\n",
    "err_move =np.zeros_like(alpha)\n",
    "\n",
    "eps = eps_max*alpha\n",
    "\n",
    "def calc_values(approx,eps):\n",
    "    costs =np.zeros_like(eps)\n",
    "    err =np.zeros_like(eps)\n",
    "    for i in range(len(eps)):\n",
    "        approx_system=approx.get_approxiamtion(eps[i])\n",
    "        matrix_approx = approx_system.to_matrix()\n",
    "        err[i] = np.linalg.norm(matrix_approx-mat_mobilenet,ord=2)\n",
    "        costs[i] = approx_system.cost()\n",
    "    return err,costs\n",
    "\n",
    "err_orig,cost_orig = calc_values(approx,eps)\n",
    "err_move,cost_move = calc_values(approx_move,eps)"
   ]
  },
  {
   "cell_type": "code",
   "execution_count": null,
   "metadata": {},
   "outputs": [],
   "source": [
    "w = 0.75*setup_plots.textwidth\n",
    "fig, ax = plt.subplots(figsize=(w, 2/3*w))\n",
    "plt.plot(cost_orig,err_orig,'1-',label='initial segmentation')\n",
    "plt.plot(cost_move,err_move,'2--',label='adapted segmentation')\n",
    "ylims = ax.get_ylim()\n",
    "plt.vlines(mat_mobilenet.size,ylims[0],ylims[1],colors='0.4')\n",
    "ax.set_ylim(ylims)\n",
    "plt.grid()\n",
    "plt.legend()\n",
    "\n",
    "i = np.argmin(np.abs(alpha-0.25))\n",
    "#plt.scatter([cost_orig[i],cost_move[i]],[err_orig[i],err_move[i]])\n",
    "\n",
    "\n",
    "plt.xlabel(\"Number of multiplications\")\n",
    "plt.ylabel(r'$\\| A-\\tilde{A} \\| $')\n",
    "\n",
    "zoom_h = 1\n",
    "zoom_w = 3e5\n",
    "s = 5.2\n",
    "axins = ax.inset_axes([0.45, 0.2,s*zoom_w/4e6,s*zoom_h/10])\n",
    "\n",
    "axins.grid()\n",
    "axins.plot(cost_orig,err_orig,'1-')\n",
    "axins.plot(cost_move,err_move,'2--')\n",
    "\n",
    "axins.set_xlim(cost_orig[i]-0.5*zoom_w, cost_orig[i]+0.5*zoom_w)\n",
    "axins.set_ylim(err_orig[i]-0.5*zoom_h, err_orig[i]+0.5*zoom_h)\n",
    "axins.set_xticklabels([])\n",
    "axins.set_yticklabels([])\n",
    "\n",
    "ax.indicate_inset_zoom(axins, edgecolor=\"black\")\n",
    "axins.text(cost_orig[i]-0.2*zoom_w,err_orig[i]+0.3*zoom_h, r'$\\epsilon = \\frac{1}{4} \\|A\\|_H$',)\n",
    "plt.savefig(\"move_example_mobilenet_error.pdf\",bbox=\"tight\",bbox_inches = 'tight')\n",
    "bbox = plt.gcf().get_tightbbox( plt.gcf().canvas.get_renderer()) \n",
    "print(bbox.width/setup_plots.textwidth)"
   ]
  },
  {
   "cell_type": "code",
   "execution_count": null,
   "metadata": {},
   "outputs": [],
   "source": [
    "np.linalg.norm(mat_mobilenet,ord=2)"
   ]
  },
  {
   "cell_type": "code",
   "execution_count": null,
   "metadata": {},
   "outputs": [],
   "source": [
    "alpha"
   ]
  },
  {
   "cell_type": "markdown",
   "metadata": {},
   "source": [
    "# AlexNet"
   ]
  },
  {
   "cell_type": "code",
   "execution_count": null,
   "metadata": {},
   "outputs": [],
   "source": [
    "def get_AlexNet_target_mats():\n",
    "    target_mats = []\n",
    "    # Load the model\n",
    "    model = models.alexnet(pretrained=True)\n",
    "    # Put moel into eval mode\n",
    "    model.eval()\n",
    "    for layer in model.classifier:\n",
    "        if isinstance(layer, torch.nn.Linear):\n",
    "            # Obtain the weights of this layer\n",
    "            weights = layer.weight.detach().numpy()\n",
    "            target_mats.append(weights)\n",
    "    return target_mats\n",
    "mat_AlexNet = get_AlexNet_target_mats()[0]"
   ]
  },
  {
   "cell_type": "code",
   "execution_count": null,
   "metadata": {},
   "outputs": [],
   "source": [
    "mat_AlexNet.shape"
   ]
  },
  {
   "cell_type": "markdown",
   "metadata": {},
   "source": [
    "## get $K$"
   ]
  },
  {
   "cell_type": "code",
   "execution_count": null,
   "metadata": {},
   "outputs": [],
   "source": [
    "M = min(mat_AlexNet.shape)\n",
    "P = max(mat_AlexNet.shape)\n",
    "\n",
    "K = np.logspace(0,np.log10(M))\n",
    "\n",
    "gammas = np.logspace(-2,0,6)\n",
    "for gamma in gammas:\n",
    "    cost =(1/15)*K*P**2*gamma**2 + (1/3)*M*P*gamma + (1/3)*P**2*gamma + (M*P - 1/3*P**2*gamma**2)/K + (-1/3*M*P*gamma - 1/3*P**2*gamma)/K**2 + (4/15)*P**2*gamma**2/K**3\n",
    "    plt.loglog(K,cost,label = str(gamma))\n",
    "\n",
    "plt.legend()\n",
    "plt.plot([K[0],K[-1]],[mat_AlexNet.size,mat_AlexNet.size],'k-')\n",
    "plt.xlabel(\"$K$\")\n",
    "plt.ylabel(\"Approximated Cost\")\n",
    "plt.grid()"
   ]
  },
  {
   "cell_type": "code",
   "execution_count": null,
   "metadata": {},
   "outputs": [],
   "source": [
    "stages = 15\n",
    "\n",
    "#set the dims\n",
    "d_in = mat_AlexNet.shape[1]\n",
    "boundaries = d_in/stages*np.arange(stages+1)\n",
    "boundaries = np.round(boundaries).astype(int)\n",
    "dims_in = boundaries[1:]-boundaries[:-1]\n",
    "\n",
    "d_out = mat_AlexNet.shape[0]\n",
    "boundaries = d_out/stages*np.arange(stages+1)\n",
    "boundaries = np.round(boundaries).astype(int)\n",
    "dims_out = boundaries[1:]-boundaries[:-1]\n",
    "\n",
    "assert sum(dims_in)==d_in and sum(dims_out)==d_out\n",
    "\n",
    "system,sigmas = identify(mat_AlexNet, dims_in,dims_out,epsilon=2e-8,compute_sigmas=True)\n",
    "\n",
    "utils.save_system(system,'AlexNet/system_start.npz',sigmas=sigmas)"
   ]
  },
  {
   "cell_type": "code",
   "execution_count": null,
   "metadata": {},
   "outputs": [],
   "source": [
    "system,sigmas = utils.load_system('AlexNet/system_start.npz',load_sigmas=True)\n",
    "print(system)"
   ]
  },
  {
   "cell_type": "code",
   "execution_count": null,
   "metadata": {},
   "outputs": [],
   "source": [
    "approx =Approximation(system,sigmas)\n",
    "eps_max = np.max([np.max(s)for s in approx.sigmas_causal]+[np.max(s)for s in approx.sigmas_anticausal])\n",
    "eps = eps_max*0.25\n",
    "print(\"eps:\",eps)\n",
    "sys_approx = approx.get_approxiamtion(epsilon=eps/2)\n",
    "print(sys_approx)\n",
    "print(mat_AlexNet.size)\n",
    "print(sys_approx.cost())"
   ]
  },
  {
   "cell_type": "code",
   "execution_count": null,
   "metadata": {},
   "outputs": [],
   "source": [
    "print(\"Time start: \",time.time())\n",
    "#eps_max = np.linalg.svd(mat_mobilenet[int(np.floor(mat_mobilenet.shape[0]/2)):,:int(np.floor(mat_mobilenet.shape[1]/2))],compute_uv=False)[0]\n",
    "\n",
    "m_in=np.ceil(9*30/1.5**np.arange(10)).astype(int)\n",
    "m_out=np.ceil(4*30/1.5**np.arange(10)).astype(int)\n",
    "\n",
    "print(\"l=\")\n",
    "display(m_out)\n",
    "display(m_in)\n",
    "\n",
    "\n",
    "sys_move,input_dims,output_dims,fs,sigmas_move = move.move(sys_approx,None,cost_computation,m_in=m_in,m_out=m_out,cost_global=True,return_sigmas=True\n",
    "                                                      ,print_progress=True)\n",
    "\n",
    "utils.save_system(sys_move,'AlexNet/system_moved.npz',sigmas=sigmas_move)\n",
    "print(\"Time end: \",time.time())"
   ]
  },
  {
   "cell_type": "code",
   "execution_count": null,
   "metadata": {},
   "outputs": [],
   "source": [
    "plot_moves(sys_move,input_dims,output_dims,fs,text_ylabel=r'$\\text{f}_{\\text{FLOP}}(\\Sigma)$')\n",
    "\n",
    "plt.savefig(\"move_example_alexnet_comp.pdf\",bbox=\"tight\",bbox_inches = 'tight')\n",
    "bbox = plt.gcf().get_tightbbox( plt.gcf().canvas.get_renderer()) \n",
    "print(bbox.width/setup_plots.textwidth)"
   ]
  },
  {
   "cell_type": "code",
   "execution_count": null,
   "metadata": {},
   "outputs": [],
   "source": [
    "dims_in_new =sys_move.dims_in\n",
    "dims_out_new =sys_move.dims_out\n",
    "\n",
    "system_new,sigmas_new = identify(mat_AlexNet, dims_in_new,dims_out_new,epsilon=2e-8,compute_sigmas=True)\n",
    "\n",
    "utils.save_system(system_new,'AlexNet/system_new.npz',sigmas=sigmas_new)\n",
    "\n",
    "approx =Approximation(system_new,sigmas_new)\n",
    "print(system)"
   ]
  },
  {
   "cell_type": "code",
   "execution_count": null,
   "metadata": {},
   "outputs": [],
   "source": [
    "approx =Approximation(system,sigmas)\n",
    "approx_new =Approximation(system_new,sigmas_new)\n",
    "\n",
    "N = 9 #number of points\n",
    "alpha = np.linspace(0,1,N)\n",
    "\n",
    "err_move =np.zeros_like(alpha)\n",
    "\n",
    "eps = eps_max*alpha\n",
    "\n",
    "def calc_values(approx,eps):\n",
    "    costs =np.zeros_like(eps)\n",
    "    err =np.zeros_like(eps)\n",
    "    for i in range(len(eps)):\n",
    "        approx_system=approx.get_approxiamtion(eps[i])\n",
    "        matrix_approx = approx_system.to_matrix()\n",
    "        err[i] = np.linalg.norm(matrix_approx-mat_AlexNet,ord=2)\n",
    "        costs[i] = approx_system.cost()\n",
    "    return err,costs\n",
    "\n",
    "err_orig,cost_orig = calc_values(approx,eps)\n",
    "err_move,cost_move = calc_values(approx_new,eps)"
   ]
  },
  {
   "cell_type": "code",
   "execution_count": null,
   "metadata": {},
   "outputs": [],
   "source": [
    "w = 0.75*setup_plots.textwidth\n",
    "fig, ax = plt.subplots(figsize=(w, 2/3*w))\n",
    "plt.plot(cost_orig,err_orig,'1-',label='initial segmentation')\n",
    "plt.plot(cost_move,err_move,'2--',label='adapted segmentation')\n",
    "ylims = ax.get_ylim()\n",
    "plt.vlines(mat_AlexNet.size,ylims[0],ylims[1],colors='0.4')\n",
    "ax.set_ylim(ylims)\n",
    "plt.grid()\n",
    "plt.legend()\n",
    "\n",
    "i = np.argmin(np.abs(alpha-0.25))\n",
    "#plt.scatter([cost_orig[i],cost_move[i]],[err_orig[i],err_move[i]])\n",
    "\n",
    "\n",
    "plt.xlabel(\"Number of multiplications\")\n",
    "plt.ylabel(r'$\\| A-\\tilde{A} \\| $')\n",
    "\n",
    "zoom_h = 1\n",
    "zoom_w = 6e6\n",
    "s = 5.2\n",
    "axins = ax.inset_axes([0.45, 0.2,s*zoom_w/9e7,s*zoom_h/10])\n",
    "\n",
    "axins.grid()\n",
    "axins.plot(cost_orig,err_orig,'1-')\n",
    "axins.plot(cost_move,err_move,'2--')\n",
    "\n",
    "axins.set_xlim(cost_orig[i]-0.5*zoom_w, cost_orig[i]+0.5*zoom_w)\n",
    "axins.set_ylim(err_orig[i]-0.5*zoom_h, err_orig[i]+0.5*zoom_h)\n",
    "axins.set_xticklabels([])\n",
    "axins.set_yticklabels([])\n",
    "\n",
    "ax.indicate_inset_zoom(axins, edgecolor=\"black\")\n",
    "axins.text(cost_orig[i]-0.2*zoom_w,err_orig[i]+0.3*zoom_h, r'$\\epsilon = \\frac{1}{4} \\|A\\|_H$',)\n",
    "#plt.savefig(\"move_example_mobilenet_error.pdf\",bbox=\"tight\",bbox_inches = 'tight')\n",
    "bbox = plt.gcf().get_tightbbox( plt.gcf().canvas.get_renderer()) \n",
    "print(bbox.width/setup_plots.textwidth)"
   ]
  },
  {
   "cell_type": "code",
   "execution_count": null,
   "metadata": {},
   "outputs": [],
   "source": [
    "eps_max"
   ]
  },
  {
   "cell_type": "code",
   "execution_count": null,
   "metadata": {},
   "outputs": [],
   "source": [
    "0.3/eps_max"
   ]
  },
  {
   "cell_type": "code",
   "execution_count": null,
   "metadata": {},
   "outputs": [],
   "source": [
    "eps_max*0.1"
   ]
  },
  {
   "cell_type": "code",
   "execution_count": null,
   "metadata": {},
   "outputs": [],
   "source": []
  }
 ],
 "metadata": {
  "kernelspec": {
   "display_name": "Python 3",
   "language": "python",
   "name": "python3"
  },
  "language_info": {
   "codemirror_mode": {
    "name": "ipython",
    "version": 3
   },
   "file_extension": ".py",
   "mimetype": "text/x-python",
   "name": "python",
   "nbconvert_exporter": "python",
   "pygments_lexer": "ipython3",
   "version": "3.7.12"
  }
 },
 "nbformat": 4,
 "nbformat_minor": 4
}
