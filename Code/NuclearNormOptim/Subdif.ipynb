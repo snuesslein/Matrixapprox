{
 "cells": [
  {
   "cell_type": "code",
   "execution_count": null,
   "metadata": {},
   "outputs": [],
   "source": [
    "import numpy as np\n",
    "import scipy.stats \n",
    "import matplotlib.pyplot as plt\n",
    "#%matplotlib notebook\n",
    "plt.rcParams['figure.dpi'] = 100"
   ]
  },
  {
   "cell_type": "code",
   "execution_count": null,
   "metadata": {},
   "outputs": [],
   "source": [
    "N = 20\n",
    "\n",
    "M = np.random.rand(N,2*N)\n",
    "n_col = M.shape[1]\n",
    "n_row = M.shape[0]\n",
    "\n",
    "x_col = np.ones(n_col)\n",
    "x_row = np.ones(n_row)\n",
    "\n",
    "x_col = np.random.randint(2, size=n_col)\n",
    "x_row = np.random.randint(2, size=n_row)\n",
    "\n",
    "print(x_col)\n",
    "print(x_row)"
   ]
  },
  {
   "cell_type": "code",
   "execution_count": null,
   "metadata": {},
   "outputs": [],
   "source": [
    "def F(x_col,x_row,M):\n",
    "    M_a = x_row.reshape(-1,1)*M*x_col.reshape(1,-1) \n",
    "    M_b = (1-x_row).reshape(-1,1)*M*(1-x_col).reshape(1,-1)\n",
    "    return np.linalg.norm(M_a,'nuc')+np.linalg.norm(M_b,'nuc')"
   ]
  },
  {
   "cell_type": "code",
   "execution_count": null,
   "metadata": {},
   "outputs": [],
   "source": [
    "def subdifferential(x_col,x_row,M):\n",
    "    M_a = x_row.reshape(-1,1)*M*x_col.reshape(1,-1) \n",
    "    M_b = (1-x_row).reshape(-1,1)*M*(1-x_col).reshape(1,-1)\n",
    "    #print(M_a-M_b)\n",
    "    #print(M_a);print(M_b)\n",
    "    U_a, s, Vh_a = np.linalg.svd(M_a, full_matrices=False)\n",
    "    U_b, s, Vh_b = np.linalg.svd(M_b, full_matrices=False)\n",
    "    \n",
    "    G = (Vh_a.T@U_a.T-Vh_b.T@U_b.T)\n",
    "    #print(G)\n",
    "\n",
    "    d_row = np.diag((M*x_col.reshape(1,-1))@G)\n",
    "    d_col = np.diag(G@(x_row.reshape(-1,1)*M))\n",
    "    \n",
    "    return (d_col,d_row)"
   ]
  },
  {
   "cell_type": "markdown",
   "metadata": {},
   "source": [
    "Test derivative"
   ]
  },
  {
   "cell_type": "code",
   "execution_count": null,
   "metadata": {},
   "outputs": [],
   "source": [
    "d_col,d_row = subdifferential(x_col,x_row,M)\n",
    "print(d_col)\n",
    "print(d_row)"
   ]
  },
  {
   "cell_type": "code",
   "execution_count": null,
   "metadata": {},
   "outputs": [],
   "source": [
    "eps = 5e-4\n",
    "xp_row=np.ones_like(x_row)*eps\n",
    "xp_col=np.ones_like(x_col)*eps"
   ]
  },
  {
   "cell_type": "code",
   "execution_count": null,
   "metadata": {},
   "outputs": [],
   "source": [
    "F_prime = F(x_col+xp_col,x_row+xp_row,M)\n",
    "F_est = F(x_col,x_row,M)+d_col@xp_col+d_row@xp_row"
   ]
  },
  {
   "cell_type": "code",
   "execution_count": null,
   "metadata": {},
   "outputs": [],
   "source": [
    "F_est"
   ]
  },
  {
   "cell_type": "code",
   "execution_count": null,
   "metadata": {},
   "outputs": [],
   "source": [
    "F_prime"
   ]
  },
  {
   "cell_type": "code",
   "execution_count": null,
   "metadata": {},
   "outputs": [],
   "source": [
    "F(x_col,x_row,M)"
   ]
  },
  {
   "cell_type": "code",
   "execution_count": null,
   "metadata": {},
   "outputs": [],
   "source": [
    "d_col"
   ]
  },
  {
   "cell_type": "code",
   "execution_count": null,
   "metadata": {},
   "outputs": [],
   "source": [
    "d_row"
   ]
  },
  {
   "cell_type": "code",
   "execution_count": null,
   "metadata": {},
   "outputs": [],
   "source": [
    "L = 20\n",
    "\n",
    "gamma = 0.1\n",
    "\n",
    "Fs = np.zeros(L)\n",
    "x_cols = np.zeros([L,n_col])\n",
    "x_rows = np.zeros([L,n_row])"
   ]
  },
  {
   "cell_type": "code",
   "execution_count": null,
   "metadata": {},
   "outputs": [],
   "source": [
    "Fs[0]=F(x_col,x_row,M)\n",
    "x_cols[0]=x_col\n",
    "x_rows[0]=x_row\n",
    "for l in range(1,L):\n",
    "    d_col,d_row = subdifferential(x_col,x_row,M)\n",
    "    x_col = x_col-gamma*d_col\n",
    "    x_row = x_row-gamma*d_row\n",
    "    np.clip(x_col,0,1,out=x_col)\n",
    "    np.clip(x_row,0,1,out=x_row)\n",
    "    Fs[l]=F(x_col,x_row,M)\n",
    "    x_cols[l]=x_col\n",
    "    x_rows[l]=x_row"
   ]
  },
  {
   "cell_type": "code",
   "execution_count": null,
   "metadata": {},
   "outputs": [],
   "source": [
    "plt.plot(Fs);"
   ]
  },
  {
   "cell_type": "code",
   "execution_count": null,
   "metadata": {},
   "outputs": [],
   "source": [
    "plt.plot(x_cols);"
   ]
  },
  {
   "cell_type": "markdown",
   "metadata": {},
   "source": [
    "To aviod that all are accumulated in one part we add an regularization term\n",
    "\n",
    "We substract a vaule if they are groupd in two parts. If all are in one part, then there the regularization term is zero\n",
    "\n",
    "$$\n",
    "g(x) = - \\sum x_i \\sum 1-x_i  \n",
    "$$\n",
    "\n",
    "for both the rows and the columns\n",
    "\n",
    "Spoiler: This is actually not a very good regularization unless I did some error when computing the derivative"
   ]
  },
  {
   "cell_type": "code",
   "execution_count": null,
   "metadata": {},
   "outputs": [],
   "source": [
    "def F_reg(x_col,x_row):\n",
    "    return -np.sum(x_col)*(np.sum(1-x_col))-np.sum(x_row)*(np.sum(1-x_row))\n",
    "\n",
    "def F_deriva(x_col,x_row):\n",
    "    d_row = (2*np.sum(x_row)-np.size(x_row))*np.ones_like(x_row)\n",
    "    d_col = (2*np.sum(x_col)-np.size(x_col))*np.ones_like(x_col)\n",
    "    return (d_col,d_row)"
   ]
  },
  {
   "cell_type": "code",
   "execution_count": null,
   "metadata": {},
   "outputs": [],
   "source": [
    "eps = 5e-4\n",
    "xp_row=np.ones_like(x_row)*eps\n",
    "xp_col=np.ones_like(x_col)*eps\n",
    "d_col,d_row = F_deriva(x_col,x_row)\n",
    "F_prime = F_reg(x_col+xp_col,x_row+xp_row)\n",
    "F_est = F_reg(x_col,x_row)+d_col@xp_col+d_row@xp_row\n",
    "print(F_prime)\n",
    "print(F_est)\n",
    "print(F_reg(x_col,x_row))"
   ]
  },
  {
   "cell_type": "code",
   "execution_count": null,
   "metadata": {},
   "outputs": [],
   "source": [
    "L = 20\n",
    "\n",
    "gamma = 0.2\n",
    "\n",
    "nu = 1e-2 # for regularization\n",
    "\n",
    "Fs = np.zeros(L)\n",
    "x_cols = np.zeros([L,n_col])\n",
    "x_rows = np.zeros([L,n_row])"
   ]
  },
  {
   "cell_type": "code",
   "execution_count": null,
   "metadata": {},
   "outputs": [],
   "source": [
    "Fs[0]=F(x_col,x_row,M)+gamma*F_reg(x_col,x_row)\n",
    "x_cols[0]=x_col\n",
    "x_rows[0]=x_row\n",
    "for l in range(1,L):\n",
    "    d_col,d_row = subdifferential(x_col,x_row,M)\n",
    "    d_reg_col,d_reg_row = F_deriva(x_col,x_row)\n",
    "    x_col = x_col-gamma*(d_col+nu*d_reg_col)\n",
    "    x_row = x_row-gamma*(d_row+nu*d_reg_row)\n",
    "    np.clip(x_col,0,1,out=x_col)\n",
    "    np.clip(x_row,0,1,out=x_row)\n",
    "    Fs[l]=F(x_col,x_row,M)+gamma*F_reg(x_col,x_row)\n",
    "    x_cols[l]=x_col\n",
    "    x_rows[l]=x_row"
   ]
  },
  {
   "cell_type": "code",
   "execution_count": null,
   "metadata": {},
   "outputs": [],
   "source": [
    "plt.plot(Fs);"
   ]
  },
  {
   "cell_type": "code",
   "execution_count": null,
   "metadata": {},
   "outputs": [],
   "source": [
    "plt.plot(x_cols);"
   ]
  },
  {
   "cell_type": "code",
   "execution_count": null,
   "metadata": {},
   "outputs": [],
   "source": [
    "x_row"
   ]
  },
  {
   "cell_type": "code",
   "execution_count": null,
   "metadata": {},
   "outputs": [],
   "source": []
  }
 ],
 "metadata": {
  "kernelspec": {
   "display_name": "Python 3",
   "language": "python",
   "name": "python3"
  },
  "language_info": {
   "codemirror_mode": {
    "name": "ipython",
    "version": 3
   },
   "file_extension": ".py",
   "mimetype": "text/x-python",
   "name": "python",
   "nbconvert_exporter": "python",
   "pygments_lexer": "ipython3",
   "version": "3.7.12"
  }
 },
 "nbformat": 4,
 "nbformat_minor": 4
}
