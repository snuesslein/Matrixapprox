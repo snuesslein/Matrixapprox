{
 "cells": [
  {
   "cell_type": "code",
   "execution_count": null,
   "metadata": {},
   "outputs": [],
   "source": [
    "import numpy as np\n",
    "import matplotlib.pyplot as plt\n",
    "from scipy.linalg import block_diag\n",
    "from scipy.linalg import svdvals"
   ]
  },
  {
   "cell_type": "markdown",
   "metadata": {},
   "source": [
    "General update according to \n",
    "\n",
    "$$U \\Sigma V^\\top + ab^\\top$$\n",
    "\n",
    "This can be changed to\n",
    "\n",
    "$$m = U^\\top a \\qquad p = a-Um$$ \n",
    "\n",
    "$$n = V^\\top b \\qquad q = b-Vn$$\n",
    "\n",
    "some notes: $m$ and $n$ represent vectors in the range/corange wheras $p$ and $q$ reprsent things that are not in the respecting co-range\n",
    "\n",
    "This gives the following new SVD-problem:\n",
    "\n",
    "$$\n",
    "K=\n",
    "\\begin{bmatrix}\n",
    "\\sigma & 0\\\\\n",
    "0& 0\n",
    "\\end{bmatrix}\n",
    "+\n",
    "\\begin{bmatrix}\n",
    "m\\\\\n",
    "\\|p\\|\n",
    "\\end{bmatrix}\n",
    "\\begin{bmatrix}\n",
    "n^\\top& \\|p\\|\n",
    "\\end{bmatrix}\n",
    "$$"
   ]
  },
  {
   "cell_type": "markdown",
   "metadata": {},
   "source": [
    "# Some random ideas to get an cheap estimate of $\\|K\\|_*$"
   ]
  },
  {
   "cell_type": "code",
   "execution_count": null,
   "metadata": {},
   "outputs": [],
   "source": [
    "N = 20\n",
    "A = np.random.rand(N,N)"
   ]
  },
  {
   "cell_type": "markdown",
   "metadata": {},
   "source": [
    "We now add a column.\n",
    "This means setting\n",
    "$$b^\\top = [0,\\dots,0,1]$$\n",
    "and\n",
    "$$a = c$$ \n",
    "where c is column"
   ]
  },
  {
   "cell_type": "code",
   "execution_count": null,
   "metadata": {},
   "outputs": [],
   "source": [
    "U,s,Vt = np.linalg.svd(A[:,:-1],full_matrices=False) "
   ]
  },
  {
   "cell_type": "code",
   "execution_count": null,
   "metadata": {},
   "outputs": [],
   "source": [
    "b = np.zeros(N-1)\n",
    "b[-1]=1\n",
    "a=A[:,-1]"
   ]
  },
  {
   "cell_type": "code",
   "execution_count": null,
   "metadata": {},
   "outputs": [],
   "source": [
    "K = np.zeros((s.size+1,s.size+1))\n",
    "K[:-1,:-1]=np.diag(s)\n",
    "m = U.T@a\n",
    "K[:-1,-1]=m\n",
    "K[-1,-1]=np.linalg.norm(a-U@m)"
   ]
  },
  {
   "cell_type": "code",
   "execution_count": null,
   "metadata": {},
   "outputs": [],
   "source": [
    "plt.matshow(K)"
   ]
  },
  {
   "cell_type": "code",
   "execution_count": null,
   "metadata": {},
   "outputs": [],
   "source": [
    "np.sum(s)"
   ]
  },
  {
   "cell_type": "code",
   "execution_count": null,
   "metadata": {},
   "outputs": [],
   "source": [
    "np.linalg.norm(A,'nuc')"
   ]
  },
  {
   "cell_type": "code",
   "execution_count": null,
   "metadata": {},
   "outputs": [],
   "source": [
    "np.trace(K)"
   ]
  },
  {
   "cell_type": "code",
   "execution_count": null,
   "metadata": {},
   "outputs": [],
   "source": [
    "np.linalg.norm(K,'nuc')"
   ]
  },
  {
   "cell_type": "code",
   "execution_count": null,
   "metadata": {},
   "outputs": [],
   "source": [
    "np.linalg.norm(K,'fro')"
   ]
  },
  {
   "cell_type": "code",
   "execution_count": null,
   "metadata": {},
   "outputs": [],
   "source": [
    "np.trace(K)+np.linalg.norm(K[:-1,-1],1)"
   ]
  },
  {
   "cell_type": "code",
   "execution_count": null,
   "metadata": {},
   "outputs": [],
   "source": [
    "np.trace(K)+np.sum(K[:-1,-1])"
   ]
  },
  {
   "cell_type": "code",
   "execution_count": null,
   "metadata": {},
   "outputs": [],
   "source": [
    "X2 = 0.5*(0.5*(K+K.T)+K@K.T*np.diag(1/np.diag(K)))\n",
    "plt.matshow(X2)\n",
    "np.trace(X2)"
   ]
  },
  {
   "cell_type": "code",
   "execution_count": null,
   "metadata": {},
   "outputs": [],
   "source": [
    "X = X2"
   ]
  },
  {
   "cell_type": "code",
   "execution_count": null,
   "metadata": {},
   "outputs": [],
   "source": [
    "X = 0.5*(X+K@K.T*np.linalg.inv(X))\n",
    "X@X-K@K.T"
   ]
  },
  {
   "cell_type": "code",
   "execution_count": null,
   "metadata": {},
   "outputs": [],
   "source": [
    "np.linalg.inv?"
   ]
  },
  {
   "cell_type": "markdown",
   "metadata": {},
   "source": [
    "# Remove collumn"
   ]
  },
  {
   "cell_type": "code",
   "execution_count": null,
   "metadata": {},
   "outputs": [],
   "source": [
    "U,s,Vt = np.linalg.svd(A[:,:],full_matrices=False) "
   ]
  },
  {
   "cell_type": "code",
   "execution_count": null,
   "metadata": {},
   "outputs": [],
   "source": [
    "b = np.zeros(N)\n",
    "b[-1]=1\n",
    "a=-A[:,-1]\n",
    "m = U.T@a\n",
    "p = a-U@m\n",
    "n = Vt@b\n",
    "q = b-Vt.T@n\n",
    "\n",
    "u = np.hstack([m,np.linalg.norm(p)])\n",
    "v = np.hstack([n,np.linalg.norm(q)])"
   ]
  },
  {
   "cell_type": "code",
   "execution_count": null,
   "metadata": {},
   "outputs": [],
   "source": [
    "K = np.zeros((s.size+1,s.size+1))\n",
    "K[:-1,:-1]=np.diag(s)\n",
    "K += u.reshape(-1,1)@v.reshape(1,-1)\n",
    "K[-1,-1]=np.linalg.norm(a-U@m)"
   ]
  },
  {
   "cell_type": "code",
   "execution_count": null,
   "metadata": {},
   "outputs": [],
   "source": [
    "plt.matshow(K)"
   ]
  },
  {
   "cell_type": "code",
   "execution_count": null,
   "metadata": {},
   "outputs": [],
   "source": [
    "np.linalg.norm(A[:,:-1],'nuc')"
   ]
  },
  {
   "cell_type": "code",
   "execution_count": null,
   "metadata": {},
   "outputs": [],
   "source": [
    "np.linalg.norm(K,'nuc')"
   ]
  },
  {
   "cell_type": "code",
   "execution_count": null,
   "metadata": {},
   "outputs": [],
   "source": [
    "np.trace(K)"
   ]
  },
  {
   "cell_type": "code",
   "execution_count": null,
   "metadata": {},
   "outputs": [],
   "source": [
    "np.linalg.norm(A,'nuc')"
   ]
  },
  {
   "cell_type": "code",
   "execution_count": null,
   "metadata": {},
   "outputs": [],
   "source": [
    "#X2 = 0.5*(0.5*(K+K.T)+K@K.T*np.diag(1/np.diag(K)))\n",
    "X2 = 0.5*(K+K@K.T*np.diag(1/np.diag(K)))\n",
    "plt.matshow(X2)\n",
    "np.trace(X2)"
   ]
  },
  {
   "cell_type": "raw",
   "metadata": {},
   "source": [
    "m = U.T@a\n",
    "p = a-U@m\n",
    "n = Vt@b\n",
    "q = b-Vt.T@n\n",
    "\n",
    "u = np.hstack([m,np.linalg.norm(p)])\n",
    "v = np.hstack([n,np.linalg.norm(q)])\n",
    "\n",
    "#some ideas on improvint the approxiamtion\n",
    "s_ = s.copy()\n",
    "\n",
    "for i in range(len(s)):\n",
    "    u_,s_sub,v_ = np.linalg.svd(np.matrix([[s_[i],0],[0,0]]+u[[i,-1]].reshape(-1,1)@v[[i,-1]].reshape(1,-1)))\n",
    "\n",
    "    "
   ]
  },
  {
   "cell_type": "raw",
   "metadata": {},
   "source": [
    "u"
   ]
  },
  {
   "cell_type": "raw",
   "metadata": {},
   "source": [
    "u[[i,2]]"
   ]
  },
  {
   "cell_type": "code",
   "execution_count": null,
   "metadata": {},
   "outputs": [],
   "source": [
    "def Bab_iteration(s,u,v):\n",
    "    d_k = np.hstack([s,u[-1]*v[-1]]) #diagnal of K\n",
    "    s_ = np.hstack([s,0])# elongated sigma vector\n",
    "    return 0.5*d_k+ (0.5*d_k**2 + s_*u*v + 0.5*u**2*(v@v))/d_k\n",
    "\n",
    "\n",
    "\n",
    "def est_add(U,s,Vt,c):\n",
    "    \"\"\"\n",
    "    Function to estimate the add the column c\n",
    "    \"\"\"\n",
    "\n",
    "    m = U.T@c\n",
    "    p = c-U@m\n",
    "    u = np.hstack([m,np.linalg.norm(p)])\n",
    "    v = np.zeros_like(u)\n",
    "    v[-1]=1\n",
    "    \n",
    "    return np.sum(Bab_iteration(s,u,v))\n",
    "    \n",
    "\n",
    "def est_remove(U,s,Vt,c,i_c):\n",
    "    \"\"\"\n",
    "    Function to estimate the add the column c\n",
    "    \"\"\"\n",
    "    b = np.zeros(Vt.shape[1])\n",
    "    b[i_c]=1\n",
    "    m = U.T@c\n",
    "    p = c-U@m\n",
    "    n = Vt@b #can probably be simplified\n",
    "    q = b-Vt.T@n\n",
    "\n",
    "    u = np.hstack([m,np.linalg.norm(p)])\n",
    "    v = np.hstack([n,np.linalg.norm(q)])\n",
    "    \n",
    "    return np.sum(Bab_iteration(s,u,v))"
   ]
  },
  {
   "cell_type": "code",
   "execution_count": null,
   "metadata": {},
   "outputs": [],
   "source": [
    "def norm_add(U,s,Vt,c):\n",
    "    m = U.T@c\n",
    "    p = c-U@m\n",
    "    K = np.block([[np.diag(s),m.reshape(-1,1)],[np.zeros((1,len(s))),np.linalg.norm(p)]])\n",
    "    return np.sum(svdvals(K,overwrite_a=True,check_finite=False))\n",
    "\n",
    "def norm_remove(U,s,Vt,c,i_c):\n",
    "    b = np.zeros(Vt.shape[1])\n",
    "    b[i_c]=-1\n",
    "    m = U.T@c\n",
    "    p = c-U@m\n",
    "    n = Vt@b#n = Vt[:,i_c]\n",
    "    q = b-Vt.T@n\n",
    "\n",
    "    u = np.hstack([m,np.linalg.norm(p)])\n",
    "    v = np.hstack([n,np.linalg.norm(q)])\n",
    "    \n",
    "    K = u.reshape(-1,1)@v.reshape(1,-1)\n",
    "    np.fill_diagonal(K, u*v+np.hstack([s,0]))\n",
    "    #K = np.diag(np.hstack([s,0]))+u.reshape(-1,1)@v.reshape(1,-1)\n",
    "    \n",
    "    return np.linalg.norm(K,'nuc')#np.sum(svdvals(K,overwrite_a=True,check_finite=False))"
   ]
  },
  {
   "cell_type": "markdown",
   "metadata": {},
   "source": [
    "Some Tests"
   ]
  },
  {
   "cell_type": "code",
   "execution_count": null,
   "metadata": {},
   "outputs": [],
   "source": [
    "N = 20\n",
    "A = np.random.rand(N,N)\n",
    "U,s,Vt = np.linalg.svd(A,full_matrices=False)\n",
    "print(\"||A||_* = \",np.linalg.norm(A,'nuc'))"
   ]
  },
  {
   "cell_type": "code",
   "execution_count": null,
   "metadata": {},
   "outputs": [],
   "source": [
    "#add column\n",
    "c = np.random.rand(N)\n",
    "\n",
    "print(\"approx ||A||_* = \",est_add(U,s,Vt,c))\n",
    "print(\"update ||A||_* = \",norm_add(U,s,Vt,c))\n",
    "print(\"actual ||A||_* = \",np.linalg.norm(np.hstack([A,c.reshape(-1,1)]),'nuc'))"
   ]
  },
  {
   "cell_type": "code",
   "execution_count": null,
   "metadata": {},
   "outputs": [],
   "source": [
    "#remove\n",
    "\n",
    "i_c = -1\n",
    "c = A[:,i_c]\n",
    "\n",
    "\n",
    "print(\"approx ||A||_* = \",est_remove(U,s,Vt,c,i_c))\n",
    "print(\"update ||A||_* = \",norm_remove(U,s,Vt,c,i_c))\n",
    "print(\"actual ||A||_* = \",np.linalg.norm(A[:,:-1],'nuc'))"
   ]
  },
  {
   "cell_type": "code",
   "execution_count": null,
   "metadata": {},
   "outputs": [],
   "source": [
    "b = np.zeros(Vt.shape[1])\n",
    "b[i_c]=-1\n",
    "A+c.reshape(-1,1)*b.reshape(1,-1)"
   ]
  },
  {
   "cell_type": "code",
   "execution_count": null,
   "metadata": {},
   "outputs": [],
   "source": []
  }
 ],
 "metadata": {
  "kernelspec": {
   "display_name": "Python 3",
   "language": "python",
   "name": "python3"
  },
  "language_info": {
   "codemirror_mode": {
    "name": "ipython",
    "version": 3
   },
   "file_extension": ".py",
   "mimetype": "text/x-python",
   "name": "python",
   "nbconvert_exporter": "python",
   "pygments_lexer": "ipython3",
   "version": "3.7.12"
  }
 },
 "nbformat": 4,
 "nbformat_minor": 4
}
