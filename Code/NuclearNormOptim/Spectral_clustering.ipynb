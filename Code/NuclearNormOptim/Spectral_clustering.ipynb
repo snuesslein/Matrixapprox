{
 "cells": [
  {
   "cell_type": "markdown",
   "metadata": {},
   "source": [
    "# Segementations\n",
    "\n",
    "Notebook to split the columns (and rows) in possibly orthogonal parts using spectral clustering"
   ]
  },
  {
   "cell_type": "markdown",
   "metadata": {},
   "source": [
    "## Split the collumns\n",
    "\n",
    "First we split the matrix.\n",
    "For thsi we want to group them in in two clusters of collums that are idealy orhtogonal to each other.\n",
    "For this we consider a graph where the collums $c_i$ are represented by nodes.\n",
    "The edges have the weight\n",
    "$$ e_{i,j} = |c_i^\\top c_j|$$\n",
    "\n",
    "For this we split the graph using spectral clustering https://en.wikipedia.org/wiki/Spectral_clustering "
   ]
  },
  {
   "cell_type": "code",
   "execution_count": null,
   "metadata": {},
   "outputs": [],
   "source": [
    "import numpy as np\n",
    "import scipy.stats \n",
    "import matplotlib.pyplot as plt"
   ]
  },
  {
   "cell_type": "code",
   "execution_count": null,
   "metadata": {},
   "outputs": [],
   "source": [
    "N = 10\n",
    "A = np.random.rand(N,N)\n",
    "plt.matshow(A)"
   ]
  },
  {
   "cell_type": "markdown",
   "metadata": {},
   "source": [
    "Get a tailor made example matrix"
   ]
  },
  {
   "cell_type": "code",
   "execution_count": null,
   "metadata": {},
   "outputs": [],
   "source": [
    "k = np.ones(N,dtype=int)\n",
    "k[:N//2]=0\n",
    "k =np.random.permutation(k)\n",
    "\n",
    "Q = scipy.stats.ortho_group.rvs(N)\n",
    "A = Q[:,k]+1e-3*np.random.rand(N,N)\n",
    "# add a small random amtrix to avoid two eigenvalues with 0 and make eigenvector unique"
   ]
  },
  {
   "cell_type": "code",
   "execution_count": null,
   "metadata": {},
   "outputs": [],
   "source": [
    "plt.matshow(A.T@A)"
   ]
  },
  {
   "cell_type": "code",
   "execution_count": null,
   "metadata": {},
   "outputs": [],
   "source": [
    "# Caclulate Laplacian\n",
    "L = -np.abs(A.T@A) # use A@A.T if one wants to resort rows\n",
    "# Set diagonal\n",
    "np.fill_diagonal(L,0)\n",
    "np.fill_diagonal(L,-np.sum(L,axis=0))\n",
    "\n",
    "#normalize L\n",
    "d = np.sqrt(1/np.diag(L))\n",
    "L = d.reshape(1,-1)*L*d.reshape(-1,1)"
   ]
  },
  {
   "cell_type": "code",
   "execution_count": null,
   "metadata": {},
   "outputs": [],
   "source": [
    "plt.matshow(L)"
   ]
  },
  {
   "cell_type": "code",
   "execution_count": null,
   "metadata": {},
   "outputs": [],
   "source": [
    "w, v = np.linalg.eig(L)"
   ]
  },
  {
   "cell_type": "markdown",
   "metadata": {},
   "source": [
    "We need to sort the eigenvalues and eigenvectors"
   ]
  },
  {
   "cell_type": "code",
   "execution_count": null,
   "metadata": {},
   "outputs": [],
   "source": [
    "o = np.argsort(w.real)\n",
    "v = v[:,o]\n",
    "w[o]"
   ]
  },
  {
   "cell_type": "markdown",
   "metadata": {},
   "source": [
    "Extract the second eigenvalue"
   ]
  },
  {
   "cell_type": "code",
   "execution_count": null,
   "metadata": {},
   "outputs": [],
   "source": [
    "v[:,1]"
   ]
  },
  {
   "cell_type": "markdown",
   "metadata": {},
   "source": [
    "Get a new permutation by ordering the elements of the eigenvalue"
   ]
  },
  {
   "cell_type": "code",
   "execution_count": null,
   "metadata": {},
   "outputs": [],
   "source": [
    "p = np.argsort(v[:,1])"
   ]
  },
  {
   "cell_type": "code",
   "execution_count": null,
   "metadata": {},
   "outputs": [],
   "source": [
    "v[:,1][p]"
   ]
  },
  {
   "cell_type": "code",
   "execution_count": null,
   "metadata": {},
   "outputs": [],
   "source": [
    "#resort collumns\n",
    "plt.matshow(np.abs(A[:,p].T@A[:,p]))"
   ]
  },
  {
   "cell_type": "code",
   "execution_count": null,
   "metadata": {},
   "outputs": [],
   "source": [
    "def segment_matrix(A,normalize = True):\n",
    "    \"\"\"\n",
    "    Matrix \n",
    "    \n",
    "    returns\n",
    "        s: boolena vector, True if collumn in second part \n",
    "    \"\"\"\n",
    "    \n",
    "    # Caclulate Laplacian\n",
    "    L = -np.abs(A.T@A) \n",
    "    # Set diagonal\n",
    "    np.fill_diagonal(L,0)\n",
    "    np.fill_diagonal(L,-np.sum(L,axis=0))\n",
    "\n",
    "    if normalize:\n",
    "        #normalize L\n",
    "        d = np.sqrt(1/np.diag(L))\n",
    "        L = d.reshape(1,-1)*L*d.reshape(-1,1)\n",
    "        \n",
    "\n",
    "    w, v = np.linalg.eig(L)\n",
    "\n",
    "    #order eigenvalues\n",
    "    o = np.argsort(w.real)\n",
    "    v = v[:,o]\n",
    "    print(\"Eigenvalues:\",w[o])\n",
    "    print(\"Fiedler-Vector\",v[:,1])\n",
    "        \n",
    "    return v[:,1].real>0"
   ]
  },
  {
   "cell_type": "code",
   "execution_count": null,
   "metadata": {},
   "outputs": [],
   "source": [
    "b = segment_matrix(A)\n",
    "p = np.argsort(b)\n",
    "\n",
    "plt.matshow(np.abs(A[:,p].T@A[:,p]))"
   ]
  },
  {
   "cell_type": "code",
   "execution_count": null,
   "metadata": {},
   "outputs": [],
   "source": [
    "b"
   ]
  },
  {
   "cell_type": "code",
   "execution_count": null,
   "metadata": {},
   "outputs": [],
   "source": [
    "p"
   ]
  },
  {
   "cell_type": "code",
   "execution_count": null,
   "metadata": {},
   "outputs": [],
   "source": [
    "B = A.T\n",
    "\n",
    "b = segment_matrix(B.T)\n",
    "p = np.argsort(b)\n",
    "\n",
    "plt.matshow(np.abs(B[p,:]@B[p,:].T))"
   ]
  },
  {
   "cell_type": "markdown",
   "metadata": {},
   "source": [
    "create more advanced matrix so split horizontaly and vertically"
   ]
  },
  {
   "cell_type": "code",
   "execution_count": null,
   "metadata": {},
   "outputs": [],
   "source": [
    "N = 6\n",
    "\n",
    "U_a =scipy.stats.ortho_group.rvs(N)\n",
    "Vt_a=scipy.stats.ortho_group.rvs(N)\n",
    "\n",
    "U_b =scipy.stats.ortho_group.rvs(N)\n",
    "Vt_b=scipy.stats.ortho_group.rvs(N)\n",
    "\n",
    "A = np.block(\n",
    "    [\n",
    "        [U_a[:,:1]@Vt_a[ :1,:], U_a[:,1:2]@Vt_b[ :1,:]],\n",
    "        [U_b[:,:1]@Vt_a[1:2,:], U_b[:,1:2]@Vt_b[1:2,:]]\n",
    "    ]\n",
    ")\n",
    "\n",
    "plt.matshow(A)\n",
    "\n",
    "k= np.arange(N*2)\n",
    "k_col =np.random.permutation(k)\n",
    "k_row =np.random.permutation(k)\n",
    "ik_row =np.argsort(k_row)\n",
    "ik_col =np.argsort(k_col)\n",
    "\n",
    "A = A[k_row,:][:,k_col]\n",
    "plt.matshow(A)"
   ]
  },
  {
   "cell_type": "code",
   "execution_count": null,
   "metadata": {},
   "outputs": [],
   "source": [
    "# check if we can reverse the permutation\n",
    "k_row[ik_row]"
   ]
  },
  {
   "cell_type": "code",
   "execution_count": null,
   "metadata": {},
   "outputs": [],
   "source": [
    "s_col = segment_matrix(A)\n",
    "s_row = segment_matrix(A.T)"
   ]
  },
  {
   "cell_type": "markdown",
   "metadata": {},
   "source": [
    "Now check if we get beack the original segmentation: Thsi means that all the True and False values are grouped after we undo the permutation"
   ]
  },
  {
   "cell_type": "code",
   "execution_count": null,
   "metadata": {},
   "outputs": [],
   "source": [
    "s_col[ik_col]"
   ]
  },
  {
   "cell_type": "code",
   "execution_count": null,
   "metadata": {},
   "outputs": [],
   "source": [
    "s_row[ik_row]"
   ]
  },
  {
   "cell_type": "code",
   "execution_count": null,
   "metadata": {},
   "outputs": [],
   "source": []
  }
 ],
 "metadata": {
  "kernelspec": {
   "display_name": "Python 3",
   "language": "python",
   "name": "python3"
  },
  "language_info": {
   "codemirror_mode": {
    "name": "ipython",
    "version": 3
   },
   "file_extension": ".py",
   "mimetype": "text/x-python",
   "name": "python",
   "nbconvert_exporter": "python",
   "pygments_lexer": "ipython3",
   "version": "3.7.12"
  }
 },
 "nbformat": 4,
 "nbformat_minor": 4
}
