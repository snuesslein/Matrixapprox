{
 "cells": [
  {
   "cell_type": "markdown",
   "metadata": {},
   "source": [
    "# Sundivide $D$\n",
    "\n",
    "Notebook to optimize \n",
    "\n",
    "$$f(s_r,s_c)= \\|H_a\\|_* + \\|H_b\\|_*$$\n",
    "\n",
    "Where $s_c$ and $s_r$ are vectors that determine if a column/row of $D$ is in the set $a$ or in the set $b$.\n",
    "The matrices $H_a$ and $H_b$ \n"
   ]
  },
  {
   "cell_type": "code",
   "execution_count": null,
   "metadata": {},
   "outputs": [],
   "source": [
    "import numpy as np\n",
    "import matplotlib.pyplot as plt\n",
    "from scipy.linalg import block_diag\n",
    "from scipy.linalg import svdvals"
   ]
  },
  {
   "cell_type": "code",
   "execution_count": null,
   "metadata": {},
   "outputs": [],
   "source": [
    "def segment_matrix(A,normalize = True):\n",
    "    \"\"\"\n",
    "    Matrix segemtation using spectral clustering\n",
    "    \n",
    "    returns\n",
    "        s: boolena vector, True if collumn in second part \n",
    "    \"\"\"\n",
    "    \n",
    "    # Caclulate Laplacian\n",
    "    L = -np.abs(A.T@A) \n",
    "    # Set diagonal\n",
    "    np.fill_diagonal(L,0)\n",
    "    np.fill_diagonal(L,-np.sum(L,axis=0))\n",
    "\n",
    "    if normalize:\n",
    "        #normalize L\n",
    "        d = np.sqrt(1/np.diag(L))\n",
    "        L = d.reshape(1,-1)*L*d.reshape(-1,1)\n",
    "        \n",
    "\n",
    "    w, v = np.linalg.eig(L)\n",
    "\n",
    "    #order eigenvalues\n",
    "    o = np.argsort(w.real)\n",
    "    v = v[:,o]\n",
    "\n",
    "    return v[:,1].real>0\n",
    "\n",
    "def get_initial(A):\n",
    "    s_col = segment_matrix(A)\n",
    "    s_row = segment_matrix(A.T)\n",
    "    \n",
    "    return (s_col,s_row)"
   ]
  },
  {
   "cell_type": "code",
   "execution_count": null,
   "metadata": {},
   "outputs": [],
   "source": [
    "def norm_add(U,s,Vt,c):\n",
    "    m = U.T@c\n",
    "    p = c-U@m\n",
    "    K = np.block([[np.diag(s),m.reshape(-1,1)],[np.zeros((1,len(s))),np.linalg.norm(p)]])\n",
    "    return np.sum(svdvals(K,overwrite_a=True,check_finite=False))\n",
    "\n",
    "def norm_remove(U,s,Vt,c,i_c):\n",
    "    b = np.zeros(Vt.shape[1])\n",
    "    b[i_c]=-1\n",
    "    m = U.T@c\n",
    "    p = c-U@m\n",
    "    n = Vt@b#n = Vt[:,i_c]\n",
    "    q = b-Vt.T@n\n",
    "\n",
    "    u = np.hstack([m,np.linalg.norm(p)])\n",
    "    v = np.hstack([n,np.linalg.norm(q)])\n",
    "    \n",
    "    K = u.reshape(-1,1)@v.reshape(1,-1)\n",
    "    np.fill_diagonal(K, u*v+np.hstack([s,0]))\n",
    "    #K = np.diag(np.hstack([s,0]))+u.reshape(-1,1)@v.reshape(1,-1)\n",
    "    \n",
    "    return np.linalg.norm(K,'nuc')#np.sum(svdvals(K,overwrite_a=True,check_finite=False))\n",
    "\n",
    "def get_f_change(Ua,sa,Vta,Ub,sb,Vtb,Ma,Mb,v):\n",
    "    \"\"\"\n",
    "    We have the matriies:\n",
    "    M = [Ma \\\\ Mb]\n",
    "    \n",
    "    \n",
    "    And a bolena vector v, that determines the indexing\n",
    "    \n",
    "    f(v) = ||Ma[:,v]||_* + ||Mb[:,not(v)]||_*\n",
    "    \n",
    "    This function computes f(v) for the vectors v' where the i-th element of v is inverted\n",
    "    \n",
    "    The svd of Ma and Mb are given\n",
    "    \n",
    "    Ua,sa,Vta = svd(Ma[:,v])\n",
    "    Ub,sb,Vtb = svd(Mb[:,not(v)])\n",
    "    \n",
    "    It is also possible to add column that are not subject to change. \n",
    "    These have to be added at the end to keep the indexing consistent\n",
    "    \n",
    "    \n",
    "    \"\"\"\n",
    "    f_change = np.zeros(len(v))\n",
    "    i_a = 0 #indices to get where the column is if we try to remove it\n",
    "    i_b = 0\n",
    "    for i in range(len(v)):\n",
    "        if v[i]: #collumn is in set a\n",
    "            f_change[i]= norm_add(Ub,sb,Vtb,Mb[:,i]) + norm_remove(Ua,sa,Vta,Ma[:,i],i_a)\n",
    "            i_a += 1 \n",
    "        else:\n",
    "            f_change[i]= norm_add(Ua,sa,Vta,Ma[:,i]) + norm_remove(Ub,sb,Vtb,Mb[:,i],i_b)\n",
    "            i_b += 1\n",
    "    return f_change\n"
   ]
  },
  {
   "cell_type": "code",
   "execution_count": null,
   "metadata": {},
   "outputs": [],
   "source": [
    "def f(Ma,Mb,v):\n",
    "    \"\"\"\n",
    "    We have the matriies:\n",
    "    M = [Ma \\\\ Mb]\n",
    "    \n",
    "    \n",
    "    And a bolena vector v, that determines the indexing\n",
    "    \n",
    "    f(v) = ||Ma[:,v]||_* + ||Mb[:,not(v)]||_*\n",
    "    \n",
    "    \n",
    "    \"\"\"\n",
    "    return np.linalg.norm(Ma[:,v],'nuc')+np.linalg.norm(Mb[:,~v],'nuc')"
   ]
  },
  {
   "cell_type": "code",
   "execution_count": null,
   "metadata": {},
   "outputs": [],
   "source": [
    "#some tests:\n",
    "\n",
    "N = 8\n",
    "M = 7\n",
    "A = np.random.rand(N,M)\n",
    "\n",
    "#cut out some collumn that we can add back later\n",
    "ind_b = np.ones(M,dtype=bool)\n",
    "i = 4\n",
    "ind_b[i] = False\n",
    "\n",
    "U,s,Vt = np.linalg.svd(A[:,ind_b],full_matrices=False) \n",
    "print(norm_add(U,s,Vt,A[:,i])-np.linalg.norm(A,'nuc'))\n",
    "\n",
    "#now do the inverse\n",
    "U,s,Vt = np.linalg.svd(A,full_matrices=False) \n",
    "print(norm_remove(U,s,Vt,A[:,i],i)-np.linalg.norm(A[:,ind_b],'nuc'))\n",
    "\n",
    "#now change test the second function\n",
    "Ma = A[:4]\n",
    "Mb = A[4:]\n",
    "\n",
    "v = np.ones(M,dtype=bool)\n",
    "v[:3]=0\n",
    "\n",
    "Ua,sa,Vta = np.linalg.svd(Ma[:,v],full_matrices=False) \n",
    "Ub,sb,Vtb = np.linalg.svd(Mb[:,~v],full_matrices=False) \n",
    "\n",
    "f_ch = get_f_change(Ua,sa,Vta,Ub,sb,Vtb,Ma,Mb,v)\n",
    "for i in range(len(v)):\n",
    "    v_prime = v.copy()\n",
    "    v_prime[i] = not v_prime[i]\n",
    "    print(np.linalg.norm(Ma[:,v_prime],'nuc')+np.linalg.norm(Mb[:,~v_prime],'nuc')-f_ch[i])"
   ]
  },
  {
   "cell_type": "code",
   "execution_count": null,
   "metadata": {},
   "outputs": [],
   "source": [
    "N = 8\n",
    "M = 10\n",
    "A = np.random.rand(N,M)\n"
   ]
  },
  {
   "cell_type": "code",
   "execution_count": null,
   "metadata": {},
   "outputs": [],
   "source": [
    "s_col,s_row = get_initial(A)\n",
    "print(s_col)\n",
    "print(s_row)"
   ]
  },
  {
   "cell_type": "code",
   "execution_count": null,
   "metadata": {},
   "outputs": [],
   "source": [
    "Ma = A[s_row]\n",
    "Mb = A[~s_row]\n",
    "\n",
    "f_start = f(Ma,Mb,s_col)\n",
    "\n",
    "print(\"start f(v)=\",f_start)\n",
    "Ua,sa,Vta = np.linalg.svd(Ma[:,s_col],full_matrices=False) \n",
    "Ub,sb,Vtb = np.linalg.svd(Mb[:,~s_col],full_matrices=False) \n",
    "fs = get_f_change(Ua,sa,Vta,Ub,sb,Vtb,Ma,Mb,s_col)\n",
    "fs-f_start"
   ]
  },
  {
   "cell_type": "code",
   "execution_count": null,
   "metadata": {},
   "outputs": [],
   "source": [
    "#transposed problem\n",
    "Mat = A.T[s_col]\n",
    "Mbt = A.T[~s_col]\n",
    "\n",
    "fst = get_f_change(Vta.T,sa,Ua.T,Vtb.T,sb,Ub.T,Mat,Mbt,s_row)\n",
    "fst-f_start"
   ]
  },
  {
   "cell_type": "code",
   "execution_count": null,
   "metadata": {},
   "outputs": [],
   "source": [
    "n_neg = np.count_nonzero(fs<f_start)\n",
    "ordering = np.argsort(fs)\n",
    "n_neg_a = np.count_nonzero(s_col[ordering[:n_neg]])\n",
    "n_neg_b = n_neg-n_neg_a\n",
    "n_flip = min(n_neg_a,n_neg_b)\n",
    "flip_a=ordering[s_col[ordering]][:n_flip]\n",
    "flip_b=ordering[~s_col[ordering]][:n_flip]\n",
    "print(\"n_flip\",n_flip)\n",
    "print(\"flipa\",flip_a)\n",
    "print(\"flipb\",flip_b)\n",
    "print(fs[flip_a]-f_start)\n",
    "print(fs[flip_b]-f_start)\n",
    "s_col[flip_a] = False\n",
    "s_col[flip_b] = True"
   ]
  },
  {
   "cell_type": "code",
   "execution_count": null,
   "metadata": {},
   "outputs": [],
   "source": [
    "n_neg = np.count_nonzero(fst<f_start)\n",
    "ordering = np.argsort(fst)\n",
    "n_neg_a = np.count_nonzero(s_row[ordering[:n_neg]])\n",
    "n_neg_b = n_neg-n_neg_a\n",
    "n_flip = min(n_neg_a,n_neg_b)\n",
    "flip_a=ordering[s_row[ordering]][:n_flip]\n",
    "flip_b=ordering[~s_row[ordering]][:n_flip]\n",
    "print(\"n_flip\",n_flip)\n",
    "print(\"flipa\",flip_a)\n",
    "print(\"flipb\",flip_b)\n",
    "print(fst[flip_a]-f_start)\n",
    "print(fst[flip_b]-f_start)\n",
    "s_row[flip_a] = False\n",
    "s_row[flip_b] = True"
   ]
  },
  {
   "cell_type": "code",
   "execution_count": null,
   "metadata": {},
   "outputs": [],
   "source": [
    "s_col"
   ]
  },
  {
   "cell_type": "code",
   "execution_count": null,
   "metadata": {},
   "outputs": [],
   "source": [
    "s_row"
   ]
  },
  {
   "cell_type": "markdown",
   "metadata": {},
   "source": [
    "## Combine them to algorithm"
   ]
  },
  {
   "cell_type": "code",
   "execution_count": null,
   "metadata": {},
   "outputs": [],
   "source": [
    "A = np.random.rand(100,120)\n",
    "\n",
    "f_base = np.linalg.norm(A[:A.shape[0]//2,:A.shape[1]//2],'nuc') \\\n",
    "    +np.linalg.norm(A[A.shape[0]//2:,A.shape[1]//2:],'nuc')\n",
    "print(f_base)"
   ]
  },
  {
   "cell_type": "code",
   "execution_count": null,
   "metadata": {},
   "outputs": [],
   "source": [
    "N = 50\n",
    "\n",
    "\n",
    "fs_list = np.zeros(N+1)\n",
    "s_cols=np.zeros((N+1,A.shape[1])) \n",
    "s_rows=np.zeros((N+1,A.shape[0])) \n",
    "\n",
    "\n",
    "s_col,s_row = get_initial(A)\n",
    "Ma = A[s_row]\n",
    "Mb = A[~s_row]\n",
    "\n",
    "fs_list[0] = f(Ma,Mb,s_col)\n",
    "s_cols[0]=s_col\n",
    "s_rows[0]=s_row\n",
    "\n",
    "\n",
    "for n in range(N):\n",
    "    Ma = A[s_row]\n",
    "    Mb = A[~s_row]\n",
    "\n",
    "    f_ref = f(Ma,Mb,s_col)\n",
    "\n",
    "\n",
    "    \n",
    "    Ua,sa,Vta = np.linalg.svd(Ma[:,s_col],full_matrices=False) \n",
    "    Ub,sb,Vtb = np.linalg.svd(Mb[:,~s_col],full_matrices=False) \n",
    "    fs = get_f_change(Ua,sa,Vta,Ub,sb,Vtb,Ma,Mb,s_col)\n",
    "\n",
    "\n",
    "    #transposed problem\n",
    "    Mat = A.T[s_col]\n",
    "    Mbt = A.T[~s_col]\n",
    "    fst = get_f_change(Vta.T,sa,Ua.T,Vtb.T,sb,Ub.T,Mat,Mbt,s_row)\n",
    "\n",
    "    #flip some columns\n",
    "    n_neg = np.count_nonzero(fs<f_ref)\n",
    "    ordering = np.argsort(fs)\n",
    "    n_neg_a = np.count_nonzero(s_col[ordering[:n_neg]])\n",
    "    n_neg_b = n_neg-n_neg_a\n",
    "    n_flip_c = min(n_neg_a,n_neg_b)\n",
    "    flip_a=ordering[s_col[ordering]][:n_flip_c]\n",
    "    flip_b=ordering[~s_col[ordering]][:n_flip_c]\n",
    "\n",
    "    s_col[flip_a] = False\n",
    "    s_col[flip_b] = True\n",
    "\n",
    "\n",
    "    #flip some rows\n",
    "    n_neg = np.count_nonzero(fst<f_ref)\n",
    "    ordering = np.argsort(fst)\n",
    "    n_neg_a = np.count_nonzero(s_row[ordering[:n_neg]])\n",
    "    n_neg_b = n_neg-n_neg_a\n",
    "    n_flip_r = min(n_neg_a,n_neg_b)\n",
    "    flip_a=ordering[s_row[ordering]][:n_flip_r]\n",
    "    flip_b=ordering[~s_row[ordering]][:n_flip_r]\n",
    "\n",
    "    s_row[flip_a] = False\n",
    "    s_row[flip_b] = True\n",
    "    \n",
    "    fs_list[n+1] = f(Ma,Mb,s_col)\n",
    "    s_cols[n+1]=s_col\n",
    "    s_rows[n+1]=s_row\n",
    "    \n",
    "    if n_flip_r==0 and n_flip_c==0:\n",
    "        break\n",
    "print(n)"
   ]
  },
  {
   "cell_type": "code",
   "execution_count": null,
   "metadata": {},
   "outputs": [],
   "source": [
    "plt.plot(fs_list)\n",
    "plt.hlines(f_base,0,n+1)"
   ]
  },
  {
   "cell_type": "code",
   "execution_count": null,
   "metadata": {},
   "outputs": [],
   "source": [
    "plt.spy(s_cols[:n])"
   ]
  },
  {
   "cell_type": "code",
   "execution_count": null,
   "metadata": {},
   "outputs": [],
   "source": [
    "plt.spy(s_rows[:n])"
   ]
  },
  {
   "cell_type": "code",
   "execution_count": null,
   "metadata": {},
   "outputs": [],
   "source": [
    "np.count_nonzero(s_col)"
   ]
  },
  {
   "cell_type": "code",
   "execution_count": null,
   "metadata": {},
   "outputs": [],
   "source": [
    "np.count_nonzero(s_row)"
   ]
  },
  {
   "cell_type": "raw",
   "metadata": {},
   "source": [
    "s_col[fs<f_start]  = ~s_col[fs<f_start]"
   ]
  },
  {
   "cell_type": "raw",
   "metadata": {},
   "source": [
    "s_row[fst<f_start] = ~s_row[fst<f_start]"
   ]
  }
 ],
 "metadata": {
  "kernelspec": {
   "display_name": "Python 3",
   "language": "python",
   "name": "python3"
  },
  "language_info": {
   "codemirror_mode": {
    "name": "ipython",
    "version": 3
   },
   "file_extension": ".py",
   "mimetype": "text/x-python",
   "name": "python",
   "nbconvert_exporter": "python",
   "pygments_lexer": "ipython3",
   "version": "3.7.12"
  }
 },
 "nbformat": 4,
 "nbformat_minor": 4
}
