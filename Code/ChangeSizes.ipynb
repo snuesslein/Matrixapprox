{
 "cells": [
  {
   "cell_type": "markdown",
   "metadata": {},
   "source": [
    "# Change Sizes\n",
    "Notebook to test how to change the input and output dimentions of an aredy existing system.\n",
    "This should be done without a totoal recomputation\n",
    "\n",
    "For now we will ignore the impact on the states and the rank....\n",
    "\n",
    "We will also only describe a causal system, and all elements not contained in the original matrix are considerd 0 \n",
    "(Need to change this aferwards, as this could set all elemnts to)"
   ]
  },
  {
   "cell_type": "code",
   "execution_count": null,
   "metadata": {},
   "outputs": [],
   "source": [
    "from tvsclib.strict_system import StrictSystem\n",
    "from tvsclib.stage import Stage\n",
    "from tvsclib.system_identification_svd import SystemIdentificationSVD\n",
    "from tvsclib.toeplitz_operator import ToeplitzOperator\n",
    "from tvsclib.mixed_system import MixedSystem\n",
    "import numpy as np\n",
    "import matplotlib.pyplot as plt\n",
    "import scipy.linalg as linalg"
   ]
  },
  {
   "cell_type": "markdown",
   "metadata": {},
   "source": [
    "## Some code to test code\n",
    "\n",
    "Show system displays the represented matrix and the boundaries.\n",
    "\n",
    "Check dims checks if the matrix sizes for A,B,C and D fit together"
   ]
  },
  {
   "cell_type": "code",
   "execution_count": null,
   "metadata": {},
   "outputs": [],
   "source": [
    "def show_system(system):\n",
    "    #function that uses matshow to display the resulting matrix and also shows the divisions\n",
    "    mat = system.to_matrix()\n",
    "    plt.matshow(mat)\n",
    "    x=-0.5\n",
    "    y=-0.5\n",
    "    for st in system.stages:\n",
    "        x+=st.dim_in\n",
    "        plt.hlines(y,-0.5,x)\n",
    "        plt.vlines(x,y,mat.shape[0]-0.5)\n",
    "        y+=st.dim_out\n",
    "                   \n",
    "        \n",
    "\n",
    "def check_dims(system,dim_state_in=0,dim_state_out=0,text_output=True,return_report=False):\n",
    "    rep = \"\"\n",
    "    correct = True\n",
    "    dim_state = dim_state_in\n",
    "    for i,st in enumerate(system.stages):\n",
    "        #check if the state input is correct for A and C\n",
    "        if st.A_matrix.shape[1] != dim_state:\n",
    "            correct = False\n",
    "            rep = rep + \"Problem at index \"+str(i)+\": State dims of A do not match: old:\"+str(dim_state)+ \\\n",
    "                  \" new: \"+str(st.A_matrix.shape[1])+\"\\n\"\n",
    "        if st.C_matrix.shape[1] != dim_state:\n",
    "            correct = False\n",
    "            rep = rep + \"Problem at index \"+str(i)+\": State dims of C do not match: old:\"+str(dim_state)+ \\\n",
    "                  \" new: \"+str(st.C_matrix.shape[1])+\"\\n\"\n",
    "            \n",
    "        #check if the state output of A and B match\n",
    "        dim_state = st.A_matrix.shape[0]\n",
    "        if st.B_matrix.shape[0] != dim_state:\n",
    "            correct = False\n",
    "            rep = rep + \"Problem at index \"+str(i)+\": State dims of A and B do not match: A:\"+str(dim_state)+ \\\n",
    "                  \"B: \"+str(st.B_matrix.shape[0]) + \"\\n\"\n",
    "            \n",
    "        #check if the input dims match\n",
    "        if st.B_matrix.shape[1] != st.D_matrix.shape[1]:\n",
    "            correct = False\n",
    "            rep = rep + \"Problem at index \"+str(i)+\": Input dims of B and D do not match: B:\"+str(st.B_matrix.shape[1])+ \\\n",
    "                  \"D: \"+str(st.D_matrix.shape[1]) +\"\\n\"\n",
    "        \n",
    "        #check if the output states match\n",
    "        if st.C_matrix.shape[0] != st.D_matrix.shape[0]:\n",
    "            correct = False\n",
    "            rep = rep + \"Problem at index \"+str(i)+\": Output dims of C and D do not match: C:\"+str(st.C_matrix.shape[0])+ \\\n",
    "                  \"D: \"+str(st.D_matrix.shape[0]) +\"\\n\"\n",
    "    if dim_state != dim_state_out:\n",
    "        correct = False\n",
    "        rep = rep + \"final state dim does not match\"\n",
    "    if text_output:\n",
    "        if correct:\n",
    "            print(\"Matrix shapes are correct\")\n",
    "        else:\n",
    "            print(\"Matrix shapes are not correct\")\n",
    "            print(rep)\n",
    "    if return_report:\n",
    "        return correct,rep\n",
    "    else:\n",
    "        return correct\n"
   ]
  },
  {
   "cell_type": "code",
   "execution_count": null,
   "metadata": {},
   "outputs": [],
   "source": [
    "#check_dims(system,return_report=True,text_output=False)\n",
    "#show_system(system)"
   ]
  },
  {
   "cell_type": "code",
   "execution_count": null,
   "metadata": {},
   "outputs": [],
   "source": [
    "#system.reachability_matricies()"
   ]
  },
  {
   "cell_type": "markdown",
   "metadata": {},
   "source": [
    "# Move to left\n",
    "\n",
    "Moving one bopundary to the left\n",
    "\n",
    "This requires the following:\n",
    "- Cut one collumn from $D_v$\n",
    "- Add the right collumn form $C_{v+1}B_v$ to $D_{v+1}$ \n",
    "- Cut one column from $B_v$\n",
    "- Add the rightmoust collumn of $A_{v+1}B_v$ to $B_{v+1}$ (basically just make sure that it will result in the same state after the timestep $v+1$)"
   ]
  },
  {
   "cell_type": "code",
   "execution_count": null,
   "metadata": {},
   "outputs": [],
   "source": [
    "def move_left(sys,v):\n",
    "    #function to move a boundary left \n",
    "    #v is the index to the left of the boundary\n",
    "    \n",
    "    #set the appropirate D_v\n",
    "    sys.stages[v].D_matrix=sys.stages[v].D_matrix[:,:-1]\n",
    "    #extract last collumn of B_v\n",
    "    col = sys.stages[v].B_matrix[:,-1].reshape((-1,1))\n",
    "    sys.stages[v].B_matrix = sys.stages[v].B_matrix[:,:-1]\n",
    "    #set the appropriate D_v+1\n",
    "    sys.stages[v+1].D_matrix=np.hstack((sys.stages[v+1].C_matrix@col,sys.stages[v+1].D_matrix))\n",
    "    sys.stages[v+1].B_matrix=np.hstack((sys.stages[v+1].A_matrix@col,sys.stages[v+1].B_matrix))\n",
    "    \n",
    "    #make it minimal if nececarry\n",
    "    U,s,Vt= np.linalg.svd(np.hstack((sys.stages[v].A_matrix,sys.stages[v].B_matrix)),full_matrices=False)\n",
    "    display(s)\n",
    "    tol = 1e-13\n",
    "\n",
    "    if abs(s[-1])<tol:\n",
    "        #not full rank-> not minimal -> reduce dimentions\n",
    "        print('remove')\n",
    "        sys.stages[v].A_matrix = Vt[:-1,:sys.stages[v].A_matrix.shape[1]]*s[:-1]#TODO: check these multiplications\n",
    "        sys.stages[v].B_matrix = Vt[:-1,sys.stages[v].A_matrix.shape[1]:]*s[:-1]\n",
    "        \n",
    "        sys.stages[v+1].A_matrix=sys.stages[v+1].A_matrix@U[:,:-1]\n",
    "        sys.stages[v+1].C_matrix=sys.stages[v+1].C_matrix@U[:,:-1]"
   ]
  },
  {
   "cell_type": "markdown",
   "metadata": {},
   "source": [
    "# Move down\n",
    "\n",
    "Moving one bopundary to the left\n",
    "\n",
    "This requires the following:\n",
    "- Cut one row from $D_{v+1}$\n",
    "- Add the upper row form $C_{v+1}B_{v}$ to $D_{v}$ \n",
    "- Cut upper row from $C_{v+1}$\n",
    "- Add the uppermost collumn of $C_{v+1}A_v$ to $C_{v}$ "
   ]
  },
  {
   "cell_type": "code",
   "execution_count": null,
   "metadata": {},
   "outputs": [],
   "source": [
    "def move_down(sys,v):\n",
    "    #function to move a boundary down\n",
    "    #v is the index above of the boundary\n",
    "    \n",
    "    #cot row of D_v+1\n",
    "    sys.stages[v+1].D_matrix=sys.stages[v+1].D_matrix[1:,:]\n",
    "    #extract first row of C_v+1\n",
    "    row = sys.stages[v+1].C_matrix[0,:].reshape((1,-1))\n",
    "    sys.stages[v+1].C_matrix = sys.stages[v+1].C_matrix[1:,:]\n",
    "    #set the appropriate D_v and C_v+1\n",
    "    sys.stages[v].D_matrix=np.vstack((sys.stages[v].D_matrix,row@sys.stages[v].B_matrix))\n",
    "    sys.stages[v].C_matrix=np.vstack((sys.stages[v].C_matrix,row@sys.stages[v].A_matrix))\n",
    "    \n",
    "    #make it minimal if nececarry\n",
    "    U,s,Vt= np.linalg.svd(np.vstack((sys.stages[v+1].A_matrix,sys.stages[v+1].C_matrix)),full_matrices=False)\n",
    "    display(U)\n",
    "    display(s)\n",
    "    display(Vt)\n",
    "    tol = 1e-13\n",
    "\n",
    "    if abs(s[-1])<tol:\n",
    "        #not full rank-> not minimal -> reduce dimentions\n",
    "        print('remove')\n",
    "        sys.stages[v+1].A_matrix = U[:sys.stages[v+1].A_matrix.shape[0],:-1]*s[:-1].reshape(-1,1)\n",
    "        sys.stages[v+1].C_matrix = U[sys.stages[v+1].A_matrix.shape[0]:,:-1]*s[:-1].reshape(-1,1)\n",
    "        \n",
    "        sys.stages[v].A_matrix=Vt[:-1,:]@sys.stages[v].A_matrix\n",
    "        sys.stages[v].B_matrix=Vt[:-1,:]@sys.stages[v].B_matrix\n",
    "        "
   ]
  },
  {
   "cell_type": "code",
   "execution_count": null,
   "metadata": {},
   "outputs": [],
   "source": [
    "def move_right(sys,v,d_new=None):\n",
    "    #function to move a boundary left \n",
    "    #v is the index to the left of the boundary\n",
    "    \n",
    "    #first collumn from B and D\n",
    "    b = sys.stages[v+1].B_matrix[:,0].reshape((-1,1))\n",
    "    d = sys.stages[v+1].D_matrix[:,0].reshape((-1,1))\n",
    "    \n",
    "    sys.stages[v+1].B_matrix=sys.stages[v+1].B_matrix[:,1:]\n",
    "    sys.stages[v+1].D_matrix=sys.stages[v+1].D_matrix[:,1:]\n",
    "    \n",
    "    #check if [d;b] in range(C_v+1;Av+1)\n",
    "    U,s,Vt= np.linalg.svd(np.vstack((sys.stages[v+1].C_matrix,sys.stages[v+1].A_matrix)),full_matrices=True)\n",
    "    eps = 1e-13\n",
    "    r = np.count_nonzero(s>=eps)\n",
    "    a = U.T@np.vstack((d,b))\n",
    "    print(\"r=\"+str(r))\n",
    "    display(a)\n",
    "    if np.any(np.abs(a[r:])>eps):\n",
    "        #not in range -> add a ned dimention to the state\n",
    "        sys.stages[v].B_matrix = np.block([\n",
    "            [sys.stages[v].B_matrix,np.zeros((sys.stages[v].B_matrix.shape[0],1))],\n",
    "            [np.zeros((1, sys.stages[v].B_matrix.shape[1])), 1     ]\n",
    "            ])\n",
    "        sys.stages[v].A_matrix = np.vstack((sys.stages[v].A_matrix,np.zeros((1,sys.stages[v].A_matrix.shape[1]))))\n",
    "        sys.stages[v+1].A_matrix = np.hstack((sys.stages[v+1].A_matrix,b))\n",
    "        sys.stages[v+1].C_matrix = np.hstack((sys.stages[v+1].C_matrix,d))\n",
    "        \n",
    "    else:\n",
    "        #in range -> no need for an additional dim\n",
    "        m = Vt.T[:,:r]@(a[:r].flatten()/s[:r])\n",
    "        print(\"m:\")\n",
    "        display(m)\n",
    "        sys.stages[v].B_matrix = np.hstack((sys.stages[v].B_matrix,m.reshape((-1,1))))\n",
    "    \n",
    "    #set the appropirate D_v\n",
    "    if not d_new:\n",
    "        d_new = np.zeros((sys.stages[v].D_matrix.shape[0],1))\n",
    "    sys.stages[v].D_matrix=np.hstack((sys.stages[v].D_matrix,d_new))\n",
    "    "
   ]
  },
  {
   "cell_type": "code",
   "execution_count": null,
   "metadata": {},
   "outputs": [],
   "source": [
    "def move_up(sys,v,d_new=None):\n",
    "    #function to move a boundary up\n",
    "    #v is the index above of the boundary\n",
    "    \n",
    "    #last row from C and D\n",
    "    c = sys.stages[v].C_matrix[-1,:].reshape((1,-1))\n",
    "    d = sys.stages[v].D_matrix[-1,:].reshape((1,-1))\n",
    "    \n",
    "    sys.stages[v].C_matrix=sys.stages[v].C_matrix[:-1,:]\n",
    "    sys.stages[v].D_matrix=sys.stages[v].D_matrix[:-1,:]\n",
    "    \n",
    "    #check if [d;c]^T in range(B_v;A_v)^T\n",
    "    U,s,Vt= np.linalg.svd(np.vstack((sys.stages[v].B_matrix.T,sys.stages[v].A_matrix.T)),full_matrices=True)\n",
    "    eps = 1e-13\n",
    "    r = np.count_nonzero(s>=eps)\n",
    "    a = U.T@np.vstack((d.T,c.T))\n",
    "    print(\"r=\"+str(r))\n",
    "    display(a)\n",
    "    if np.any(np.abs(a[r:])>eps):\n",
    "        #not in range -> add a ned dimention to the state\n",
    "        sys.stages[v+1].C_matrix = np.block([\n",
    "            [np.zeros((1, sys.stages[v+1].C_matrix.shape[1])), 1     ],\n",
    "            [sys.stages[v+1].C_matrix,np.zeros((sys.stages[v+1].C_matrix.shape[0],1))]\n",
    "            ])\n",
    "        sys.stages[v+1].A_matrix = np.hstack((sys.stages[v+1].A_matrix,np.zeros((sys.stages[v+1].A_matrix.shape[0],1))))\n",
    "        sys.stages[v].A_matrix = np.vstack((sys.stages[v].A_matrix,c))\n",
    "        sys.stages[v].B_matrix = np.vstack((sys.stages[v].B_matrix,d))\n",
    "        \n",
    "    else:\n",
    "        #in range -> no need for an additional dim\n",
    "        m = Vt.T[:,:r]@(a[:r].flatten()/s[:r])\n",
    "        print(\"m:\")\n",
    "        display(m)\n",
    "        sys.stages[v+1].C_matrix = np.vstack((m.reshape((1,-1)),sys.stages[v+1].C_matrix))\n",
    "    \n",
    "    #set the appropirate D_v\n",
    "    if not d_new:\n",
    "        d_new = np.zeros((1,sys.stages[v+1].D_matrix.shape[1]))\n",
    "    sys.stages[v+1].D_matrix=np.vstack((d_new,sys.stages[v+1].D_matrix))\n",
    "    "
   ]
  },
  {
   "cell_type": "markdown",
   "metadata": {},
   "source": [
    "## Test the mooves"
   ]
  },
  {
   "cell_type": "markdown",
   "metadata": {},
   "source": [
    "## Test them if state dims are constant\n",
    "\n",
    "The represented matrix is Rank 1. This means that the state is always 1-dim."
   ]
  },
  {
   "cell_type": "code",
   "execution_count": null,
   "metadata": {},
   "outputs": [],
   "source": [
    "matrix = np.arange(0,12).reshape((-1,1))@np.arange(0,12).reshape((1,-1))\n",
    "dims_in =  np.array([2, 1, 2, 1])*2\n",
    "dims_out = np.array([1, 2, 1, 2])*2\n",
    "T = ToeplitzOperator(matrix, dims_in, dims_out)\n",
    "S = SystemIdentificationSVD(T,epsilon=1e-12)\n",
    "\n",
    "system = MixedSystem(S).causal_system\n",
    "matrix_ref = system.to_matrix()\n",
    "show_system(system)"
   ]
  },
  {
   "cell_type": "code",
   "execution_count": null,
   "metadata": {},
   "outputs": [],
   "source": [
    "move_right(system,0)\n",
    "check_dims(system)\n",
    "display(system.dims_state)\n",
    "show_system(system)"
   ]
  },
  {
   "cell_type": "code",
   "execution_count": null,
   "metadata": {},
   "outputs": [],
   "source": [
    "move_left(system,0)\n",
    "check_dims(system)\n",
    "display(system.dims_state)\n",
    "show_system(system)\n",
    "\n",
    "print(\"Diff:\",np.max(np.abs(system.to_matrix()-matrix_ref)))"
   ]
  },
  {
   "cell_type": "code",
   "execution_count": null,
   "metadata": {},
   "outputs": [],
   "source": [
    "move_up(system,2)\n",
    "check_dims(system)\n",
    "display(system.dims_state)\n",
    "show_system(system)"
   ]
  },
  {
   "cell_type": "code",
   "execution_count": null,
   "metadata": {},
   "outputs": [],
   "source": [
    "move_down(system,2)\n",
    "check_dims(system)\n",
    "display(system.dims_state)\n",
    "show_system(system)\n",
    "\n",
    "print(\"Diff:\",np.max(np.abs(system.to_matrix()-matrix_ref)))"
   ]
  },
  {
   "cell_type": "markdown",
   "metadata": {},
   "source": [
    "## Check the shifts if the number of states changes"
   ]
  },
  {
   "cell_type": "code",
   "execution_count": null,
   "metadata": {},
   "outputs": [],
   "source": [
    "A = np.random.rand(12,12)\n",
    "Q,R = np.linalg.qr(A)\n",
    "\n",
    "\n",
    "matrix = np.zeros((12,12))\n",
    "matrix[:,:]=(Q[:,:4]@np.array([1,1,0,0])).reshape(-1,1)\n",
    "matrix[:,4:6]=(Q[:,:4]@np.array([1,1,0.1,0])).reshape(-1,1)\n",
    "#plt.imshow(matrix)\n",
    "\n",
    "\n",
    "dims_in =  np.array([2, 1, 2, 1])*2\n",
    "dims_out = np.array([1, 2, 1, 2])*2\n",
    "T = ToeplitzOperator(matrix, dims_in, dims_out)\n",
    "S = SystemIdentificationSVD(T,epsilon=1e-12)\n",
    "system = MixedSystem(S).causal_system\n",
    "\n",
    "matrix_ref = system.to_matrix()\n",
    "show_system(system)\n",
    "system.dims_state"
   ]
  },
  {
   "cell_type": "code",
   "execution_count": null,
   "metadata": {},
   "outputs": [],
   "source": [
    "move_right(system,0)\n",
    "check_dims(system)\n",
    "display(system.dims_state)\n",
    "show_system(system)"
   ]
  },
  {
   "cell_type": "code",
   "execution_count": null,
   "metadata": {},
   "outputs": [],
   "source": [
    "move_left(system,0)\n",
    "check_dims(system)\n",
    "display(system.dims_state)\n",
    "show_system(system)\n",
    "print(\"Diff:\",np.max(np.abs(system.to_matrix()-matrix_ref)))"
   ]
  },
  {
   "cell_type": "code",
   "execution_count": null,
   "metadata": {},
   "outputs": [],
   "source": [
    "A = np.random.rand(12,12)\n",
    "Q,R = np.linalg.qr(A)\n",
    "\n",
    "\n",
    "matrix = np.zeros((12,12))\n",
    "matrix[:,:]=(Q[:,:4]@np.array([1,1,0,0])).reshape(-1,1)\n",
    "matrix[:,4:6]=(Q[:,:4]@np.array([1,1,0.1,0])).reshape(-1,1)\n",
    "#plt.imshow(matrix)\n",
    "matrix = matrix.T\n",
    "\n",
    "dims_in =  np.array([2, 1, 2, 1])*2\n",
    "dims_out = np.array([1, 2, 1, 2])*2\n",
    "T = ToeplitzOperator(matrix, dims_in, dims_out)\n",
    "S = SystemIdentificationSVD(T,epsilon=1e-12)\n",
    "system = MixedSystem(S).causal_system\n",
    "\n",
    "matrix_ref = system.to_matrix()\n",
    "show_system(system)\n",
    "system.dims_state"
   ]
  },
  {
   "cell_type": "code",
   "execution_count": null,
   "metadata": {},
   "outputs": [],
   "source": [
    "move_up(system,1)\n",
    "check_dims(system)\n",
    "display(system.dims_state)\n",
    "show_system(system)"
   ]
  },
  {
   "cell_type": "code",
   "execution_count": null,
   "metadata": {},
   "outputs": [],
   "source": [
    "move_down(system,1)\n",
    "check_dims(system)\n",
    "display(system.dims_state)\n",
    "show_system(system)\n",
    "print(\"Diff:\",np.max(np.abs(system.to_matrix()-matrix_ref)))"
   ]
  },
  {
   "cell_type": "markdown",
   "metadata": {},
   "source": [
    "# Combine and Split"
   ]
  },
  {
   "cell_type": "code",
   "execution_count": null,
   "metadata": {},
   "outputs": [],
   "source": [
    "def combine(sys,v,D_new = 0):\n",
    "    #function that combnines the timestep v with the following timestep\n",
    "    if not D_new:\n",
    "        D_new=np.zeros((sys.stages[v].D_matrix.shape[0],sys.stages[v+1].D_matrix.shape[1]))\n",
    "    sys.stages[v].D_matrix= np.block([\n",
    "            [sys.stages[v].D_matrix                         , D_new    ],\n",
    "            [sys.stages[v+1].C_matrix@sys.stages[v].B_matrix,  sys.stages[v+1].D_matrix]\n",
    "            ])\n",
    "    sys.stages[v].B_matrix=np.hstack((sys.stages[v+1].A_matrix@sys.stages[v].B_matrix,sys.stages[v+1].B_matrix))\n",
    "    sys.stages[v].C_matrix=np.vstack((sys.stages[v].C_matrix,sys.stages[v+1].C_matrix@sys.stages[v].A_matrix))\n",
    "    sys.stages[v].A_matrix = sys.stages[v+1].A_matrix@sys.stages[v].A_matrix\n",
    "    \n",
    "    del sys.stages[v+1]\n",
    "    "
   ]
  },
  {
   "cell_type": "code",
   "execution_count": null,
   "metadata": {},
   "outputs": [],
   "source": [
    "def split(sys,v,indices=(-1,-1),tol = 5e-15):\n",
    "    #function that splits the timestep v in two timesteps\n",
    "    #the parameter indices determine how to split the output and input\n",
    "    #indices[0]: last row in the first step\n",
    "    #indices[1]: last collumn in the first timestep\n",
    "    \n",
    "    if indices[0]<0:\n",
    "        indices[0] = np.floor(sys.stages[v].D_matrix.shape[0]/2)\n",
    "    if indices[1]<0:\n",
    "        indices[1] = np.floor(sys.stages[v].D_matrix.shape[1]/2)        \n",
    "    \n",
    "    U,s,Vt= np.linalg.svd(np.block([\n",
    "            [sys.stages[v].A_matrix,sys.stages[v].B_matrix[:,:indices[1]]],\n",
    "            [sys.stages[v].C_matrix[indices[0]:,:],sys.stages[v].D_matrix[indices[0]:,:indices[1]]]\n",
    "            ]))\n",
    "    \n",
    "    n_in = sys.stages[v].A_matrix.shape[1] #dims of state bevore and after\n",
    "    n_out = sys.stages[v].A_matrix.shape[0]\n",
    "    display(s)\n",
    "    n = np.count_nonzero(s>tol)\n",
    "    print(\"n:\",n)\n",
    "    \n",
    "    rs = np.sqrt(s)\n",
    "    Us=U*rs\n",
    "    sVt=Vt*rs.reshape(-1,1)\n",
    "    stage_a=Stage(sVt[:n,:n_in],\n",
    "                  sVt[:n,n_in:],\n",
    "                  sys.stages[v].C_matrix[:indices[0],:],\n",
    "                  sys.stages[v].D_matrix[:indices[0],:indices[1]])\n",
    "    stage_b=Stage(Us[:n_out,:n],\n",
    "                  sys.stages[v].B_matrix[:,indices[1]:],\n",
    "                  Us[n_out:,:n],\n",
    "                  sys.stages[v].D_matrix[indices[0]:,indices[1]:])\n",
    "    \n",
    "    sys.stages.insert(v,stage_a)\n",
    "    sys.stages[v+1]=stage_b\n",
    "    "
   ]
  },
  {
   "cell_type": "code",
   "execution_count": null,
   "metadata": {},
   "outputs": [],
   "source": [
    "matrix = np.array([\n",
    "        [5,     4,     6,     1,     4,     2],\n",
    "        [2,     3,     2,     1,     3,     4],\n",
    "        [6,     3,     5,     4,     1,     1],\n",
    "        [3,     5,     5,     5,     3,     4],\n",
    "        [2,     4,     3,     6,     1,     2],\n",
    "        [2,     4,     4,     1,     5,     4]\n",
    "])\n",
    "matrix = np.vstack((np.hstack((matrix,matrix)),np.hstack((matrix,matrix))))\n",
    "\n",
    "dims_in =  np.array([2, 1, 2, 1])*2\n",
    "dims_out = np.array([1, 2, 1, 2])*2\n",
    "T = ToeplitzOperator(matrix, dims_in, dims_out)\n",
    "S = SystemIdentificationSVD(T,epsilon=1e-12)\n",
    "\n",
    "system = MixedSystem(S).causal_system\n"
   ]
  },
  {
   "cell_type": "code",
   "execution_count": null,
   "metadata": {},
   "outputs": [],
   "source": [
    "show_system(system)"
   ]
  },
  {
   "cell_type": "code",
   "execution_count": null,
   "metadata": {},
   "outputs": [],
   "source": [
    "combine(system,1)\n",
    "check_dims(system)\n",
    "display(system.dims_state)\n",
    "show_system(system)"
   ]
  },
  {
   "cell_type": "code",
   "execution_count": null,
   "metadata": {},
   "outputs": [],
   "source": [
    "split(system,1,indices=(4,2))\n",
    "check_dims(system)\n",
    "display(system.dims_state)\n",
    "show_system(system)"
   ]
  },
  {
   "cell_type": "markdown",
   "metadata": {},
   "source": [
    "Make a rank1 matrix and add an off point to make the rank change, if it is included."
   ]
  },
  {
   "cell_type": "code",
   "execution_count": null,
   "metadata": {},
   "outputs": [],
   "source": [
    "matrix = np.arange(0,12).reshape((-1,1))@np.arange(0,12).reshape((1,-1))\n",
    "matrix[6,5]=10\n",
    "dims_in =  np.array([2, 1, 2, 1])*2\n",
    "dims_out = np.array([1, 2, 1, 2])*2\n",
    "T = ToeplitzOperator(matrix, dims_in, dims_out)\n",
    "S = SystemIdentificationSVD(T,epsilon=1e-12)\n",
    "\n",
    "system = MixedSystem(S).causal_system\n",
    "show_system(system)\n",
    "\n",
    "matrix_ref = system.to_matrix()\n",
    "display(system.dims_state)"
   ]
  },
  {
   "cell_type": "code",
   "execution_count": null,
   "metadata": {},
   "outputs": [],
   "source": [
    "combine(system,1)\n",
    "check_dims(system)\n",
    "display(system.dims_state)\n",
    "show_system(system)"
   ]
  },
  {
   "cell_type": "code",
   "execution_count": null,
   "metadata": {},
   "outputs": [],
   "source": [
    "split(system,1,indices=(4,2))\n",
    "check_dims(system)\n",
    "display(system.dims_state)\n",
    "show_system(system)\n",
    "\n",
    "print(\"Diff:\",np.max(np.abs(system.to_matrix()-matrix_ref)))"
   ]
  },
  {
   "cell_type": "markdown",
   "metadata": {},
   "source": [
    "# Test check dims"
   ]
  },
  {
   "cell_type": "code",
   "execution_count": null,
   "metadata": {},
   "outputs": [],
   "source": [
    "system.stages[0].A_matrix=np.eye(3)"
   ]
  },
  {
   "cell_type": "code",
   "execution_count": null,
   "metadata": {},
   "outputs": [],
   "source": [
    "check_dims(system)"
   ]
  },
  {
   "cell_type": "code",
   "execution_count": null,
   "metadata": {},
   "outputs": [],
   "source": [
    "system.stages[2].D_matrix=np.eye(3)\n",
    "check_dims(system)"
   ]
  },
  {
   "cell_type": "code",
   "execution_count": null,
   "metadata": {},
   "outputs": [],
   "source": [
    "check_dims(system)"
   ]
  },
  {
   "cell_type": "code",
   "execution_count": null,
   "metadata": {},
   "outputs": [],
   "source": []
  }
 ],
 "metadata": {
  "kernelspec": {
   "display_name": "Python 3",
   "language": "python",
   "name": "python3"
  },
  "language_info": {
   "codemirror_mode": {
    "name": "ipython",
    "version": 3
   },
   "file_extension": ".py",
   "mimetype": "text/x-python",
   "name": "python",
   "nbconvert_exporter": "python",
   "pygments_lexer": "ipython3",
   "version": "3.7.12"
  }
 },
 "nbformat": 4,
 "nbformat_minor": 4
}
