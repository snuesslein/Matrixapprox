{
 "cells": [
  {
   "cell_type": "markdown",
   "metadata": {},
   "source": [
    "# Move Bounds\n",
    "\n",
    "Notebook on moving bounds for systems, while also calculating the the $\\sigma$s"
   ]
  },
  {
   "cell_type": "code",
   "execution_count": null,
   "metadata": {},
   "outputs": [],
   "source": [
    "from tvsclib.strict_system import StrictSystem\n",
    "from tvsclib.stage import Stage\n",
    "from tvsclib.system_identification_svd import SystemIdentificationSVD\n",
    "from tvsclib.toeplitz_operator import ToeplitzOperator\n",
    "from tvsclib.mixed_system import MixedSystem\n",
    "import numpy as np\n",
    "import matplotlib.pyplot as plt\n",
    "import scipy.linalg as linalg\n",
    "import tvsclib.utils as utils\n",
    "\n",
    "from tvsclib.transformations.output_normal import OutputNormal\n",
    "from tvsclib.transformations.reduction import Reduction"
   ]
  },
  {
   "cell_type": "code",
   "execution_count": null,
   "metadata": {},
   "outputs": [],
   "source": [
    "matrix = np.arange(0,12).reshape((-1,1))@np.arange(0,12).reshape((1,-1))\n",
    "#matrix = np.random.rand(12,12)\n",
    "dims_in =  np.array([2, 1, 2, 1])*2\n",
    "dims_out = np.array([1, 2, 1, 2])*2\n",
    "T = ToeplitzOperator(matrix, dims_in, dims_out)\n",
    "S = SystemIdentificationSVD(T,epsilon=1e-12)\n",
    "\n",
    "system = MixedSystem(S).causal_system\n",
    "utils.show_system(system)"
   ]
  },
  {
   "cell_type": "markdown",
   "metadata": {},
   "source": [
    "First work on the casual part:\n",
    "\n",
    "Require a output normal system, start with the lowest index and work up, while transforming to a input normal system"
   ]
  },
  {
   "cell_type": "code",
   "execution_count": null,
   "metadata": {},
   "outputs": [],
   "source": [
    "def transform(stages,direction):\n",
    "    k = len(stages)\n",
    "    sigmas = []\n",
    "    for i in range(1,len(stages)):#loop over inices of causal states\n",
    "        if direction == \"l\":\n",
    "            #move left:\n",
    "            b = stages[i-1].B_matrix[:,-1:]\n",
    "            U,s_l,Vt= np.linalg.svd(np.hstack([stages[i-1].A_matrix,stages[i-1].B_matrix[:,:-1]]),full_matrices=False)\n",
    "            Us=U*s_l\n",
    "\n",
    "            stages_l = [\n",
    "                Stage(Vt[:,:stages[i-1].A_matrix.shape[1]],Vt[:,stages[i-1].A_matrix.shape[1]:],\\\n",
    "                        stages[i-1].C_matrix,stages[i-1].D_matrix[:,:-1]),\n",
    "                Stage(stages[i].A_matrix@Us,np.hstack((stages[i].A_matrix@b,stages[i].B_matrix)),\\\n",
    "                        stages[i].C_matrix@Us,np.hstack((stages[i].C_matrix@b,stages[i].D_matrix)))\n",
    "            ]\n",
    "\n",
    "        if direction ==\"r\"or direction==\"n\":\n",
    "            #no move-> only make R_k input normal\n",
    "            U,s,Vt= np.linalg.svd(np.hstack([stages[i-1].A_matrix,stages[i-1].B_matrix]),full_matrices=False)\n",
    "            Us=U*s\n",
    "\n",
    "            stages_n=[\n",
    "                Stage(Vt[:,:stages[i-1].A_matrix.shape[1]],Vt[:,stages[i-1].A_matrix.shape[1]:],\\\n",
    "                        stages[i-1].C_matrix,stages[i-1].D_matrix),\n",
    "                Stage(stages[i].A_matrix@Us,stages[i].B_matrix,\\\n",
    "                        stages[i].C_matrix@Us,stages[i].D_matrix)\n",
    "            ]\n",
    "\n",
    "        #move right -> base on non move\n",
    "        if direction ==\"r\":\n",
    "            b = stages_n[1].B_matrix[:,:1]\n",
    "            d = stages_n[1].D_matrix[:,:1]\n",
    "            d_add = np.zeros((stages_n[0].D_matrix.shape[0],1))\n",
    "\n",
    "\n",
    "            U,s_r,Vt= np.linalg.svd(np.block([[stages_n[1].A_matrix,b],\n",
    "                                              [stages_n[1].C_matrix,d]]),full_matrices=False)\n",
    "            Us=U*s_r\n",
    "            stages_r=[\n",
    "                 #Here the A and B are more complicated as we have to stack them\n",
    "                Stage(Vt@(np.vstack([stages_n[0].A_matrix,np.zeros((1,stages_n[0].A_matrix.shape[1]))])),\n",
    "                      Vt@(np.block([[stages_n[0].B_matrix,np.zeros((stages_n[0].B_matrix.shape[0],1))],\n",
    "                                   [np.zeros(stages_n[0].B_matrix.shape[1]),np.eye(1)]])),\n",
    "                      stages_n[0].C_matrix,np.hstack([stages_n[0].D_matrix,d_add])),\n",
    "\n",
    "               Stage(Us[:stages_n[1].A_matrix.shape[0],:],stages_n[1].B_matrix[:,1:],\\\n",
    "                     Us[stages_n[1].A_matrix.shape[0]:,:],stages_n[1].D_matrix[:,1:])                 \n",
    "            ]\n",
    "\n",
    "        if direction == \"l\":\n",
    "            stages[i-1]= stages_l[0] \n",
    "            stages[i]= stages_l[1]\n",
    "            sigmas.append(s_l)\n",
    "        if direction == \"n\":\n",
    "            stages[i-1]= stages_n[0] \n",
    "            stages[i]= stages_n[1]\n",
    "            sigmas.append(s)\n",
    "        if direction == \"r\":\n",
    "            stages[i-1]= stages_r[0] \n",
    "            stages[i]= stages_r[1]\n",
    "            sigmas.append(s_r)\n",
    "    return sigmas"
   ]
  },
  {
   "cell_type": "code",
   "execution_count": null,
   "metadata": {},
   "outputs": [],
   "source": [
    "sys_move = system.copy()\n",
    "sys_move = OutputNormal().apply(sys_move)\n",
    "sigmas=transform(sys_move.stages,\"n\")\n",
    "utils.check_dims(sys_move)\n",
    "\n",
    "A = matrix\n",
    "\n",
    "dims_in = sys_move.dims_in\n",
    "dims_out = sys_move.dims_out\n",
    "\n",
    "for k in range(1,len(system.stages)):\n",
    "    sigmas_r = np.linalg.svd(A[-np.sum(dims_out[k:]):,:np.sum(dims_in[:k])],compute_uv=False)\n",
    "    sigmas_a = np.zeros_like(sigmas_r)\n",
    "    sigmas_a[:len(sigmas[k-1])]=sigmas[k-1]\n",
    "    print(np.allclose(sigmas_r,sigmas_a))\n",
    "    #print(\"Ref:\",sigmas_r)\n",
    "    #print(\"calc:\",sigmas[k-1])\n",
    "\n",
    "diff = system.to_matrix()-sys_move.to_matrix()\n",
    "#plt.matshow(diff)\n",
    "np.max(np.abs(diff))"
   ]
  },
  {
   "cell_type": "code",
   "execution_count": null,
   "metadata": {},
   "outputs": [],
   "source": [
    "sys_move = system.copy()\n",
    "sys_move = OutputNormal().apply(sys_move)\n",
    "sigmas=transform(sys_move.stages,\"r\")\n",
    "utils.check_dims(sys_move)\n",
    "\n",
    "A = matrix\n",
    "\n",
    "dims_in = sys_move.dims_in\n",
    "dims_out = sys_move.dims_out\n",
    "\n",
    "for k in range(1,len(system.stages)):\n",
    "    sigmas_r = np.linalg.svd(A[-np.sum(dims_out[k:]):,:np.sum(dims_in[:k])],compute_uv=False)\n",
    "    sigmas_a = np.zeros_like(sigmas_r)\n",
    "    sigmas_a[:len(sigmas[k-1])]=sigmas[k-1]\n",
    "    print(np.allclose(sigmas_r,sigmas_a))\n",
    "    #print(\"Ref:\",sigmas_r)\n",
    "    #print(\"calc:\",sigmas[k-1])\n",
    "\n",
    "diff = system.to_matrix()-sys_move.to_matrix()\n",
    "#plt.matshow(diff)\n",
    "np.max(np.abs(diff))"
   ]
  },
  {
   "cell_type": "code",
   "execution_count": null,
   "metadata": {},
   "outputs": [],
   "source": [
    "sys_move = system.copy()\n",
    "sys_move = OutputNormal().apply(sys_move)\n",
    "sigmas=transform(sys_move.stages,\"l\")\n",
    "utils.check_dims(sys_move)\n",
    "\n",
    "A = matrix\n",
    "\n",
    "dims_in = sys_move.dims_in\n",
    "dims_out = sys_move.dims_out\n",
    "\n",
    "for k in range(1,len(system.stages)):\n",
    "    sigmas_r = np.linalg.svd(A[-np.sum(dims_out[k:]):,:np.sum(dims_in[:k])],compute_uv=False)\n",
    "    sigmas_a = np.zeros_like(sigmas_r)\n",
    "    sigmas_a[:len(sigmas[k-1])]=sigmas[k-1]\n",
    "    print(np.allclose(sigmas_r,sigmas_a))\n",
    "    #print(\"Ref:\",sigmas_r)\n",
    "    #print(\"calc:\",sigmas[k-1])\n",
    "\n",
    "diff = system.to_matrix()-sys_move.to_matrix()\n",
    "#plt.matshow(diff)\n",
    "np.max(np.abs(diff))"
   ]
  },
  {
   "cell_type": "code",
   "execution_count": null,
   "metadata": {},
   "outputs": [],
   "source": [
    "utils.show_system(sys_move)"
   ]
  },
  {
   "cell_type": "code",
   "execution_count": null,
   "metadata": {},
   "outputs": [],
   "source": []
  }
 ],
 "metadata": {
  "kernelspec": {
   "display_name": "Python 3",
   "language": "python",
   "name": "python3"
  },
  "language_info": {
   "codemirror_mode": {
    "name": "ipython",
    "version": 3
   },
   "file_extension": ".py",
   "mimetype": "text/x-python",
   "name": "python",
   "nbconvert_exporter": "python",
   "pygments_lexer": "ipython3",
   "version": "3.7.12"
  }
 },
 "nbformat": 4,
 "nbformat_minor": 4
}
