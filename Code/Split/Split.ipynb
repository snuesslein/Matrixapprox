{
 "cells": [
  {
   "cell_type": "markdown",
   "metadata": {},
   "source": [
    "# Split Stages\n",
    "\n",
    "It is also possible to split stages.\n",
    "We start of with the stage $k$. We want to split this stage up into the stages $\\alpha$ and $\\beta$.\n",
    "If both stages are combined back we want to obtian the original stage. Therefore we know that\n",
    "\n",
    "$$A_k=A_\\beta A_\\alpha$$\n",
    "\n",
    "$$B_k=\\begin{bmatrix}A_\\beta B_\\alpha & B_\\beta \\end{bmatrix}$$\n",
    "\n",
    "$$C_k=\\begin{bmatrix}C_\\alpha \\\\ C_\\beta A_\\alpha \\end{bmatrix}$$\n",
    "\n",
    "$$D_k = \\begin{bmatrix} D_\\alpha & 0 \\\\ C_\\beta A_\\alpha & D_\\beta \\end{bmatrix}$$\n",
    "\n"
   ]
  },
  {
   "cell_type": "markdown",
   "metadata": {},
   "source": [
    "Now we want to compute these matices.\n",
    "For this we consider the Hankel matrix associated with the new intermediate step.\n",
    "\n",
    "This is \n",
    "$$H = \\mathcal{O}_\\diamond \\mathcal{R}_\\diamond \n",
    "= \\begin{bmatrix} C_\\beta \\\\ C_{k+1} A_\\beta \\\\ C_{k+2} A_{k+1} A_\\beta \\\\ \\vdots \\end{bmatrix}\n",
    "\\begin{bmatrix} \\cdots& A_\\alpha A_{k-1}B_{k-2} & A_\\alpha B_{k-1}&  B_\\alpha  \\end{bmatrix}\n",
    "$$\n",
    "\n",
    "By factoring $ \\mathcal{O}_\\diamond $ and $\\mathcal{R}_\\diamond $ we obtain.\n",
    "$$H\n",
    "= \\begin{bmatrix} 1 &\\\\ & \\mathcal{O}_{k+1} \\end{bmatrix} \\begin{bmatrix} C_\\beta \\\\  A_\\beta \\end{bmatrix}\n",
    "\\begin{bmatrix} A_\\alpha &  B_\\alpha  \\end{bmatrix} \\begin{bmatrix} \\mathcal{R}_k\\\\&1  \\end{bmatrix}$$\n",
    "\n",
    "and by multipling the inner of the three products we get the matrix \n",
    "\n",
    "$$\\begin{bmatrix} C_\\beta \\\\  A_\\beta \\end{bmatrix}\n",
    "\\begin{bmatrix} A_\\alpha &  B_\\alpha  \\end{bmatrix}\n",
    "=\n",
    "\\begin{bmatrix}\n",
    "C_\\beta A_\\alpha & C_\\beta B_\\alpha\\\\\n",
    "A_\\beta A_\\alpha & A_\\beta B_\\alpha\n",
    "\\end{bmatrix}\n",
    "$$\n",
    "\n",
    "With the previous equations we can identify this matrix as \n",
    "\n",
    "$$\n",
    "\\begin{bmatrix}\n",
    "C_\\beta A_\\alpha & C_\\beta B_\\alpha\\\\\n",
    "A_\\beta A_\\alpha & A_\\beta B_\\alpha\n",
    "\\end{bmatrix}\n",
    "=\n",
    "\\begin{bmatrix}\n",
    "C_{k[2]} & D_{k[2,1]}\\\\\n",
    "A_k & B_{k[1]}\n",
    "\\end{bmatrix}\n",
    "$$\n",
    "\n",
    "By computing the SVD we can now get the matricies\n",
    "$$\n",
    "\\begin{bmatrix}\n",
    "C_k & D_{k[1,0]}\\\\\n",
    "A_k & B_k\n",
    "\\end{bmatrix} = U \\Sigma V^\\top = \\begin{bmatrix} C_\\beta \\\\  A_\\beta \\end{bmatrix}\n",
    "\\begin{bmatrix} A_\\alpha &  B_\\alpha  \\end{bmatrix}\n",
    "$$"
   ]
  },
  {
   "cell_type": "markdown",
   "metadata": {},
   "source": [
    "If $O_{k+1}^\\top O_{k+1} = 1$ and $R_k  R_k^\\top = 1$ the singluar values calcualted by the svd are also the Hankel singualr values."
   ]
  },
  {
   "cell_type": "code",
   "execution_count": null,
   "metadata": {},
   "outputs": [],
   "source": [
    "import numpy as np\n",
    "import matplotlib.pyplot as plt\n",
    "from tvsclib.stage import Stage\n",
    "from tvsclib.strict_system import StrictSystem\n",
    "from tvsclib.mixed_system import MixedSystem\n",
    "import tvsclib.utils as utils\n",
    "import tvsclib.math as math"
   ]
  },
  {
   "cell_type": "code",
   "execution_count": null,
   "metadata": {},
   "outputs": [],
   "source": [
    "def split_stage(stage,i_in,i_out):\n",
    "    A=stage.A_matrix\n",
    "    B=stage.B_matrix\n",
    "    C=stage.C_matrix\n",
    "    D=stage.D_matrix\n",
    "    (d_stateo,d_statei)=A.shape\n",
    "    U,s,Vt = np.linalg.svd(np.block([[C[i_out:,:],D[i_out:,:i_in]],[A,B[:,:i_in]]]),full_matrices=False)\n",
    "    \n",
    "    s_sqrt = np.sqrt(s)\n",
    "    stage_alpha=Stage(s_sqrt.reshape(-1,1)*Vt[:,:d_statei],\\\n",
    "                 s_sqrt.reshape(-1,1)*Vt[:,d_statei:],\\\n",
    "                 C[:i_out,:],\\\n",
    "                 D[:i_out,:i_in])\n",
    "    stage_beta=Stage(U[U.shape[0]-d_stateo:,:]*s_sqrt.reshape(1,-1),\\\n",
    "               B[:,i_in:],\\\n",
    "               U[:U.shape[0]-d_stateo,:]*s_sqrt.reshape(1,-1),\\\n",
    "               D[i_out:,i_in:])\n",
    "    \n",
    "    return stage_alpha,stage_beta\n",
    "    \n",
    "def split_stage_anti(stage,i_in,i_out,D):\n",
    "    A=stage.A_matrix\n",
    "    B=stage.B_matrix\n",
    "    C=stage.C_matrix\n",
    "    #D=stage.D_matrix\n",
    "    (d_stateo,d_statei)=A.shape\n",
    "    U,s,Vt = np.linalg.svd(np.block([[C[:i_out,:],D[:i_out,i_in:]],[A,B[:,i_in:]]]),full_matrices=False)\n",
    "    \n",
    "    s_sqrt = np.sqrt(s)\n",
    "    stage_alpha=Stage(s_sqrt.reshape(-1,1)*Vt[:,:d_statei],\\\n",
    "                 s_sqrt.reshape(-1,1)*Vt[:,d_statei:],\\\n",
    "                 C[i_out:,:],\\\n",
    "                 np.zeros_like(D[:i_out,:i_in]))\n",
    "    stage_beta=Stage(U[U.shape[0]-d_stateo:,:]*s_sqrt.reshape(1,-1),\\\n",
    "               B[:,:i_in],\\\n",
    "               U[:U.shape[0]-d_stateo,:]*s_sqrt.reshape(1,-1),\\\n",
    "               np.zeros_like(D[i_out:,i_in:]))\n",
    "    \n",
    "    return stage_alpha,stage_beta\n",
    "    \n",
    "def split(system,k,i_in,i_out):\n",
    "    stage_alpha,stage_beta = split_stage(system.stages[k],i_in,i_out)\n",
    "    system.stages[k]=stage_alpha\n",
    "    system.stages.insert(k+1,stage_beta)\n",
    "    \n",
    "def split_anti(system,k,i_in,i_out,D):\n",
    "    stage_alpha,stage_beta = split_stage_anti(system.stages[k],i_in,i_out,D)\n",
    "    system.stages[k]=stage_beta\n",
    "    system.stages.insert(k+1,stage_alpha)\n",
    "    \n",
    "def split_mixed(system,k,i_in,i_out):\n",
    "    split_anti(system.anticausal_system,k,i_in,i_out,system.causal_system.stages[k].D_matrix)\n",
    "    split(system.causal_system,k,i_in,i_out)\n",
    "    "
   ]
  },
  {
   "cell_type": "code",
   "execution_count": null,
   "metadata": {},
   "outputs": [],
   "source": [
    "def initial(T):\n",
    "    \"\"\"\n",
    "    \n",
    "    returns a tupel with the initial lists\n",
    "    for As,Bs,Cs,Ds\n",
    "    \n",
    "    \"\"\"\n",
    "    \n",
    "    return StrictSystem(stages=[Stage(np.zeros((0,0)),np.zeros((0,T.shape[1])),np.zeros((T.shape[0],0)),T)],causal=True)\n",
    "\n",
    "def initial_mixed(T):\n",
    "    \"\"\"\n",
    "    \n",
    "    returns a tupel with the initial lists\n",
    "    for As,Bs,Cs,Ds\n",
    "    \n",
    "    \"\"\"\n",
    "    \n",
    "    return MixedSystem(\\\n",
    "            causal_system=StrictSystem(stages=[Stage(np.zeros((0,0)),np.zeros((0,T.shape[1])),np.zeros((T.shape[0],0)),T)],causal=True),\\\n",
    "        anticausal_system=StrictSystem(stages=[Stage(np.zeros((0,0)),np.zeros((0,T.shape[1])),np.zeros((T.shape[0],0)),np.zeros_like(T))],causal=False)\\\n",
    "                      )"
   ]
  },
  {
   "cell_type": "code",
   "execution_count": null,
   "metadata": {},
   "outputs": [],
   "source": [
    "T = np.random.rand(16,16)"
   ]
  },
  {
   "cell_type": "code",
   "execution_count": null,
   "metadata": {},
   "outputs": [],
   "source": [
    "system = initial_mixed(T)\n",
    "utils.show_system(system,mark_D=False)\n",
    "utils.check_dims(system)"
   ]
  },
  {
   "cell_type": "code",
   "execution_count": null,
   "metadata": {},
   "outputs": [],
   "source": [
    "system.anticausal_system.stages[0].A_matrix"
   ]
  },
  {
   "cell_type": "code",
   "execution_count": null,
   "metadata": {},
   "outputs": [],
   "source": [
    "split_mixed(system,0,8,8)\n",
    "utils.show_system(system,mark_D=False)"
   ]
  },
  {
   "cell_type": "code",
   "execution_count": null,
   "metadata": {},
   "outputs": [],
   "source": [
    "system.anticausal_system.stages[1].B_matrix.shape"
   ]
  },
  {
   "cell_type": "code",
   "execution_count": null,
   "metadata": {},
   "outputs": [],
   "source": [
    "split_mixed(system,0,4,4)\n",
    "utils.show_system(system,mark_D=False)"
   ]
  },
  {
   "cell_type": "code",
   "execution_count": null,
   "metadata": {},
   "outputs": [],
   "source": [
    "split_mixed(system,2,4,4)\n",
    "utils.show_system(system,mark_D=False)"
   ]
  },
  {
   "cell_type": "code",
   "execution_count": null,
   "metadata": {},
   "outputs": [],
   "source": [
    "np.max(np.abs(T-system.to_matrix()))"
   ]
  },
  {
   "cell_type": "code",
   "execution_count": null,
   "metadata": {},
   "outputs": [],
   "source": [
    "class A_matrix:\n",
    "    def __init__(self,s_out,A,s_in):\n",
    "        self.A = A\n",
    "        self.s_out = s_out\n",
    "        self.s_in = s_in\n",
    "    \n",
    "    @property\n",
    "    def input_normal(self):\n",
    "        return self.A*self.s_in.reshape(1,-1)\n",
    "\n",
    "    @property\n",
    "    def output_normal(self):\n",
    "        return self.s_out.reshape(-1,1)*self.A\n",
    "\n",
    "    @property\n",
    "    def balanced(self):\n",
    "        return np.sqrt(self.s_out.reshape(-1,1))*self.A*np.sqrt(self.s_in.reshape(1,-1))\n",
    " \n",
    "    @property\n",
    "    def output_input_normal(self):\n",
    "        \"\"\"\n",
    "        Thsi can be used to get a stage where the previous R_k is input normal \n",
    "        and the next O_{k+1} is output normal\n",
    "        \"\"\"\n",
    "        return self.s_out.reshape(-1,1)*self.A*self.s_in.reshape(1,-1)\n",
    "    \n",
    "    def copy(self):\n",
    "        return (A_matrix(self.s_out.copy(),self.A.copy(),self.s_in.copy()))\n",
    "    \n",
    "class B_matrix:\n",
    "    def __init__(self,s_out,B):\n",
    "        self.B = B\n",
    "        self.s_out = s_out\n",
    "    \n",
    "    @property\n",
    "    def input_normal(self):\n",
    "        return self.B\n",
    "\n",
    "    @property\n",
    "    def output_normal(self):\n",
    "        return self.s_out.reshape(-1,1)*self.B\n",
    "\n",
    "    @property\n",
    "    def blanced(self):\n",
    "        return np.sqrt(self.s_out.reshape(-1,1))*self.B\n",
    "\n",
    "    def copy(self):\n",
    "        return (B_matrix(self.s_out.copy(),self.B.copy()))\n",
    "    \n",
    "class C_matrix:\n",
    "    def __init__(self,C,s_in):\n",
    "        self.C = C\n",
    "        self.s_in = s_in\n",
    "    \n",
    "    @property\n",
    "    def input_normal(self):\n",
    "        return self.C*self.s_in.reshape(1,-1)\n",
    "\n",
    "    @property\n",
    "    def output_normal(self):\n",
    "        return self.C\n",
    "\n",
    "    @property\n",
    "    def balanced(self):\n",
    "        return self.C*np.sqrt(self.s_in.reshape(1,-1))\n",
    "    \n",
    "    def copy(self):\n",
    "        return (C_matrix(self.C.copy(),self.s_in.copy()))"
   ]
  },
  {
   "cell_type": "code",
   "execution_count": null,
   "metadata": {},
   "outputs": [],
   "source": [
    "def split_stage_sigmas(stage,i_in,i_out):\n",
    "    #we need thsi stage such that previous is input normal and later is output normal\n",
    "    s_in = stage.A_matrix.s_in\n",
    "    s_out= stage.A_matrix.s_out\n",
    "    A=stage.A_matrix.output_input_normal\n",
    "    B=stage.B_matrix.output_normal\n",
    "    C=stage.C_matrix.input_normal\n",
    "    D=stage.D_matrix\n",
    "\n",
    "    (d_stateo,d_statei)=A.shape\n",
    "    U,s,Vt = np.linalg.svd(np.block([[C[i_out:,:],D[i_out:,:i_in]],[A,B[:,:i_in]]]),full_matrices=False)\n",
    "    \n",
    "\n",
    "    stage_alpha=Stage(\n",
    "                 A_matrix(s,Vt[:,:d_statei]/s_in.reshape(1,-1),s_in),\\\n",
    "                 B_matrix(s,Vt[:,d_statei:]),\\\n",
    "                 C_matrix(stage.C_matrix.C[:i_out,:],s_in),\\\n",
    "                 D[:i_out,:i_in])\n",
    "    stage_beta=Stage(\n",
    "               A_matrix(s_out,U[U.shape[0]-d_stateo:,:]/s_out.reshape(-1,1),s),\\\n",
    "               B_matrix(s_out,stage.B_matrix.B[:,i_in:]),\\\n",
    "               C_matrix(U[:U.shape[0]-d_stateo,:],s),\\\n",
    "               D[i_out:,i_in:])\n",
    "    \n",
    "    return stage_alpha,stage_beta\n",
    "\n",
    "def split_stage_sigmas_anti(stage,i_in,i_out,D):\n",
    "    #we need thsi stage such that previous is input normal and later is output normal\n",
    "    s_in = stage.A_matrix.s_in\n",
    "    s_out= stage.A_matrix.s_out\n",
    "    A=stage.A_matrix.output_input_normal\n",
    "    B=stage.B_matrix.output_normal\n",
    "    C=stage.C_matrix.input_normal\n",
    "    #D=stage.D_matrix\n",
    "\n",
    "    (d_stateo,d_statei)=A.shape\n",
    "    U,s,Vt = np.linalg.svd(np.block([[C[:i_out,:],D[:i_out,i_in:]],[A,B[:,i_in:]]]),full_matrices=False)\n",
    "    \n",
    "\n",
    "    stage_alpha=Stage(\n",
    "                 A_matrix(s,Vt[:,:d_statei]/s_in.reshape(1,-1),s_in),\\\n",
    "                 B_matrix(s,Vt[:,d_statei:]),\\\n",
    "                 C_matrix(stage.C_matrix.C[i_out:,:],s_in),\\\n",
    "                 np.zeros_like(D[:i_out,:i_in]))\n",
    "    stage_beta=Stage(\n",
    "               A_matrix(s_out,U[U.shape[0]-d_stateo:,:]/s_out.reshape(-1,1),s),\\\n",
    "               B_matrix(s_out,stage.B_matrix.B[:,:i_in]),\\\n",
    "               C_matrix(U[:U.shape[0]-d_stateo,:],s),\\\n",
    "               np.zeros_like(D[i_out:,i_in:]))\n",
    "    return stage_alpha,stage_beta\n",
    "\n",
    "def split_sigmas(system,k,i_in,i_out):\n",
    "    stage_alpha,stage_beta = split_stage_sigmas(system.stages[k],i_in,i_out)\n",
    "    system.stages[k]=stage_alpha\n",
    "    system.stages.insert(k+1,stage_beta)\n",
    "    \n",
    "def split_sigmas_anti(system,k,i_in,i_out,D):\n",
    "    stage_alpha,stage_beta = split_stage_sigmas_anti(system.stages[k],i_in,i_out,D)\n",
    "    system.stages[k]=stage_beta\n",
    "    system.stages.insert(k+1,stage_alpha)\n",
    "    \n",
    "def split_sigmas_mixed(system,k,i_in,i_out):\n",
    "    split_sigmas_anti(system.anticausal_system,k,i_in,i_out,system.causal_system.stages[k].D_matrix)\n",
    "    split_sigmas(system.causal_system,k,i_in,i_out)"
   ]
  },
  {
   "cell_type": "code",
   "execution_count": null,
   "metadata": {},
   "outputs": [],
   "source": [
    "def initial_sigmas(T):\n",
    "    \"\"\"\n",
    "    \n",
    "    returns a tupel with the initial lists\n",
    "    for As,Bs,Cs,Ds\n",
    "    \n",
    "    \"\"\"\n",
    "    \n",
    "    return StrictSystem(stages=[Stage(A_matrix(np.zeros(0),np.zeros((0,0)),np.zeros(0)),\\\n",
    "                                      B_matrix(np.zeros(0),np.zeros((0,T.shape[1]))),\\\n",
    "                                      C_matrix(np.zeros((T.shape[0],0)),np.zeros(0)),\\\n",
    "                                      T)],causal=True)\n",
    "\n",
    "def initial_sigmas_mixed(T):\n",
    "    \"\"\"\n",
    "    \n",
    "    returns a tupel with the initial lists\n",
    "    for As,Bs,Cs,Ds\n",
    "    \n",
    "    \"\"\"\n",
    "    return MixedSystem(\\\n",
    "                causal_system=StrictSystem(stages=[Stage(A_matrix(np.zeros(0),np.zeros((0,0)),np.zeros(0)),\\\n",
    "                                      B_matrix(np.zeros(0),np.zeros((0,T.shape[1]))),\\\n",
    "                                      C_matrix(np.zeros((T.shape[0],0)),np.zeros(0)),\\\n",
    "                                      T)],causal=True),\n",
    "                anticausal_system=StrictSystem(stages=[Stage(A_matrix(np.zeros(0),np.zeros((0,0)),np.zeros(0)),\\\n",
    "                                      B_matrix(np.zeros(0),np.zeros((0,T.shape[1]))),\\\n",
    "                                      C_matrix(np.zeros((T.shape[0],0)),np.zeros(0)),\\\n",
    "                                      np.zeros_like(T))],causal=False))\n",
    "\n",
    "def get_system(system):\n",
    "    stages = []\n",
    "    for stage in system.stages:\n",
    "        stages.append(Stage(stage.A_matrix.input_normal,\\\n",
    "                            stage.B_matrix.input_normal,\\\n",
    "                            stage.C_matrix.input_normal,\\\n",
    "                            stage.D_matrix))\n",
    "    return StrictSystem(stages=stages,causal=system.causal)\n",
    "\n",
    "def get_system_mixed(system):\n",
    "    \n",
    "    return MixedSystem(causal_system=get_system(system.causal_system),anticausal_system=get_system(system.anticausal_system))"
   ]
  },
  {
   "cell_type": "code",
   "execution_count": null,
   "metadata": {},
   "outputs": [],
   "source": [
    "sys = initial_sigmas_mixed(T)\n",
    "utils.show_system(get_system_mixed(sys),mark_D=False)"
   ]
  },
  {
   "cell_type": "code",
   "execution_count": null,
   "metadata": {},
   "outputs": [],
   "source": [
    "split_sigmas_mixed(sys,0,8,8)\n",
    "utils.show_system(get_system_mixed(sys),mark_D=False)"
   ]
  },
  {
   "cell_type": "code",
   "execution_count": null,
   "metadata": {},
   "outputs": [],
   "source": [
    "split_sigmas_mixed(sys,0,4,4)\n",
    "utils.show_system(get_system_mixed(sys),mark_D=False)"
   ]
  },
  {
   "cell_type": "code",
   "execution_count": null,
   "metadata": {},
   "outputs": [],
   "source": [
    "split_sigmas_mixed(sys,2,4,4)\n",
    "utils.show_system(get_system_mixed(sys),mark_D=False)"
   ]
  },
  {
   "cell_type": "code",
   "execution_count": null,
   "metadata": {},
   "outputs": [],
   "source": [
    "split_sigmas_mixed(sys,1,2,2)\n",
    "split_sigmas_mixed(sys,3,2,2)\n",
    "utils.show_system(get_system_mixed(sys),mark_D=False)"
   ]
  },
  {
   "cell_type": "code",
   "execution_count": null,
   "metadata": {},
   "outputs": [],
   "source": [
    "#np.max(np.abs(np.tril(get_system(sys).to_matrix())-np.tril(T)))\n",
    "np.max(np.abs(get_system_mixed(sys).to_matrix()-T))\n"
   ]
  },
  {
   "cell_type": "code",
   "execution_count": null,
   "metadata": {},
   "outputs": [],
   "source": [
    "math.extract_sigmas(T,get_system_mixed(sys).dims_in,get_system_mixed(sys).dims_out)"
   ]
  },
  {
   "cell_type": "code",
   "execution_count": null,
   "metadata": {},
   "outputs": [],
   "source": [
    "[stage.A_matrix.s_in for stage in sys.causal_system.stages][1:]"
   ]
  },
  {
   "cell_type": "code",
   "execution_count": null,
   "metadata": {},
   "outputs": [],
   "source": [
    "[stage.A_matrix.s_in for stage in sys.anticausal_system.stages][:-1]"
   ]
  },
  {
   "cell_type": "code",
   "execution_count": null,
   "metadata": {},
   "outputs": [],
   "source": []
  }
 ],
 "metadata": {
  "kernelspec": {
   "display_name": "Python 3",
   "language": "python",
   "name": "python3"
  },
  "language_info": {
   "codemirror_mode": {
    "name": "ipython",
    "version": 3
   },
   "file_extension": ".py",
   "mimetype": "text/x-python",
   "name": "python",
   "nbconvert_exporter": "python",
   "pygments_lexer": "ipython3",
   "version": "3.7.12"
  }
 },
 "nbformat": 4,
 "nbformat_minor": 4
}
