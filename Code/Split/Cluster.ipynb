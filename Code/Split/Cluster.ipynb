{
 "cells": [
  {
   "cell_type": "markdown",
   "metadata": {},
   "source": [
    "# Clustering collums and rows\n",
    "\n",
    "The idea is to cluster collumns and rows\n",
    "\n",
    "Here we have the objective function \n",
    "\n"
   ]
  },
  {
   "cell_type": "code",
   "execution_count": null,
   "metadata": {},
   "outputs": [],
   "source": [
    "import numpy as np\n",
    "import tvsclib.utils as utils\n",
    "import Split\n",
    "import matplotlib.pyplot as plt\n",
    "from tvsclib.strict_system import StrictSystem\n",
    "\n",
    "import torchvision.models as models\n",
    "import torch\n",
    "import scipy.stats \n",
    "\n",
    "import scipy.linalg as linalg"
   ]
  },
  {
   "cell_type": "code",
   "execution_count": null,
   "metadata": {},
   "outputs": [],
   "source": [
    "def get_mobilenet_target_mats():\n",
    "    target_mats = []\n",
    "    # Load the model\n",
    "    model = models.mobilenet_v2(pretrained=True)\n",
    "    # Put moel into eval mode\n",
    "    model.eval()\n",
    "    for layer in model.classifier:\n",
    "        if isinstance(layer, torch.nn.Linear):\n",
    "            # Obtain the weights of this layer\n",
    "            weights = layer.weight.detach().numpy()\n",
    "            target_mats.append(weights)\n",
    "    return target_mats"
   ]
  },
  {
   "cell_type": "code",
   "execution_count": null,
   "metadata": {},
   "outputs": [],
   "source": [
    "T = np.random.rand(32,32)\n",
    "#T = mats = get_mobilenet_target_mats()[0]\n",
    "sys = Split.initial_mixed(T)\n",
    "utils.show_system(sys,mark_D=False)\n",
    "utils.check_dims(sys)"
   ]
  },
  {
   "cell_type": "markdown",
   "metadata": {},
   "source": [
    "# Compute gramians/weights"
   ]
  },
  {
   "cell_type": "code",
   "execution_count": null,
   "metadata": {},
   "outputs": [],
   "source": [
    "#get matricies\n",
    "k = 0\n",
    "stage_c=sys.causal_system.stages[k]\n",
    "stage_a=sys.anticausal_system.stages[k]\n",
    "Ac = stage_c.A_matrix\n",
    "Bc = stage_c.B_matrix\n",
    "Cc = stage_c.C_matrix\n",
    "\n",
    "Aa = stage_a.A_matrix\n",
    "Ba = stage_a.B_matrix\n",
    "Ca = stage_a.C_matrix\n",
    "\n",
    "D = stage_c.D_matrix\n",
    "\n",
    "#dims of states\n",
    "\n",
    "(d_out_c,d_in_c) = Ac.shape\n",
    "\n",
    "(d_out_a,d_in_a) = Aa.shape\n",
    "\n",
    "X = np.block([[np.zeros((d_out_a,d_in_c)),Ba,Aa ],\n",
    "              [Cc,D,Ca],\n",
    "              [Ac,Bc,np.zeros((d_out_c,d_in_a))]\n",
    "    \n",
    "])\n",
    "\n",
    "plt.matshow(X)\n",
    "\n",
    "s_c = np.zeros(X.shape[1],dtype=bool)\n",
    "s_c[:d_in_c+D.shape[1]//2]=1\n",
    "s_r = np.zeros(X.shape[0],dtype=bool)\n",
    "s_r[d_out_a+D.shape[0]//2:]=1"
   ]
  },
  {
   "cell_type": "code",
   "execution_count": null,
   "metadata": {},
   "outputs": [],
   "source": [
    "X_l = X[:,s_c]\n",
    "X_r = X[:,~s_c]\n",
    "\n",
    "X_l = X_l/np.linalg.norm(X_l,axis=1).reshape(-1,1)\n",
    "X_r = X_r/np.linalg.norm(X_r,axis=1).reshape(-1,1)\n",
    "\n",
    "X_t = X[~s_r]\n",
    "X_b = X[s_r]\n",
    "\n",
    "X_t = X_t/np.linalg.norm(X_t,axis=0).reshape(1,-1)\n",
    "X_b = X_b/np.linalg.norm(X_b,axis=0).reshape(1,-1)"
   ]
  },
  {
   "cell_type": "code",
   "execution_count": null,
   "metadata": {},
   "outputs": [],
   "source": [
    "X_ = X_b #top or bottom\n",
    "print(np.diag(X_.T@X_))\n",
    "plt.matshow(X_.T@X_)"
   ]
  },
  {
   "cell_type": "code",
   "execution_count": null,
   "metadata": {},
   "outputs": [],
   "source": [
    "X_ = X_r  #left or right\n",
    "print(np.diag(abs(X_@X_.T)))\n",
    "plt.matshow(X_@X_.T)"
   ]
  },
  {
   "cell_type": "code",
   "execution_count": null,
   "metadata": {},
   "outputs": [],
   "source": [
    "plt.matshow(1-abs(X_@X_.T))"
   ]
  },
  {
   "cell_type": "code",
   "execution_count": null,
   "metadata": {},
   "outputs": [],
   "source": [
    "Adj = 1-abs(X_b.T@X_b)\n",
    "np.sum(Adj[:,s_c],axis=1)"
   ]
  },
  {
   "cell_type": "code",
   "execution_count": null,
   "metadata": {},
   "outputs": [],
   "source": [
    "Adj = 1-abs(X_t.T@X_t)\n",
    "np.sum(Adj[:,~s_c],axis=1)"
   ]
  },
  {
   "cell_type": "code",
   "execution_count": null,
   "metadata": {},
   "outputs": [],
   "source": [
    "Adj = 1-abs(X_l@X_l.T)\n",
    "np.sum(Adj[:,s_r],axis=1)"
   ]
  },
  {
   "cell_type": "code",
   "execution_count": null,
   "metadata": {},
   "outputs": [],
   "source": [
    "Adj = 1-abs(X_r@X_r.T)\n",
    "np.sum(Adj[:,~s_r],axis=1)"
   ]
  },
  {
   "cell_type": "markdown",
   "metadata": {},
   "source": [
    "## Some helping functions"
   ]
  },
  {
   "cell_type": "code",
   "execution_count": null,
   "metadata": {},
   "outputs": [],
   "source": [
    "def f(X,s_col,s_row):\n",
    "    return np.linalg.norm(X[s_row][:,s_col],'nuc')+np.linalg.norm(X[~s_row][:,~s_col],'nuc')\n",
    "\n",
    "def compute_sigmasf(X,s_col,s_row):\n",
    "    return np.linalg.svd(X[s_row][:,s_col],compute_uv=False), np.linalg.svd(X[~s_row][:,~s_col],compute_uv=False)\n",
    "\n",
    "def show_matrices(X,s_col,s_row):\n",
    "    plt.matshow(X[s_row][:,s_col],fignum=1)\n",
    "\n",
    "    plt.matshow(X[~s_row][:,~s_col],fignum=2)\n",
    "\n",
    "f_reg_row = lambda x: -gamma*x**3\n",
    "f_reg_col = lambda x: -gamma*x**3\n",
    "\n",
    "gamma = 1e2 #maxbee have two different regularizations for rows and collumns"
   ]
  },
  {
   "cell_type": "markdown",
   "metadata": {},
   "source": [
    "## Iteration"
   ]
  },
  {
   "cell_type": "code",
   "execution_count": null,
   "metadata": {},
   "outputs": [],
   "source": [
    "def segment_matrix(stage_causal,stage_anticausal,N=50):\n",
    "    \n",
    "    Ac = stage_causal.A_matrix\n",
    "    Bc = stage_causal.B_matrix\n",
    "    Cc = stage_causal.C_matrix\n",
    "\n",
    "    Aa = stage_anticausal.A_matrix\n",
    "    Ba = stage_anticausal.B_matrix\n",
    "    Ca = stage_anticausal.C_matrix\n",
    "\n",
    "    D = stage_causal.D_matrix\n",
    "    \n",
    "    #regularization vector\n",
    "    v_reg_col = f_reg_col(np.linspace(-1,1,D.shape[1]))\n",
    "    v_reg_row = f_reg_row(np.linspace(-1,1,D.shape[0]))\n",
    "\n",
    "    #dims of states\n",
    "    (d_out_c,d_in_c) = Ac.shape\n",
    "    (d_out_a,d_in_a) = Aa.shape\n",
    "\n",
    "    #setup matrix\n",
    "    X = np.block([[np.zeros((d_out_a,d_in_c)),Ba,Aa ],\n",
    "                  [Cc,D,Ca],\n",
    "                  [Ac,Bc,np.zeros((d_out_c,d_in_a))]\n",
    "    \n",
    "    ])\n",
    "\n",
    "    #initialize segmentation\n",
    "    s_c = np.zeros(X.shape[1],dtype=bool)\n",
    "    s_c[:d_in_c+D.shape[1]//2]=1\n",
    "    s_r = np.zeros(X.shape[0],dtype=bool)\n",
    "    s_r[d_out_a+D.shape[0]//2:]=1\n",
    "    \n",
    "    \n",
    "    fs = np.zeros(N+1)\n",
    "    s_cols=np.zeros((N+1,X.shape[1]),dtype=bool) \n",
    "    s_rows=np.zeros((N+1,X.shape[0]),dtype=bool) \n",
    "    \n",
    "    s_cols[0]=s_c\n",
    "    s_rows[0]=s_r\n",
    "    fs[0]=f(X,s_c,s_r)\n",
    "    \n",
    "    for n in range(N):\n",
    "        #normlize\n",
    "        X_l = X[:,s_c]\n",
    "        X_r = X[:,~s_c]\n",
    "\n",
    "        X_l = X_l/np.linalg.norm(X_l,axis=1).reshape(-1,1)\n",
    "        X_r = X_r/np.linalg.norm(X_r,axis=1).reshape(-1,1)\n",
    "\n",
    "        X_t = X[~s_r]\n",
    "        X_b = X[s_r]\n",
    "\n",
    "        X_t = X_t/np.linalg.norm(X_t,axis=0).reshape(1,-1)\n",
    "        X_b = X_b/np.linalg.norm(X_b,axis=0).reshape(1,-1)\n",
    "    \n",
    "        #compute cost matricies and cost vectors \n",
    "        #columns\n",
    "        Adj_b = 1-abs(X_b.T@X_b)\n",
    "        Adj_t = 1-abs(X_t.T@X_t)\n",
    "        f_col = np.sum(Adj_b[:,s_c],axis=1)/np.count_nonzero(s_c) - np.sum(Adj_t[:,~s_c],axis=1)/np.count_nonzero(~s_c)\n",
    "        #f_col = np.sum(Adj_b[:,s_c],axis=1) - np.sum(Adj_t[:,~s_c],axis=1)\n",
    "        \n",
    "        Adj_l = 1-abs(X_l@X_l.T)\n",
    "        Adj_r = 1-abs(X_r@X_r.T)\n",
    "        f_row = np.sum(Adj_l[:,s_r],axis=1)/np.count_nonzero(s_r) - np.sum(Adj_r[:,~s_r],axis=1)/np.count_nonzero(~s_r)\n",
    "        #f_row = np.sum(Adj_l[:,s_r],axis=1) - np.sum(Adj_r[:,~s_r],axis=1)\n",
    "        \n",
    "\n",
    "        \n",
    "        #try to minimize -> choose smaller one\n",
    "        \n",
    "        ord_c = d_in_c+np.argsort(f_col[d_in_c:X.shape[1]-d_in_a])\n",
    "        ord_r = d_out_a+np.argsort(f_row[d_out_a:X.shape[0]-d_out_c])\n",
    "        s_c[d_in_c:X.shape[1]-d_in_a]=0\n",
    "        s_r[d_out_a:X.shape[0]-d_out_c]=0\n",
    "        v_c =ord_c[f_col[ord_c]<v_reg_col]\n",
    "        v_r =ord_r[f_col[ord_r]<v_reg_row]\n",
    "        s_c[v_c]=1\n",
    "        s_r[v_r]=1\n",
    "        \n",
    "        #print(f_col)\n",
    "        #print(f_row)\n",
    "        \n",
    "        #s_c[:]=0\n",
    "        #s_c[f_col<0]=1\n",
    "        #s_r[:]=0\n",
    "        #s_r[f_row<0]=1\n",
    "        \n",
    "        \n",
    "        fs[n+1] = f(X,s_c,s_r)\n",
    "        s_cols[n+1]=s_c\n",
    "        s_rows[n+1]=s_r\n",
    "\n",
    "    return fs,s_cols,s_rows,X,s_c[d_in_c:X.shape[1]-d_in_a],s_r[d_out_a:X.shape[0]-d_out_c]\n",
    "        \n"
   ]
  },
  {
   "cell_type": "markdown",
   "metadata": {},
   "source": []
  },
  {
   "cell_type": "code",
   "execution_count": null,
   "metadata": {},
   "outputs": [],
   "source": [
    "sys = Split.initial_mixed(T)\n",
    "stage_c=sys.causal_system.stages[k]\n",
    "stage_a=sys.anticausal_system.stages[k]\n",
    "fs,s_cols,s_rows,X,s_c,s_r = segment_matrix(stage_c,stage_a,N=20)"
   ]
  },
  {
   "cell_type": "raw",
   "metadata": {},
   "source": [
    "sys_ = Split.initial_sigmas_mixed(T)\n",
    "Split.split_sigmas_mixed(sys_,0,500,500)\n",
    "sys = Split.get_system_mixed(sys_)\n",
    "utils.check_dims(sys)\n",
    "utils.show_system(sys,mark_D=False)\n",
    "k=0\n",
    "stage_c=sys.causal_system.stages[k]\n",
    "stage_a=sys.anticausal_system.stages[k]\n",
    "fs,s_cols,s_rows,X = segment_matrix(stage_c,stage_a,N=10)"
   ]
  },
  {
   "cell_type": "code",
   "execution_count": null,
   "metadata": {},
   "outputs": [],
   "source": [
    "s_start_c,s_start_a = compute_sigmasf(X,s_cols[0],s_rows[0])\n",
    "s_end_c,s_end_a = compute_sigmasf(X,s_cols[-1],s_rows[-1])\n",
    "\n",
    "plt.subplot(1,2,1)\n",
    "plt.plot(s_start_c,label=\"start\")\n",
    "plt.plot(s_end_c,label=\"end\")\n",
    "plt.legend()\n",
    "plt.subplot(1,2,2)\n",
    "plt.plot(s_start_a,label=\"start\")\n",
    "plt.plot(s_end_a,label=\"end\")"
   ]
  },
  {
   "cell_type": "code",
   "execution_count": null,
   "metadata": {},
   "outputs": [],
   "source": [
    "plt.spy(s_cols)\n",
    "print(np.count_nonzero(s_cols[-1])/len(s_cols[-1]))"
   ]
  },
  {
   "cell_type": "code",
   "execution_count": null,
   "metadata": {},
   "outputs": [],
   "source": [
    "plt.spy(s_rows)\n",
    "print(np.count_nonzero(s_cols[-1])/len(s_cols[-1]))"
   ]
  },
  {
   "cell_type": "code",
   "execution_count": null,
   "metadata": {},
   "outputs": [],
   "source": [
    "plt.plot(fs)"
   ]
  },
  {
   "cell_type": "markdown",
   "metadata": {},
   "source": [
    "## Some helping function to apply permutation and store it"
   ]
  },
  {
   "cell_type": "code",
   "execution_count": null,
   "metadata": {},
   "outputs": [],
   "source": [
    "def get_permutations(s_c,s_r):\n",
    "    p_col = np.hstack([np.nonzero(s_c),np.nonzero(~s_c)]).reshape(-1)\n",
    "    p_row = np.hstack([np.nonzero(~s_r),np.nonzero(s_r)]).reshape(-1)\n",
    "    i_in =np.count_nonzero(s_c)\n",
    "    i_out=np.count_nonzero(s_r)\n",
    "    return p_col,p_row,i_in,i_out\n",
    "\n",
    "def permute_stage(stage,p_col,p_row):\n",
    "    stage.B_tilde = stage.B_tilde[:,p_col]\n",
    "    stage.C_tilde = stage.C_tilde[p_row,:]\n",
    "    stage.D_matrix = stage.D_matrix[:,p_col][p_row]\n",
    "    \n",
    "def collect_permutations(P_col,P_row,k,p_col,p_row,system):\n",
    "    \"\"\"\n",
    "    Function to collect the permutations in P_col and P_row\n",
    "    \n",
    "    P_col:    total permutation of columns\n",
    "    P_row:    total permutation of columns\n",
    "    l:        index of stage\n",
    "    p_col:    new collumn permuation\n",
    "    p_row:    new row permutation\n",
    "    \"\"\"\n",
    "    \n",
    "    dims_in = system.dims_in\n",
    "    dims_out = system.dims_out\n",
    "    \n",
    "    I = np.sum(dims_in[:k]).astype(int)\n",
    "    P_col[I:I+dims_in[k]]=P_col[I:I+dims_in[k]][p_col]\n",
    "    I = np.sum(dims_out[:k]).astype(int)\n",
    "    P_row[I:I+dims_out[k]]=P_row[I:I+dims_out[k]][p_row]"
   ]
  },
  {
   "cell_type": "code",
   "execution_count": null,
   "metadata": {},
   "outputs": [],
   "source": [
    "N_col=5\n",
    "N_row=4\n",
    "s_c = np.array([0,1]*N_col,dtype=bool)\n",
    "s_r = np.array([0,1]*N_row,dtype=bool)\n",
    "A = np.zeros((1,1))\n",
    "B = np.zeros((1,2*N_col))\n",
    "C = np.zeros((2*N_row,1))\n",
    "D = np.zeros((2*N_row,2*N_col))\n",
    "\n",
    "B[:,s_c]=np.arange(1,N_col+1)\n",
    "B[:,~s_c]=np.arange(N_col+1,2*N_col+1)\n",
    "\n",
    "C[s_r]=np.arange(1,N_row+1).reshape(-1,1)\n",
    "C[s_r]=np.arange(N_row+1,2*N_row+1).reshape(-1,1)\n",
    "\n",
    "index = np.arange(4*N_col*N_row,dtype=int).reshape(2*N_row,2*N_col)\n",
    "D.reshape(-1)[index[s_r][:,s_c].reshape(-1)]=(np.arange(1,N_col+1).reshape(1,-1)*np.arange(1,N_row+1).reshape(-1,1)).reshape(-1)\n",
    "D.reshape(-1)[index[~s_r][:,~s_c].reshape(-1)]=(np.arange(N_col+1,2*N_col+1).reshape(1,-1)*np.arange(N_row+1,2*N_row+1).reshape(-1,1)).reshape(-1)\n",
    "#D[s_r][:,s_c]#D[~s_r][:,~s_c]\n",
    "\n",
    "stage = Split.Stage_sigmas(A,B,C,D,np.ones(1),np.ones(1))\n",
    "p_col,p_row,i_in,i_out = get_permutations(s_c,s_r)\n",
    "permute_stage(stage,p_col,p_row)\n",
    "display(stage.A_matrix)\n",
    "display(stage.B_matrix)\n",
    "display(stage.C_matrix)\n",
    "display(stage.D_matrix)\n",
    "\n",
    "\n",
    "system = StrictSystem(stages=[\n",
    "    Split.Stage_sigmas(np.zeros((1,0)),np.zeros((1,1)),np.zeros((2,0)),np.zeros((2,1)),np.zeros(1),np.zeros(0)),\n",
    "    stage,\n",
    "    Split.Stage_sigmas(np.zeros((0,1)),np.zeros((0,1)),np.zeros((2,1)),np.zeros((2,1)),np.zeros(1),np.zeros(0))\n",
    "],causal=True)\n",
    "utils.show_system(system,mark_D=False)\n",
    "\n",
    "T=linalg.block_diag(np.zeros((2,1)),D,np.zeros((2,1)))\n",
    "P_col = np.arange(T.shape[1],dtype=int)\n",
    "P_row = np.arange(T.shape[0],dtype=int)\n",
    "collect_permutations(P_col,P_row,1,p_col,p_row,system)\n",
    "display(P_col)\n",
    "display(P_row)"
   ]
  },
  {
   "cell_type": "code",
   "execution_count": null,
   "metadata": {},
   "outputs": [],
   "source": [
    "plt.matshow(T[P_row][:,P_col])"
   ]
  },
  {
   "cell_type": "markdown",
   "metadata": {},
   "source": [
    "## combine it to algorithm"
   ]
  },
  {
   "cell_type": "code",
   "execution_count": null,
   "metadata": {},
   "outputs": [],
   "source": [
    "dims_in =  np.array([6, 3, 5, 2])*3\n",
    "dims_out = np.array([2, 5, 3, 6])*3\n",
    "\n",
    "#create orthogonal vectors and normalize them to the size of the matix (i.e. norm(block)/size(block) = const\n",
    "#Us =np.vstack([np.linalg.svd(np.random.rand(dims_out[i],dims_in[i]))[0][:,1:4]*dims_out[i] for i in range(len(dims_in))])\n",
    "#Vts=np.hstack([np.linalg.svd(np.random.rand(dims_out[i],dims_in[i]))[2][1:4,:]*dims_in[i] for i in range(len(dims_in))])\n",
    "\n",
    "#create orthogonal vectors and normalize them to the size of the matix (i.e. norm(block)/size(block) = const\n",
    "Us =np.vstack([scipy.stats.ortho_group.rvs(dims_out[i])[:,:3]*dims_out[i] for i in range(len(dims_in))])\n",
    "Vts=np.hstack([scipy.stats.ortho_group.rvs(dims_in[i])[:3,:]*dims_in[i] for i in range(len(dims_in))])\n",
    "\n",
    "\n",
    "\n",
    "lower = Us[:,:1]@Vts[:1,:]\n",
    "diag = Us[:,1:2]@Vts[1:2,:]\n",
    "upper = Us[:,2:3]@Vts[2:3,:]\n",
    "matrix = np.zeros_like(diag)\n",
    "a=0;b=0\n",
    "for i in range(len(dims_in)):\n",
    "    matrix[a:a+dims_out[i],:b]            =lower[a:a+dims_out[i],:b]\n",
    "    matrix[a:a+dims_out[i],b:b+dims_in[i]]=diag[a:a+dims_out[i],b:b+dims_in[i]]\n",
    "    matrix[a:a+dims_out[i],b+dims_in[i]:] =upper[a:a+dims_out[i],b+dims_in[i]:]\n",
    "    a+=dims_out[i];b+=dims_in[i]\n",
    "plt.figure()\n",
    "plt.matshow(matrix)"
   ]
  },
  {
   "cell_type": "code",
   "execution_count": null,
   "metadata": {},
   "outputs": [],
   "source": [
    "#T = np.random.rand(32,32)\n",
    "#T =np.arange(1,32).reshape(1,-1)*np.arange(1,32).reshape(-1,1)\n",
    "T = matrix\n",
    "#T = mats = get_mobilenet_target_mats()[0]\n",
    "sys = Split.initial_sigmas_mixed(T)\n",
    "utils.show_system(sys,mark_D=False)\n",
    "utils.check_dims(sys)"
   ]
  },
  {
   "cell_type": "code",
   "execution_count": null,
   "metadata": {},
   "outputs": [],
   "source": [
    "def identification_split_system(sys,N):\n",
    "    \n",
    "    P_col = np.arange(np.sum(sys.dims_in) ,dtype=int)\n",
    "    P_row = np.arange(np.sum(sys.dims_out),dtype=int)\n",
    "    \n",
    "    Ps_col =np.zeros((N,P_col.size),dtype=int)\n",
    "    Ps_row =np.zeros((N,P_row.size),dtype=int)\n",
    "    for n in range(N):\n",
    "        print(n)\n",
    "        for k in range(len(sys.causal_system.stages)-1,-1,-1): #reverse ordering makes indexing easier \n",
    "            i_in =sys.causal_system.stages[k].dim_in//2\n",
    "            i_out=sys.causal_system.stages[k].dim_out//2\n",
    "            Split.split_sigmas_mixed(sys,k,i_in,i_out)\n",
    "    "
   ]
  },
  {
   "cell_type": "code",
   "execution_count": null,
   "metadata": {},
   "outputs": [],
   "source": [
    "sys = Split.initial_sigmas_mixed(T)\n",
    "identification_split_system(sys,3)\n",
    "utils.check_dims(sys)\n",
    "utils.show_system(sys)"
   ]
  },
  {
   "cell_type": "code",
   "execution_count": null,
   "metadata": {},
   "outputs": [],
   "source": [
    "def identification_split_clustering(sys,N):\n",
    "    \n",
    "    P_col = np.arange(np.sum(sys.dims_in) ,dtype=int)\n",
    "    P_row = np.arange(np.sum(sys.dims_out),dtype=int)\n",
    "    \n",
    "    Ps_col =np.zeros((N,P_col.size),dtype=int)\n",
    "    Ps_row =np.zeros((N,P_row.size),dtype=int)\n",
    "    for n in range(N):\n",
    "        print(n)\n",
    "        for k in range(len(sys.causal_system.stages)-1,-1,-1): #reverse ordering makes indexing easier \n",
    "            stage_c=sys.causal_system.stages[k]\n",
    "            stage_a=sys.anticausal_system.stages[k]\n",
    "            fs,s_cols,s_rows,X,s_c,s_r = segment_matrix(stage_c,stage_a,N=10)\n",
    "            \n",
    "            assert len(s_c)==stage_c.dim_in ,\"dims_in causal do not match s_c\"\n",
    "            assert len(s_r)==stage_c.dim_out,\"dims_out causal do not match s_r\"\n",
    "            assert len(s_c)==stage_a.dim_in ,\"dims_in antic do not match s_c\"\n",
    "            assert len(s_r)==stage_a.dim_out,\"dims_out antic do not match s_r\"\n",
    "            p_col,p_row,i_in,i_out = get_permutations(s_c,s_r)\n",
    "            permute_stage(stage_c,p_col,p_row)\n",
    "            permute_stage(stage_a,p_col,p_row)\n",
    "            collect_permutations(P_col,P_row,k,p_col,p_row,sys)\n",
    "            \n",
    "            Split.split_sigmas_mixed(sys,k,i_in,i_out)\n",
    "    \n",
    "    return P_col,P_row"
   ]
  },
  {
   "cell_type": "code",
   "execution_count": null,
   "metadata": {},
   "outputs": [],
   "source": [
    "gamma = 1e2\n",
    "sys = Split.initial_sigmas_mixed(T)\n",
    "P_col,P_row = identification_split_clustering(sys,2)\n",
    "utils.check_dims(sys)\n",
    "utils.show_system(sys)"
   ]
  },
  {
   "cell_type": "code",
   "execution_count": null,
   "metadata": {},
   "outputs": [],
   "source": [
    "plt.subplot(1,2,1)\n",
    "plt.scatter(np.arange(len(P_col)),P_row)\n",
    "plt.subplot(1,2,2)\n",
    "plt.scatter(np.arange(len(P_row)),P_row)"
   ]
  },
  {
   "cell_type": "code",
   "execution_count": null,
   "metadata": {},
   "outputs": [],
   "source": [
    "sigmas_causal =[stage.s_in for stage in sys.causal_system.stages][1:]\n",
    "sigmas_anticausal =[stage.s_in for stage in sys.anticausal_system.stages][:-1]\n",
    "#print(sigmas_causal)\n",
    "#print(sigmas_anticausal)\n",
    "plt.subplot(1,2,1)\n",
    "for sig in sigmas_causal:\n",
    "    plt.scatter(np.arange(len(sig)),sig)\n",
    "plt.subplot(1,2,2)\n",
    "for sig in sigmas_anticausal:\n",
    "    plt.scatter(np.arange(len(sig)),sig)"
   ]
  },
  {
   "cell_type": "code",
   "execution_count": null,
   "metadata": {},
   "outputs": [],
   "source": [
    "sigmas_anticausal"
   ]
  },
  {
   "cell_type": "code",
   "execution_count": null,
   "metadata": {},
   "outputs": [],
   "source": [
    "plt.matshow(T[P_row][:,P_col])"
   ]
  },
  {
   "cell_type": "code",
   "execution_count": null,
   "metadata": {},
   "outputs": [],
   "source": [
    "plt.matshow(T[P_row][:,P_col]-sys.to_matrix())\n",
    "np.max(np.abs(T[P_row][:,P_col]-sys.to_matrix()))"
   ]
  },
  {
   "cell_type": "code",
   "execution_count": null,
   "metadata": {},
   "outputs": [],
   "source": [
    "utils.check_dims(sys)"
   ]
  },
  {
   "cell_type": "code",
   "execution_count": null,
   "metadata": {},
   "outputs": [],
   "source": []
  }
 ],
 "metadata": {
  "kernelspec": {
   "display_name": "Python 3",
   "language": "python",
   "name": "python3"
  },
  "language_info": {
   "codemirror_mode": {
    "name": "ipython",
    "version": 3
   },
   "file_extension": ".py",
   "mimetype": "text/x-python",
   "name": "python",
   "nbconvert_exporter": "python",
   "pygments_lexer": "ipython3",
   "version": "3.7.12"
  }
 },
 "nbformat": 4,
 "nbformat_minor": 4
}
