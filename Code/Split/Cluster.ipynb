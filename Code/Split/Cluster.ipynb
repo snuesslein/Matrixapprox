{
 "cells": [
  {
   "cell_type": "markdown",
   "metadata": {},
   "source": [
    "# Clustering collums and rows\n",
    "\n",
    "The idea is to cluster collumns and rows\n",
    "\n",
    "Here we have the objective function \n",
    "\n"
   ]
  },
  {
   "cell_type": "code",
   "execution_count": null,
   "metadata": {},
   "outputs": [],
   "source": [
    "import numpy as np\n",
    "import tvsclib.utils as utils\n",
    "import Split\n",
    "import matplotlib.pyplot as plt\n",
    "\n",
    "import torchvision.models as models\n",
    "import torch"
   ]
  },
  {
   "cell_type": "code",
   "execution_count": null,
   "metadata": {},
   "outputs": [],
   "source": [
    "def get_mobilenet_target_mats():\n",
    "    target_mats = []\n",
    "    # Load the model\n",
    "    model = models.mobilenet_v2(pretrained=True)\n",
    "    # Put moel into eval mode\n",
    "    model.eval()\n",
    "    for layer in model.classifier:\n",
    "        if isinstance(layer, torch.nn.Linear):\n",
    "            # Obtain the weights of this layer\n",
    "            weights = layer.weight.detach().numpy()\n",
    "            target_mats.append(weights)\n",
    "    return target_mats"
   ]
  },
  {
   "cell_type": "code",
   "execution_count": null,
   "metadata": {},
   "outputs": [],
   "source": [
    "T = np.random.rand(32,32)\n",
    "#T = mats = get_mobilenet_target_mats()[0]\n",
    "sys = Split.initial_mixed(T)\n",
    "utils.show_system(sys,mark_D=False)\n",
    "utils.check_dims(sys)"
   ]
  },
  {
   "cell_type": "code",
   "execution_count": null,
   "metadata": {},
   "outputs": [],
   "source": [
    "#get matricies\n",
    "k = 0\n",
    "stage_c=sys.causal_system.stages[k]\n",
    "stage_a=sys.anticausal_system.stages[k]\n",
    "Ac = stage_c.A_matrix\n",
    "Bc = stage_c.B_matrix\n",
    "Cc = stage_c.C_matrix\n",
    "\n",
    "Aa = stage_a.A_matrix\n",
    "Ba = stage_a.B_matrix\n",
    "Ca = stage_a.C_matrix\n",
    "\n",
    "D = stage_c.D_matrix\n",
    "\n",
    "#dims of states\n",
    "\n",
    "(d_out_c,d_in_c) = Ac.shape\n",
    "\n",
    "(d_out_a,d_in_a) = Aa.shape\n",
    "\n",
    "X = np.block([[np.zeros((d_out_a,d_in_c)),Ba,Aa ],\n",
    "              [Cc,D,Ca],\n",
    "              [Ac,Bc,np.zeros((d_out_c,d_in_a))]\n",
    "    \n",
    "])\n",
    "\n",
    "plt.matshow(X)\n",
    "\n",
    "s_c = np.zeros(X.shape[1],dtype=bool)\n",
    "s_c[:d_in_c+D.shape[1]//2]=1\n",
    "s_r = np.zeros(X.shape[0],dtype=bool)\n",
    "s_r[d_out_a+D.shape[0]//2:]=1"
   ]
  },
  {
   "cell_type": "code",
   "execution_count": null,
   "metadata": {},
   "outputs": [],
   "source": [
    "X_l = X[:,s_c]\n",
    "X_r = X[:,~s_c]\n",
    "\n",
    "X_l = X_l/np.linalg.norm(X_l,axis=1).reshape(-1,1)\n",
    "X_r = X_r/np.linalg.norm(X_r,axis=1).reshape(-1,1)\n",
    "\n",
    "X_t = X[~s_r]\n",
    "X_b = X[s_r]\n",
    "\n",
    "X_t = X_t/np.linalg.norm(X_t,axis=0).reshape(1,-1)\n",
    "X_b = X_b/np.linalg.norm(X_b,axis=0).reshape(1,-1)"
   ]
  },
  {
   "cell_type": "code",
   "execution_count": null,
   "metadata": {},
   "outputs": [],
   "source": [
    "X_ = X_b #top or bottom\n",
    "print(np.diag(X_.T@X_))\n",
    "plt.matshow(X_.T@X_)"
   ]
  },
  {
   "cell_type": "code",
   "execution_count": null,
   "metadata": {},
   "outputs": [],
   "source": [
    "X_ = X_r  #left or right\n",
    "print(np.diag(abs(X_@X_.T)))\n",
    "plt.matshow(X_@X_.T)"
   ]
  },
  {
   "cell_type": "code",
   "execution_count": null,
   "metadata": {},
   "outputs": [],
   "source": [
    "plt.matshow(1-abs(X_@X_.T))"
   ]
  },
  {
   "cell_type": "code",
   "execution_count": null,
   "metadata": {},
   "outputs": [],
   "source": [
    "Adj = 1-abs(X_b.T@X_b)\n",
    "np.sum(Adj[:,s_c],axis=1)"
   ]
  },
  {
   "cell_type": "code",
   "execution_count": null,
   "metadata": {},
   "outputs": [],
   "source": [
    "Adj = 1-abs(X_t.T@X_t)\n",
    "np.sum(Adj[:,~s_c],axis=1)"
   ]
  },
  {
   "cell_type": "code",
   "execution_count": null,
   "metadata": {},
   "outputs": [],
   "source": [
    "Adj = 1-abs(X_l@X_l.T)\n",
    "np.sum(Adj[:,s_r],axis=1)"
   ]
  },
  {
   "cell_type": "code",
   "execution_count": null,
   "metadata": {},
   "outputs": [],
   "source": [
    "Adj = 1-abs(X_r@X_r.T)\n",
    "np.sum(Adj[:,~s_r],axis=1)"
   ]
  },
  {
   "cell_type": "code",
   "execution_count": null,
   "metadata": {},
   "outputs": [],
   "source": [
    "def f(X,s_col,s_row):\n",
    "    return np.linalg.norm(X[s_row][:,s_col],'nuc')+np.linalg.norm(X[~s_row][:,~s_col],'nuc')\n",
    "\n",
    "def compute_sigmasf(X,s_col,s_row):\n",
    "    return np.linalg.svd(X[s_row][:,s_col],compute_uv=False), np.linalg.svd(X[~s_row][:,~s_col],compute_uv=False)\n",
    "\n",
    "def show_matrices(X,s_col,s_row):\n",
    "    plt.matshow(X[s_row][:,s_col],fignum=1)\n",
    "\n",
    "    plt.matshow(X[~s_row][:,~s_col],fignum=2)\n",
    "\n",
    "f_reg_row = lambda x: -gamma*x**3\n",
    "f_reg_col = lambda x: -gamma*x**3\n",
    "\n",
    "gamma = 1e8 #maxbee have two different regularizations for rows and collumns"
   ]
  },
  {
   "cell_type": "code",
   "execution_count": null,
   "metadata": {},
   "outputs": [],
   "source": [
    "def segment_matrix(stage_causal,stage_anticausal,N=50):\n",
    "    \n",
    "    Ac = stage_causal.A_matrix\n",
    "    Bc = stage_causal.B_matrix\n",
    "    Cc = stage_causal.C_matrix\n",
    "\n",
    "    Aa = stage_anticausal.A_matrix\n",
    "    Ba = stage_anticausal.B_matrix\n",
    "    Ca = stage_anticausal.C_matrix\n",
    "\n",
    "    D = stage_c.D_matrix\n",
    "    \n",
    "    #regularization vector\n",
    "    v_reg_col = f_reg_col(np.linspace(-1,1,D.shape[1]))\n",
    "    v_reg_row = f_reg_row(np.linspace(-1,1,D.shape[0]))\n",
    "\n",
    "    #dims of states\n",
    "    (d_out_c,d_in_c) = Ac.shape\n",
    "    (d_out_a,d_in_a) = Aa.shape\n",
    "\n",
    "    #setup matrix\n",
    "    X = np.block([[np.zeros((d_out_a,d_in_c)),Ba,Aa ],\n",
    "                  [Cc,D,Ca],\n",
    "                  [Ac,Bc,np.zeros((d_out_c,d_in_a))]\n",
    "    \n",
    "    ])\n",
    "\n",
    "    #initialize segmentation\n",
    "    s_c = np.zeros(X.shape[1],dtype=bool)\n",
    "    s_c[:d_in_c+D.shape[1]//2]=1\n",
    "    s_r = np.zeros(X.shape[0],dtype=bool)\n",
    "    s_r[d_out_a+D.shape[0]//2:]=1\n",
    "    \n",
    "    \n",
    "    fs = np.zeros(N+1)\n",
    "    s_cols=np.zeros((N+1,X.shape[1]),dtype=bool) \n",
    "    s_rows=np.zeros((N+1,X.shape[0]),dtype=bool) \n",
    "    \n",
    "    s_cols[0]=s_c\n",
    "    s_rows[0]=s_r\n",
    "    fs[0]=f(X,s_c,s_r)\n",
    "    \n",
    "    for n in range(N):\n",
    "        #normlize\n",
    "        X_l = X[:,s_c]\n",
    "        X_r = X[:,~s_c]\n",
    "\n",
    "        X_l = X_l/np.linalg.norm(X_l,axis=1).reshape(-1,1)\n",
    "        X_r = X_r/np.linalg.norm(X_r,axis=1).reshape(-1,1)\n",
    "\n",
    "        X_t = X[~s_r]\n",
    "        X_b = X[s_r]\n",
    "\n",
    "        X_t = X_t/np.linalg.norm(X_t,axis=0).reshape(1,-1)\n",
    "        X_b = X_b/np.linalg.norm(X_b,axis=0).reshape(1,-1)\n",
    "    \n",
    "        #compute cost matricies and cost vectors \n",
    "        #columns\n",
    "        Adj_b = 1-abs(X_b.T@X_b)\n",
    "        Adj_t = 1-abs(X_t.T@X_t)\n",
    "        f_col = np.sum(Adj_b[:,s_c],axis=1) - np.sum(Adj_t[:,~s_c],axis=1)\n",
    "        \n",
    "        Adj_l = 1-abs(X_l@X_l.T)\n",
    "        Adj_r = 1-abs(X_r@X_r.T)\n",
    "        f_row = np.sum(Adj_l[:,s_r],axis=1) - np.sum(Adj_r[:,~s_r],axis=1)\n",
    "        \n",
    "\n",
    "        \n",
    "        #try to minimize -> choose smaller one\n",
    "        \n",
    "        ord_c = d_in_c+np.argsort(f_col[d_in_c:X.shape[1]-d_in_a])\n",
    "        ord_r = d_out_a+np.argsort(f_row[d_out_a:X.shape[0]-d_out_c])\n",
    "        s_c[d_in_c:X.shape[1]-d_in_a]=0\n",
    "        s_r[d_out_a:X.shape[0]-d_out_c]=0\n",
    "        v_c =ord_c[f_col[ord_c]<v_reg_col]\n",
    "        v_r =ord_r[f_col[ord_r]<v_reg_row]\n",
    "        s_c[v_c]=1\n",
    "        s_r[v_r]=1\n",
    "        \n",
    "        #print(f_col)\n",
    "        #print(f_row)\n",
    "        \n",
    "        #s_c[:]=0\n",
    "        #s_c[f_col<0]=1\n",
    "        #s_r[:]=0\n",
    "        #s_r[f_row<0]=1\n",
    "        \n",
    "        \n",
    "        fs[n+1] = f(X,s_c,s_r)\n",
    "        s_cols[n+1]=s_c\n",
    "        s_rows[n+1]=s_r\n",
    "\n",
    "    return fs,s_cols,s_rows,X\n",
    "        \n"
   ]
  },
  {
   "cell_type": "code",
   "execution_count": null,
   "metadata": {},
   "outputs": [],
   "source": [
    "sys = Split.initial_mixed(T)\n",
    "stage_c=sys.causal_system.stages[k]\n",
    "stage_a=sys.anticausal_system.stages[k]\n",
    "fs,s_cols,s_rows,X = segment_matrix(stage_c,stage_a,N=10)"
   ]
  },
  {
   "cell_type": "raw",
   "metadata": {},
   "source": [
    "sys_ = Split.initial_sigmas_mixed(T)\n",
    "Split.split_sigmas_mixed(sys_,0,500,500)\n",
    "sys = Split.get_system_mixed(sys_)\n",
    "utils.check_dims(sys)\n",
    "utils.show_system(sys,mark_D=False)\n",
    "k=0\n",
    "stage_c=sys.causal_system.stages[k]\n",
    "stage_a=sys.anticausal_system.stages[k]\n",
    "fs,s_cols,s_rows,X = segment_matrix(stage_c,stage_a,N=10)"
   ]
  },
  {
   "cell_type": "code",
   "execution_count": null,
   "metadata": {},
   "outputs": [],
   "source": [
    "s_start = np.linalg.svd(X[s_rows[0]][:,s_cols[0]],compute_uv=False)\n",
    "s_end = np.linalg.svd(X[s_rows[-1]][:,s_cols[-1]],compute_uv=False)\n",
    "\n",
    "plt.plot(s_start,label=\"start\")\n",
    "plt.plot(s_end,label=\"end\")\n",
    "plt.legend()"
   ]
  },
  {
   "cell_type": "code",
   "execution_count": null,
   "metadata": {},
   "outputs": [],
   "source": [
    "s_start_c,s_start_a = compute_sigmasf(X,s_cols[0],s_rows[0])\n",
    "s_end_c,s_end_a = compute_sigmasf(X,s_cols[-1],s_rows[-1])\n",
    "\n",
    "plt.subplot(1,2,1)\n",
    "plt.plot(s_start_c,label=\"start\")\n",
    "plt.plot(s_end_c,label=\"end\")\n",
    "plt.legend()\n",
    "plt.subplot(1,2,2)\n",
    "plt.plot(s_start_a,label=\"start\")\n",
    "plt.plot(s_end_a,label=\"end\")"
   ]
  },
  {
   "cell_type": "code",
   "execution_count": null,
   "metadata": {},
   "outputs": [],
   "source": [
    "plt.spy(s_cols)"
   ]
  },
  {
   "cell_type": "code",
   "execution_count": null,
   "metadata": {},
   "outputs": [],
   "source": [
    "plt.spy(s_rows)"
   ]
  },
  {
   "cell_type": "code",
   "execution_count": null,
   "metadata": {},
   "outputs": [],
   "source": [
    "plt.plot(fs)"
   ]
  },
  {
   "cell_type": "code",
   "execution_count": null,
   "metadata": {},
   "outputs": [],
   "source": [
    "show_matrices(X,s_rows[-1],s_cols[-1])"
   ]
  },
  {
   "cell_type": "code",
   "execution_count": null,
   "metadata": {},
   "outputs": [],
   "source": [
    "plt.matshow(X[s_r][:,s_c])"
   ]
  },
  {
   "cell_type": "code",
   "execution_count": null,
   "metadata": {},
   "outputs": [],
   "source": [
    "plt.matshow(X[~s_r][:,~s_c])"
   ]
  }
 ],
 "metadata": {
  "kernelspec": {
   "display_name": "Python 3",
   "language": "python",
   "name": "python3"
  },
  "language_info": {
   "codemirror_mode": {
    "name": "ipython",
    "version": 3
   },
   "file_extension": ".py",
   "mimetype": "text/x-python",
   "name": "python",
   "nbconvert_exporter": "python",
   "pygments_lexer": "ipython3",
   "version": "3.7.12"
  }
 },
 "nbformat": 4,
 "nbformat_minor": 4
}
