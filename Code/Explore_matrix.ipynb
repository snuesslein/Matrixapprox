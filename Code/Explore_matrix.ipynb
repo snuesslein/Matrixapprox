{
 "cells": [
  {
   "cell_type": "code",
   "execution_count": null,
   "metadata": {},
   "outputs": [],
   "source": [
    "import torchvision.models as models\n",
    "import torch\n",
    "\n",
    "import numpy as np\n",
    "import matplotlib.pyplot as plt\n"
   ]
  },
  {
   "cell_type": "code",
   "execution_count": null,
   "metadata": {},
   "outputs": [],
   "source": [
    "def get_mobilenet_target_mats():\n",
    "    target_mats = []\n",
    "    # Load the model\n",
    "    model = models.mobilenet_v2(pretrained=True)\n",
    "    # Put moel into eval mode\n",
    "    model.eval()\n",
    "    for layer in model.classifier:\n",
    "        if isinstance(layer, torch.nn.Linear):\n",
    "            # Obtain the weights of this layer\n",
    "            weights = layer.weight.detach().numpy()\n",
    "            target_mats.append(weights)\n",
    "    return target_mats"
   ]
  },
  {
   "cell_type": "code",
   "execution_count": null,
   "metadata": {},
   "outputs": [],
   "source": [
    "mats = get_mobilenet_target_mats()"
   ]
  },
  {
   "cell_type": "code",
   "execution_count": null,
   "metadata": {},
   "outputs": [],
   "source": [
    "mats[0]"
   ]
  },
  {
   "cell_type": "markdown",
   "metadata": {},
   "source": [
    "# Show the matrix"
   ]
  },
  {
   "cell_type": "code",
   "execution_count": null,
   "metadata": {},
   "outputs": [],
   "source": [
    "plt.matshow(mats[0])"
   ]
  },
  {
   "cell_type": "markdown",
   "metadata": {},
   "source": [
    "# Some different properties"
   ]
  },
  {
   "cell_type": "code",
   "execution_count": null,
   "metadata": {},
   "outputs": [],
   "source": [
    "print('max:',np.abs(mats[0]).max())\n",
    "print('min:',np.abs(mats[0]).min())"
   ]
  },
  {
   "cell_type": "code",
   "execution_count": null,
   "metadata": {},
   "outputs": [],
   "source": [
    "u, s, vh = np.linalg.svd(mats[0])\n",
    "plt.plot(s)"
   ]
  },
  {
   "cell_type": "code",
   "execution_count": null,
   "metadata": {},
   "outputs": [],
   "source": [
    "print('max s:',s.max())\n",
    "print('min s:',s.min())"
   ]
  },
  {
   "cell_type": "markdown",
   "metadata": {},
   "source": [
    "# Calculate the determinant of submatricies\n",
    "\n",
    "We want submatrices that do not have full Rank. This means that the determinant in 0.\n",
    "So lets have a look for different sizes"
   ]
  },
  {
   "cell_type": "code",
   "execution_count": null,
   "metadata": {},
   "outputs": [],
   "source": [
    "def calc_submatdet(A,s):\n",
    "    dets = np.zeros(np.array(mats[0].shape)-(s-1))\n",
    "    \n",
    "    for index, x in np.ndenumerate(dets):\n",
    "        dets[index]=np.linalg.det(A[index[0]:index[0]+s,index[1]:index[1]+s])\n",
    "    \n",
    "    return dets"
   ]
  },
  {
   "cell_type": "code",
   "execution_count": null,
   "metadata": {},
   "outputs": [],
   "source": [
    "dets = calc_submatdet(mats[0],7)\n",
    "plt.matshow(np.log(abs(dets)))\n",
    "plt.colorbar()"
   ]
  },
  {
   "cell_type": "markdown",
   "metadata": {},
   "source": [
    "## Considerations for using a certian value\n",
    "\n",
    "Possible Values\n",
    "- smallest $\\sigma$\n",
    "- product of all $\\sigma$s -> $\\text{det}(MM^T)$\n",
    "\n",
    "\n",
    "Sum of $\\sigma$s is not usefull, as we are interested in the smallest values. \n",
    "These are quite irellevant in a prosuct\n",
    "\n",
    "Upside of a product: not onl the samllest value is considered, but a large $\\sigma_1$ can also influence the results"
   ]
  },
  {
   "cell_type": "code",
   "execution_count": null,
   "metadata": {},
   "outputs": [],
   "source": [
    "def calc_submatgramdet(A,s):\n",
    "    dets = np.zeros(np.array(mats[0].shape)-(s-1))\n",
    "    \n",
    "    for index, x in np.ndenumerate(dets):\n",
    "        M = A[index[0]:index[0]+s,index[1]:index[1]+s]\n",
    "        dets[index]=np.linalg.det(M@M.T)\n",
    "    \n",
    "    return dets"
   ]
  },
  {
   "cell_type": "code",
   "execution_count": null,
   "metadata": {},
   "outputs": [],
   "source": [
    "dets = calc_submatgramdet(mats[0],7)\n",
    "plt.matshow(np.log10(abs(dets)))\n",
    "plt.colorbar()"
   ]
  },
  {
   "cell_type": "markdown",
   "metadata": {},
   "source": [
    "# Calculate the Hankel Rank for all points"
   ]
  },
  {
   "cell_type": "code",
   "execution_count": null,
   "metadata": {},
   "outputs": [],
   "source": [
    "#https://www.mikulskibartosz.name/how-to-display-a-progress-bar-in-jupyter-notebook/\n",
    "from IPython.display import clear_output\n",
    "\n",
    "def update_progress(progress):\n",
    "    bar_length = 20\n",
    "    if isinstance(progress, int):\n",
    "        progress = float(progress)\n",
    "    if not isinstance(progress, float):\n",
    "        progress = 0\n",
    "    if progress < 0:\n",
    "        progress = 0\n",
    "    if progress >= 1:\n",
    "        progress = 1\n",
    "\n",
    "    block = int(round(bar_length * progress))\n",
    "\n",
    "    clear_output(wait = True)\n",
    "    text = \"Progress: [{0}] {1:.1f}%\".format( \"#\" * block + \"-\" * (bar_length - block), progress * 100)\n",
    "    print(text)"
   ]
  },
  {
   "cell_type": "code",
   "execution_count": null,
   "metadata": {},
   "outputs": [],
   "source": [
    "def calc_ranks(A,s):\n",
    "    ranks = np.zeros(np.array(mats[0].shape)//s)\n",
    "    \n",
    "    cnt = 0\n",
    "    num = ranks.shape[0]*ranks.shape[1]\n",
    "    for index, x in np.ndenumerate(ranks):\n",
    "        \n",
    "        ranks[index]=np.linalg.matrix_rank(A[index[0]*s:,:index[1]*s+1])\n",
    "        cnt +=1\n",
    "        update_progress(cnt/num)\n",
    "    return ranks"
   ]
  },
  {
   "cell_type": "code",
   "execution_count": null,
   "metadata": {},
   "outputs": [],
   "source": [
    "if False:\n",
    "    ranks = calc_ranks(mats[0],10)\n",
    "    with open('ranks.npy', 'wb') as f:\n",
    "        np.save(f, ranks)\n",
    "else:    \n",
    "    with open('ranks.npy', 'rb') as f:\n",
    "        ranks = np.load(f)\n",
    "plt.matshow(np.log10(ranks))\n",
    "plt.colorbar()"
   ]
  },
  {
   "cell_type": "code",
   "execution_count": null,
   "metadata": {},
   "outputs": [],
   "source": [
    "ranks.max()"
   ]
  },
  {
   "cell_type": "markdown",
   "metadata": {},
   "source": [
    "# Calculate and visualize the spectra of submatrices\n",
    "\n",
    "General Idea:\n",
    "\n",
    "Get some Idea how the spectra of the submatrices look like and what a good Hankelrank should be.\n",
    "\n",
    "Goal:\n",
    "Get an informed guess how the rank of submatrices behave depending on the shape\n"
   ]
  },
  {
   "cell_type": "code",
   "execution_count": null,
   "metadata": {},
   "outputs": [],
   "source": [
    "def calc_spectra(A,N=100,shape = np.array([10,10])):  \n",
    "\n",
    "    Sigmas = np.zeros((N,shape.min()))\n",
    "    l =np.random.randint(0,size = N,high=A.shape[0]-shape[0])\n",
    "    j =np.random.randint(0,size = N,high=A.shape[1]-shape[1])\n",
    "    for i in range(N):\n",
    "        u, s, vh = np.linalg.svd(A[l[i]:l[i]+shape[0],j[i]:j[i]+shape[1]])\n",
    "        Sigmas[i,:]=s\n",
    "    return Sigmas\n",
    "    "
   ]
  },
  {
   "cell_type": "code",
   "execution_count": null,
   "metadata": {},
   "outputs": [],
   "source": [
    "N=200\n",
    "Sigmas = calc_spectra(mats[0],N=N,shape=np.array([5,5]))\n",
    "plt.figure()\n",
    "plt.scatter(Sigmas.flatten(),(np.linspace(0,1,N)*np.ones((Sigmas.shape[1],1))).T.flatten())\n",
    "#scatter plot: each matrix gets seperate own line\n",
    "plt.figure()\n",
    "v =plt.hist(Sigmas.flatten(), bins=100)"
   ]
  },
  {
   "cell_type": "code",
   "execution_count": null,
   "metadata": {},
   "outputs": [],
   "source": [
    "N = 30\n",
    "fig = plt.figure(figsize=(16,16))\n",
    "axs = fig.subplots(6, 6)\n",
    "\n",
    "shapes = np.array([5,10,20,50,100,200])\n",
    "for i,a in np.ndenumerate(axs):\n",
    "    shape=np.array([shapes[i[1]],shapes[i[0]]])\n",
    "    #add 2 plots to get an idea of the variance\n",
    "    Sigmas = calc_spectra(mats[0],N=N,shape=shape)\n",
    "    a.hist(Sigmas.flatten(), bins=100,alpha = 0.5)\n",
    "    Sigmas = calc_spectra(mats[0],N=N,shape=shape)\n",
    "    a.hist(Sigmas.flatten(), bins=100,alpha = 0.5)\n",
    "    text=\"h=\"+str(shape[0])+\" w=\"+str(shape[1])\n",
    "    a.set_title(text, fontsize=10,x=0.6, y=0.8)"
   ]
  },
  {
   "cell_type": "code",
   "execution_count": null,
   "metadata": {},
   "outputs": [],
   "source": [
    "N = 10\n",
    "fig = plt.figure(figsize=(16,16))\n",
    "axs = fig.subplots(6, 6)\n",
    "\n",
    "def calc_spectra_hankel(A,shape = np.array([10,10])):  \n",
    "    #Sigmas = np.zeros((N,shape.min()))\n",
    "    #for i in range(N):\n",
    "    u, s, vh = np.linalg.svd(A[-shape[0]:,:shape[1]])\n",
    "        #Sigmas[i,:]=s\n",
    "    return s\n",
    "\n",
    "shapes = np.array([50,100,200,250,500,800])\n",
    "for i,a in np.ndenumerate(axs):\n",
    "    shape=np.array([shapes[i[1]],shapes[i[0]]])\n",
    "    #add 2 plots to get an idea of the variance\n",
    "    #Sigmas = calc_spectra_hankel(mats[0],N=N,shape=shape,direc=+1)\n",
    "    #a.hist(Sigmas.flatten(), bins=100,alpha = 0.5)\n",
    "    Sigmas = calc_spectra_hankel(mats[0],shape=shape)\n",
    "    a.hist(Sigmas.flatten(), bins=100,alpha = 0.5)\n",
    "    text=\"h=\"+str(shape[0])+\" w=\"+str(shape[1])\n",
    "    a.set_title(text, fontsize=10,x=0.6, y=0.8)"
   ]
  },
  {
   "cell_type": "code",
   "execution_count": null,
   "metadata": {},
   "outputs": [],
   "source": []
  }
 ],
 "metadata": {
  "kernelspec": {
   "display_name": "Python 3",
   "language": "python",
   "name": "python3"
  },
  "language_info": {
   "codemirror_mode": {
    "name": "ipython",
    "version": 3
   },
   "file_extension": ".py",
   "mimetype": "text/x-python",
   "name": "python",
   "nbconvert_exporter": "python",
   "pygments_lexer": "ipython3",
   "version": "3.7.7"
  }
 },
 "nbformat": 4,
 "nbformat_minor": 4
}
