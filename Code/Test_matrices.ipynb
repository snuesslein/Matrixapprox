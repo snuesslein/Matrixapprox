{
 "cells": [
  {
   "cell_type": "code",
   "execution_count": null,
   "metadata": {},
   "outputs": [],
   "source": [
    "import torchvision.models as models\n",
    "import torch\n",
    "\n",
    "import numpy as np\n",
    "import matplotlib.pyplot as plt\n",
    "\n",
    "from tvsclib.strict_system import StrictSystem\n",
    "from tvsclib.stage import Stage\n",
    "from tvsclib.system_identification_svd import SystemIdentificationSVD\n",
    "from tvsclib.toeplitz_operator import ToeplitzOperator\n",
    "from tvsclib.mixed_system import MixedSystem"
   ]
  },
  {
   "cell_type": "code",
   "execution_count": null,
   "metadata": {},
   "outputs": [],
   "source": [
    "def get_mobilenet_target_mats():\n",
    "    target_mats = []\n",
    "    # Load the model\n",
    "    model = models.mobilenet_v2(pretrained=True)\n",
    "    # Put moel into eval mode\n",
    "    model.eval()\n",
    "    for layer in model.classifier:\n",
    "        if isinstance(layer, torch.nn.Linear):\n",
    "            # Obtain the weights of this layer\n",
    "            weights = layer.weight.detach().numpy()\n",
    "            target_mats.append(weights)\n",
    "    return target_mats"
   ]
  },
  {
   "cell_type": "code",
   "execution_count": null,
   "metadata": {},
   "outputs": [],
   "source": [
    "mats = get_mobilenet_target_mats()"
   ]
  },
  {
   "cell_type": "code",
   "execution_count": null,
   "metadata": {},
   "outputs": [],
   "source": [
    "mats[0]"
   ]
  },
  {
   "cell_type": "markdown",
   "metadata": {},
   "source": [
    "Calculate the cost of the stages\n",
    "\n",
    " \n",
    "\n",
    "$n$ is the state dimenstion\n",
    "\n",
    "$m$ is the input dimension\n",
    "\n",
    "$p$ is the output dimension\n",
    "\n",
    "causal:\n",
    "$$m_{k} n_{k+1} + m_{k} p_{k} + n_{k} n_{k+1} + n_{k} p_{k}$$\n",
    "\n",
    "anticausal:\n",
    "$$m_{k} n_{k-1} + m_{k} p_{k} + n_{k} n_{k-1} + n_{k} p_{k}$$\n"
   ]
  },
  {
   "cell_type": "raw",
   "metadata": {},
   "source": [
    "def cost_causal(system):\n",
    "    #note here: \n",
    "    #the definition of system.dims_state is a bit strange\n",
    "    #system.dims_state is shiftes down compared with system.dims_out/dims_in start\n",
    "    #or we can consider it as the output dim of the according state\n",
    "    m = np.array(system.dims_in)\n",
    "    n = np.array(system.dims_state) \n",
    "    p = np.array(system.dims_out)\n",
    "    c = m@n + m@p + n[:-1]@n[1:] + n[:-1]@p[1:]\n",
    "    \n",
    "    return c\n",
    "\n",
    "def cost_anticausal(system):\n",
    "    #note here: \n",
    "    #the definition of system.dims_state is a bit strange\n",
    "    #system.dims_state is shiftes down compared with system.dims_out/dims_in start\n",
    "    #or we can consider it as the output dim of the according state\n",
    "    m = np.array(system.dims_in)\n",
    "    n = np.array(system.dims_state) \n",
    "    p = np.array(system.dims_out)\n",
    "    c = m@n + m@p + n[:-1]@n[1:] + n[1:]@p[:-1]\n",
    "    \n",
    "    return c\n",
    "\n",
    "def cost(system):\n",
    "    if type(system) == MixedSystem:\n",
    "        return cost_causal(system.causal_system)+ cost_anticausal(system.anticausal_system)\n",
    "    else:\n",
    "        if system.causal:\n",
    "            return cost_causal(system)\n",
    "        else:\n",
    "            return cost_anticausal(system)"
   ]
  },
  {
   "cell_type": "code",
   "execution_count": null,
   "metadata": {},
   "outputs": [],
   "source": [
    "def cost_sys(system,include_D=True):\n",
    "    c = 0\n",
    "    if include_D:\n",
    "        for stage in system.stages:\n",
    "            c += stage.A_matrix.size + stage.B_matrix.size +stage.C_matrix.size +stage.D_matrix.size\n",
    "    else:\n",
    "        for stage in system.stages:\n",
    "            c += stage.A_matrix.size + stage.B_matrix.size +stage.C_matrix.size\n",
    "    return c\n",
    "\n",
    "\n",
    "def cost(system,include_D_anticausal=False):\n",
    "    if type(system) == MixedSystem:\n",
    "        return cost_sys(system.causal_system)+ cost_sys(system.anticausal_system,include_D =include_D_anticausal)\n",
    "    else:\n",
    "        cost_sys(system)"
   ]
  },
  {
   "cell_type": "markdown",
   "metadata": {},
   "source": [
    "# Test some changes in properties\n",
    "\n",
    "We take a section out of the Matrix to make the exploration easier. \n",
    "We change the sizes of the input and output dimention. "
   ]
  },
  {
   "cell_type": "code",
   "execution_count": null,
   "metadata": {},
   "outputs": [],
   "source": [
    "#some preperations\n",
    "matrix = mats[0][:100,:100]\n",
    "dims_a = np.ones(2,dtype=int)*50\n",
    "dims_b = np.ones(20,dtype=int)*5"
   ]
  },
  {
   "cell_type": "code",
   "execution_count": null,
   "metadata": {},
   "outputs": [],
   "source": [
    "T = ToeplitzOperator(matrix, dims_a, dims_a)\n",
    "S = SystemIdentificationSVD(T,epsilon=1e-16)\n",
    "\n",
    "system = MixedSystem(S)"
   ]
  },
  {
   "cell_type": "code",
   "execution_count": null,
   "metadata": {},
   "outputs": [],
   "source": [
    "np.linalg.norm(system.to_matrix()-matrix)"
   ]
  },
  {
   "cell_type": "code",
   "execution_count": null,
   "metadata": {},
   "outputs": [],
   "source": [
    "plt.imshow(matrix)"
   ]
  },
  {
   "cell_type": "code",
   "execution_count": null,
   "metadata": {},
   "outputs": [],
   "source": [
    "print(system.causal_system.dims_state)\n",
    "print(system.anticausal_system.dims_state)\n",
    "print(\"Cost:\",cost(system))"
   ]
  },
  {
   "cell_type": "code",
   "execution_count": null,
   "metadata": {},
   "outputs": [],
   "source": [
    "ks = [2,5,10,25,50]\n",
    "costs = np.zeros_like(ks)\n",
    "err = np.zeros_like(ks,dtype=np.float64)\n",
    "\n",
    "\n",
    "for i,k in enumerate(ks):\n",
    "    dims = np.ones(k,dtype=int)*(100//k)\n",
    "    T = ToeplitzOperator(matrix, dims, dims)\n",
    "    S = SystemIdentificationSVD(T,epsilon=1e-4)\n",
    "\n",
    "    system = MixedSystem(S)\n",
    "    err[i] = np.linalg.norm(system.to_matrix()-matrix)\n",
    "    costs[i] = cost(system)\n",
    "\n",
    "    \n",
    "\n",
    "plt.subplot(1,2,1)\n",
    "plt.scatter(ks,costs)\n",
    "plt.ylabel(\"cost\")\n",
    "plt.xlabel(\"number of stages\")\n",
    "plt.subplot(1,2,2)\n",
    "plt.scatter(ks,err)\n",
    "plt.ylabel(\"Frobenius norm\")\n",
    "plt.xlabel(\"number of stages\")"
   ]
  },
  {
   "cell_type": "code",
   "execution_count": null,
   "metadata": {},
   "outputs": [],
   "source": [
    "costs"
   ]
  },
  {
   "cell_type": "code",
   "execution_count": null,
   "metadata": {},
   "outputs": [],
   "source": [
    "ks"
   ]
  },
  {
   "cell_type": "code",
   "execution_count": null,
   "metadata": {},
   "outputs": [],
   "source": [
    "system"
   ]
  },
  {
   "cell_type": "code",
   "execution_count": null,
   "metadata": {},
   "outputs": [],
   "source": [
    "system.causal_system.stages[10].A_matrix.size"
   ]
  },
  {
   "cell_type": "code",
   "execution_count": null,
   "metadata": {},
   "outputs": [],
   "source": [
    "system.anticausal_system.dims_state"
   ]
  },
  {
   "cell_type": "code",
   "execution_count": null,
   "metadata": {},
   "outputs": [],
   "source": []
  }
 ],
 "metadata": {
  "kernelspec": {
   "display_name": "Python 3",
   "language": "python",
   "name": "python3"
  },
  "language_info": {
   "codemirror_mode": {
    "name": "ipython",
    "version": 3
   },
   "file_extension": ".py",
   "mimetype": "text/x-python",
   "name": "python",
   "nbconvert_exporter": "python",
   "pygments_lexer": "ipython3",
   "version": "3.7.7"
  }
 },
 "nbformat": 4,
 "nbformat_minor": 4
}
