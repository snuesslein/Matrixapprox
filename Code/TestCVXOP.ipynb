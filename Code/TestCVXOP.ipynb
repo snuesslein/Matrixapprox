{
 "cells": [
  {
   "cell_type": "code",
   "execution_count": null,
   "metadata": {},
   "outputs": [],
   "source": [
    "from scipy.linalg import block_diag\n",
    "import matplotlib.pyplot as plt\n",
    "import cvxopt\n",
    "\n",
    "import numpy as np\n",
    "\n",
    "from cvxopt import matrix, spmatrix, normal, setseed, blas, lapack, solvers\n",
    "import nucnrm\n",
    "import scipy.stats "
   ]
  },
  {
   "cell_type": "code",
   "execution_count": null,
   "metadata": {},
   "outputs": [],
   "source": []
  },
  {
   "cell_type": "code",
   "execution_count": null,
   "metadata": {},
   "outputs": [],
   "source": [
    "N = 2\n",
    "\n",
    "M_1 = np.random.rand(4*N,2*N)\n",
    "M_2 = np.random.rand(4*N,2*N)\n"
   ]
  },
  {
   "cell_type": "code",
   "execution_count": null,
   "metadata": {},
   "outputs": [],
   "source": [
    "n_col = M_1.shape[1]\n",
    "assert M_1.shape[1]==M_2.shape[1], \"The two matrices have different number of columns\"\n",
    "n_row1 = M_1.shape[0]\n",
    "n_row2 = M_2.shape[0]\n",
    "n_row = n_row1+n_row2\n",
    "\n",
    "\n",
    "\"\"\"\n",
    "construct A: \n",
    "put together columnvectors \n",
    "each of them is a column extracted form M1 or M2\n",
    "\n",
    "\n",
    "usually the vectors are column-major\n",
    "if p <q we have to transpose the mathcal{A}\n",
    "this means basically that the ordering becomes row major\n",
    "\n",
    "\n",
    "\"\"\"\n",
    "size_mat = n_row*n_col*2\n",
    "\n",
    "A = np.zeros((size_mat,2*n_col))\n",
    "\n",
    "if n_row>=n_col*2:#n>=q:\n",
    "    for i in range(n_col):\n",
    "        B = cvxopt.spmatrix([],[],[],size=(n_row,2*n_col))\n",
    "        offset = n_row*i #elemets of the previous columns\n",
    "        #set i-th collumn of M1. place it in i-th column of A\n",
    "        A[offset:offset+n_row1,i]=M_1[:,i]\n",
    "        offset += n_row*n_col  #elemets of the previous columns + offset for M2\n",
    "        #set i-th collumn of M2. place it i-th column of A\n",
    "        A[offset+n_row1:offset+n_row,n_col+i]=M_2[:,i]\n",
    "else:\n",
    "    for i in range(n_col):\n",
    "        B = cvxopt.spmatrix([],[],[],size=(2*n_col,n_row))\n",
    "        #set i-th collumn of M1. place it in i-th column of A\n",
    "        A[i:n_col*2*n_row1:n_col*2,i]=M_1[:,i]\n",
    "\n",
    "        #set i-th collumn of M2. place it i-th column of A\n",
    "        A[i+n_col*2*n_row1+n_col::n_col*2,n_col+i]=M_2[:,i]    "
   ]
  },
  {
   "cell_type": "code",
   "execution_count": null,
   "metadata": {},
   "outputs": [],
   "source": [
    "#short test\n",
    "if n_row>=n_col*2:\n",
    "    print(\"standard\")\n",
    "    mat = np.sum(A,axis = 1).reshape(n_col*2,n_row).T\n",
    "    print(mat-block_diag(M_1,M_2))\n",
    "else:\n",
    "    print(\"transposed\")\n",
    "    mat = np.sum(A,axis = 1).reshape(n_row,n_col*2)\n",
    "    print(mat-block_diag(M_1,M_2))\n",
    "A.shape"
   ]
  },
  {
   "cell_type": "code",
   "execution_count": null,
   "metadata": {},
   "outputs": [],
   "source": [
    "h = np.hstack([-np.ones(n_col),np.ones(n_col),np.zeros(2*n_col)])\n",
    "h"
   ]
  },
  {
   "cell_type": "code",
   "execution_count": null,
   "metadata": {},
   "outputs": [],
   "source": [
    "I = cvxopt.spmatrix(1.0, range(n_col), range(n_col))\n",
    "G = cvxopt.sparse([cvxopt.sparse([[-I,I],[I,I]]),cvxopt.spdiag([I,I])])\n",
    "print(G)"
   ]
  },
  {
   "cell_type": "code",
   "execution_count": null,
   "metadata": {},
   "outputs": [],
   "source": [
    "sol = nucnrm.nrmapp(matrix(A), B,G = G, h = matrix(h))"
   ]
  },
  {
   "cell_type": "code",
   "execution_count": null,
   "metadata": {},
   "outputs": [],
   "source": [
    "sol"
   ]
  },
  {
   "cell_type": "markdown",
   "metadata": {},
   "source": [
    "## Second try:\n",
    "\n",
    "I try to get rid of the additional x-dims.\n",
    "This is done by setting\n",
    "\n",
    "$$B = \\begin{bmatrix} 0& \\\\ & M_2 \\end{bmatrix}$$\n",
    "\n",
    "And we only have $\\text{dim}(x) = \\text{# of columns}$. For each $x_i$ we have a \n",
    "$$A_i =\n",
    "\\begin{bmatrix}\n",
    "0M_1[:,i] 0 & 0\\\\\n",
    "0 & 0-M_2[:,i] 0\n",
    "\\end{bmatrix}\n",
    "$$\n",
    "\n",
    "we bound each $x$ to $0\\leq x_i \\leq1$.\n",
    "If $x_i=1$ the vector in the second block is removed due to the negative sign.\n",
    "\n"
   ]
  },
  {
   "cell_type": "code",
   "execution_count": null,
   "metadata": {},
   "outputs": [],
   "source": [
    "N = 3\n",
    "\n",
    "\n",
    "M_1 = np.random.rand(N,2*N)\n",
    "M_2 = np.random.rand(N,2*N)\n",
    "\n",
    "M_1 = np.random.rand(2*N,N)\n",
    "M_2 = np.random.rand(2*N,N)\n",
    "\n",
    "#\n",
    "k = np.ones(N*4,dtype=int)\n",
    "k[:N]=0\n",
    "k =np.random.permutation(k)\n",
    "\n",
    "Q = scipy.stats.ortho_group.rvs(2*N)\n",
    "A = Q[:,k]+1e-3*np.random.rand(2*N,4*N)\n",
    "\n",
    "M_1 = A[:N,:]\n",
    "M_2 = A[N:,:]"
   ]
  },
  {
   "cell_type": "code",
   "execution_count": null,
   "metadata": {},
   "outputs": [],
   "source": [
    "n_col = M_1.shape[1]\n",
    "assert M_1.shape[1]==M_2.shape[1], \"The two matrices have different number of columns\"\n",
    "n_row1 = M_1.shape[0]\n",
    "n_row2 = M_2.shape[0]\n",
    "n_row = n_row1+n_row2\n",
    "\n",
    "\n",
    "\"\"\"\n",
    "construct A: \n",
    "put together columnvectors \n",
    "each of them is a column extracted form M1 or M2\n",
    "\n",
    "\n",
    "usually the vectors are column-major\n",
    "if p <q we have to transpose the mathcal{A}\n",
    "this means basically that the ordering becomes row major\n",
    "\n",
    "\n",
    "\"\"\"\n",
    "size_mat = n_row*n_col*2\n",
    "\n",
    "A = np.zeros((size_mat,n_col))\n",
    "\n",
    "if n_row>=n_col*2:#n>=q:\n",
    "    for i in range(n_col):\n",
    "        B = cvxopt.matrix(block_diag(0*M_1,M_2))\n",
    "        offset = n_row*i #elemets of the previous columns\n",
    "        #set i-th collumn of M1. place it in i-th column of A\n",
    "        A[offset:offset+n_row1,i]=M_1[:,i]\n",
    "        offset += n_row*n_col  #elemets of the previous columns + offset for M2\n",
    "        #set i-th collumn of M2. place it i-th column of A\n",
    "        A[offset+n_row1:offset+n_row,i]=-M_2[:,i]\n",
    "else:\n",
    "    for i in range(n_col):\n",
    "        B = cvxopt.matrix(block_diag(0*M_1.T,M_2.T))\n",
    "        #set i-th collumn of M1. place it in i-th column of A\n",
    "        A[i:n_col*2*n_row1:n_col*2,i]=M_1[:,i]\n",
    "\n",
    "        #set i-th collumn of M2. place it i-th column of A\n",
    "        A[i+n_col*2*n_row1+n_col::n_col*2,i]=-M_2[:,i]   "
   ]
  },
  {
   "cell_type": "code",
   "execution_count": null,
   "metadata": {},
   "outputs": [],
   "source": [
    "#short test\n",
    "if n_row>=n_col*2:\n",
    "    print(\"standard\")\n",
    "    mat = np.sum(A,axis = 1).reshape(n_col*2,n_row).T\n",
    "    #this is not actually trasposed in the solver, but from reshape magic...\n",
    "    print(mat-block_diag(M_1,M_2))\n",
    "    B_ = cvxopt.matrix(block_diag(-1*M_1,M_2))\n",
    "else:\n",
    "    print(\"transposed\")\n",
    "    mat = np.sum(A,axis = 1).reshape(n_row,n_col*2)\n",
    "    print(mat-block_diag(M_1,M_2))\n",
    "    B_ = cvxopt.matrix(block_diag(-1*M_1.T,M_2.T))\n",
    "print(A.shape)\n",
    "\n",
    "sol = nucnrm.nrmapp(matrix(A), B_)\n",
    "print(\"x\",sol['x'])"
   ]
  },
  {
   "cell_type": "markdown",
   "metadata": {},
   "source": [
    "### Constrints on $x$\n",
    "\n",
    "$$x_1 \\geq 0$$\n",
    "$$x_1 \\leq 1$$\n",
    "\n",
    "the first is equivalent to $-x_1 \\leq 0$-\n",
    "\n",
    "This gives the combined constrints\n",
    "\n",
    "$$G x = \\leq h  \\qquad \n",
    "\\begin{bmatrix}\n",
    "-I\\\\\n",
    "I\n",
    "\\end{bmatrix} x \n",
    "\\leq\n",
    "\\begin{bmatrix}\n",
    "0\\\\\n",
    "1\n",
    "\\end{bmatrix}\n",
    "$$"
   ]
  },
  {
   "cell_type": "code",
   "execution_count": null,
   "metadata": {},
   "outputs": [],
   "source": [
    "h = np.hstack([np.zeros(n_col),np.ones(n_col)])\n",
    "I = cvxopt.spmatrix(1.0, range(n_col), range(n_col))\n",
    "G = cvxopt.sparse([-I,I])\n",
    "#print(G)"
   ]
  },
  {
   "cell_type": "code",
   "execution_count": null,
   "metadata": {},
   "outputs": [],
   "source": [
    "sol = nucnrm.nrmapp(matrix(A), B,G = G, h = matrix(h))\n",
    "print(\"x\",sol['x'])"
   ]
  },
  {
   "cell_type": "raw",
   "metadata": {},
   "source": [
    "\n",
    "\n",
    "# Solves a randomly generated nuclear norm minimization problem \n",
    "#\n",
    "#    minimize || A(x) + B ||_*\n",
    "#\n",
    "# with n variables, and matrices A(x), B of size p x q.\n",
    "\n",
    "setseed(0)\n",
    "\n",
    "p, q, n = 100, 100, 100\n",
    "A = normal(p*q, n)\n",
    "B = normal(p, q)\n",
    "\n",
    "\n",
    "# options['feastol'] = 1e-6\n",
    "# options['refinement'] = 3\n",
    "\n",
    "sol = nucnrm.nrmapp(A, B)\n",
    "\n",
    "x = sol['x']\n",
    "Z = sol['Z']\n",
    "\n",
    "s = matrix(0.0, (p,1))\n",
    "X = matrix(A *x, (p, q)) + B\n",
    "lapack.gesvd(+X, s)\n",
    "nrmX = sum(s)\n",
    "lapack.gesvd(+Z, s)\n",
    "nrmZ = max(s)\n",
    "res = matrix(0.0, (n, 1))\n",
    "blas.gemv(A, Z, res, beta = 1.0, trans = 'T')\n",
    "\n",
    "print(\"\\nNuclear norm of A(x) + B: %e\" %nrmX)\n",
    "print(\"Inner product of B and Z: %e\" %blas.dot(B, Z))\n",
    "print(\"Maximum singular value of Z: %e\" %nrmZ)\n",
    "print(\"Euclidean norm of A'(Z): %e\" %blas.nrm2(res))"
   ]
  },
  {
   "cell_type": "code",
   "execution_count": null,
   "metadata": {},
   "outputs": [],
   "source": [
    "import mosek"
   ]
  },
  {
   "cell_type": "code",
   "execution_count": null,
   "metadata": {},
   "outputs": [],
   "source": []
  }
 ],
 "metadata": {
  "kernelspec": {
   "display_name": "Python 3",
   "language": "python",
   "name": "python3"
  },
  "language_info": {
   "codemirror_mode": {
    "name": "ipython",
    "version": 3
   },
   "file_extension": ".py",
   "mimetype": "text/x-python",
   "name": "python",
   "nbconvert_exporter": "python",
   "pygments_lexer": "ipython3",
   "version": "3.7.12"
  }
 },
 "nbformat": 4,
 "nbformat_minor": 4
}
