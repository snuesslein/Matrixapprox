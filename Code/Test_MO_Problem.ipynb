{
 "cells": [
  {
   "cell_type": "markdown",
   "metadata": {},
   "source": [
    "## Explore sparse rank approximations\n",
    "\n",
    "The idea was that we can think of thaking the best rank 1 approxiamtion by the SVD as solving the optimization problem\n",
    "\n",
    "\n",
    "$$\\max_{v} \\|Au \\|_2\\qquad  \\text{subject to: } \\|u\\|_2 = 1$$\n",
    "\n",
    "to make this sparse we want to minimize the $\\|x\\|_1$ norm.\n",
    "But we want to do this on both sides\n",
    "\n",
    "Therefore we use the SVD $A = U S V^\\top$ to optimize both sides at the same time.\n",
    "\n",
    "$$v = VSx$$\n",
    "\n",
    "$$u = Ux$$\n",
    "\n",
    "We solve the optimization problem \n",
    "\n",
    "$$\\max_{v} \\|VSx \\|_1+\\|Ux \\|_1\\qquad  \\text{subject to: } \\|x\\|_2 = 1$$\n",
    "\n",
    "Thsi can be done using manifold optimization"
   ]
  },
  {
   "cell_type": "code",
   "execution_count": null,
   "metadata": {},
   "outputs": [],
   "source": [
    "import numpy as np\n",
    "import matplotlib.pylab as plt\n",
    "import scipy.optimize as spopt"
   ]
  },
  {
   "cell_type": "code",
   "execution_count": null,
   "metadata": {},
   "outputs": [],
   "source": [
    "def g(a):\n",
    "    a_prime = Sinv*a #here the diagonal matrix is stored as vector\n",
    "    return np.linalg.norm(V@a_prime,ord=1)+np.linalg.norm(U@a,ord=1)"
   ]
  },
  {
   "cell_type": "code",
   "execution_count": null,
   "metadata": {},
   "outputs": [],
   "source": [
    "U = np.array([[1,2],[3,4]])\n",
    "V = np.array([[1,2],[3,4],[4,5]])\n",
    "Sinv = np.array([1,1])\n",
    "\n",
    "g(np.array([1,0]))-(1+3+1+3+4)"
   ]
  },
  {
   "cell_type": "code",
   "execution_count": null,
   "metadata": {},
   "outputs": [],
   "source": [
    "def gradg(a):\n",
    "    a_prime = Sinv*a #here the diagonal matrix is stored as vector\n",
    "    return Sinv*(V.T@np.sign(V@a_prime))+U.T@np.sign(U@a)"
   ]
  },
  {
   "cell_type": "code",
   "execution_count": null,
   "metadata": {},
   "outputs": [],
   "source": [
    "a = np.array([0,5])\n",
    "spopt.optimize.approx_fprime(a,g,1e-3)"
   ]
  },
  {
   "cell_type": "code",
   "execution_count": null,
   "metadata": {},
   "outputs": [],
   "source": [
    "gradg(np.array([1,0]))"
   ]
  },
  {
   "cell_type": "code",
   "execution_count": null,
   "metadata": {},
   "outputs": [],
   "source": [
    "n = 100\n",
    "m = 200\n",
    "\n",
    "A = np.random.rand(n,m)\n",
    "#A = np.array([[1,0],[1,0],[1,0]])"
   ]
  },
  {
   "cell_type": "code",
   "execution_count": null,
   "metadata": {},
   "outputs": [],
   "source": [
    "u, s, vh = np.linalg.svd(A, full_matrices=False)\n",
    "U = u \n",
    "V = vh.T\n",
    "Sinv = 1/s #Here soemthing needed if a s is close to 0, eventuelly reduce dimentions of a"
   ]
  },
  {
   "cell_type": "code",
   "execution_count": null,
   "metadata": {},
   "outputs": [],
   "source": [
    "#More testing\n",
    "a = np.zeros_like(s)\n",
    "a[0] = 1 #This is the largest singular value -> small value\n",
    "display(g(a))\n",
    "a[-1] = 1 #Thsi is the smallest singular value -> big g\n",
    "display(g(a))"
   ]
  },
  {
   "cell_type": "code",
   "execution_count": null,
   "metadata": {},
   "outputs": [],
   "source": [
    "#gradient checking\n",
    "a = np.zeros_like(s)\n",
    "a[10] = 1\n",
    "#display(gradg(a))\n",
    "#display(spopt.optimize.approx_fprime(a,g,1e-8))\n",
    "display(np.max(np.abs(gradg(a)-spopt.optimize.approx_fprime(a,g,1e-8))))\n",
    "display(np.max(np.abs(gradg(a))))"
   ]
  },
  {
   "cell_type": "code",
   "execution_count": null,
   "metadata": {},
   "outputs": [],
   "source": [
    "#Projector\n",
    "def proj(x,h):\n",
    "    return h-x*x@h"
   ]
  },
  {
   "cell_type": "code",
   "execution_count": null,
   "metadata": {},
   "outputs": [],
   "source": [
    "a = np.zeros_like(s)\n",
    "a[0] = 1 #This is a possible initial value, check the results\n",
    "proj(a,gradg(a))"
   ]
  },
  {
   "cell_type": "code",
   "execution_count": null,
   "metadata": {},
   "outputs": [],
   "source": [
    "def gamma(x,h,t): #geodesic\n",
    "    l_h = np.linalg.norm(h)\n",
    "    return x*np.cos(t*l_h)+h*(np.sin(t*l_h)/l_h)"
   ]
  },
  {
   "cell_type": "code",
   "execution_count": null,
   "metadata": {},
   "outputs": [],
   "source": [
    "a = np.zeros_like(s)\n",
    "a[0] = 1\n",
    "h = np.zeros_like(s)\n",
    "h[2] = 1\n",
    "np.linalg.norm(gamma(a,h,0.1))"
   ]
  },
  {
   "cell_type": "code",
   "execution_count": null,
   "metadata": {},
   "outputs": [],
   "source": []
  },
  {
   "cell_type": "code",
   "execution_count": null,
   "metadata": {},
   "outputs": [],
   "source": [
    "N = 500\n",
    "As = np.zeros((N,a.size))\n",
    "Gs = np.zeros((N,a.size))\n",
    "vals = np.zeros(N)"
   ]
  },
  {
   "cell_type": "code",
   "execution_count": null,
   "metadata": {},
   "outputs": [],
   "source": [
    "#a initialisiern\n",
    "a = np.zeros_like(s)\n",
    "a[0]=1 #This is the largest singular value -> small value\n",
    "a = a+0.7*np.random.rand(s.size) \n",
    "\n",
    "\n",
    "#a = Sinv*V.T@\n",
    "\n",
    "a = a/np.linalg.norm(a)\n"
   ]
  },
  {
   "cell_type": "code",
   "execution_count": null,
   "metadata": {},
   "outputs": [],
   "source": [
    "val = g(a)\n",
    "for i in range(N):\n",
    "    gr = gradg(a)\n",
    "    #gr = spopt.optimize.approx_fprime(a,g,1e-10)\n",
    "    Gs[i,:]=gr\n",
    "    for n in range(30):\n",
    "        a_int = gamma(a,-proj(a,gr),2e-1/(1.5**n))\n",
    "        if g(a_int)<val:\n",
    "            a = a_int\n",
    "            val = g(a)\n",
    "            print(n)\n",
    "            break\n",
    "    else:\n",
    "        print('no improvement at i=',i)\n",
    "        break\n",
    "    As[i,:]=a\n",
    "    vals[i]= val\n",
    "    print(g(a))"
   ]
  },
  {
   "cell_type": "code",
   "execution_count": null,
   "metadata": {},
   "outputs": [],
   "source": [
    "plt.plot(vals)"
   ]
  },
  {
   "cell_type": "code",
   "execution_count": null,
   "metadata": {},
   "outputs": [],
   "source": [
    "def get_rank1(A):\n",
    "    u, s, vh = np.linalg.svd(A, full_matrices=False)\n",
    "    global U\n",
    "    global V\n",
    "    global Sinv\n",
    "    U = u \n",
    "    V = vh.T\n",
    "    \n",
    "    \n",
    "    n = np.count_nonzero(s>1e-5*s[0])\n",
    "    print(n)\n",
    "    s = s[0:n]\n",
    "    U = U[:,0:n]\n",
    "    V = V[:,0:n]\n",
    "    \n",
    "    Sinv = 1/s\n",
    "    print('Max_sinv')\n",
    "    display(max(Sinv))\n",
    "    \n",
    "    #a initialisiern\n",
    "    a = np.zeros_like(s)\n",
    "    a[0]=1 #This is the largest singular value -> small value\n",
    "    valref = g(a) #get the reference value\n",
    "    for i in range(30):\n",
    "        a = a+0.5*np.random.rand(s.size) #perturb it to move out of local minimum?\n",
    "        a = a/np.linalg.norm(a)\n",
    "        val = g(a)\n",
    "        for i in range(N):\n",
    "            gr = gradg(a)\n",
    "            #gr = spopt.optimize.approx_fprime(a,g,1e-10)\n",
    "            #Gs[i,:]=gr\n",
    "            for n in range(30):\n",
    "                a_int = gamma(a,-proj(a,gr),2e-1/(1.5**n))\n",
    "                if g(a_int)<val:\n",
    "                    a = a_int\n",
    "                    val = g(a)\n",
    "                    #print(n)\n",
    "                    break\n",
    "            else:\n",
    "                print('no improvement at i=',i)\n",
    "                break\n",
    "        #As[i,:]=a\n",
    "        #vals[i]= val\n",
    "        \n",
    "        if val<valref:\n",
    "            \n",
    "            break\n",
    "    else:\n",
    "        print('no better start a_0 found')\n",
    "    print('Final g(a):',g(a))\n",
    "    print('val/valref',val/valref)\n",
    "    return [U@a,V@(Sinv*a)]"
   ]
  },
  {
   "cell_type": "code",
   "execution_count": null,
   "metadata": {},
   "outputs": [],
   "source": [
    "[u,v] = get_rank1(A)"
   ]
  },
  {
   "cell_type": "code",
   "execution_count": null,
   "metadata": {},
   "outputs": [],
   "source": [
    "np.max(np.abs(A@v-u))"
   ]
  },
  {
   "cell_type": "code",
   "execution_count": null,
   "metadata": {},
   "outputs": [],
   "source": [
    "vec = v\n",
    "vec = vec/np.max(vec)\n",
    "fig, axs = plt.subplots(1, 2, sharey=True, tight_layout=True)\n",
    "\n",
    "axs[0].scatter(abs(vec),np.arange(1,vec.size+1))\n",
    "axs[1].hist(abs(vec),bins = 50);\n"
   ]
  },
  {
   "cell_type": "code",
   "execution_count": null,
   "metadata": {},
   "outputs": [],
   "source": [
    "def approx(Us,a,Vs):\n",
    "    #calcaultes the approxiamtion\n",
    "    \n",
    "    #Us: Matrix, collums are us\n",
    "    #a:  factors\n",
    "    #Vs: Matrix, collumns are vs\n",
    "    return Us@np.diag(a)@Vs.T"
   ]
  },
  {
   "cell_type": "code",
   "execution_count": null,
   "metadata": {},
   "outputs": [],
   "source": [
    "u, s, vh = np.linalg.svd(A, full_matrices=False)\n",
    "np.max(abs(A-approx(u,s,vh.T)))"
   ]
  },
  {
   "cell_type": "code",
   "execution_count": null,
   "metadata": {},
   "outputs": [],
   "source": [
    "def inner(A,u,v):\n",
    "    #calcaulates the inner product of flatten(A) with flatten(u@v.T)\n",
    "    n = u.size\n",
    "    m = v.size\n",
    "    return np.sum(A*(u.reshape(n,1)@(v.reshape(1,m))))"
   ]
  },
  {
   "cell_type": "code",
   "execution_count": null,
   "metadata": {},
   "outputs": [],
   "source": [
    "display(inner(np.eye(3),np.array([0,1,0]),np.array([0,1,0])))\n",
    "display(inner(np.eye(3),np.array([1,0,0]),np.array([0,1,0])))"
   ]
  },
  {
   "cell_type": "code",
   "execution_count": null,
   "metadata": {},
   "outputs": [],
   "source": [
    "def matrixnorm(u,v):\n",
    "    n = u.size\n",
    "    m = v.size\n",
    "    return np.linalg.norm((u.reshape(n,1)@(v.reshape(1,m))))\n",
    "    "
   ]
  },
  {
   "cell_type": "code",
   "execution_count": null,
   "metadata": {},
   "outputs": [],
   "source": [
    "def calc_new_atom(R):\n",
    "    #R is the current residuum\n",
    "\n",
    "    [u,v] = get_rank1(R)\n",
    "    \n",
    "    #set small values to 0\n",
    "    u[u<0.005*np.max(u)]=0\n",
    "    v[v<0.005*np.max(v)]=0\n",
    "    \n",
    "    u = u/matrixnorm(u,v)\n",
    "    #print(matrixnorm(u,v))\n",
    "    s = inner(R,u,v) \n",
    "    \n",
    "    \n",
    "    \n",
    "    return u,s,v"
   ]
  },
  {
   "cell_type": "raw",
   "metadata": {},
   "source": [
    "A = np.array([[0,-1,0,0,0,1,1]]).T@np.array([[1,0,0,0,0,-1,1]])\n",
    "display(A)\n",
    "u,s,v = calc_new_atom(A,plot_hist = False)\n",
    "display(s*u.reshape(7,1)@v.reshape(1,7))\n",
    "display(approx(u.reshape(7,1),np.array([s]),v.reshape(7,1)))"
   ]
  },
  {
   "cell_type": "code",
   "execution_count": null,
   "metadata": {},
   "outputs": [],
   "source": [
    "i = 0 #index for Array\n",
    "n = 70\n",
    "m = 60\n",
    "A = np.random.standard_normal((n,m))\n",
    "d = 100 #number of matricies\n",
    "Us = np.zeros((n,d))\n",
    "Vs = np.zeros((m,d))\n",
    "a = np.zeros(d)"
   ]
  },
  {
   "cell_type": "raw",
   "metadata": {},
   "source": [
    "fig, axs = plt.subplots(1, 2, sharey=True, tight_layout=True)\n",
    "A_tilde = approx(Us,a,Vs)\n",
    "R = A-A_tilde\n",
    "print('||R||=',np.linalg.norm(R))\n",
    "u,s,v = calc_new_atom(R,plot_hist = True)\n",
    "Us[:,i]=u\n",
    "Vs[:,i]=v\n",
    "a[i]=s\n",
    "i = i+1"
   ]
  },
  {
   "cell_type": "code",
   "execution_count": null,
   "metadata": {},
   "outputs": [],
   "source": [
    "for i in range(d):\n",
    "    A_tilde = approx(Us,a,Vs)\n",
    "    R = A-A_tilde\n",
    "    print('||R||=',np.linalg.norm(R),'gamma=',gamma)\n",
    "    u,s,v = calc_new_atom(R)\n",
    "    Us[:,i]=u\n",
    "    Vs[:,i]=v\n",
    "    a[i]=s\n"
   ]
  },
  {
   "cell_type": "code",
   "execution_count": null,
   "metadata": {},
   "outputs": [],
   "source": [
    "def number_of_params(Qs):\n",
    "    #returns a vector with the number of nonzero eleemts for each vector\n",
    "    return np.count_nonzero(Qs,axis = 0)"
   ]
  },
  {
   "cell_type": "code",
   "execution_count": null,
   "metadata": {},
   "outputs": [],
   "source": [
    "plt.plot(number_of_params(Us),'x')\n",
    "plt.plot(number_of_params(Vs),'x')"
   ]
  },
  {
   "cell_type": "code",
   "execution_count": null,
   "metadata": {},
   "outputs": [],
   "source": [
    "np.count_nonzero(Us)"
   ]
  },
  {
   "cell_type": "code",
   "execution_count": null,
   "metadata": {},
   "outputs": [],
   "source": [
    "np.count_nonzero(Vs)"
   ]
  },
  {
   "cell_type": "code",
   "execution_count": null,
   "metadata": {},
   "outputs": [],
   "source": [
    "np.max(A-A_tilde)"
   ]
  },
  {
   "cell_type": "code",
   "execution_count": null,
   "metadata": {},
   "outputs": [],
   "source": []
  }
 ],
 "metadata": {
  "kernelspec": {
   "display_name": "Python 3",
   "language": "python",
   "name": "python3"
  },
  "language_info": {
   "codemirror_mode": {
    "name": "ipython",
    "version": 3
   },
   "file_extension": ".py",
   "mimetype": "text/x-python",
   "name": "python",
   "nbconvert_exporter": "python",
   "pygments_lexer": "ipython3",
   "version": "3.7.7"
  }
 },
 "nbformat": 4,
 "nbformat_minor": 4
}
