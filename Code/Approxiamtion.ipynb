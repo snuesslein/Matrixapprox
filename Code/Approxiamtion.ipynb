{
 "cells": [
  {
   "cell_type": "code",
   "execution_count": null,
   "metadata": {},
   "outputs": [],
   "source": [
    "from tvsclib.strict_system import StrictSystem\n",
    "from tvsclib.stage import Stage\n",
    "\n",
    "from tvsclib.mixed_system import MixedSystem\n",
    "import numpy as np\n",
    "import matplotlib.pyplot as plt\n",
    "import scipy.linalg as linalg\n",
    "import tvsclib.utils as utils\n",
    "import tvsclib.math as math\n",
    "\n",
    "from tvsclib.identification import identify\n",
    "import scipy.linalg as linalg"
   ]
  },
  {
   "cell_type": "code",
   "execution_count": null,
   "metadata": {},
   "outputs": [],
   "source": [
    "dims_in = np.ones(4,dtype=int)*5\n",
    "dims_out = np.ones(4,dtype=int)*5\n",
    "matrix  = np.random.rand(dims_out.sum(),dims_out.sum())\n",
    "system,sigmas = identify(matrix,dims_in,dims_out,compute_sigmas=True)\n",
    "utils.show_system(system)"
   ]
  },
  {
   "cell_type": "raw",
   "metadata": {},
   "source": [
    "matrix = linalg.block_diag(np.random.rand(10,10),np.random.rand(10,10))\n",
    "plt.matshow(matrix)\n",
    "system,sigmas = identify(matrix,dims_in,dims_out,compute_sigmas=True)\n"
   ]
  },
  {
   "cell_type": "markdown",
   "metadata": {},
   "source": [
    "# Cut states according to one state "
   ]
  },
  {
   "cell_type": "code",
   "execution_count": null,
   "metadata": {},
   "outputs": [],
   "source": [
    "def approx_state(system,sigmas,k,eps):\n",
    "    sys_copy = system.copy()\n",
    "    #causal\n",
    "    d = np.count_nonzero(sigmas[0][k-1]>eps)\n",
    "    print(d)\n",
    "    sigmas_cut= (sigmas[0][k-1][d:])\n",
    "    sys_copy.causal_system.stages[k-1].B_matrix=sys_copy.causal_system.stages[k-1].B_matrix[:d,:]\n",
    "    sys_copy.causal_system.stages[k-1].A_matrix=sys_copy.causal_system.stages[k-1].A_matrix[:d,:]\n",
    "    sys_copy.causal_system.stages[k].C_matrix=sys_copy.causal_system.stages[k].C_matrix[:,:d]\n",
    "    sys_copy.causal_system.stages[k].A_matrix=sys_copy.causal_system.stages[k].A_matrix[:,:d]\n",
    "    \n",
    "    #anticausal\n",
    "    d = np.count_nonzero(sigmas[1][k-1]>eps)\n",
    "    print(d)\n",
    "    sigmas_cut_anti= (sigmas[1][k-1][d:])\n",
    "    sys_copy.anticausal_system.stages[k].B_matrix=sys_copy.anticausal_system.stages[k].B_matrix[:d,:]\n",
    "    sys_copy.anticausal_system.stages[k].A_matrix=sys_copy.anticausal_system.stages[k].A_matrix[:d,:]\n",
    "    sys_copy.anticausal_system.stages[k-1].C_matrix=sys_copy.anticausal_system.stages[k-1].C_matrix[:,:d]\n",
    "    sys_copy.anticausal_system.stages[k-1].A_matrix=sys_copy.anticausal_system.stages[k-1].A_matrix[:,:d]\n",
    "\n",
    "    return sys_copy,(sigmas_cut,sigmas_cut_anti)"
   ]
  },
  {
   "cell_type": "code",
   "execution_count": null,
   "metadata": {},
   "outputs": [],
   "source": [
    "sys_aprox,sigmas_cut = approx_state(system,sigmas,1,1.1)\n",
    "utils.check_dims(sys_aprox)\n",
    "utils.show_system(sys_aprox)\n",
    "print(sys_aprox)\n",
    "sigmas_cut"
   ]
  },
  {
   "cell_type": "markdown",
   "metadata": {},
   "source": [
    "### Compare the approxiamtion error with cut singular values\n",
    "\n",
    "For one state we can comput the appeoxiamtion error usig the truncated singular values"
   ]
  },
  {
   "cell_type": "code",
   "execution_count": null,
   "metadata": {},
   "outputs": [],
   "source": [
    "print(\"Frobenius:\")\n",
    "print(np.linalg.norm(matrix-sys_aprox.to_matrix()))\n",
    "print(np.sqrt(sum([np.sum(s**2) for s in sigmas_cut])))"
   ]
  },
  {
   "cell_type": "code",
   "execution_count": null,
   "metadata": {},
   "outputs": [],
   "source": [
    "print(\"Spectral\")\n",
    "print(np.linalg.norm(matrix-sys_aprox.to_matrix(),2))\n",
    "print(max([np.max(s) for s in sigmas_cut]))"
   ]
  },
  {
   "cell_type": "markdown",
   "metadata": {},
   "source": [
    "### Compute Approxiamtion and upper bound\n",
    "\n",
    "$$\\|M -\\hat{T}\\| \\leq \\sum_i \\|M -\\hat{T}^{(i)}\\|$$"
   ]
  },
  {
   "cell_type": "code",
   "execution_count": null,
   "metadata": {},
   "outputs": [],
   "source": [
    "#eps = 10#\n",
    "eps = 1.0\n",
    "#eps = 0.5\n",
    "sigmas_cut = []\n",
    "sys_aprox = system\n",
    "for i in range(len(system.dims_in)-1):\n",
    "    print(\"i:\",i)\n",
    "    sys_aprox,sigmas_cuta = approx_state(sys_aprox,sigmas,i+1,eps)\n",
    "    sigmas_cut.append(sigmas_cuta)\n",
    "utils.check_dims(sys_aprox)\n",
    "utils.show_system(sys_aprox)\n",
    "print(sys_aprox)\n",
    "sigmas_cuta\n",
    "sigmas_cutb"
   ]
  },
  {
   "cell_type": "code",
   "execution_count": null,
   "metadata": {},
   "outputs": [],
   "source": [
    "print(\"Frobenius:\")\n",
    "err = np.linalg.norm(matrix-sys_aprox.to_matrix())\n",
    "print(err)\n",
    "bound = np.sum([np.sqrt(sum([np.sum(s**2) for s in sigs])) for sigs in sigmas_cut])\n",
    "print(bound)\n",
    "err<=bound"
   ]
  },
  {
   "cell_type": "code",
   "execution_count": null,
   "metadata": {},
   "outputs": [],
   "source": [
    "print(\"Spectral\")\n",
    "err = np.linalg.norm(matrix-sys_aprox.to_matrix(),2)\n",
    "print(err)\n",
    "bound = np.sum([max([np.max(s) for s in sigs]) for sigs in sigmas_cut])\n",
    "print(bound)\n",
    "err<=bound"
   ]
  },
  {
   "cell_type": "markdown",
   "metadata": {},
   "source": [
    "## Test parts of the proof:\n",
    "\n",
    "$\\|\\breve{\\Delta}_k\\| \\leq \\|\\Delta_k\\|$"
   ]
  },
  {
   "cell_type": "code",
   "execution_count": null,
   "metadata": {},
   "outputs": [],
   "source": [
    "dims_in = np.ones(6,dtype=int)*5\n",
    "dims_out = np.ones(6,dtype=int)*5\n",
    "matrix  = np.random.rand(dims_out.sum(),dims_out.sum())\n",
    "system,sigmas = identify(matrix,dims_in,dims_out,compute_sigmas=True)\n",
    "utils.show_system(system)\n",
    "eps = 2"
   ]
  },
  {
   "cell_type": "code",
   "execution_count": null,
   "metadata": {},
   "outputs": [],
   "source": [
    "Delta1 = system.to_matrix()-approx_state(system,sigmas,1,eps)[0].to_matrix()\n",
    "plt.matshow(Delta1)\n",
    "#Delta1breve = "
   ]
  },
  {
   "cell_type": "code",
   "execution_count": null,
   "metadata": {},
   "outputs": [],
   "source": [
    "sys_aprox_part = system\n",
    "for i in range(1,len(system.dims_in)-1):\n",
    "    print(\"i:\",i)\n",
    "    sys_aprox_part,sigmas_cuta = approx_state(sys_aprox_part,sigmas,i+1,eps)\n",
    "Delta1breve = sys_aprox_part.to_matrix()-approx_state(sys_aprox_part,sigmas,1,eps)[0].to_matrix()\n",
    "plt.matshow(Delta1breve)"
   ]
  },
  {
   "cell_type": "code",
   "execution_count": null,
   "metadata": {},
   "outputs": [],
   "source": [
    "np.linalg.norm(Delta1breve)<=np.linalg.norm(Delta1)"
   ]
  },
  {
   "cell_type": "code",
   "execution_count": null,
   "metadata": {},
   "outputs": [],
   "source": [
    "np.linalg.norm(Delta1breve,2)<=np.linalg.norm(Delta1,2)"
   ]
  },
  {
   "cell_type": "markdown",
   "metadata": {},
   "source": [
    "Now test decomposition of sum\n",
    "\n",
    "$$\n",
    "\\|\\Delta_k u\\|_2^2\n",
    "\t  =\n",
    "\t    \\|\\breve{\\Delta}_k u\\|_2^2\n",
    "\t  + \\dots +\n",
    "\t  \\Big\\|\n",
    "\t  \\mathcal{O}_{k+2[2]}A_{k+2[21]}A_{k[12]}\n",
    "\t  \\mathcal{R}_{k[2]} u\n",
    "\t  \\Big\\|_2^2\n",
    "\t  + \\Big\\|\n",
    "\t  \\mathcal{O}_{k+1[2]}A_{k[22]}\n",
    "\t  \\mathcal{R}_{k[2]} u\n",
    "\t  \\Big\\|_2^2\n",
    "$$"
   ]
  },
  {
   "cell_type": "code",
   "execution_count": null,
   "metadata": {},
   "outputs": [],
   "source": [
    "D = Delta1[5:,:5]\n",
    "Dbreve = Delta1breve[5:,:5]"
   ]
  },
  {
   "cell_type": "code",
   "execution_count": null,
   "metadata": {},
   "outputs": [],
   "source": [
    "ds = [np.count_nonzero(sig>eps) for sig in sigmas[0]]\n",
    "R_cut = system.causal_system.stages[0].B_matrix[ds[0]:,:]\n",
    "\n",
    "u = np.random.rand(R_cut.shape[1],1)\n",
    "\n",
    "A = [stage.A_matrix for stage in system.causal_system.stages]\n",
    "mats = [system.causal_system.observability_matrix(2)[:,ds[1]:]@A[1][ds[1]:,ds[0]:]@R_cut]\n",
    "\n",
    "for i in range(2,len(A)-1):\n",
    "    mat = A[1][:ds[1],ds[0]:]@R_cut\n",
    "    for j in range(2,i):\n",
    "        mat = A[j][:ds[j],:ds[j-1]]@mat\n",
    "    mat = system.causal_system.observability_matrix(i+1)[:,ds[i]:]@ A[i][ds[i]:,:ds[i-1]] @mat\n",
    "    mats.append(mat)\n",
    "\n",
    "\n",
    "norm_ref = np.linalg.norm(D@u)**2\n",
    "norm = np.linalg.norm(Dbreve@u)**2+sum([np.linalg.norm(mat@u)**2 for mat in mats])\n",
    "print(norm_ref)\n",
    "print(norm)"
   ]
  },
  {
   "cell_type": "code",
   "execution_count": null,
   "metadata": {},
   "outputs": [],
   "source": []
  }
 ],
 "metadata": {
  "kernelspec": {
   "display_name": "Python 3",
   "language": "python",
   "name": "python3"
  },
  "language_info": {
   "codemirror_mode": {
    "name": "ipython",
    "version": 3
   },
   "file_extension": ".py",
   "mimetype": "text/x-python",
   "name": "python",
   "nbconvert_exporter": "python",
   "pygments_lexer": "ipython3",
   "version": "3.7.12"
  }
 },
 "nbformat": 4,
 "nbformat_minor": 4
}
