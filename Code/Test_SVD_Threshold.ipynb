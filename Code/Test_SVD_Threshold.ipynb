{
 "cells": [
  {
   "cell_type": "code",
   "execution_count": null,
   "metadata": {},
   "outputs": [],
   "source": [
    "import numpy as np\n",
    "import matplotlib.pylab as plt"
   ]
  },
  {
   "cell_type": "code",
   "execution_count": null,
   "metadata": {},
   "outputs": [],
   "source": [
    "n = 100\n",
    "m = 200\n",
    "\n",
    "A = np.random.rand(n,m)"
   ]
  },
  {
   "cell_type": "code",
   "execution_count": null,
   "metadata": {},
   "outputs": [],
   "source": [
    "u, s, vh = np.linalg.svd(A, full_matrices=False)"
   ]
  },
  {
   "cell_type": "markdown",
   "metadata": {},
   "source": [
    "Generate a random matrix and calcualte the SVD\n",
    "We can see that the some singular values are large compared to outers.\n",
    "We want to extract these alrge singular values with the matching rank-matricies $s_i u_i v_i^\\top $\n",
    "In this case we have $s = 0$"
   ]
  },
  {
   "cell_type": "code",
   "execution_count": null,
   "metadata": {},
   "outputs": [],
   "source": [
    "fig, axs = plt.subplots(1, 2, sharey=True, tight_layout=True)\n",
    "\n",
    "axs[0].scatter(s,np.arange(1,s.size+1))\n",
    "axs[1].hist(s,bins = 100);\n"
   ]
  },
  {
   "cell_type": "code",
   "execution_count": null,
   "metadata": {},
   "outputs": [],
   "source": [
    "max(s)"
   ]
  },
  {
   "cell_type": "code",
   "execution_count": null,
   "metadata": {},
   "outputs": [],
   "source": [
    "plt.hist(np.abs(u.flatten()),bins = 50);"
   ]
  },
  {
   "cell_type": "code",
   "execution_count": null,
   "metadata": {},
   "outputs": [],
   "source": [
    "s[0]"
   ]
  },
  {
   "cell_type": "code",
   "execution_count": null,
   "metadata": {},
   "outputs": [],
   "source": [
    "R=A-(s[0]*u[:,0].reshape(n,1))@(vh[0,:].reshape(1,m))\n",
    "u_n, s_n,vh_n = np.linalg.svd(R,full_matrices=False)"
   ]
  },
  {
   "cell_type": "markdown",
   "metadata": {},
   "source": [
    "Now we have the rest. Here we thershold the vectors by using $\\gamma max(v_i)$ with $0 < \\gamma < 1$.\n",
    "\n",
    "Note: because all vecotrs have equal lenght this leads to the fact that more vlaues are set to 0 for a vector with a larger max which also means that the other values are smaller.\n",
    "\n",
    "Note II: here we basically guess the next element out of a overcomplete dictionary. Eventually this could be done in a better way (some best approximation of Matrix in Rank1 wiht 1-norm that promotes sparsity...) \n",
    "but here we hope that by chance one element seperates form the rest"
   ]
  },
  {
   "cell_type": "code",
   "execution_count": null,
   "metadata": {},
   "outputs": [],
   "source": [
    "max_u = np.max(np.abs(u_n),axis=0)\n",
    "max_u.shape=(1,s_n.size)\n",
    "\n",
    "max_v = np.max(np.abs(vh_n),axis=1)\n",
    "max_v.shape=(s_n.size,1)\n",
    "u_n[np.abs(u_n)<0.4*max_u]=0\n",
    "vh_n-max_v\n",
    "vh_n[np.abs(vh_n)<0.4*max_v]=0"
   ]
  },
  {
   "cell_type": "markdown",
   "metadata": {},
   "source": [
    "Normalize thm again"
   ]
  },
  {
   "cell_type": "code",
   "execution_count": null,
   "metadata": {},
   "outputs": [],
   "source": [
    "u_n=u_n/np.linalg.norm(u_n,axis=0)\n",
    "vh_n=vh_n/np.linalg.norm(vh_n,axis=1).reshape(s_n.size,1) "
   ]
  },
  {
   "cell_type": "raw",
   "metadata": {},
   "source": [
    "np.diag(u_n.T@u_n)"
   ]
  },
  {
   "cell_type": "raw",
   "metadata": {},
   "source": [
    "np.diag(vh_n@vh_n.T)"
   ]
  },
  {
   "cell_type": "code",
   "execution_count": null,
   "metadata": {},
   "outputs": [],
   "source": [
    "plt.hist(abs(u_n.flatten()))"
   ]
  },
  {
   "cell_type": "code",
   "execution_count": null,
   "metadata": {},
   "outputs": [],
   "source": [
    "for i in range(0,s_n.size):\n",
    "    s_n[i] = np.sum(R*(u_n[:,i].reshape(n,1)@(vh_n[i,:].reshape(1,m))))"
   ]
  },
  {
   "cell_type": "code",
   "execution_count": null,
   "metadata": {},
   "outputs": [],
   "source": [
    "fig, axs = plt.subplots(1, 2, sharey=True, tight_layout=True)\n",
    "\n",
    "axs[0].scatter(abs(s_n),np.arange(1,s.size+1))\n",
    "axs[1].hist(abs(s_n),bins = 100);\n"
   ]
  },
  {
   "cell_type": "code",
   "execution_count": null,
   "metadata": {},
   "outputs": [],
   "source": [
    "k = np.argmax(s_n)\n",
    "display(k)\n",
    "display(s_n[k])"
   ]
  },
  {
   "cell_type": "code",
   "execution_count": null,
   "metadata": {},
   "outputs": [],
   "source": []
  },
  {
   "cell_type": "code",
   "execution_count": null,
   "metadata": {},
   "outputs": [],
   "source": []
  },
  {
   "cell_type": "code",
   "execution_count": null,
   "metadata": {},
   "outputs": [],
   "source": [
    "def approx(Us,a,Vs):\n",
    "    #calcaultes the approxiamtion\n",
    "    \n",
    "    #Us: Matrix, collums are us\n",
    "    #a:  factors\n",
    "    #Vs: Matrix, collumns are vs\n",
    "    return Us@np.diag(a)@Vs.T"
   ]
  },
  {
   "cell_type": "code",
   "execution_count": null,
   "metadata": {},
   "outputs": [],
   "source": [
    "u, s, vh = np.linalg.svd(A, full_matrices=False)\n",
    "np.max(abs(A-approx(u,s,vh.T)))"
   ]
  },
  {
   "cell_type": "code",
   "execution_count": null,
   "metadata": {},
   "outputs": [],
   "source": [
    "def inner(A,u,v):\n",
    "    #calcaulates the inner product of flatten(A) with flatten(u@v.T)\n",
    "    n = u.size\n",
    "    m = v.size\n",
    "    return np.sum(A*(u.reshape(n,1)@(v.reshape(1,m))))"
   ]
  },
  {
   "cell_type": "code",
   "execution_count": null,
   "metadata": {},
   "outputs": [],
   "source": [
    "display(inner(np.eye(3),np.array([0,1,0]),np.array([0,1,0])))\n",
    "display(inner(np.eye(3),np.array([1,0,0]),np.array([0,1,0])))"
   ]
  },
  {
   "cell_type": "code",
   "execution_count": null,
   "metadata": {},
   "outputs": [],
   "source": [
    "def sparsify(Q):\n",
    "    #Takes Matrix Q with collumn vectors and makes them sparse\n",
    "    max_q = np.max(np.abs(Q),axis=0)\n",
    "    max_q.shape=(1,Q.shape[1])\n",
    "\n",
    "\n",
    "    Q[np.abs(Q)<gamma*max_q]=0\n",
    "    #renormalize them\n",
    "    Q=Q/np.linalg.norm(Q,axis=0)\n",
    "    return Q"
   ]
  },
  {
   "cell_type": "code",
   "execution_count": null,
   "metadata": {},
   "outputs": [],
   "source": [
    "gamma = 0.2\n",
    "Q = np.eye(4)\n",
    "Q[1,2]=0.5\n",
    "Q[1,3]=1\n",
    "Q[3,0]=0.1\n",
    "display(Q)\n",
    "Q = sparsify(Q)\n",
    "display(Q)\n",
    "display(np.diag(Q.T@Q))"
   ]
  },
  {
   "cell_type": "code",
   "execution_count": null,
   "metadata": {},
   "outputs": [],
   "source": [
    "def matrixnorm(u,v):\n",
    "    n = u.size\n",
    "    m = v.size\n",
    "    return np.linalg.norm((u.reshape(n,1)@(v.reshape(1,m))))\n",
    "    "
   ]
  },
  {
   "cell_type": "code",
   "execution_count": null,
   "metadata": {},
   "outputs": [],
   "source": [
    "def calc_new_atom(R,plot_hist = False):\n",
    "    #R is the current residuum\n",
    "    #calcualte the svd\n",
    "    U, s, Vh = np.linalg.svd(R, full_matrices=False)\n",
    "\n",
    "    #sparsify them\n",
    "    U = sparsify(U)\n",
    "    V = sparsify(Vh.T)\n",
    "    \n",
    "    for i in range(0,s.size):\n",
    "        U[:,i] = U[:,i]/matrixnorm(U[:,i],V[:,i])\n",
    "        s[i] = inner(R,U[:,i],V[:,i]) \n",
    "#we maybee would need a sign correction here but ignore it for now it is unlikeley that a vector would become so negative\n",
    "    \n",
    "    if plot_hist:\n",
    "        axs[0].scatter(s,np.arange(0,s.size))\n",
    "        axs[1].hist(s,bins = 100);\n",
    "    k = np.argmax(s)\n",
    "    u = U[:,k]\n",
    "    v = V[:,k]\n",
    "    return u,s[k],v"
   ]
  },
  {
   "cell_type": "code",
   "execution_count": null,
   "metadata": {},
   "outputs": [],
   "source": [
    "A = np.array([[0,-1,0,0,0,1,1]]).T@np.array([[1,0,0,0,0,-1,1]])\n",
    "display(A)\n",
    "u,s,v = calc_new_atom(A,plot_hist = False)\n",
    "display(s*u.reshape(7,1)@v.reshape(1,7))\n",
    "display(approx(u.reshape(7,1),np.array([s]),v.reshape(7,1)))"
   ]
  },
  {
   "cell_type": "code",
   "execution_count": null,
   "metadata": {},
   "outputs": [],
   "source": [
    "gamma = 0.7\n",
    "i = 0 #index for Array\n",
    "n = 200\n",
    "m = 200\n",
    "A = np.random.standard_normal((n,m))\n",
    "d = 700 #number of matricies\n",
    "Us = np.zeros((n,d))\n",
    "Vs = np.zeros((m,d))\n",
    "a = np.zeros(d)"
   ]
  },
  {
   "cell_type": "raw",
   "metadata": {},
   "source": [
    "fig, axs = plt.subplots(1, 2, sharey=True, tight_layout=True)\n",
    "A_tilde = approx(Us,a,Vs)\n",
    "R = A-A_tilde\n",
    "print('||R||=',np.linalg.norm(R))\n",
    "u,s,v = calc_new_atom(R,plot_hist = True)\n",
    "Us[:,i]=u\n",
    "Vs[:,i]=v\n",
    "a[i]=s\n",
    "i = i+1"
   ]
  },
  {
   "cell_type": "code",
   "execution_count": null,
   "metadata": {},
   "outputs": [],
   "source": [
    "for i in range(d):\n",
    "    gamma = 0.3*(d-i)/d+0.5*(i)/d\n",
    "    A_tilde = approx(Us,a,Vs)\n",
    "    R = A-A_tilde\n",
    "    print('||R||=',np.linalg.norm(R),'gamma=',gamma)\n",
    "    u,s,v = calc_new_atom(R,plot_hist = False)\n",
    "    Us[:,i]=u\n",
    "    Vs[:,i]=v\n",
    "    a[i]=s\n"
   ]
  },
  {
   "cell_type": "code",
   "execution_count": null,
   "metadata": {},
   "outputs": [],
   "source": [
    "def number_of_params(Qs):\n",
    "    #returns a vector with the number of nonzero eleemts for each vector\n",
    "    return np.count_nonzero(Qs,axis = 0)"
   ]
  },
  {
   "cell_type": "code",
   "execution_count": null,
   "metadata": {},
   "outputs": [],
   "source": [
    "plt.plot(number_of_params(Us),'x')\n",
    "plt.plot(number_of_params(Vs),'x')"
   ]
  },
  {
   "cell_type": "code",
   "execution_count": null,
   "metadata": {},
   "outputs": [],
   "source": [
    "np.count_nonzero(Us)"
   ]
  },
  {
   "cell_type": "code",
   "execution_count": null,
   "metadata": {},
   "outputs": [],
   "source": [
    "np.count_nonzero(Vs)"
   ]
  },
  {
   "cell_type": "code",
   "execution_count": null,
   "metadata": {},
   "outputs": [],
   "source": [
    "m*n"
   ]
  },
  {
   "cell_type": "code",
   "execution_count": null,
   "metadata": {},
   "outputs": [],
   "source": []
  }
 ],
 "metadata": {
  "kernelspec": {
   "display_name": "Python 3",
   "language": "python",
   "name": "python3"
  },
  "language_info": {
   "codemirror_mode": {
    "name": "ipython",
    "version": 3
   },
   "file_extension": ".py",
   "mimetype": "text/x-python",
   "name": "python",
   "nbconvert_exporter": "python",
   "pygments_lexer": "ipython3",
   "version": "3.7.7"
  }
 },
 "nbformat": 4,
 "nbformat_minor": 4
}
