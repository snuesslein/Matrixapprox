{
 "cells": [
  {
   "cell_type": "code",
   "execution_count": null,
   "metadata": {},
   "outputs": [],
   "source": [
    "from tvsclib.strict_system import StrictSystem\n",
    "from tvsclib.stage import Stage\n",
    "from tvsclib.system_identification_svd import SystemIdentificationSVD\n",
    "from tvsclib.toeplitz_operator import ToeplitzOperator\n",
    "from tvsclib.mixed_system import MixedSystem\n",
    "import numpy as np\n",
    "import matplotlib.pyplot as plt\n",
    "import scipy.linalg as linalg\n",
    "\n",
    "import timeit\n",
    "import numba"
   ]
  },
  {
   "cell_type": "markdown",
   "metadata": {},
   "source": [
    "# Notebook to explore better implementations"
   ]
  },
  {
   "cell_type": "code",
   "execution_count": null,
   "metadata": {},
   "outputs": [],
   "source": [
    "def get_testsystem(dims_state,dims_output,dims_input,causal=True,dim_state_in=0):\n",
    "    if dims_state[-1] != 0:\n",
    "        print('last states usually is 0')\n",
    "    past_state=dim_state_in\n",
    "    stages = []\n",
    "    for i in range(len(dims_input)):\n",
    "        A = np.random.rand(dims_state[i],past_state)\n",
    "        B = np.random.rand(dims_state[i],dims_input[i])\n",
    "        C = np.random.rand(dims_output[i],past_state)\n",
    "        D = np.random.rand(dims_output[i],dims_input[i])\n",
    "        past_state=dims_state[i]\n",
    "        stages.append(Stage(A,B,C,D))\n",
    "        \n",
    "    return StrictSystem(causal,stages=stages)"
   ]
  },
  {
   "cell_type": "code",
   "execution_count": null,
   "metadata": {},
   "outputs": [],
   "source": [
    "def show_system(system):\n",
    "    #function that uses matshow to display the resulting matrix and also shows the divisions\n",
    "    mat = system.to_matrix()\n",
    "    plt.matshow(mat)\n",
    "    x=-0.5\n",
    "    y=-0.5\n",
    "    for st in system.stages:\n",
    "        x+=st.dim_in\n",
    "        plt.hlines(y,-0.5,x)\n",
    "        plt.vlines(x,y,mat.shape[0]-0.5)\n",
    "        y+=st.dim_out\n",
    "                   \n",
    "        \n",
    "\n",
    "def check_dims(system,dim_state_in=0,dim_state_out=0,text_output=True,return_report=False):\n",
    "    rep = \"\"\n",
    "    correct = True\n",
    "    dim_state = dim_state_in\n",
    "    for i,st in enumerate(system.stages):\n",
    "        #check if the state input is correct for A and C\n",
    "        if st.A_matrix.shape[1] != dim_state:\n",
    "            correct = False\n",
    "            rep = rep + \"Problem at index \"+str(i)+\": State dims of A do not match: old:\"+str(dim_state)+ \\\n",
    "                  \" new: \"+str(st.A_matrix.shape[1])+\"\\n\"\n",
    "        if st.C_matrix.shape[1] != dim_state:\n",
    "            correct = False\n",
    "            rep = rep + \"Problem at index \"+str(i)+\": State dims of C do not match: old:\"+str(dim_state)+ \\\n",
    "                  \" new: \"+str(st.C_matrix.shape[1])+\"\\n\"\n",
    "            \n",
    "        #check if the state output of A and B match\n",
    "        dim_state = st.A_matrix.shape[0]\n",
    "        if st.B_matrix.shape[0] != dim_state:\n",
    "            correct = False\n",
    "            rep = rep + \"Problem at index \"+str(i)+\": State dims of A and B do not match: A:\"+str(dim_state)+ \\\n",
    "                  \"B: \"+str(st.B_matrix.shape[0]) + \"\\n\"\n",
    "            \n",
    "        #check if the input dims match\n",
    "        if st.B_matrix.shape[1] != st.D_matrix.shape[1]:\n",
    "            correct = False\n",
    "            rep = rep + \"Problem at index \"+str(i)+\": Input dims of B and D do not match: B:\"+str(st.B_matrix.shape[1])+ \\\n",
    "                  \"D: \"+str(st.D_matrix.shape[1]) +\"\\n\"\n",
    "        \n",
    "        #check if the output states match\n",
    "        if st.C_matrix.shape[0] != st.D_matrix.shape[0]:\n",
    "            correct = False\n",
    "            rep = rep + \"Problem at index \"+str(i)+\": Output dims of C and D do not match: C:\"+str(st.C_matrix.shape[0])+ \\\n",
    "                  \"D: \"+str(st.D_matrix.shape[0]) +\"\\n\"\n",
    "    if dim_state != dim_state_out:\n",
    "        correct = False\n",
    "        rep = rep + \"final state dim does not match\"\n",
    "    if text_output:\n",
    "        if correct:\n",
    "            print(\"Matrix shapes are correct\")\n",
    "        else:\n",
    "            print(\"Matrix shapes are not correct\")\n",
    "            print(rep)\n",
    "    if return_report:\n",
    "        return correct,rep\n",
    "    else:\n",
    "        return correct\n"
   ]
  },
  {
   "cell_type": "code",
   "execution_count": null,
   "metadata": {},
   "outputs": [],
   "source": [
    "sys = get_testsystem(1*np.ones(20,'i'),1*np.ones(20,'i'),1*np.ones(20,'i'))"
   ]
  },
  {
   "cell_type": "code",
   "execution_count": null,
   "metadata": {},
   "outputs": [],
   "source": [
    "check_dims(sys,dim_state_out=1)"
   ]
  },
  {
   "cell_type": "code",
   "execution_count": null,
   "metadata": {},
   "outputs": [],
   "source": [
    "inp = np.random.rand(sum(sys.dims_in))\n",
    "\n",
    "x_ref,y_ref = sys.compute(inp.reshape(-1,1))\n"
   ]
  },
  {
   "cell_type": "markdown",
   "metadata": {},
   "source": [
    "# Simple straightforward implementation"
   ]
  },
  {
   "cell_type": "code",
   "execution_count": null,
   "metadata": {},
   "outputs": [],
   "source": [
    "def compute(system,u,x_in):\n",
    "    y = np.zeros(sum(sys.dims_out))\n",
    "    di= system.dims_in\n",
    "    do= system.dims_out\n",
    "    x = x_in\n",
    "    i_in = 0\n",
    "    i_out= 0\n",
    "    for i,s in enumerate(system.stages):\n",
    "        y[i_out:i_out+do[i]] = s.C_matrix@x+s.D_matrix@u[i_in:i_in+di[i]]\n",
    "        x =                    s.A_matrix@x+s.B_matrix@u[i_in:i_in+di[i]]\n",
    "        i_out = i_out+do[i]\n",
    "        i_in  = i_in+ di[i]\n",
    "    return y,x"
   ]
  },
  {
   "cell_type": "code",
   "execution_count": null,
   "metadata": {},
   "outputs": [],
   "source": [
    "xin=np.zeros((0))\n",
    "y,x = compute(sys,inp,xin)\n",
    "x_in_vec = xin"
   ]
  },
  {
   "cell_type": "code",
   "execution_count": null,
   "metadata": {},
   "outputs": [],
   "source": [
    "np.max(abs(y_ref.T-y))"
   ]
  },
  {
   "cell_type": "code",
   "execution_count": null,
   "metadata": {},
   "outputs": [],
   "source": [
    "mat = sys.to_matrix()\n",
    "np.max(abs(mat@inp-y))"
   ]
  },
  {
   "cell_type": "markdown",
   "metadata": {},
   "source": [
    "# Simple implementation with numba"
   ]
  },
  {
   "cell_type": "code",
   "execution_count": null,
   "metadata": {},
   "outputs": [],
   "source": [
    "@numba.jit\n",
    "def compute_numba(system,u,x_in):\n",
    "    y = np.zeros(sum(sys.dims_out))\n",
    "    di= system.dims_in\n",
    "    do= system.dims_out\n",
    "    x = x_in\n",
    "    i_in = 0\n",
    "    i_out= 0\n",
    "    for i,s in enumerate(system.stages):\n",
    "        y[i_out:i_out+do[i]] = s.C_matrix@x+s.D_matrix@u[i_in:i_in+di[i]]\n",
    "        x =                    s.A_matrix@x+s.B_matrix@u[i_in:i_in+di[i]]\n",
    "        i_out = i_out+do[i]\n",
    "        i_in  = i_in+ di[i]\n",
    "    return y,x"
   ]
  },
  {
   "cell_type": "code",
   "execution_count": null,
   "metadata": {},
   "outputs": [],
   "source": [
    "xin_vec=np.zeros(0)\n",
    "y,x = compute_numba(sys,inp,xin_vec)\n",
    "np.max(abs(y_ref.T-y))"
   ]
  },
  {
   "cell_type": "markdown",
   "metadata": {},
   "source": [
    "# Implementation with numba and numba typed lists"
   ]
  },
  {
   "cell_type": "code",
   "execution_count": null,
   "metadata": {},
   "outputs": [],
   "source": [
    "#so this aparently did not work..\n",
    "#lets prepare them differently\n",
    "#For this we use numbas typed lists and place the stage matrices into it\n",
    "#to be able to assign we also calcualte the indixes of the inputs and outputs \n",
    "As = numba.typed.List()\n",
    "Bs = numba.typed.List()\n",
    "Cs = numba.typed.List()\n",
    "Ds = numba.typed.List()\n",
    "for s in sys.stages:\n",
    "    As.append(s.A_matrix)\n",
    "    Bs.append(s.B_matrix)\n",
    "    Cs.append(s.C_matrix)\n",
    "    Ds.append(s.D_matrix)\n",
    "\n",
    "is_in =np.zeros(len(sys.dims_in)+1,dtype=np.int64)\n",
    "is_out=np.zeros(len(sys.dims_in)+1,dtype=np.int64)\n",
    "is_in[1] =sys.dims_in[0]\n",
    "is_out[1]=sys.dims_out[0]\n",
    "for i in range(2,len(is_in)):\n",
    "    is_in[i] =is_in[i-1] +sys.dims_in[i-1]\n",
    "    is_out[i]=is_out[i-1]+sys.dims_out[i-1]\n",
    "\n",
    "#@numba.jit(nopython=True)\n",
    "def compute_split(As,Bs,Cs,Ds,is_in,is_out,u,x_in):\n",
    "    y = np.zeros(is_out[-1])\n",
    "    x = x_in\n",
    "    for i in range(is_in.shape[0]-1):\n",
    "        y[is_out[i]:is_out[i+1]] = Cs[i]@x+Ds[i]@u[is_in[i]:is_in[i+1]]\n",
    "        x =                        As[i]@x+Bs[i]@u[is_in[i]:is_in[i+1]]\n",
    "    return y,x\n",
    "\n",
    "@numba.jit(nopython=True)\n",
    "def compute_numba_split(As,Bs,Cs,Ds,is_in,is_out,u,x_in):\n",
    "    y = np.zeros(is_out[-1])\n",
    "    x = x_in\n",
    "    for i in range(is_in.shape[0]-1):\n",
    "        y[is_out[i]:is_out[i+1]] = Cs[i]@x+Ds[i]@u[is_in[i]:is_in[i+1]]\n",
    "        x =                        As[i]@x+Bs[i]@u[is_in[i]:is_in[i+1]]\n",
    "    return y,x\n",
    "\n"
   ]
  },
  {
   "cell_type": "code",
   "execution_count": null,
   "metadata": {},
   "outputs": [],
   "source": [
    "xin_2d=np.zeros((0,1))\n",
    "y,x = compute_numba_split(As,Bs,Cs,Ds,is_in,is_out,inp.reshape(-1,1),xin_2d)\n",
    "print(np.max(abs(y_ref.T-y)))\n",
    "#compute_numba_split(As,Bs,Cs,Ds,is_in,is_out,inp.reshape(-1,1),xin)"
   ]
  },
  {
   "cell_type": "markdown",
   "metadata": {},
   "source": [
    "# Time them"
   ]
  },
  {
   "cell_type": "code",
   "execution_count": null,
   "metadata": {},
   "outputs": [],
   "source": [
    "#time them\n",
    "print(\"matrix_vec:\")\n",
    "print(timeit.timeit(lambda:mat@inp, number=1000))\n",
    "print(\"regular:\")\n",
    "print(timeit.timeit(lambda:sys.compute(inp.reshape(-1,1)), number=1000))\n",
    "print(\"simplifyied:\")\n",
    "print(timeit.timeit(lambda:compute(sys,inp,x_in_vec), number=1000))\n",
    "print(\"simplifyied numba:\")\n",
    "print(timeit.timeit(lambda:compute_numba(sys,inp,xin_2d), number=1000))\n",
    "print(\"simplifyied and split numba:\")\n",
    "print(timeit.timeit(lambda:compute_numba_split(As,Bs,Cs,Ds,is_in,is_out,inp.reshape(-1,1),xin_2d), number=1000))\n"
   ]
  },
  {
   "cell_type": "code",
   "execution_count": null,
   "metadata": {},
   "outputs": [],
   "source": [
    "%timeit sys.compute(inp.reshape(-1,1))"
   ]
  },
  {
   "cell_type": "code",
   "execution_count": null,
   "metadata": {},
   "outputs": [],
   "source": [
    "%timeit compute_numba_split(As,Bs,Cs,Ds,is_in,is_out,inp,xin)"
   ]
  },
  {
   "cell_type": "markdown",
   "metadata": {},
   "source": [
    "# If the last version is beeing run with numba we get wrong results\n",
    "\n",
    "here some code to investigate it:\n",
    "\n",
    "- no loop but only one stage\n",
    "- no addition "
   ]
  },
  {
   "cell_type": "code",
   "execution_count": null,
   "metadata": {},
   "outputs": [],
   "source": [
    "@numba.jit(nopython=True)\n",
    "def compute_numba_fixed_noadd(As,Bs,Cs,Ds,is_in,is_out,u,x_in):\n",
    "    y = np.zeros(is_out[-1])\n",
    "    x = x_in\n",
    "    i = 0\n",
    "    y[is_out[i]:is_out[i+1]] = Ds[i]@u[is_in[i]:is_in[i+1]]\n",
    "    #y[is_out[i]:is_out[i+1]] = Cs[i]@x\n",
    "    x =                        Bs[i]@u[is_in[i]:is_in[i+1]]\n",
    "    #x =                        As[i]@x\n",
    "    print(y)\n",
    "    return y,x\n",
    "\n",
    "compute_numba_fixed_noadd(As,Bs,Cs,Ds,is_in,is_out,inp,xin)"
   ]
  },
  {
   "cell_type": "code",
   "execution_count": null,
   "metadata": {},
   "outputs": [],
   "source": [
    "@numba.jit(nopython=True)\n",
    "def compute_numba_printxin(As,Bs,Cs,Ds,is_in,is_out,u,x_in):\n",
    "    y = np.zeros(is_out[-1])\n",
    "    x = x_in\n",
    "    print(x)\n",
    "    i = 0\n",
    "    #y[is_out[i]:is_out[i+1]] = Ds[i]@u[is_in[i]:is_in[i+1]]\n",
    "    y[is_out[i]:is_out[i+1]] = Cs[i]@x\n",
    "    x =                        Bs[i]@u[is_in[i]:is_in[i+1]]\n",
    "    #x =                        As[i]@x\n",
    "    print(y)\n",
    "    return y,x\n",
    "\n",
    "compute_numba_printxin(As,Bs,Cs,Ds,is_in,is_out,inp,xin)"
   ]
  },
  {
   "cell_type": "markdown",
   "metadata": {},
   "source": [
    "# Possible problem with empty multiplications"
   ]
  },
  {
   "cell_type": "code",
   "execution_count": null,
   "metadata": {},
   "outputs": [],
   "source": [
    "G = np.zeros((3,0))\n",
    "\n",
    "m = np.zeros(0)\n",
    "\n",
    "\n",
    "@numba.jit(nopython=True)\n",
    "def test_numba(G,m):\n",
    "    l = G@m\n",
    "    return l\n",
    "test_numba(G,m)"
   ]
  },
  {
   "cell_type": "code",
   "execution_count": null,
   "metadata": {},
   "outputs": [],
   "source": [
    "G@m"
   ]
  },
  {
   "cell_type": "code",
   "execution_count": null,
   "metadata": {},
   "outputs": [],
   "source": [
    "#np.dot?"
   ]
  },
  {
   "cell_type": "code",
   "execution_count": null,
   "metadata": {},
   "outputs": [],
   "source": []
  }
 ],
 "metadata": {
  "kernelspec": {
   "display_name": "Python 3",
   "language": "python",
   "name": "python3"
  },
  "language_info": {
   "codemirror_mode": {
    "name": "ipython",
    "version": 3
   },
   "file_extension": ".py",
   "mimetype": "text/x-python",
   "name": "python",
   "nbconvert_exporter": "python",
   "pygments_lexer": "ipython3",
   "version": "3.7.7"
  }
 },
 "nbformat": 4,
 "nbformat_minor": 4
}
