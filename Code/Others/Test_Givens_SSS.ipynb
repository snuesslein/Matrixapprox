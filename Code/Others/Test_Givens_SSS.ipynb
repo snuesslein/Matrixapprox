{
 "cells": [
  {
   "cell_type": "code",
   "execution_count": null,
   "metadata": {},
   "outputs": [],
   "source": [
    "from tvsclib.strict_system import StrictSystem\n",
    "from tvsclib.stage import Stage\n",
    "import numpy as np\n",
    "import matplotlib.pyplot as plt"
   ]
  },
  {
   "cell_type": "code",
   "execution_count": null,
   "metadata": {},
   "outputs": [],
   "source": [
    "def generate_rotations(x):\n",
    "    #function for givens rotation, takes a vector x and returns a vector with the accoring sin and cosinee vales\n",
    "    s = np.zeros_like(x)\n",
    "    c = np.ones_like(x)\n",
    "    for i in range(x.size-2,-1,-1): # loop from second-last element to index 0\n",
    "        a = x[i]\n",
    "        b = x[i+1]\n",
    "        if a ==0:\n",
    "            s[i] =-1\n",
    "            c[i] =0\n",
    "        else:\n",
    "            \n",
    "            tau = -b/a\n",
    "            c[i] = 1/np.sqrt(1+tau**2)\n",
    "            s[i] = tau*c[i]\n",
    "        x[i]  = c[i]*a-s[i]*b\n",
    "        x[i+1]= s[i]*a+c[i]*b\n",
    "    return [s,c,x]\n",
    "\n",
    "def apply_rotations(s,c,x):\n",
    "    for i in range(x.size-2,-1,-1): # loop from second-last element to index 0\n",
    "        a = x[i]\n",
    "        b = x[i+1]\n",
    "        x[i]  = c[i]*a-s[i]*b\n",
    "        x[i+1]= s[i]*a+c[i]*b\n",
    "    return [x]"
   ]
  },
  {
   "cell_type": "code",
   "execution_count": null,
   "metadata": {},
   "outputs": [],
   "source": [
    "x = np.random.rand(5)\n",
    "x_prime = x.copy()"
   ]
  },
  {
   "cell_type": "code",
   "execution_count": null,
   "metadata": {},
   "outputs": [],
   "source": [
    "[s,c,x]=generate_rotations(x)\n",
    "x"
   ]
  },
  {
   "cell_type": "code",
   "execution_count": null,
   "metadata": {},
   "outputs": [],
   "source": [
    "apply_rotations(s,c,x_prime)\n",
    "x"
   ]
  },
  {
   "cell_type": "code",
   "execution_count": null,
   "metadata": {},
   "outputs": [],
   "source": [
    "#generate a strict system\n",
    "#We will generate some stages here. \n",
    "#all C matrices will have 5*3 shape\n",
    "#and B accoringly 3*5\n",
    "N=5\n",
    "stages = [Stage(np.random.rand(3*(n<N-1),3*(n>0)),np.random.rand(3*(n<N-1),5),np.random.rand(5,3*(n>0)),np.random.rand(5,5)) for n in range(N)]\n",
    "syst = StrictSystem(causal=True,stages=stages)"
   ]
  },
  {
   "cell_type": "code",
   "execution_count": null,
   "metadata": {},
   "outputs": [],
   "source": [
    "#short test\n",
    "inp = np.random.rand(25,3)\n",
    "syst.compute(inp)"
   ]
  },
  {
   "cell_type": "code",
   "execution_count": null,
   "metadata": {},
   "outputs": [],
   "source": [
    "A = syst.to_matrix()\n",
    "plt.spy(A)"
   ]
  },
  {
   "cell_type": "code",
   "execution_count": null,
   "metadata": {},
   "outputs": [],
   "source": [
    "#now run the first step of the QR decomposition\n",
    "S = np.zeros((25,3))\n",
    "C = np.zeros((25,3))\n",
    "for j in range(3):\n",
    "    [s,c,x]=generate_rotations(A[j:,j])\n",
    "    S[j:,j]=s\n",
    "    C[j:,j]=c\n",
    "    for i in range(j+1,25):\n",
    "        apply_rotations(s,c,A[j:,i])\n"
   ]
  },
  {
   "cell_type": "code",
   "execution_count": null,
   "metadata": {},
   "outputs": [],
   "source": [
    "plt.spy(abs(A)>1e-10)"
   ]
  },
  {
   "cell_type": "code",
   "execution_count": null,
   "metadata": {},
   "outputs": [],
   "source": [
    "A[:,14]"
   ]
  },
  {
   "cell_type": "code",
   "execution_count": null,
   "metadata": {},
   "outputs": [],
   "source": [
    "np.random.rand(5,0)"
   ]
  },
  {
   "cell_type": "markdown",
   "metadata": {},
   "source": [
    "Now we consider how it behaves if the lowest C is not fully used in the first collumn"
   ]
  },
  {
   "cell_type": "code",
   "execution_count": null,
   "metadata": {},
   "outputs": [],
   "source": [
    "#generate a strict system\n",
    "#We will generate some stages here. \n",
    "#all C matrices will have 5*3 shape\n",
    "#and B accoringly 3*5\n",
    "N=5\n",
    "stages2 = [Stage(np.random.rand(3*(n<N-1),3*(n>0)),np.random.rand(3*(n<N-1),5),np.random.rand(5,3*(n>0)),np.random.rand(5,5)) for n in range(N)]\n",
    "stages2[4].A_matrix[:,0]=0\n",
    "syst2 = StrictSystem(causal=True,stages=stages2)"
   ]
  },
  {
   "cell_type": "code",
   "execution_count": null,
   "metadata": {},
   "outputs": [],
   "source": [
    "A2 = syst2.to_matrix()"
   ]
  },
  {
   "cell_type": "code",
   "execution_count": null,
   "metadata": {},
   "outputs": [],
   "source": [
    "#now run the first step of the QR decomposition\n",
    "S = np.zeros((25,3))\n",
    "C = np.zeros((25,3))\n",
    "for j in range(3):\n",
    "    [s,c,x]=generate_rotations(A2[j:,j])\n",
    "    S[j:,j]=s\n",
    "    C[j:,j]=c\n",
    "    for i in range(j+1,25):\n",
    "        apply_rotations(s,c,A2[j:,i])"
   ]
  },
  {
   "cell_type": "code",
   "execution_count": null,
   "metadata": {},
   "outputs": [],
   "source": [
    "plt.matshow(np.log(np.abs(A2)+1e-15))"
   ]
  },
  {
   "cell_type": "code",
   "execution_count": null,
   "metadata": {},
   "outputs": [],
   "source": []
  }
 ],
 "metadata": {
  "kernelspec": {
   "display_name": "Python 3",
   "language": "python",
   "name": "python3"
  },
  "language_info": {
   "codemirror_mode": {
    "name": "ipython",
    "version": 3
   },
   "file_extension": ".py",
   "mimetype": "text/x-python",
   "name": "python",
   "nbconvert_exporter": "python",
   "pygments_lexer": "ipython3",
   "version": "3.7.7"
  }
 },
 "nbformat": 4,
 "nbformat_minor": 4
}
