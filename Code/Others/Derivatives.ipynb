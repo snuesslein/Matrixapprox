{
 "cells": [
  {
   "cell_type": "markdown",
   "metadata": {},
   "source": [
    "# Derivatives"
   ]
  },
  {
   "cell_type": "code",
   "execution_count": null,
   "metadata": {},
   "outputs": [],
   "source": [
    "import sympy as sp"
   ]
  },
  {
   "cell_type": "code",
   "execution_count": null,
   "metadata": {},
   "outputs": [],
   "source": [
    "N = 5 #number of stages\n",
    "\n",
    "As=[0];Bs=[0];Cs=[0];Ds=[0]\n",
    "Ts = [0]\n",
    "for i in range(1,N+1):\n",
    "    i_str = str(i)\n",
    "    As.append(sp.symbols(\"A_\"+i_str,commutative=False))\n",
    "    Bs.append(sp.symbols(\"B_\"+i_str,commutative=False))\n",
    "    Cs.append(sp.symbols(\"C_\"+i_str,commutative=False))\n",
    "    Ds.append(sp.symbols(\"D_\"+i_str,commutative=False))\n",
    "    #exec(\"A_\"+i_str+\",B_\"+i_str+\",C_\"+i_str+\",D_\"+i_str+\n",
    "    #     \"= sp.symbols(\"+\"'A_\"+i_str+\" B_\"+i_str+\" C_\"+i_str+\" D_\"+i_str+\"')\")\n",
    "    \n",
    "    T_ = sp.eye(N+1)\n",
    "    T_[0,0]=As[i]\n",
    "    T_[0,i]=Bs[i]\n",
    "    T_[i,0]=Cs[i]\n",
    "    T_[i,i]=Ds[i]\n",
    "    Ts.append(T_)"
   ]
  },
  {
   "cell_type": "code",
   "execution_count": null,
   "metadata": {},
   "outputs": [],
   "source": [
    "Ts[2]"
   ]
  },
  {
   "cell_type": "code",
   "execution_count": null,
   "metadata": {},
   "outputs": [],
   "source": [
    "Ts[3]@Ts[2]@Ts[1]"
   ]
  },
  {
   "cell_type": "code",
   "execution_count": null,
   "metadata": {},
   "outputs": [],
   "source": [
    "def T_ml(m,l):\n",
    "    \"\"\"\n",
    "    Creates the Transfer operator\n",
    "    T_[m,l] = T_m@T_{m-1}@....@T_{l+1}@T_l \n",
    "    \n",
    "    \"\"\"\n",
    "    \n",
    "    assert m>l, \"ordering is not correct\"\n",
    "    \n",
    "    T_ = sp.eye(N+1)\n",
    "    for i in range(l,m+1):\n",
    "        T_ = Ts[i]@T_\n",
    "    return T_\n",
    "    "
   ]
  },
  {
   "cell_type": "code",
   "execution_count": null,
   "metadata": {},
   "outputs": [],
   "source": [
    "T_ml(N,3)@T_ml(2,1)"
   ]
  },
  {
   "cell_type": "code",
   "execution_count": null,
   "metadata": {},
   "outputs": [],
   "source": [
    "def der_right(k):\n",
    "    \"\"\"\n",
    "    calcualtes the right side of the erivative for stages i\n",
    "    \n",
    "    \"\"\"\n",
    "    der = sp.eye(N+1)\n",
    "    for i in range(1,k):\n",
    "        der = Ts[i]@der\n",
    "    return der[(0,k),:]\n",
    "        \n",
    "    \n",
    "    \n",
    "def der_left(k):\n",
    "    \"\"\"\n",
    "    calcualtes the left side of the erivative for stages i\n",
    "    \n",
    "    \"\"\"\n",
    "    der = sp.eye(N+1)\n",
    "    for i in range(N,k,-1):\n",
    "        der = der@Ts[i]\n",
    "    return der[:,(0,k)]"
   ]
  },
  {
   "cell_type": "code",
   "execution_count": null,
   "metadata": {},
   "outputs": [],
   "source": [
    "der_right(3)"
   ]
  },
  {
   "cell_type": "code",
   "execution_count": null,
   "metadata": {},
   "outputs": [],
   "source": [
    "der_left(3)"
   ]
  },
  {
   "cell_type": "code",
   "execution_count": null,
   "metadata": {},
   "outputs": [],
   "source": [
    "der_left(1)"
   ]
  },
  {
   "cell_type": "code",
   "execution_count": null,
   "metadata": {},
   "outputs": [],
   "source": []
  },
  {
   "cell_type": "code",
   "execution_count": null,
   "metadata": {},
   "outputs": [],
   "source": [
    "T = sp.eye(N+1)\n",
    "for i in range(1,N+1):\n",
    "    T = Ts[i]@T\n",
    "T"
   ]
  },
  {
   "cell_type": "code",
   "execution_count": null,
   "metadata": {},
   "outputs": [],
   "source": [
    "alpha = sp.symbols(\"alpha\")\n",
    "alpha"
   ]
  },
  {
   "cell_type": "code",
   "execution_count": null,
   "metadata": {},
   "outputs": [],
   "source": []
  },
  {
   "cell_type": "code",
   "execution_count": null,
   "metadata": {},
   "outputs": [],
   "source": []
  }
 ],
 "metadata": {
  "kernelspec": {
   "display_name": "Python 3",
   "language": "python",
   "name": "python3"
  },
  "language_info": {
   "codemirror_mode": {
    "name": "ipython",
    "version": 3
   },
   "file_extension": ".py",
   "mimetype": "text/x-python",
   "name": "python",
   "nbconvert_exporter": "python",
   "pygments_lexer": "ipython3",
   "version": "3.7.12"
  }
 },
 "nbformat": 4,
 "nbformat_minor": 4
}
