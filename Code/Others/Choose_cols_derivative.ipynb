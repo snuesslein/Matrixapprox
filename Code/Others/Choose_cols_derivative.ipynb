{
 "cells": [
  {
   "cell_type": "markdown",
   "metadata": {},
   "source": [
    "# Choose Columns\n",
    "\n",
    "Notebook on how to choose collumns of a matrix to reduce the rank/ reduce the nuclear norm"
   ]
  },
  {
   "cell_type": "code",
   "execution_count": null,
   "metadata": {},
   "outputs": [],
   "source": [
    "import numpy as np\n",
    "import scipy.stats \n",
    "import matplotlib.pyplot as plt\n",
    "#%matplotlib notebook\n",
    "plt.rcParams['figure.dpi'] = 100"
   ]
  },
  {
   "cell_type": "code",
   "execution_count": null,
   "metadata": {},
   "outputs": [],
   "source": [
    "N = 10\n",
    "A = np.random.rand(N,2*N)\n",
    "#A = np.random.rand(N,2*N)\n",
    "plt.matshow(A)"
   ]
  },
  {
   "cell_type": "markdown",
   "metadata": {},
   "source": [
    "Start with baseline"
   ]
  },
  {
   "cell_type": "code",
   "execution_count": null,
   "metadata": {},
   "outputs": [],
   "source": [
    "U,s_base,Vt = np.linalg.svd(A)\n",
    "plt.plot(s_base,'x')"
   ]
  },
  {
   "cell_type": "markdown",
   "metadata": {},
   "source": [
    "# Predict singular values\n",
    "\n",
    "Instead of calculating the singular values for every combination we try to predict how the singular values change if we remove or add a column"
   ]
  },
  {
   "cell_type": "markdown",
   "metadata": {},
   "source": [
    "## Derivative of singular values\n",
    "\n",
    "\n",
    "This is done by calcualting\n",
    "\n",
    "$$\\mathrm{D}_a \\lambda_i(A)$$\n",
    "\n",
    "where $a$ is the last column of $A$.\n",
    "\n",
    "First we construct \n",
    "$$\\mathrm{D}_{a'} [A|a+a']^\\top [A|a+a'] = \\begin{bmatrix}0 &A^\\top a \\\\ a^\\top A& 2a^\\top a\\end{bmatrix}$$\n",
    "\n",
    "Then we can get the derivative\n",
    "$$\\mathrm{D}_{a'} \\lambda_i( [A|a+a']^\\top [A|a+a'] )\n",
    "=\n",
    "v_i^\\top \\begin{bmatrix}0 &A^\\top a \\\\ a^\\top A& 2a^\\top a\\end{bmatrix} v_i$$\n",
    "where $v_i$ is the accoridng eigenvalue (or in our case the right singular vector)\n",
    "\n"
   ]
  },
  {
   "cell_type": "code",
   "execution_count": null,
   "metadata": {},
   "outputs": [],
   "source": [
    "A_ = A.copy()\n",
    "#A_[:,-1]= 0.5*A_[:,-1] #some place for changes\n",
    "a = A_[:,-1:]\n",
    "a_prime = -A_[:,-1:]\n",
    "U,s,Vt = np.linalg.svd(A_)\n",
    "G = np.block([\n",
    "    [np.zeros((2*N-1,2*N-1)),A[:,:-1].T@a_prime],\n",
    "    [a_prime.T@A[:,:-1],2*a.T@a_prime]\n",
    "    ])\n",
    "\n",
    "#estimate D lambda\n",
    "d = np.zeros(N)\n",
    "for i in range(N):\n",
    "    v = Vt[i,:]\n",
    "    d[i]= v@G@v\n",
    "    \n",
    "#calcualte D sigma\n",
    "d = d/(2*s) #comes from dervative of sqrt\n",
    "d_right=d\n",
    "s_estimate = s+d\n",
    "\n",
    "# alterantive tests\n",
    "#s_estimate = s_base-2*d\n",
    "\n",
    "\n",
    "#go over the eigenvalues\n",
    "#l_est = s**2-d\n",
    "#s_estimate = np.sqrt(l_est)"
   ]
  },
  {
   "cell_type": "raw",
   "metadata": {},
   "source": [
    "#now base on the left singluar values\n",
    "G = a_prime@a.T + a@a_prime.T\n",
    "\n",
    "#estimate D lambda\n",
    "d = np.zeros(N)\n",
    "for i in range(N):\n",
    "    u = U[:,i]\n",
    "    d[i]= u@G@u\n",
    "    \n",
    "#calcualte D sigma\n",
    "d = d/(2*s) #comes from dervative of sqrt\n",
    "d_left = d\n",
    "s_estimate = s+d\n",
    "\n",
    "# alterantive tests\n",
    "#s_estimate = s_base-2*d\n",
    "\n",
    "\n",
    "#go over the eigenvalues\n",
    "#l_est = s**2-d\n",
    "#s_estimate = np.sqrt(l_est)\n",
    "\n",
    "d_left-d_right"
   ]
  },
  {
   "cell_type": "code",
   "execution_count": null,
   "metadata": {},
   "outputs": [],
   "source": [
    "U_new,s_new,Vt_new = np.linalg.svd(A[:,:-1])\n",
    "plt.plot(s_base,'1',label='old')\n",
    "plt.plot(s_new,'2',label='new')\n",
    "plt.plot(s_estimate,'+',label='estimate')\n",
    "plt.legend()"
   ]
  },
  {
   "cell_type": "code",
   "execution_count": null,
   "metadata": {},
   "outputs": [],
   "source": [
    "d"
   ]
  },
  {
   "cell_type": "markdown",
   "metadata": {},
   "source": [
    "### Add column\n",
    "\n",
    "completly adding a column can not be cacluated using this approach, as for this $a$ is zero which means that the calcaulated derivative is 0.\n",
    "Instead we scale $a$ to a small value and go on from there\n",
    "\n",
    "But apparently this approach sucks as the rescaling basically removes the deriative, one might rescale it back but it is hard to give a justified solution..."
   ]
  },
  {
   "cell_type": "code",
   "execution_count": null,
   "metadata": {},
   "outputs": [],
   "source": [
    "A_ = A.copy()\n",
    "g = 0.25\n",
    "a_orig = A_[:,-1]\n",
    "A_[:,-1]= g*a_orig #some place for changes\n",
    "a = A_[:,-1:]\n",
    "a_prime = ((1-g)*a_orig).reshape(-1,1)\n",
    "U,s,Vt = np.linalg.svd(A_)\n",
    "\n",
    "G = a_prime@a.T + a@a_prime.T\n",
    "\n",
    "#estimate D lambda\n",
    "d = np.zeros(N)\n",
    "for i in range(N):\n",
    "    u = U[:,i]\n",
    "    d[i]= u@G@u\n",
    "    \n",
    "#calcualte D sigma\n",
    "d = d/(2*s) #comes from dervative of sqrt\n",
    "d_left = d\n",
    "s_estimate = s+d\n"
   ]
  },
  {
   "cell_type": "code",
   "execution_count": null,
   "metadata": {},
   "outputs": [],
   "source": [
    "#%matplotlib notebook\n",
    "U_old,s_old,Vt_old = np.linalg.svd(A[:,:-1])\n",
    "U_new,s_new,Vt_new = np.linalg.svd(A)\n",
    "plt.plot(s_old,'1',label='old')\n",
    "plt.plot(s_new,'2',label='new')\n",
    "plt.plot(s_estimate,'+',label='estimate')\n",
    "plt.plot(s,'x',label=\"interemdiate\")\n",
    "plt.legend()"
   ]
  },
  {
   "cell_type": "markdown",
   "metadata": {},
   "source": [
    "## Aproximate singular values using cutting approximation\n",
    "\n",
    "The gernal ideas it that we have the matrix \n",
    "\n",
    "$$U \\Sigma [V^\\top \\rho] = [A a]$$\n",
    "\n",
    "Then we cut the last collumn of the matrix.\n",
    "Thsi is equivalent to cutting the $a$ or $\\rho$.\n",
    "\n",
    "This destroßs the orthonormality of $V$.\n",
    "We restore the normality by reacaling the rows of $V$ to be 1.\n",
    "Thsi gives \n",
    "\n",
    "$$A = U \\Sigma S \\bar{V}^\\top$$\n",
    "where $S$ is a diagonal matrix where $s_i = \\frac{1}{\\|v_i\\|}$\n",
    "\n",
    "This gives new estimated singluar values\n",
    "\n",
    "$$\\bar{\\sigma}_i = \\sigma_i s_i$$"
   ]
  },
  {
   "cell_type": "code",
   "execution_count": null,
   "metadata": {},
   "outputs": [],
   "source": [
    "A_ = A.copy()\n",
    "#A_[:,-1]= 0.5*A_[:,-1] #some place for changes\n",
    "\n",
    "U,sigma,Vt = np.linalg.svd(A_,full_matrices=False)\n",
    "\n",
    "s = np.linalg.norm(Vt[:,:-1],axis=1)\n",
    "\n",
    "s_estimate = sigma*s\n"
   ]
  },
  {
   "cell_type": "code",
   "execution_count": null,
   "metadata": {},
   "outputs": [],
   "source": [
    "U_old,s_old,Vt_old = np.linalg.svd(A)\n",
    "U_new,s_new,Vt_new = np.linalg.svd(A[:,:-1])\n",
    "plt.plot(s_old,'1',label='old')\n",
    "plt.plot(s_new,'2',label='new')\n",
    "plt.plot(s_estimate,'+',label='estimate')\n",
    "plt.legend()\n",
    "#plt.gca().set_yscale('log',basey=10)\n"
   ]
  },
  {
   "cell_type": "markdown",
   "metadata": {},
   "source": [
    "### Add column\n",
    "\n",
    "Here we want to add a column uisng a similar strategy:\n",
    "We start with the SVD\n",
    "\n",
    "$$A = U\\Sigma V^\\top$$\n",
    "\n",
    "The idea is that we use the relation\n",
    "\n",
    "$$[A|a] = [U\\Sigma V^\\top|a] = U \\Sigma [V^\\top|\\Sigma^{-1} U^\\top a] + \\bar{a} [0,\\dots,0, 1]$$\n",
    "\n",
    "And then again rescale the new $V^\\top$\n",
    "\n",
    "The vector $\\bar{a}$ is the preojector on the orthogonal complement of the range of the original matrix.\n",
    "The vector $[0,\\dots,0, 1]$ is a new vector in $V$. If parts of $a$ are in the range of $A$, then this is inherintly non orthogonal, but we probably have to live with it...."
   ]
  },
  {
   "cell_type": "code",
   "execution_count": null,
   "metadata": {},
   "outputs": [],
   "source": [
    "A_ = A.copy()\n",
    "a = A_[:,-1]\n",
    "A_[:,-1]= 0 #some place for changes\n",
    "\n",
    "U,sigma,Vt = np.linalg.svd(A_,full_matrices=False)\n",
    "\n",
    "#attach the new vector in v\n",
    "r = np.count_nonzero(sigma>1e-16)\n",
    "v_prime = np.zeros_like(Vt[:,-1])\n",
    "v_prime[:r] = (U[:,:r].T@a)/sigma[:r]\n",
    "\n",
    "s = np.linalg.norm(np.hstack([Vt[:,:-1],v_prime.reshape(-1,1)]),axis=1)\n",
    "\n",
    "s_estimate =sigma*s\n",
    "if r <min(A.shape):\n",
    "    sigma_new = np.linalg.norm(U[:,r:].T@a)\n",
    "    if len(sigma) >r:\n",
    "    \n",
    "        s_estimate[r]=sigma_new\n",
    "    else:\n",
    "        s_estimate = np.append(sigma*s,sigma_new)\n"
   ]
  },
  {
   "cell_type": "code",
   "execution_count": null,
   "metadata": {},
   "outputs": [],
   "source": [
    "%matplotlib notebook\n",
    "U_old,s_old,Vt_old = np.linalg.svd(A[:,:-1])\n",
    "U_new,s_new,Vt_new = np.linalg.svd(A)\n",
    "plt.plot(s_old,'1',label='old')\n",
    "plt.plot(s_new,'2',label='new')\n",
    "plt.plot(s_estimate,'+',label='estimate')\n",
    "plt.legend()\n",
    "#plt.gca().set_yscale('log',basey=10)\n"
   ]
  },
  {
   "cell_type": "code",
   "execution_count": null,
   "metadata": {},
   "outputs": [],
   "source": []
  }
 ],
 "metadata": {
  "kernelspec": {
   "display_name": "Python 3",
   "language": "python",
   "name": "python3"
  },
  "language_info": {
   "codemirror_mode": {
    "name": "ipython",
    "version": 3
   },
   "file_extension": ".py",
   "mimetype": "text/x-python",
   "name": "python",
   "nbconvert_exporter": "python",
   "pygments_lexer": "ipython3",
   "version": "3.7.12"
  }
 },
 "nbformat": 4,
 "nbformat_minor": 4
}
