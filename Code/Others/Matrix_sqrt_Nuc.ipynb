{
 "cells": [
  {
   "cell_type": "code",
   "execution_count": 2,
   "metadata": {},
   "outputs": [],
   "source": [
    "import sympy as sp"
   ]
  },
  {
   "cell_type": "code",
   "execution_count": 42,
   "metadata": {},
   "outputs": [],
   "source": [
    "Sigma, m,p,n,q = sp.symbols(\"Sigma m p n q\",commutative =False)\n",
    "u,v = sp.symbols(\"u v\",commutative=False)\n",
    "ut,vt = sp.symbols(r\"u^\\top v^\\top\",commutative=False)"
   ]
  },
  {
   "cell_type": "code",
   "execution_count": 43,
   "metadata": {},
   "outputs": [
    {
     "data": {
      "text/latex": [
       "$\\displaystyle \\left[\\begin{matrix}\\Sigma + m n & m q\\\\p n & p q\\end{matrix}\\right]$"
      ],
      "text/plain": [
       "Matrix([\n",
       "[Sigma + m*n, m*q],\n",
       "[        p*n, p*q]])"
      ]
     },
     "execution_count": 43,
     "metadata": {},
     "output_type": "execute_result"
    }
   ],
   "source": [
    "K = sp.Matrix([[Sigma,0],[0,0]]) + sp.Matrix([m,p])@sp.Matrix([n,q]).T\n",
    "K"
   ]
  },
  {
   "cell_type": "code",
   "execution_count": 44,
   "metadata": {},
   "outputs": [
    {
     "data": {
      "text/latex": [
       "$\\displaystyle \\left[\\begin{matrix}m q m q + \\left(\\Sigma + m n\\right)^{2} & m q p q + \\left(\\Sigma + m n\\right) p n\\\\p n \\left(\\Sigma + m n\\right) + p q m q & p n p n + p q p q\\end{matrix}\\right]$"
      ],
      "text/plain": [
       "Matrix([\n",
       "[ m*q*m*q + (Sigma + m*n)**2, m*q*p*q + (Sigma + m*n)*p*n],\n",
       "[p*n*(Sigma + m*n) + p*q*m*q,           p*n*p*n + p*q*p*q]])"
      ]
     },
     "execution_count": 44,
     "metadata": {},
     "output_type": "execute_result"
    }
   ],
   "source": [
    "K@K.T"
   ]
  },
  {
   "cell_type": "code",
   "execution_count": 45,
   "metadata": {},
   "outputs": [
    {
     "data": {
      "text/latex": [
       "$\\displaystyle \\Sigma + u v^\\top$"
      ],
      "text/plain": [
       "Sigma + u*v^\\top"
      ]
     },
     "execution_count": 45,
     "metadata": {},
     "output_type": "execute_result"
    }
   ],
   "source": [
    "Ksym = (Sigma+ u*vt)\n",
    "Ksym"
   ]
  },
  {
   "cell_type": "code",
   "execution_count": 46,
   "metadata": {},
   "outputs": [
    {
     "data": {
      "text/latex": [
       "$\\displaystyle \\left(\\Sigma + u v^\\top\\right) \\left(\\Sigma + v u^\\top\\right)$"
      ],
      "text/plain": [
       "(Sigma + u*v^\\top)*(Sigma + v*u^\\top)"
      ]
     },
     "execution_count": 46,
     "metadata": {},
     "output_type": "execute_result"
    }
   ],
   "source": [
    "KKt = (Sigma+ u*vt)*(Sigma+ v*ut)\n",
    "KKt"
   ]
  },
  {
   "cell_type": "code",
   "execution_count": 47,
   "metadata": {},
   "outputs": [
    {
     "data": {
      "text/latex": [
       "$\\displaystyle \\left(\\Sigma + \\frac{u v^\\top + v u^\\top}{2}\\right)^{2}$"
      ],
      "text/plain": [
       "(Sigma + (u*v^\\top + v*u^\\top)/2)**2"
      ]
     },
     "execution_count": 47,
     "metadata": {},
     "output_type": "execute_result"
    }
   ],
   "source": [
    "K_sK_s = (Sigma+ 1/sp.S(2)*(u*vt+v*ut))*(Sigma+ 1/sp.S(2)*(u*vt+v*ut))\n",
    "K_sK_s"
   ]
  },
  {
   "cell_type": "code",
   "execution_count": 48,
   "metadata": {},
   "outputs": [
    {
     "data": {
      "text/latex": [
       "$\\displaystyle \\frac{\\Sigma u v^\\top}{2} + \\frac{\\Sigma v u^\\top}{2} + \\Sigma^{2} + \\frac{u v^\\top \\Sigma}{2} + \\frac{u v^\\top u v^\\top}{4} + \\frac{u v^\\top v u^\\top}{4} + \\frac{v u^\\top \\Sigma}{2} + \\frac{v u^\\top u v^\\top}{4} + \\frac{v u^\\top v u^\\top}{4}$"
      ],
      "text/plain": [
       "Sigma*u*v^\\top/2 + Sigma*v*u^\\top/2 + Sigma**2 + u*v^\\top*Sigma/2 + u*v^\\top*u*v^\\top/4 + u*v^\\top*v*u^\\top/4 + v*u^\\top*Sigma/2 + v*u^\\top*u*v^\\top/4 + v*u^\\top*v*u^\\top/4"
      ]
     },
     "execution_count": 48,
     "metadata": {},
     "output_type": "execute_result"
    }
   ],
   "source": [
    "sp.expand(K_sK_s)"
   ]
  },
  {
   "cell_type": "code",
   "execution_count": 49,
   "metadata": {},
   "outputs": [
    {
     "data": {
      "text/latex": [
       "$\\displaystyle \\Sigma v u^\\top + \\Sigma^{2} + u v^\\top \\Sigma + u v^\\top v u^\\top$"
      ],
      "text/plain": [
       "Sigma*v*u^\\top + Sigma**2 + u*v^\\top*Sigma + u*v^\\top*v*u^\\top"
      ]
     },
     "execution_count": 49,
     "metadata": {},
     "output_type": "execute_result"
    }
   ],
   "source": [
    "sp.expand(KKt)"
   ]
  },
  {
   "cell_type": "code",
   "execution_count": 52,
   "metadata": {},
   "outputs": [
    {
     "data": {
      "text/latex": [
       "$\\displaystyle \\Sigma u v^\\top + \\Sigma v u^\\top + \\Sigma^{2} + u v^\\top \\Sigma + u v^\\top u v^\\top + u v^\\top v u^\\top + v u^\\top \\Sigma + v u^\\top u v^\\top + v u^\\top v u^\\top$"
      ],
      "text/plain": [
       "Sigma*u*v^\\top + Sigma*v*u^\\top + Sigma**2 + u*v^\\top*Sigma + u*v^\\top*u*v^\\top + u*v^\\top*v*u^\\top + v*u^\\top*Sigma + v*u^\\top*u*v^\\top + v*u^\\top*v*u^\\top"
      ]
     },
     "execution_count": 52,
     "metadata": {},
     "output_type": "execute_result"
    }
   ],
   "source": [
    "K_sK_s = (Sigma+ (u*vt+v*ut))**2\n",
    "sp.expand(K_sK_s)"
   ]
  },
  {
   "cell_type": "markdown",
   "metadata": {},
   "source": [
    "general Idea:\n",
    "\n",
    "create a $\\tilde{K} \\approx \\sqrt{KK^\\top}$\n",
    "\n",
    "We ony need the diagonal entries of this"
   ]
  },
  {
   "cell_type": "code",
   "execution_count": 50,
   "metadata": {},
   "outputs": [
    {
     "data": {
      "text/latex": [
       "$\\displaystyle u v^\\top u v^\\top$"
      ],
      "text/plain": [
       "u*v^\\top*u*v^\\top"
      ]
     },
     "execution_count": 50,
     "metadata": {},
     "output_type": "execute_result"
    }
   ],
   "source": [
    "u*vt*u*vt"
   ]
  },
  {
   "cell_type": "code",
   "execution_count": null,
   "metadata": {},
   "outputs": [],
   "source": []
  }
 ],
 "metadata": {
  "kernelspec": {
   "display_name": "Python 3",
   "language": "python",
   "name": "python3"
  },
  "language_info": {
   "codemirror_mode": {
    "name": "ipython",
    "version": 3
   },
   "file_extension": ".py",
   "mimetype": "text/x-python",
   "name": "python",
   "nbconvert_exporter": "python",
   "pygments_lexer": "ipython3",
   "version": "3.7.12"
  }
 },
 "nbformat": 4,
 "nbformat_minor": 4
}
