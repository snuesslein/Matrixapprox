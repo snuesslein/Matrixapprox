{
 "cells": [
  {
   "cell_type": "markdown",
   "metadata": {},
   "source": [
    "# Helper Tex\n",
    "\n",
    "Some functions to generate tex code for systems"
   ]
  },
  {
   "cell_type": "code",
   "execution_count": null,
   "metadata": {},
   "outputs": [],
   "source": [
    "import sympy as sp"
   ]
  },
  {
   "cell_type": "code",
   "execution_count": null,
   "metadata": {},
   "outputs": [],
   "source": [
    "N = 4 #number of stages\n",
    "\n",
    "As=[0];Bs=[0];Cs=[0];Ds=[0]\n",
    "Ts = [0]\n",
    "for i in range(1,N+1):\n",
    "    i_str = str(i)\n",
    "    As.append(sp.symbols(\"A_\"+i_str,commutative=False))\n",
    "    Bs.append(sp.symbols(\"B_\"+i_str,commutative=False))\n",
    "    Cs.append(sp.symbols(\"C_\"+i_str,commutative=False))\n",
    "    Ds.append(sp.symbols(\"D_\"+i_str,commutative=False))\n",
    "    #exec(\"A_\"+i_str+\",B_\"+i_str+\",C_\"+i_str+\",D_\"+i_str+\n",
    "    #     \"= sp.symbols(\"+\"'A_\"+i_str+\" B_\"+i_str+\" C_\"+i_str+\" D_\"+i_str+\"')\")\n",
    "    \n",
    "    T_ = sp.eye(N+1)\n",
    "    T_[0,0]=As[i]\n",
    "    T_[0,i]=Bs[i]\n",
    "    T_[i,0]=Cs[i]\n",
    "    T_[i,i]=Ds[i]\n",
    "    Ts.append(T_)"
   ]
  },
  {
   "cell_type": "code",
   "execution_count": null,
   "metadata": {},
   "outputs": [],
   "source": [
    "Ts[2]"
   ]
  },
  {
   "cell_type": "code",
   "execution_count": null,
   "metadata": {},
   "outputs": [],
   "source": [
    "Ts[3]@Ts[2]@Ts[1]"
   ]
  },
  {
   "cell_type": "code",
   "execution_count": null,
   "metadata": {},
   "outputs": [],
   "source": [
    "def T_ml(m,l):\n",
    "    \"\"\"\n",
    "    Creates the Transfer operator\n",
    "    T_[m,l] = T_m@T_{m-1}@....@T_{l+1}@T_l \n",
    "    \n",
    "    \"\"\"\n",
    "    \n",
    "    assert m>l, \"ordering is not correct\"\n",
    "    \n",
    "    T_ = sp.eye(N+1)\n",
    "    for i in range(l,m+1):\n",
    "        T_ = Ts[i]@T_\n",
    "    return T_\n",
    "    "
   ]
  },
  {
   "cell_type": "code",
   "execution_count": null,
   "metadata": {},
   "outputs": [],
   "source": [
    "T_ml(N,3)@T_ml(2,1)"
   ]
  },
  {
   "cell_type": "code",
   "execution_count": null,
   "metadata": {},
   "outputs": [],
   "source": [
    "T = sp.eye(N+1)\n",
    "for i in range(1,N+1):\n",
    "    T = Ts[i]@T\n",
    "T"
   ]
  },
  {
   "cell_type": "code",
   "execution_count": null,
   "metadata": {},
   "outputs": [],
   "source": [
    "T[1:,1:]"
   ]
  },
  {
   "cell_type": "code",
   "execution_count": null,
   "metadata": {},
   "outputs": [],
   "source": [
    "sp.print_latex(T[1:,1:])"
   ]
  },
  {
   "cell_type": "markdown",
   "metadata": {},
   "source": [
    "## Anticausal:"
   ]
  },
  {
   "cell_type": "code",
   "execution_count": null,
   "metadata": {},
   "outputs": [],
   "source": [
    "T = sp.eye(N+1)\n",
    "for i in range(N,0,-1):\n",
    "    T = Ts[i]@T\n",
    "T"
   ]
  },
  {
   "cell_type": "code",
   "execution_count": null,
   "metadata": {},
   "outputs": [],
   "source": [
    "T[1:,1:]"
   ]
  },
  {
   "cell_type": "code",
   "execution_count": null,
   "metadata": {},
   "outputs": [],
   "source": [
    "sp.print_latex(T[1:,1:])"
   ]
  },
  {
   "cell_type": "markdown",
   "metadata": {},
   "source": [
    "## Obs and Reach"
   ]
  },
  {
   "cell_type": "code",
   "execution_count": null,
   "metadata": {},
   "outputs": [],
   "source": [
    "N = 3 #number of stages\n",
    "\n",
    "O = sp.ones(N,1)\n",
    "B_o = []\n",
    "A_o = []\n",
    "\n",
    "R = sp.ones(1,N)\n",
    "B_r = []\n",
    "A_r = []\n",
    "\n",
    "def str_(n):\n",
    "    if n ==0:\n",
    "        return \"\"\n",
    "    else:\n",
    "        return(str(n))\n",
    "\n",
    "for i in range(N):\n",
    "    B_r.append(sp.symbols(\"B_k\"+\"-\"+i_str,commutative=False))\n",
    "    A_r.append(sp.symbols(\"A_k\"+\"-\"+i_str,commutative=False))\n",
    "\n",
    "for i in range(N):\n",
    "    \n",
    "    \n",
    "    T_ = sp.eye(N+1)\n",
    "    T_[0,0]=As[i]\n",
    "    T_[0,i]=Bs[i]\n",
    "    T_[i,0]=Cs[i]\n",
    "    T_[i,i]=Ds[i]\n",
    "    Ts.append(T_)"
   ]
  },
  {
   "cell_type": "code",
   "execution_count": null,
   "metadata": {},
   "outputs": [],
   "source": [
    "S = sp.ones(1,2)\n",
    "S"
   ]
  },
  {
   "cell_type": "markdown",
   "metadata": {},
   "source": [
    "## Factorization"
   ]
  },
  {
   "cell_type": "code",
   "execution_count": null,
   "metadata": {},
   "outputs": [],
   "source": [
    "N = 3 #number of stages\n",
    "\n",
    "As=[0];Bs=[0];Cs=[0];Ds=[0]\n",
    "Ts = [0]\n",
    "for i in range(1,N+1):\n",
    "    i_str = str(i)\n",
    "    As.append(sp.symbols(\"A_\"+i_str,commutative=False))\n",
    "    Bs.append(sp.symbols(\"B_\"+i_str,commutative=False))\n",
    "    Cs.append(sp.symbols(\"C_\"+i_str,commutative=False))\n",
    "    Ds.append(sp.symbols(\"D_\"+i_str,commutative=False))\n",
    "    #exec(\"A_\"+i_str+\",B_\"+i_str+\",C_\"+i_str+\",D_\"+i_str+\n",
    "    #     \"= sp.symbols(\"+\"'A_\"+i_str+\" B_\"+i_str+\" C_\"+i_str+\" D_\"+i_str+\"')\")\n",
    "    \n",
    "    T_ = sp.eye(N+1)\n",
    "    T_[0,0]=As[i]\n",
    "    T_[0,i]=Bs[i]\n",
    "    T_[i,0]=Cs[i]\n",
    "    T_[i,i]=Ds[i]\n",
    "    Ts.append(T_)"
   ]
  },
  {
   "cell_type": "code",
   "execution_count": null,
   "metadata": {},
   "outputs": [],
   "source": [
    "for T in Ts:\n",
    "    sp.print_latex(T)"
   ]
  },
  {
   "cell_type": "code",
   "execution_count": null,
   "metadata": {},
   "outputs": [],
   "source": [
    "Ts[3]@Ts[2]@Ts[1]"
   ]
  },
  {
   "cell_type": "code",
   "execution_count": null,
   "metadata": {},
   "outputs": [],
   "source": [
    "sp.print_latex(Ts[3]@Ts[2]@Ts[1])"
   ]
  },
  {
   "cell_type": "code",
   "execution_count": null,
   "metadata": {},
   "outputs": [],
   "source": []
  }
 ],
 "metadata": {
  "kernelspec": {
   "display_name": "Python 3",
   "language": "python",
   "name": "python3"
  },
  "language_info": {
   "codemirror_mode": {
    "name": "ipython",
    "version": 3
   },
   "file_extension": ".py",
   "mimetype": "text/x-python",
   "name": "python",
   "nbconvert_exporter": "python",
   "pygments_lexer": "ipython3",
   "version": "3.7.12"
  }
 },
 "nbformat": 4,
 "nbformat_minor": 4
}
