{
 "cells": [
  {
   "cell_type": "markdown",
   "metadata": {},
   "source": [
    "# Notebook to play around and develop functions"
   ]
  },
  {
   "cell_type": "code",
   "execution_count": 1,
   "metadata": {},
   "outputs": [],
   "source": [
    "from tvsclib.strict_system import StrictSystem\n",
    "from tvsclib.stage import Stage\n",
    "from tvsclib.system_identification_svd import SystemIdentificationSVD\n",
    "from tvsclib.toeplitz_operator import ToeplitzOperator\n",
    "from tvsclib.mixed_system import MixedSystem\n",
    "import numpy as np\n",
    "import matplotlib.pyplot as plt\n",
    "import scipy.linalg as linalg"
   ]
  },
  {
   "cell_type": "code",
   "execution_count": 2,
   "metadata": {},
   "outputs": [],
   "source": [
    "matrix = np.arange(0,12).reshape((-1,1))@np.arange(0,12).reshape((1,-1))\n",
    "dims_in =  np.array([2, 1, 2, 1])*2\n",
    "dims_out = np.array([1, 2, 1, 2])*2\n",
    "T = ToeplitzOperator(matrix, dims_in, dims_out)\n",
    "S = SystemIdentificationSVD(T,epsilon=1e-12)\n",
    "\n",
    "system = MixedSystem(S)"
   ]
  },
  {
   "cell_type": "markdown",
   "metadata": {},
   "source": [
    "# Test print function"
   ]
  },
  {
   "cell_type": "code",
   "execution_count": 3,
   "metadata": {},
   "outputs": [
    {
     "data": {
      "text/plain": [
       "'Mixed system with the parts \\nCausal System:\\n    State dimensions: [1, 1, 1, 0]\\n    Input dimensions: [4, 2, 4, 2]\\n    Output dimensions:[2, 4, 2, 4]\\n    System is minimal\\nAnticausal System:\\n    State dimensions: [0, 1, 1, 1]\\n    Input dimensions: [4, 2, 4, 2]\\n    Output dimensions:[2, 4, 2, 4]\\n    System is minimal'"
      ]
     },
     "execution_count": 3,
     "metadata": {},
     "output_type": "execute_result"
    }
   ],
   "source": [
    "str(system)"
   ]
  },
  {
   "cell_type": "code",
   "execution_count": 4,
   "metadata": {},
   "outputs": [
    {
     "name": "stdout",
     "output_type": "stream",
     "text": [
      "Mixed system with the parts \n",
      "Causal System:\n",
      "    State dimensions: [1, 1, 1, 0]\n",
      "    Input dimensions: [4, 2, 4, 2]\n",
      "    Output dimensions:[2, 4, 2, 4]\n",
      "    System is minimal\n",
      "Anticausal System:\n",
      "    State dimensions: [0, 1, 1, 1]\n",
      "    Input dimensions: [4, 2, 4, 2]\n",
      "    Output dimensions:[2, 4, 2, 4]\n",
      "    System is minimal\n"
     ]
    }
   ],
   "source": [
    "print(system)"
   ]
  },
  {
   "cell_type": "markdown",
   "metadata": {},
   "source": []
  },
  {
   "cell_type": "markdown",
   "metadata": {},
   "source": [
    "# Test is cannonical"
   ]
  },
  {
   "cell_type": "code",
   "execution_count": 60,
   "metadata": {},
   "outputs": [
    {
     "name": "stdout",
     "output_type": "stream",
     "text": [
      "Causal System:\n",
      "    State dimensions: [4, 6, 4, 0]\n",
      "    Input dimensions: [4, 2, 4, 2]\n",
      "    Output dimensions:[2, 4, 2, 4]\n",
      "    System is minimal\n"
     ]
    }
   ],
   "source": [
    "matrix = np.array([\n",
    "        [5,     4,     6,     1,     4,     2],\n",
    "        [2,     3,     2,     1,     3,     4],\n",
    "        [6,     3,     5,     4,     1,     1],\n",
    "        [3,     5,     5,     5,     3,     4],\n",
    "        [2,     4,     3,     6,     1,     2],\n",
    "        [2,     4,     4,     1,     5,     4]\n",
    "])\n",
    "matrix = np.vstack((np.hstack((matrix,matrix)),np.hstack((matrix,matrix))))\n",
    "\n",
    "dims_in =  np.array([2, 1, 2, 1])*2\n",
    "dims_out = np.array([1, 2, 1, 2])*2\n",
    "T = ToeplitzOperator(matrix, dims_in, dims_out)\n",
    "S = SystemIdentificationSVD(T,epsilon=1e-10)\n",
    "\n",
    "testsys = MixedSystem(S).causal_system\n",
    "testsys_a = MixedSystem(S).anticausal_system\n",
    "print(testsys)"
   ]
  },
  {
   "cell_type": "code",
   "execution_count": 6,
   "metadata": {},
   "outputs": [
    {
     "data": {
      "text/plain": [
       "False"
      ]
     },
     "execution_count": 6,
     "metadata": {},
     "output_type": "execute_result"
    }
   ],
   "source": [
    "testsys.is_balanced(tolerance=1e-14)"
   ]
  },
  {
   "cell_type": "code",
   "execution_count": 7,
   "metadata": {},
   "outputs": [
    {
     "name": "stdout",
     "output_type": "stream",
     "text": [
      "[]\n",
      "True\n",
      "[]\n",
      "[[ True  True  True  True]\n",
      " [ True  True  True  True]\n",
      " [ True  True  True  True]\n",
      " [ True  True  True  True]]\n",
      "True\n",
      "[24.10260514  6.32501651  4.25050004  0.99591202]\n",
      "[[ True  True  True  True  True  True]\n",
      " [ True  True  True  True  True  True]\n",
      " [ True  True  True  True  True  True]\n",
      " [ True  True  True  True  True  True]\n",
      " [ True  True  True  True  True  True]\n",
      " [ True  True  True  True  True  True]]\n",
      "True\n",
      "[20.51056908  6.14672642  4.95566612  1.61074959  0.51606658  0.33888728]\n",
      "[[ True  True  True  True]\n",
      " [ True  True  True  True]\n",
      " [ True  True  True  True]\n",
      " [ True  True  True  True]]\n",
      "True\n",
      "[23.46617655  6.26159906  5.17575699  0.58521367]\n"
     ]
    }
   ],
   "source": [
    "tolerance = 1e-14\n",
    "obs_matricies = testsys.observability_matricies()\n",
    "for i in range(len(obs_matricies)):\n",
    "    obs_gramian = obs_matricies[i].T@obs_matricies[i]\n",
    "    d_obs = np.diag(obs_gramian).copy()\n",
    "    np.fill_diagonal(obs_gramian,0)\n",
    "    obs_orth = np.all(np.abs(obs_gramian) <tolerance)\n",
    "    print(np.abs(obs_gramian) <tolerance)\n",
    "    print(obs_orth)\n",
    "    print(d_obs)"
   ]
  },
  {
   "cell_type": "code",
   "execution_count": 8,
   "metadata": {},
   "outputs": [
    {
     "name": "stdout",
     "output_type": "stream",
     "text": [
      "[]\n",
      "True\n",
      "[]\n",
      "[[ True  True  True  True]\n",
      " [ True  True  True  True]\n",
      " [ True  True  True  True]\n",
      " [ True  True  True  True]]\n",
      "True\n",
      "[24.10260514  6.32501651  4.25050004  0.99591202]\n",
      "[[ True False  True  True  True False]\n",
      " [False  True  True  True  True  True]\n",
      " [ True  True  True  True  True  True]\n",
      " [ True  True  True  True  True  True]\n",
      " [ True  True  True  True  True  True]\n",
      " [False  True  True  True  True  True]]\n",
      "False\n",
      "[20.51056908  6.14672642  4.95566612  1.61074959  0.51606658  0.33888728]\n",
      "[[ True  True  True False]\n",
      " [ True  True  True False]\n",
      " [ True  True  True  True]\n",
      " [False False  True  True]]\n",
      "False\n",
      "[23.46617655  6.26159906  5.17575699  0.58521367]\n"
     ]
    }
   ],
   "source": [
    "reach_matricies = testsys.reachability_matricies()\n",
    "for i in range(len(reach_matricies)):\n",
    "    reach_gramian =reach_matricies[i]@reach_matricies[i].T\n",
    "    d_reach = np.diag(reach_gramian).copy()\n",
    "    np.fill_diagonal(reach_gramian,0)\n",
    "    reach_orth = np.all(np.abs(reach_gramian) <tolerance)\n",
    "    print(np.abs(reach_gramian) <tolerance)\n",
    "    print(reach_orth)\n",
    "    print(d_reach)"
   ]
  },
  {
   "cell_type": "code",
   "execution_count": 9,
   "metadata": {},
   "outputs": [
    {
     "data": {
      "text/plain": [
       "True"
      ]
     },
     "execution_count": 9,
     "metadata": {},
     "output_type": "execute_result"
    }
   ],
   "source": [
    "n = testsys.stages[2].A_matrix.shape[1]\n",
    "P = np.eye(6)\n",
    "P[0,0]=0\n",
    "P[2,0]=1\n",
    "P[2,2]=0\n",
    "P[0,2]=1\n",
    "testsys_permuted = testsys.copy()\n",
    "testsys_permuted.stages[2].A_matrix = testsys_permuted.stages[2].A_matrix@P\n",
    "testsys_permuted.stages[2].C_matrix = testsys_permuted.stages[2].C_matrix@P\n",
    "\n",
    "testsys_permuted.stages[1].A_matrix = P@testsys_permuted.stages[1].A_matrix\n",
    "testsys_permuted.stages[1].B_matrix = P@testsys_permuted.stages[1].B_matrix\n",
    "\n",
    "testsys_permuted.is_balanced(tolerance=1e-13)"
   ]
  },
  {
   "cell_type": "code",
   "execution_count": 10,
   "metadata": {},
   "outputs": [
    {
     "name": "stdout",
     "output_type": "stream",
     "text": [
      "[]\n",
      "True\n",
      "[]\n",
      "True\n",
      "[[ True  True  True  True]\n",
      " [ True  True  True  True]\n",
      " [ True  True  True  True]\n",
      " [ True  True  True  True]]\n",
      "True\n",
      "[24.10260514  6.32501651  4.25050004  0.99591202]\n",
      "True\n",
      "[[ True  True  True  True  True  True]\n",
      " [ True  True False  True  True  True]\n",
      " [ True False  True  True  True False]\n",
      " [ True  True  True  True  True  True]\n",
      " [ True  True  True  True  True  True]\n",
      " [ True  True False  True  True  True]]\n",
      "False\n",
      "[ 4.95566612  6.14672642 20.51056908  1.61074959  0.51606658  0.33888728]\n",
      "False\n",
      "[[ True  True  True False]\n",
      " [ True  True  True False]\n",
      " [ True  True  True  True]\n",
      " [False False  True  True]]\n",
      "False\n",
      "[23.46617655  6.26159906  5.17575699  0.58521367]\n",
      "True\n"
     ]
    }
   ],
   "source": [
    "reach_matricies = testsys_permuted.reachability_matricies()\n",
    "for i in range(len(reach_matricies)):\n",
    "    reach_gramian =reach_matricies[i]@reach_matricies[i].T\n",
    "    d_reach = np.diag(reach_gramian).copy()\n",
    "    np.fill_diagonal(reach_gramian,0)\n",
    "    reach_orth = np.all(np.abs(reach_gramian) <tolerance)\n",
    "    print(np.abs(reach_gramian) <tolerance)\n",
    "    print(reach_orth)\n",
    "    print(d_reach)\n",
    "    print(np.all(d_reach[1:]-d_reach[:-1]<0))"
   ]
  },
  {
   "cell_type": "code",
   "execution_count": 11,
   "metadata": {},
   "outputs": [
    {
     "data": {
      "text/plain": [
       "False"
      ]
     },
     "execution_count": 11,
     "metadata": {},
     "output_type": "execute_result"
    }
   ],
   "source": [
    "testsys.is_input_normal()"
   ]
  },
  {
   "cell_type": "code",
   "execution_count": 12,
   "metadata": {},
   "outputs": [
    {
     "data": {
      "text/plain": [
       "False"
      ]
     },
     "execution_count": 12,
     "metadata": {},
     "output_type": "execute_result"
    }
   ],
   "source": [
    "testsys.is_output_normal()"
   ]
  },
  {
   "cell_type": "markdown",
   "metadata": {},
   "source": [
    "# Test make minimal"
   ]
  },
  {
   "cell_type": "code",
   "execution_count": 91,
   "metadata": {},
   "outputs": [],
   "source": [
    "def make_reachable(self,tol = 1e-8):\n",
    "    \"\"\" make_reachable makes the system reachable\n",
    "            This also includes a possible reduction of the state dimension\n",
    "\n",
    "        Args:\n",
    "            tol: (float, optional): used for the rank determination in the SVD\n",
    "                (Note: this is not nececarraly the tolerance for the overall Reachability matrix)\n",
    "\n",
    "        TODO: it is unclear if this is also true if the first/final state has dim =0\n",
    "        \"\"\"\n",
    "    if self.causal:\n",
    "        k = len(self.stages)\n",
    "        for i in range(k-1):\n",
    "            U,s,Vt= np.linalg.svd(np.hstack([self.stages[i].A_matrix,self.stages[i].B_matrix]))\n",
    "            n = np.count_nonzero(s>tol)\n",
    "\n",
    "            rs = np.sqrt(s[:n])\n",
    "            Us=U[:,:n]*rs\n",
    "            sVt=rs.reshape(-1,1)*Vt[:n,:]\n",
    "\n",
    "            self.stages[i].A_matrix=sVt[:,:self.stages[i].A_matrix.shape[1]]\n",
    "            self.stages[i].B_matrix=sVt[:,self.stages[i].A_matrix.shape[1]:]\n",
    "            self.stages[i+1].A_matrix = self.stages[i+1].A_matrix@Us\n",
    "            self.stages[i+1].C_matrix = self.stages[i+1].C_matrix@Us\n",
    "    else:\n",
    "        raise NotImplementedError(\"Not yet implemented\")\n",
    "        \n",
    "def make_input_normal(self,tol = 1e-8):\n",
    "    \"\"\" make_reachable makes the system reachable\n",
    "            This also includes a possible reduction of the state dimension\n",
    "\n",
    "        Args:\n",
    "            tol: (float, optional): used for the rank determination in the SVD\n",
    "                (Note: this is not nececarraly the tolerance for the overall Reachability matrix)\n",
    "\n",
    "        TODO: it is unclear if this is also true if the first/final state has dim =0\n",
    "        \"\"\"\n",
    "    if self.causal:\n",
    "        k = len(self.stages)\n",
    "        for i in range(k-1):\n",
    "            U,s,Vt= np.linalg.svd(np.hstack([self.stages[i].A_matrix,self.stages[i].B_matrix]))\n",
    "            n = np.count_nonzero(s>tol)\n",
    "\n",
    "            \n",
    "            Us=U[:,:n]*s[:n]\n",
    "            sVt=Vt[:n,:]\n",
    "\n",
    "            self.stages[i].A_matrix=sVt[:,:self.stages[i].A_matrix.shape[1]]\n",
    "            self.stages[i].B_matrix=sVt[:,self.stages[i].A_matrix.shape[1]:]\n",
    "            self.stages[i+1].A_matrix = self.stages[i+1].A_matrix@Us\n",
    "            self.stages[i+1].C_matrix = self.stages[i+1].C_matrix@Us\n",
    "    else:\n",
    "        raise NotImplementedError(\"Not yet implemented\")\n",
    "        \n",
    "def make_input_normal_qr(self,tol = 1e-8):\n",
    "    \"\"\" make_reachable makes the system reachable\n",
    "            This also includes a possible reduction of the state dimension\n",
    "\n",
    "\n",
    "        TODO: it is unclear if this is also true if the first/final state has dim =0\n",
    "        \"\"\"\n",
    "    if self.causal:\n",
    "        k = len(self.stages)\n",
    "        for i in range(k-1):\n",
    "            Q, R = np.linalg.qr(np.hstack([self.stages[i].A_matrix,self.stages[i].B_matrix]).T,'reduced')\n",
    "            #U,s,Vt= np.linalg.svd(np.hstack([self.stages[i].A_matrix,self.stages[i].B_matrix]))\n",
    "            #n = np.count_nonzero(s>tol)\n",
    "\n",
    "            #Us=U[:,:n]*s[:n]\n",
    "            #sVt=Vt[:n,:]\n",
    "            Q = Q.T\n",
    "            L = R.T\n",
    "\n",
    "            self.stages[i].A_matrix=Q[:,:self.stages[i].A_matrix.shape[1]]\n",
    "            self.stages[i].B_matrix=Q[:,self.stages[i].A_matrix.shape[1]:]\n",
    "            self.stages[i+1].A_matrix = self.stages[i+1].A_matrix@L\n",
    "            self.stages[i+1].C_matrix = self.stages[i+1].C_matrix@L\n",
    "    else:\n",
    "        k = len(stages)\n",
    "        print(\"k\",k)\n",
    "        for i in range(k-2,1,-1):\n",
    "            print(i)\n",
    "            Q, R = np.linalg.qr(np.hstack([stages[i].A_matrix,stages[i].B_matrix]).T,'reduced')\n",
    "\n",
    "            Q = Q.T\n",
    "            L = R.T\n",
    "            print(L)\n",
    "\n",
    "            stages[i].A_matrix=Q[:,:stages[i].A_matrix.shape[1]]\n",
    "            stages[i].B_matrix=Q[:,stages[i].A_matrix.shape[1]:]\n",
    "            stages[i-1].A_matrix = stages[i-1].A_matrix@L\n",
    "            stages[i-1].C_matrix = stages[i-1].C_matrix@L\n",
    "        return stages\n",
    "        \n",
    "    def make_observable(self,tol = 1e-8):\n",
    "        \"\"\" make_observable makes the system observable\n",
    "            This also includes a possible reduction of the state dimension\n",
    "\n",
    "        Args:\n",
    "            tol: (float, optional): used for the rank determination in the SVD\n",
    "                (Note: this is not nececarraly the tolerance for the overall observability matrix)\n",
    "\n",
    "        TODO: it is unclear if this is also true if the first/final state has dim =0\n",
    "        \"\"\"\n",
    "        if self.causal:\n",
    "            k = len(self.stages)\n",
    "            for i in range(k-1, 0,-1):\n",
    "                U,s,Vt= np.linalg.svd(np.vstack([self.stages[i].C_matrix,self.stages[i].A_matrix]))\n",
    "                n = np.count_nonzero(s>tol)\n",
    "\n",
    "                rs = np.sqrt(s)\n",
    "                Us=U*rs\n",
    "                sVt=Vt*rs.reshape(-1,1)\n",
    "\n",
    "                self.stages[i].C_matrix=Us[self.stages[i].C_matrix.shape[0]:,:n]\n",
    "                self.stages[i].A_matrix=Us[:self.stages[i].C_matrix.shape[0],:n]\n",
    "                self.stage[i-1].A_matrix=sVt[:,:n]@self.stage[i-1].A_matrix\n",
    "                self.stage[i-1].B_matrix=sVt[:,:n]@self.stage[i-1].B_matrix\n",
    "        else:\n",
    "            raise NotImplementedError(\"Not yet implemented\")\n",
    "\n",
    "    def make_minimal(self,tol = 1e-8):\n",
    "        \"\"\" make_minimal makes the system minimal\n",
    "            This removes unnececary dimension\n",
    "\n",
    "        Args:\n",
    "            tol: (float, optional): used for the rank determination in the SVD\n",
    "                (Note: this is not nececarraly the tolerance for the overall\n",
    "                observability and reachability matries)\n",
    "\n",
    "        TODO: it is unclear if this is also true if the first/final state has dim =0\n",
    "        \"\"\"\n",
    "        self.make_reachable(tol=tol)\n",
    "        self.make_observable(tol=tol)"
   ]
  },
  {
   "cell_type": "code",
   "execution_count": 92,
   "metadata": {},
   "outputs": [
    {
     "data": {
      "text/plain": [
       "(array([[-0.60716048,  0.25938706],\n",
       "        [-0.70913331, -0.55230783],\n",
       "        [-0.19898132,  0.73545793],\n",
       "        [-0.29814852,  0.29457776]]),\n",
       " array([[-1.24422543, -1.00430577],\n",
       "        [ 0.        ,  0.95658796]]))"
      ]
     },
     "execution_count": 92,
     "metadata": {},
     "output_type": "execute_result"
    }
   ],
   "source": [
    "np.linalg.qr(np.random.rand(4,2),'reduced')"
   ]
  },
  {
   "cell_type": "code",
   "execution_count": 93,
   "metadata": {},
   "outputs": [
    {
     "data": {
      "text/plain": [
       "True"
      ]
     },
     "execution_count": 93,
     "metadata": {},
     "output_type": "execute_result"
    }
   ],
   "source": [
    "testsys_qr = testsys.copy()\n",
    "make_input_normal_qr(testsys_qr)\n",
    "testsys_qr.is_input_normal()"
   ]
  },
  {
   "cell_type": "code",
   "execution_count": 94,
   "metadata": {},
   "outputs": [
    {
     "name": "stdout",
     "output_type": "stream",
     "text": [
      "k 4\n",
      "2\n",
      "[[ 1.00000000e+00  0.00000000e+00  0.00000000e+00  0.00000000e+00]\n",
      " [ 0.00000000e+00  1.00000000e+00  0.00000000e+00  0.00000000e+00]\n",
      " [ 5.55111512e-17 -2.77555756e-17  1.00000000e+00  0.00000000e+00]\n",
      " [ 8.67361738e-18  2.77555756e-17  1.11022302e-16  1.00000000e+00]]\n"
     ]
    },
    {
     "data": {
      "text/plain": [
       "True"
      ]
     },
     "execution_count": 94,
     "metadata": {},
     "output_type": "execute_result"
    }
   ],
   "source": [
    "testsys_a_qr = testsys_a.copy()\n",
    "make_input_normal_qr(testsys_a_qr)\n",
    "testsys_qr.is_input_normal()"
   ]
  },
  {
   "cell_type": "code",
   "execution_count": 45,
   "metadata": {},
   "outputs": [
    {
     "data": {
      "text/plain": [
       "True"
      ]
     },
     "execution_count": 45,
     "metadata": {},
     "output_type": "execute_result"
    }
   ],
   "source": [
    "make_reachable(testsys_qr)\n",
    "testsys.is_input_normal()"
   ]
  },
  {
   "cell_type": "code",
   "execution_count": 17,
   "metadata": {},
   "outputs": [
    {
     "data": {
      "text/plain": [
       "array([[ 1.00000000e+00,  1.66533454e-16,  0.00000000e+00,\n",
       "        -1.59594560e-16],\n",
       "       [ 1.66533454e-16,  1.00000000e+00,  1.94289029e-16,\n",
       "         5.55111512e-17],\n",
       "       [ 0.00000000e+00,  1.94289029e-16,  1.00000000e+00,\n",
       "         1.11022302e-16],\n",
       "       [-1.59594560e-16,  5.55111512e-17,  1.11022302e-16,\n",
       "         1.00000000e+00]])"
      ]
     },
     "execution_count": 17,
     "metadata": {},
     "output_type": "execute_result"
    }
   ],
   "source": [
    "testsys.reachability_matrix(3)@testsys.reachability_matrix(3).T"
   ]
  },
  {
   "cell_type": "code",
   "execution_count": 18,
   "metadata": {},
   "outputs": [],
   "source": [
    "system_b = system.causal_system.copy()\n",
    "system_a = system.causal_system.copy()"
   ]
  },
  {
   "cell_type": "code",
   "execution_count": 19,
   "metadata": {},
   "outputs": [
    {
     "ename": "TypeError",
     "evalue": "unsupported operand type(s) for +: 'StrictSystem' and 'StrictSystem'",
     "output_type": "error",
     "traceback": [
      "\u001b[0;31m---------------------------------------------------------------------------\u001b[0m",
      "\u001b[0;31mTypeError\u001b[0m                                 Traceback (most recent call last)",
      "\u001b[0;32m<ipython-input-19-7d044ec99af9>\u001b[0m in \u001b[0;36m<module>\u001b[0;34m\u001b[0m\n\u001b[0;32m----> 1\u001b[0;31m \u001b[0msystem_a\u001b[0m\u001b[0;34m+\u001b[0m\u001b[0msystem_b\u001b[0m\u001b[0;34m\u001b[0m\u001b[0;34m\u001b[0m\u001b[0m\n\u001b[0m",
      "\u001b[0;31mTypeError\u001b[0m: unsupported operand type(s) for +: 'StrictSystem' and 'StrictSystem'"
     ]
    }
   ],
   "source": [
    "system_a+system_b"
   ]
  },
  {
   "cell_type": "code",
   "execution_count": null,
   "metadata": {},
   "outputs": [],
   "source": [
    "system.anticausal_system.observability_matricies()"
   ]
  },
  {
   "cell_type": "code",
   "execution_count": null,
   "metadata": {},
   "outputs": [],
   "source": [
    "system.anticausal_system.reachability_matricies()"
   ]
  },
  {
   "cell_type": "code",
   "execution_count": null,
   "metadata": {},
   "outputs": [],
   "source": [
    "system.causal_system.observability_matricies()"
   ]
  },
  {
   "cell_type": "code",
   "execution_count": null,
   "metadata": {},
   "outputs": [],
   "source": [
    "system@system"
   ]
  },
  {
   "cell_type": "code",
   "execution_count": null,
   "metadata": {},
   "outputs": [],
   "source": [
    "A = np.array([1,2])"
   ]
  },
  {
   "cell_type": "code",
   "execution_count": null,
   "metadata": {},
   "outputs": [],
   "source": [
    "A.__matmul__?"
   ]
  },
  {
   "cell_type": "code",
   "execution_count": null,
   "metadata": {},
   "outputs": [],
   "source": [
    "print(system)"
   ]
  },
  {
   "cell_type": "code",
   "execution_count": null,
   "metadata": {},
   "outputs": [],
   "source": [
    "system_a.is_canonical()"
   ]
  },
  {
   "cell_type": "code",
   "execution_count": null,
   "metadata": {},
   "outputs": [],
   "source": [
    "O = np.random.rand(5,5)\n",
    "Uo,so,Vot = np.linalg.svd(O)\n",
    "so = np.linspace()\n",
    "\n",
    "R = np.random.rand(5,5)\n",
    "Ur,sr,Vrt = np.linalg.svd(R)"
   ]
  },
  {
   "cell_type": "code",
   "execution_count": null,
   "metadata": {},
   "outputs": [],
   "source": [
    "so = 10**(-np.linspace(1,25,5))\n",
    "sr = 10**(-np.linspace(1,25,5))"
   ]
  },
  {
   "cell_type": "code",
   "execution_count": null,
   "metadata": {},
   "outputs": [],
   "source": [
    "U,s,V = np.linalg.svd(np.diag(so)@Vot@Ur@np.diag(sr))"
   ]
  },
  {
   "cell_type": "code",
   "execution_count": null,
   "metadata": {},
   "outputs": [],
   "source": [
    "plt.matshow(abs(U))"
   ]
  },
  {
   "cell_type": "code",
   "execution_count": null,
   "metadata": {},
   "outputs": [],
   "source": [
    "so"
   ]
  },
  {
   "cell_type": "code",
   "execution_count": null,
   "metadata": {},
   "outputs": [],
   "source": [
    "10**(-np.linspace(1,10,5))"
   ]
  },
  {
   "cell_type": "code",
   "execution_count": null,
   "metadata": {},
   "outputs": [],
   "source": [
    "U"
   ]
  },
  {
   "cell_type": "code",
   "execution_count": null,
   "metadata": {},
   "outputs": [],
   "source": [
    "d = np.diag(U)"
   ]
  },
  {
   "cell_type": "code",
   "execution_count": null,
   "metadata": {},
   "outputs": [],
   "source": [
    "d"
   ]
  },
  {
   "cell_type": "code",
   "execution_count": null,
   "metadata": {},
   "outputs": [],
   "source": [
    "np.fill_diagonal(U,0)\n",
    "U"
   ]
  },
  {
   "cell_type": "code",
   "execution_count": null,
   "metadata": {},
   "outputs": [],
   "source": [
    "np.allclose?"
   ]
  },
  {
   "cell_type": "code",
   "execution_count": null,
   "metadata": {},
   "outputs": [],
   "source": [
    "np.alltrue?"
   ]
  },
  {
   "cell_type": "code",
   "execution_count": null,
   "metadata": {},
   "outputs": [],
   "source": [
    "np.allclose(d,1)"
   ]
  },
  {
   "cell_type": "markdown",
   "metadata": {},
   "source": [
    "# Test observability and reachability"
   ]
  },
  {
   "cell_type": "code",
   "execution_count": null,
   "metadata": {},
   "outputs": [],
   "source": [
    "stages = system_a.stages\n",
    "reachs = system_a.reachability_matricies()\n",
    "reachs"
   ]
  },
  {
   "cell_type": "code",
   "execution_count": null,
   "metadata": {},
   "outputs": [],
   "source": [
    "system_a.reachability_matrix(4)"
   ]
  },
  {
   "cell_type": "code",
   "execution_count": null,
   "metadata": {},
   "outputs": [],
   "source": [
    "obss = system_a.observability_matricies()\n",
    "obss"
   ]
  },
  {
   "cell_type": "code",
   "execution_count": null,
   "metadata": {},
   "outputs": [],
   "source": [
    "system_a.observability_matrix(3)"
   ]
  },
  {
   "cell_type": "code",
   "execution_count": null,
   "metadata": {},
   "outputs": [],
   "source": [
    "system_t = system_a.transpose()\n",
    "reachs = system_t.reachability_matricies()\n",
    "reachs"
   ]
  },
  {
   "cell_type": "code",
   "execution_count": null,
   "metadata": {},
   "outputs": [],
   "source": [
    "system_t.reachability_matrix(1)"
   ]
  },
  {
   "cell_type": "code",
   "execution_count": null,
   "metadata": {},
   "outputs": [],
   "source": [
    "obss = system_t.observability_matricies()\n",
    "obss"
   ]
  },
  {
   "cell_type": "code",
   "execution_count": null,
   "metadata": {},
   "outputs": [],
   "source": [
    "system_t.observability_matrix(1)"
   ]
  },
  {
   "cell_type": "code",
   "execution_count": null,
   "metadata": {},
   "outputs": [],
   "source": [
    "system_causal = system_a\n",
    "\n",
    "all_obs = []\n",
    "all_reach = []\n",
    "all_hankels = []\n",
    "matrix_rec = system_causal.to_matrix()\n",
    "print(matrix_rec)\n",
    "i_in= 0\n",
    "i_out = 0\n",
    "for i in range(1,len(system_causal.stages)):\n",
    "    print(i)\n",
    "    all_obs.append(system_causal.observability_matrix(i))\n",
    "    all_reach.append(system_causal.reachability_matrix(i))\n",
    "\n",
    "    i_in += system_causal.dims_in[i-1]\n",
    "    i_out += system_causal.dims_out[i-1]\n",
    "    all_hankels.append(matrix_rec[i_out:,:i_in])\n",
    "\n",
    "np.all([np.allclose(all_hankels[i],all_obs[i]@all_reach[i]) for i in range(len(all_hankels))])\n",
    "\n",
    "system_anticausal = system_a.transpose()\n",
    "all_obs = []\n",
    "all_reach = []\n",
    "all_hankels = []\n",
    "matrix_rec = system_anticausal.to_matrix()\n",
    "print(matrix_rec)\n",
    "i_in= sum(system_causal.dims_in)#-dims_in[-1]\n",
    "i_out = sum(system_causal.dims_out)#-dims_out[-1]\n",
    "for i in range(len(system_anticausal.stages)-2,-1,-1):\n",
    "    print(i)\n",
    "    all_obs.append(system_anticausal.observability_matrix(i))\n",
    "    all_reach.append(system_anticausal.reachability_matrix(i))\n",
    "\n",
    "    i_in -= system_anticausal.dims_in[i+1]\n",
    "    i_out -= system_anticausal.dims_out[i+1]\n",
    "    all_hankels.append(matrix_rec[:i_out,i_in:])\n",
    "\n",
    "\n",
    "np.all([np.allclose(all_hankels[i],all_obs[i]@all_reach[i]) for i in range(len(all_hankels))])"
   ]
  },
  {
   "cell_type": "code",
   "execution_count": null,
   "metadata": {},
   "outputs": [],
   "source": [
    "system_anticausal.reachability_matrix(0)"
   ]
  },
  {
   "cell_type": "code",
   "execution_count": null,
   "metadata": {},
   "outputs": [],
   "source": [
    "system_t.observability_matrix(1)@system_t.reachability_matrix(1)"
   ]
  },
  {
   "cell_type": "code",
   "execution_count": null,
   "metadata": {},
   "outputs": [],
   "source": [
    "system_t.to_matrix()[:6,6:]"
   ]
  },
  {
   "cell_type": "code",
   "execution_count": null,
   "metadata": {},
   "outputs": [],
   "source": [
    "k = len(stages)\n",
    "\n",
    "i=0\n",
    "mats = [stages[i-1].B_matrix]\n",
    "As = stages[i-1].A_matrix\n",
    "for l in range(i-2,-1,-1):\n",
    "    mats.append(As@stages[l].B_matrix)\n",
    "    As = As@stages[l].A_matrix\n",
    "mats.reverse()\n",
    "reach = np.hstack(mats)\n",
    "\n",
    "mats = [stages[i].C_matrix]\n",
    "As = stages[i].A_matrix\n",
    "for l in range(i+1,k,1):\n",
    "    mats.append(stages[l].C_matrix@As)\n",
    "    As = stages[l].A_matrix@As\n",
    "obs = np.vstack(mats)"
   ]
  },
  {
   "cell_type": "code",
   "execution_count": null,
   "metadata": {},
   "outputs": [],
   "source": [
    "system_t.dims_in"
   ]
  },
  {
   "cell_type": "code",
   "execution_count": null,
   "metadata": {},
   "outputs": [],
   "source": [
    "k = 3\n",
    "for j in range(k-1,-1,-1):\n",
    "    print(j)"
   ]
  },
  {
   "cell_type": "markdown",
   "metadata": {},
   "source": [
    "# Test how to do operations"
   ]
  },
  {
   "cell_type": "code",
   "execution_count": null,
   "metadata": {},
   "outputs": [],
   "source": [
    "class Expr:\n",
    "    def __init__(self,a):\n",
    "        self.a = a\n",
    "        \n",
    "    def __mul__(self,other):\n",
    "        print(\"mult\",self.a,other)\n",
    "        return Expr(\",\"+self.a +\"*\"+other.a+\",\")\n",
    "\n",
    "    def __matmul__(self,other):\n",
    "        print(\"matmult\",self.a,other)\n",
    "        return Expr(\",\"+self.a +\"@\"+other.a+\",\")\n",
    "    \n",
    "    def __add__(self,other):\n",
    "        print(\"add\",self.a,other)\n",
    "        return Expr(\",\"+self.a +\"+\"+other.a+\",\")\n",
    "\n",
    "    def __neg__(self):\n",
    "        print(\"neg\",self.a)\n",
    "        return Expr(\",-\"+self.a+\",\")\n",
    "    def __str__(self):\n",
    "        return self.a\n",
    "    def bla(self):\n",
    "        print(self.a,\"bla\")\n",
    "        return(self)"
   ]
  },
  {
   "cell_type": "code",
   "execution_count": null,
   "metadata": {},
   "outputs": [],
   "source": [
    "-(Expr(\"1\")+Expr(\"2\") *Expr(\"3\")).bla()"
   ]
  },
  {
   "cell_type": "code",
   "execution_count": null,
   "metadata": {},
   "outputs": [],
   "source": [
    "Expr(\"1\")*Expr(\"2\")*Expr(\"3\")"
   ]
  },
  {
   "cell_type": "code",
   "execution_count": null,
   "metadata": {},
   "outputs": [],
   "source": [
    "Expr(\"1\")@Expr(\"2\")@Expr(\"3\")"
   ]
  },
  {
   "cell_type": "code",
   "execution_count": null,
   "metadata": {},
   "outputs": [],
   "source": [
    "Expr(\"1\")@Expr(\"2\")*Expr(\"3\")"
   ]
  },
  {
   "cell_type": "code",
   "execution_count": null,
   "metadata": {},
   "outputs": [],
   "source": [
    "Expr(\"1\")*Expr(\"2\")@Expr(\"3\")"
   ]
  },
  {
   "cell_type": "code",
   "execution_count": null,
   "metadata": {},
   "outputs": [],
   "source": [
    "v = np.linspace(1,0,10)\n",
    "v[0]=1\n",
    "v[1]=1\n",
    "v"
   ]
  },
  {
   "cell_type": "code",
   "execution_count": null,
   "metadata": {},
   "outputs": [],
   "source": [
    "np.all(v[1:]-v[:-1]<1e-16)"
   ]
  },
  {
   "cell_type": "code",
   "execution_count": null,
   "metadata": {},
   "outputs": [],
   "source": [
    "v[1:]-v[:-1]"
   ]
  },
  {
   "cell_type": "code",
   "execution_count": null,
   "metadata": {},
   "outputs": [],
   "source": []
  }
 ],
 "metadata": {
  "kernelspec": {
   "display_name": "Python 3",
   "language": "python",
   "name": "python3"
  },
  "language_info": {
   "codemirror_mode": {
    "name": "ipython",
    "version": 3
   },
   "file_extension": ".py",
   "mimetype": "text/x-python",
   "name": "python",
   "nbconvert_exporter": "python",
   "pygments_lexer": "ipython3",
   "version": "3.7.7"
  }
 },
 "nbformat": 4,
 "nbformat_minor": 4
}
